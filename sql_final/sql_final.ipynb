{
 "cells": [
  {
   "cell_type": "markdown",
   "id": "relative-proportion",
   "metadata": {},
   "source": [
    "#  Cервис для чтения книг по подписке"
   ]
  },
  {
   "cell_type": "markdown",
   "id": "arranged-strand",
   "metadata": {},
   "source": [
    "Необходимо проанализировать базу данных крупного сервиса для чтения книг по подписке.<br>\n",
    "Цель - сформулировать ценностное предложение для нового продукта.<br>\n",
    "\n",
    "В базе данных — информация о книгах, издательствах, авторах, а также пользовательские\n",
    "обзоры книг."
   ]
  },
  {
   "cell_type": "markdown",
   "id": "divine-failure",
   "metadata": {},
   "source": [
    "**Описание данных**\n",
    "\n",
    "Таблица `books`<br>\n",
    "Содержит данные о книгах:<br>\n",
    "- `book_id` — идентификатор книги;\n",
    "- `author_id` — идентификатор автора;\n",
    "- `title` — название книги;\n",
    "- `num_pages` — количество страниц;\n",
    "- `publication_date` — дата публикации книги;\n",
    "- `publisher_id` — идентификатор издателя.\n",
    "\n",
    "Таблица `authors`<br>\n",
    "Содержит данные об авторах:<br>\n",
    "- `author_id` — идентификатор автора;\n",
    "- `author` — имя автора.\n",
    "\n",
    "Таблица `publishers`<br>\n",
    "Содержит данные об издательствах:<br>\n",
    "-`publisher_id` — идентификатор издательства;\n",
    "- `publisher` — название издательства;\n",
    "\n",
    "Таблица ratings<br>\n",
    "Содержит данные о пользовательских оценках книг:<br>\n",
    "- `rating_id` — идентификатор оценки;\n",
    "- `book_id` — идентификатор книги;\n",
    "- `username` — имя пользователя, оставившего оценку;\n",
    "- `rating` — оценка книги.\n",
    "\n",
    "Таблица reviews<br>\n",
    "Содержит данные о пользовательских обзорах на книги:<br>\n",
    "- `review_id` — идентификатор обзора;\n",
    "- `book_id` — идентификатор книги;\n",
    "- `username` — имя пользователя, написавшего обзор;\n",
    "- `text` — текст обзора."
   ]
  },
  {
   "cell_type": "markdown",
   "id": "silent-hawaii",
   "metadata": {},
   "source": [
    "## Загрузка данных"
   ]
  },
  {
   "cell_type": "code",
   "execution_count": 1,
   "id": "circular-veteran",
   "metadata": {},
   "outputs": [],
   "source": [
    "# импортируем библиотеки\n",
    "import pandas as pd\n",
    "from sqlalchemy import create_engine "
   ]
  },
  {
   "cell_type": "code",
   "execution_count": 2,
   "id": "charitable-illinois",
   "metadata": {},
   "outputs": [],
   "source": [
    "# устанавливаем параметры\n",
    "db_config = {'user': '**********', # имя пользователя\n",
    "    'pwd': '**********', # пароль\n",
    "    'host': 'rc1b-wcoijxj3yxfsf3fs.mdb.yandexcloud.net',\n",
    "    'port': 6432, # порт подключения\n",
    "    'db': 'data-analyst-final-project-db'} # название базы данных"
   ]
  },
  {
   "cell_type": "code",
   "execution_count": 3,
   "id": "awful-tuesday",
   "metadata": {},
   "outputs": [],
   "source": [
    "connection_string = 'postgresql://{}:{}@{}:{}/{}'.format(db_config['user'],\n",
    "                                                         db_config['pwd'],\n",
    "                                                         db_config['host'],\n",
    "                                                         db_config['port'],\n",
    "                                                         db_config['db']) "
   ]
  },
  {
   "cell_type": "code",
   "execution_count": 4,
   "id": "distributed-discrimination",
   "metadata": {},
   "outputs": [],
   "source": [
    "# сохраняем коннектор\n",
    "engine = create_engine(connection_string, connect_args={'sslmode':'require'}) "
   ]
  },
  {
   "cell_type": "code",
   "execution_count": 5,
   "id": "wrong-captain",
   "metadata": {},
   "outputs": [],
   "source": [
    "query = ''' SELECT *\n",
    "            FROM books \n",
    "        '''"
   ]
  },
  {
   "cell_type": "code",
   "execution_count": 6,
   "id": "ranging-outline",
   "metadata": {},
   "outputs": [],
   "source": [
    "books = pd.io.sql.read_sql(query, con = engine)"
   ]
  },
  {
   "cell_type": "code",
   "execution_count": 7,
   "id": "recognized-motion",
   "metadata": {},
   "outputs": [
    {
     "data": {
      "text/html": [
       "<div>\n",
       "<style scoped>\n",
       "    .dataframe tbody tr th:only-of-type {\n",
       "        vertical-align: middle;\n",
       "    }\n",
       "\n",
       "    .dataframe tbody tr th {\n",
       "        vertical-align: top;\n",
       "    }\n",
       "\n",
       "    .dataframe thead th {\n",
       "        text-align: right;\n",
       "    }\n",
       "</style>\n",
       "<table border=\"1\" class=\"dataframe\">\n",
       "  <thead>\n",
       "    <tr style=\"text-align: right;\">\n",
       "      <th></th>\n",
       "      <th>book_id</th>\n",
       "      <th>author_id</th>\n",
       "      <th>title</th>\n",
       "      <th>num_pages</th>\n",
       "      <th>publication_date</th>\n",
       "      <th>publisher_id</th>\n",
       "    </tr>\n",
       "  </thead>\n",
       "  <tbody>\n",
       "    <tr>\n",
       "      <th>0</th>\n",
       "      <td>1</td>\n",
       "      <td>546</td>\n",
       "      <td>'Salem's Lot</td>\n",
       "      <td>594</td>\n",
       "      <td>2005-11-01</td>\n",
       "      <td>93</td>\n",
       "    </tr>\n",
       "    <tr>\n",
       "      <th>1</th>\n",
       "      <td>2</td>\n",
       "      <td>465</td>\n",
       "      <td>1 000 Places to See Before You Die</td>\n",
       "      <td>992</td>\n",
       "      <td>2003-05-22</td>\n",
       "      <td>336</td>\n",
       "    </tr>\n",
       "    <tr>\n",
       "      <th>2</th>\n",
       "      <td>3</td>\n",
       "      <td>407</td>\n",
       "      <td>13 Little Blue Envelopes (Little Blue Envelope...</td>\n",
       "      <td>322</td>\n",
       "      <td>2010-12-21</td>\n",
       "      <td>135</td>\n",
       "    </tr>\n",
       "    <tr>\n",
       "      <th>3</th>\n",
       "      <td>4</td>\n",
       "      <td>82</td>\n",
       "      <td>1491: New Revelations of the Americas Before C...</td>\n",
       "      <td>541</td>\n",
       "      <td>2006-10-10</td>\n",
       "      <td>309</td>\n",
       "    </tr>\n",
       "    <tr>\n",
       "      <th>4</th>\n",
       "      <td>5</td>\n",
       "      <td>125</td>\n",
       "      <td>1776</td>\n",
       "      <td>386</td>\n",
       "      <td>2006-07-04</td>\n",
       "      <td>268</td>\n",
       "    </tr>\n",
       "  </tbody>\n",
       "</table>\n",
       "</div>"
      ],
      "text/plain": [
       "   book_id  author_id                                              title  \\\n",
       "0        1        546                                       'Salem's Lot   \n",
       "1        2        465                 1 000 Places to See Before You Die   \n",
       "2        3        407  13 Little Blue Envelopes (Little Blue Envelope...   \n",
       "3        4         82  1491: New Revelations of the Americas Before C...   \n",
       "4        5        125                                               1776   \n",
       "\n",
       "   num_pages publication_date  publisher_id  \n",
       "0        594       2005-11-01            93  \n",
       "1        992       2003-05-22           336  \n",
       "2        322       2010-12-21           135  \n",
       "3        541       2006-10-10           309  \n",
       "4        386       2006-07-04           268  "
      ]
     },
     "execution_count": 7,
     "metadata": {},
     "output_type": "execute_result"
    }
   ],
   "source": [
    "books.head()"
   ]
  },
  {
   "cell_type": "code",
   "execution_count": 8,
   "id": "african-principle",
   "metadata": {},
   "outputs": [],
   "source": [
    "list = ['books', 'authors', 'publishers', 'ratings', 'reviews']"
   ]
  },
  {
   "cell_type": "code",
   "execution_count": 9,
   "id": "noble-rally",
   "metadata": {
    "scrolled": false
   },
   "outputs": [
    {
     "name": "stdout",
     "output_type": "stream",
     "text": [
      "Таблица books\n"
     ]
    },
    {
     "data": {
      "text/html": [
       "<div>\n",
       "<style scoped>\n",
       "    .dataframe tbody tr th:only-of-type {\n",
       "        vertical-align: middle;\n",
       "    }\n",
       "\n",
       "    .dataframe tbody tr th {\n",
       "        vertical-align: top;\n",
       "    }\n",
       "\n",
       "    .dataframe thead th {\n",
       "        text-align: right;\n",
       "    }\n",
       "</style>\n",
       "<table border=\"1\" class=\"dataframe\">\n",
       "  <thead>\n",
       "    <tr style=\"text-align: right;\">\n",
       "      <th></th>\n",
       "      <th>book_id</th>\n",
       "      <th>author_id</th>\n",
       "      <th>title</th>\n",
       "      <th>num_pages</th>\n",
       "      <th>publication_date</th>\n",
       "      <th>publisher_id</th>\n",
       "    </tr>\n",
       "  </thead>\n",
       "  <tbody>\n",
       "    <tr>\n",
       "      <th>0</th>\n",
       "      <td>1</td>\n",
       "      <td>546</td>\n",
       "      <td>'Salem's Lot</td>\n",
       "      <td>594</td>\n",
       "      <td>2005-11-01</td>\n",
       "      <td>93</td>\n",
       "    </tr>\n",
       "    <tr>\n",
       "      <th>1</th>\n",
       "      <td>2</td>\n",
       "      <td>465</td>\n",
       "      <td>1 000 Places to See Before You Die</td>\n",
       "      <td>992</td>\n",
       "      <td>2003-05-22</td>\n",
       "      <td>336</td>\n",
       "    </tr>\n",
       "    <tr>\n",
       "      <th>2</th>\n",
       "      <td>3</td>\n",
       "      <td>407</td>\n",
       "      <td>13 Little Blue Envelopes (Little Blue Envelope...</td>\n",
       "      <td>322</td>\n",
       "      <td>2010-12-21</td>\n",
       "      <td>135</td>\n",
       "    </tr>\n",
       "    <tr>\n",
       "      <th>3</th>\n",
       "      <td>4</td>\n",
       "      <td>82</td>\n",
       "      <td>1491: New Revelations of the Americas Before C...</td>\n",
       "      <td>541</td>\n",
       "      <td>2006-10-10</td>\n",
       "      <td>309</td>\n",
       "    </tr>\n",
       "    <tr>\n",
       "      <th>4</th>\n",
       "      <td>5</td>\n",
       "      <td>125</td>\n",
       "      <td>1776</td>\n",
       "      <td>386</td>\n",
       "      <td>2006-07-04</td>\n",
       "      <td>268</td>\n",
       "    </tr>\n",
       "  </tbody>\n",
       "</table>\n",
       "</div>"
      ],
      "text/plain": [
       "   book_id  author_id                                              title  \\\n",
       "0        1        546                                       'Salem's Lot   \n",
       "1        2        465                 1 000 Places to See Before You Die   \n",
       "2        3        407  13 Little Blue Envelopes (Little Blue Envelope...   \n",
       "3        4         82  1491: New Revelations of the Americas Before C...   \n",
       "4        5        125                                               1776   \n",
       "\n",
       "   num_pages publication_date  publisher_id  \n",
       "0        594       2005-11-01            93  \n",
       "1        992       2003-05-22           336  \n",
       "2        322       2010-12-21           135  \n",
       "3        541       2006-10-10           309  \n",
       "4        386       2006-07-04           268  "
      ]
     },
     "metadata": {},
     "output_type": "display_data"
    },
    {
     "name": "stdout",
     "output_type": "stream",
     "text": [
      "<class 'pandas.core.frame.DataFrame'>\n",
      "RangeIndex: 1000 entries, 0 to 999\n",
      "Data columns (total 6 columns):\n",
      " #   Column            Non-Null Count  Dtype \n",
      "---  ------            --------------  ----- \n",
      " 0   book_id           1000 non-null   int64 \n",
      " 1   author_id         1000 non-null   int64 \n",
      " 2   title             1000 non-null   object\n",
      " 3   num_pages         1000 non-null   int64 \n",
      " 4   publication_date  1000 non-null   object\n",
      " 5   publisher_id      1000 non-null   int64 \n",
      "dtypes: int64(4), object(2)\n",
      "memory usage: 47.0+ KB\n",
      "\n",
      "\n",
      "Таблица authors\n"
     ]
    },
    {
     "data": {
      "text/html": [
       "<div>\n",
       "<style scoped>\n",
       "    .dataframe tbody tr th:only-of-type {\n",
       "        vertical-align: middle;\n",
       "    }\n",
       "\n",
       "    .dataframe tbody tr th {\n",
       "        vertical-align: top;\n",
       "    }\n",
       "\n",
       "    .dataframe thead th {\n",
       "        text-align: right;\n",
       "    }\n",
       "</style>\n",
       "<table border=\"1\" class=\"dataframe\">\n",
       "  <thead>\n",
       "    <tr style=\"text-align: right;\">\n",
       "      <th></th>\n",
       "      <th>author_id</th>\n",
       "      <th>author</th>\n",
       "    </tr>\n",
       "  </thead>\n",
       "  <tbody>\n",
       "    <tr>\n",
       "      <th>0</th>\n",
       "      <td>1</td>\n",
       "      <td>A.S. Byatt</td>\n",
       "    </tr>\n",
       "    <tr>\n",
       "      <th>1</th>\n",
       "      <td>2</td>\n",
       "      <td>Aesop/Laura Harris/Laura Gibbs</td>\n",
       "    </tr>\n",
       "    <tr>\n",
       "      <th>2</th>\n",
       "      <td>3</td>\n",
       "      <td>Agatha Christie</td>\n",
       "    </tr>\n",
       "    <tr>\n",
       "      <th>3</th>\n",
       "      <td>4</td>\n",
       "      <td>Alan Brennert</td>\n",
       "    </tr>\n",
       "    <tr>\n",
       "      <th>4</th>\n",
       "      <td>5</td>\n",
       "      <td>Alan Moore/David   Lloyd</td>\n",
       "    </tr>\n",
       "  </tbody>\n",
       "</table>\n",
       "</div>"
      ],
      "text/plain": [
       "   author_id                          author\n",
       "0          1                      A.S. Byatt\n",
       "1          2  Aesop/Laura Harris/Laura Gibbs\n",
       "2          3                 Agatha Christie\n",
       "3          4                   Alan Brennert\n",
       "4          5        Alan Moore/David   Lloyd"
      ]
     },
     "metadata": {},
     "output_type": "display_data"
    },
    {
     "name": "stdout",
     "output_type": "stream",
     "text": [
      "<class 'pandas.core.frame.DataFrame'>\n",
      "RangeIndex: 636 entries, 0 to 635\n",
      "Data columns (total 2 columns):\n",
      " #   Column     Non-Null Count  Dtype \n",
      "---  ------     --------------  ----- \n",
      " 0   author_id  636 non-null    int64 \n",
      " 1   author     636 non-null    object\n",
      "dtypes: int64(1), object(1)\n",
      "memory usage: 10.1+ KB\n",
      "\n",
      "\n",
      "Таблица publishers\n"
     ]
    },
    {
     "data": {
      "text/html": [
       "<div>\n",
       "<style scoped>\n",
       "    .dataframe tbody tr th:only-of-type {\n",
       "        vertical-align: middle;\n",
       "    }\n",
       "\n",
       "    .dataframe tbody tr th {\n",
       "        vertical-align: top;\n",
       "    }\n",
       "\n",
       "    .dataframe thead th {\n",
       "        text-align: right;\n",
       "    }\n",
       "</style>\n",
       "<table border=\"1\" class=\"dataframe\">\n",
       "  <thead>\n",
       "    <tr style=\"text-align: right;\">\n",
       "      <th></th>\n",
       "      <th>publisher_id</th>\n",
       "      <th>publisher</th>\n",
       "    </tr>\n",
       "  </thead>\n",
       "  <tbody>\n",
       "    <tr>\n",
       "      <th>0</th>\n",
       "      <td>1</td>\n",
       "      <td>Ace</td>\n",
       "    </tr>\n",
       "    <tr>\n",
       "      <th>1</th>\n",
       "      <td>2</td>\n",
       "      <td>Ace Book</td>\n",
       "    </tr>\n",
       "    <tr>\n",
       "      <th>2</th>\n",
       "      <td>3</td>\n",
       "      <td>Ace Books</td>\n",
       "    </tr>\n",
       "    <tr>\n",
       "      <th>3</th>\n",
       "      <td>4</td>\n",
       "      <td>Ace Hardcover</td>\n",
       "    </tr>\n",
       "    <tr>\n",
       "      <th>4</th>\n",
       "      <td>5</td>\n",
       "      <td>Addison Wesley Publishing Company</td>\n",
       "    </tr>\n",
       "  </tbody>\n",
       "</table>\n",
       "</div>"
      ],
      "text/plain": [
       "   publisher_id                          publisher\n",
       "0             1                                Ace\n",
       "1             2                           Ace Book\n",
       "2             3                          Ace Books\n",
       "3             4                      Ace Hardcover\n",
       "4             5  Addison Wesley Publishing Company"
      ]
     },
     "metadata": {},
     "output_type": "display_data"
    },
    {
     "name": "stdout",
     "output_type": "stream",
     "text": [
      "<class 'pandas.core.frame.DataFrame'>\n",
      "RangeIndex: 340 entries, 0 to 339\n",
      "Data columns (total 2 columns):\n",
      " #   Column        Non-Null Count  Dtype \n",
      "---  ------        --------------  ----- \n",
      " 0   publisher_id  340 non-null    int64 \n",
      " 1   publisher     340 non-null    object\n",
      "dtypes: int64(1), object(1)\n",
      "memory usage: 5.4+ KB\n",
      "\n",
      "\n",
      "Таблица ratings\n"
     ]
    },
    {
     "data": {
      "text/html": [
       "<div>\n",
       "<style scoped>\n",
       "    .dataframe tbody tr th:only-of-type {\n",
       "        vertical-align: middle;\n",
       "    }\n",
       "\n",
       "    .dataframe tbody tr th {\n",
       "        vertical-align: top;\n",
       "    }\n",
       "\n",
       "    .dataframe thead th {\n",
       "        text-align: right;\n",
       "    }\n",
       "</style>\n",
       "<table border=\"1\" class=\"dataframe\">\n",
       "  <thead>\n",
       "    <tr style=\"text-align: right;\">\n",
       "      <th></th>\n",
       "      <th>rating_id</th>\n",
       "      <th>book_id</th>\n",
       "      <th>username</th>\n",
       "      <th>rating</th>\n",
       "    </tr>\n",
       "  </thead>\n",
       "  <tbody>\n",
       "    <tr>\n",
       "      <th>0</th>\n",
       "      <td>1</td>\n",
       "      <td>1</td>\n",
       "      <td>ryanfranco</td>\n",
       "      <td>4</td>\n",
       "    </tr>\n",
       "    <tr>\n",
       "      <th>1</th>\n",
       "      <td>2</td>\n",
       "      <td>1</td>\n",
       "      <td>grantpatricia</td>\n",
       "      <td>2</td>\n",
       "    </tr>\n",
       "    <tr>\n",
       "      <th>2</th>\n",
       "      <td>3</td>\n",
       "      <td>1</td>\n",
       "      <td>brandtandrea</td>\n",
       "      <td>5</td>\n",
       "    </tr>\n",
       "    <tr>\n",
       "      <th>3</th>\n",
       "      <td>4</td>\n",
       "      <td>2</td>\n",
       "      <td>lorichen</td>\n",
       "      <td>3</td>\n",
       "    </tr>\n",
       "    <tr>\n",
       "      <th>4</th>\n",
       "      <td>5</td>\n",
       "      <td>2</td>\n",
       "      <td>mariokeller</td>\n",
       "      <td>2</td>\n",
       "    </tr>\n",
       "  </tbody>\n",
       "</table>\n",
       "</div>"
      ],
      "text/plain": [
       "   rating_id  book_id       username  rating\n",
       "0          1        1     ryanfranco       4\n",
       "1          2        1  grantpatricia       2\n",
       "2          3        1   brandtandrea       5\n",
       "3          4        2       lorichen       3\n",
       "4          5        2    mariokeller       2"
      ]
     },
     "metadata": {},
     "output_type": "display_data"
    },
    {
     "name": "stdout",
     "output_type": "stream",
     "text": [
      "<class 'pandas.core.frame.DataFrame'>\n",
      "RangeIndex: 6456 entries, 0 to 6455\n",
      "Data columns (total 4 columns):\n",
      " #   Column     Non-Null Count  Dtype \n",
      "---  ------     --------------  ----- \n",
      " 0   rating_id  6456 non-null   int64 \n",
      " 1   book_id    6456 non-null   int64 \n",
      " 2   username   6456 non-null   object\n",
      " 3   rating     6456 non-null   int64 \n",
      "dtypes: int64(3), object(1)\n",
      "memory usage: 201.9+ KB\n",
      "\n",
      "\n",
      "Таблица reviews\n"
     ]
    },
    {
     "data": {
      "text/html": [
       "<div>\n",
       "<style scoped>\n",
       "    .dataframe tbody tr th:only-of-type {\n",
       "        vertical-align: middle;\n",
       "    }\n",
       "\n",
       "    .dataframe tbody tr th {\n",
       "        vertical-align: top;\n",
       "    }\n",
       "\n",
       "    .dataframe thead th {\n",
       "        text-align: right;\n",
       "    }\n",
       "</style>\n",
       "<table border=\"1\" class=\"dataframe\">\n",
       "  <thead>\n",
       "    <tr style=\"text-align: right;\">\n",
       "      <th></th>\n",
       "      <th>review_id</th>\n",
       "      <th>book_id</th>\n",
       "      <th>username</th>\n",
       "      <th>text</th>\n",
       "    </tr>\n",
       "  </thead>\n",
       "  <tbody>\n",
       "    <tr>\n",
       "      <th>0</th>\n",
       "      <td>1</td>\n",
       "      <td>1</td>\n",
       "      <td>brandtandrea</td>\n",
       "      <td>Mention society tell send professor analysis. ...</td>\n",
       "    </tr>\n",
       "    <tr>\n",
       "      <th>1</th>\n",
       "      <td>2</td>\n",
       "      <td>1</td>\n",
       "      <td>ryanfranco</td>\n",
       "      <td>Foot glass pretty audience hit themselves. Amo...</td>\n",
       "    </tr>\n",
       "    <tr>\n",
       "      <th>2</th>\n",
       "      <td>3</td>\n",
       "      <td>2</td>\n",
       "      <td>lorichen</td>\n",
       "      <td>Listen treat keep worry. Miss husband tax but ...</td>\n",
       "    </tr>\n",
       "    <tr>\n",
       "      <th>3</th>\n",
       "      <td>4</td>\n",
       "      <td>3</td>\n",
       "      <td>johnsonamanda</td>\n",
       "      <td>Finally month interesting blue could nature cu...</td>\n",
       "    </tr>\n",
       "    <tr>\n",
       "      <th>4</th>\n",
       "      <td>5</td>\n",
       "      <td>3</td>\n",
       "      <td>scotttamara</td>\n",
       "      <td>Nation purpose heavy give wait song will. List...</td>\n",
       "    </tr>\n",
       "  </tbody>\n",
       "</table>\n",
       "</div>"
      ],
      "text/plain": [
       "   review_id  book_id       username  \\\n",
       "0          1        1   brandtandrea   \n",
       "1          2        1     ryanfranco   \n",
       "2          3        2       lorichen   \n",
       "3          4        3  johnsonamanda   \n",
       "4          5        3    scotttamara   \n",
       "\n",
       "                                                text  \n",
       "0  Mention society tell send professor analysis. ...  \n",
       "1  Foot glass pretty audience hit themselves. Amo...  \n",
       "2  Listen treat keep worry. Miss husband tax but ...  \n",
       "3  Finally month interesting blue could nature cu...  \n",
       "4  Nation purpose heavy give wait song will. List...  "
      ]
     },
     "metadata": {},
     "output_type": "display_data"
    },
    {
     "name": "stdout",
     "output_type": "stream",
     "text": [
      "<class 'pandas.core.frame.DataFrame'>\n",
      "RangeIndex: 2793 entries, 0 to 2792\n",
      "Data columns (total 4 columns):\n",
      " #   Column     Non-Null Count  Dtype \n",
      "---  ------     --------------  ----- \n",
      " 0   review_id  2793 non-null   int64 \n",
      " 1   book_id    2793 non-null   int64 \n",
      " 2   username   2793 non-null   object\n",
      " 3   text       2793 non-null   object\n",
      "dtypes: int64(2), object(2)\n",
      "memory usage: 87.4+ KB\n",
      "\n",
      "\n"
     ]
    }
   ],
   "source": [
    "for i in list:\n",
    "    query = ''' SELECT *\n",
    "            FROM {} \n",
    "        '''.format(i)\n",
    "    print(f'Таблица {i}')\n",
    "    i = pd.io.sql.read_sql(query, con = engine)\n",
    "    display(i.head())\n",
    "    i.info()\n",
    "    print()\n",
    "    print()"
   ]
  },
  {
   "cell_type": "markdown",
   "id": "favorite-balloon",
   "metadata": {},
   "source": [
    "Данные 5 таблиц успешно загружены. Во всех таблицах отсутствуют пропуски. Даты в таблице `books` потребуют перевода в более корректный для дат тип данных."
   ]
  },
  {
   "cell_type": "markdown",
   "id": "expected-newsletter",
   "metadata": {},
   "source": [
    "## Количество книг вышедших после 1 января 2000 года"
   ]
  },
  {
   "cell_type": "markdown",
   "id": "configured-cleaning",
   "metadata": {},
   "source": [
    "Посчитаем, сколько книг вышло после 1 января 2000 года."
   ]
  },
  {
   "cell_type": "code",
   "execution_count": 10,
   "id": "drawn-store",
   "metadata": {},
   "outputs": [
    {
     "data": {
      "text/html": [
       "<div>\n",
       "<style scoped>\n",
       "    .dataframe tbody tr th:only-of-type {\n",
       "        vertical-align: middle;\n",
       "    }\n",
       "\n",
       "    .dataframe tbody tr th {\n",
       "        vertical-align: top;\n",
       "    }\n",
       "\n",
       "    .dataframe thead th {\n",
       "        text-align: right;\n",
       "    }\n",
       "</style>\n",
       "<table border=\"1\" class=\"dataframe\">\n",
       "  <thead>\n",
       "    <tr style=\"text-align: right;\">\n",
       "      <th></th>\n",
       "      <th>books_count</th>\n",
       "    </tr>\n",
       "  </thead>\n",
       "  <tbody>\n",
       "    <tr>\n",
       "      <th>0</th>\n",
       "      <td>819</td>\n",
       "    </tr>\n",
       "  </tbody>\n",
       "</table>\n",
       "</div>"
      ],
      "text/plain": [
       "   books_count\n",
       "0          819"
      ]
     },
     "execution_count": 10,
     "metadata": {},
     "output_type": "execute_result"
    }
   ],
   "source": [
    "query = ''' SELECT COUNT(book_id) as books_count\n",
    "            FROM books\n",
    "            WHERE CAST(publication_date as timestamp) > '2000-01-01'\n",
    "        '''\n",
    "books_count = pd.io.sql.read_sql(query, con = engine)\n",
    "books_count"
   ]
  },
  {
   "cell_type": "code",
   "execution_count": 11,
   "id": "catholic-porcelain",
   "metadata": {},
   "outputs": [
    {
     "name": "stdout",
     "output_type": "stream",
     "text": [
      "Количесто книг, вышедших после 1 января 2020 - 819\n"
     ]
    }
   ],
   "source": [
    "print(f\"Количесто книг, вышедших после 1 января 2020 - {books_count['books_count'][0]}\")"
   ]
  },
  {
   "cell_type": "markdown",
   "id": "aging-fisher",
   "metadata": {},
   "source": [
    "## Количество обзоров и средняя оценка для каждой книги"
   ]
  },
  {
   "cell_type": "markdown",
   "id": "checked-novel",
   "metadata": {},
   "source": [
    "Посчитаем для каждой книги количество обзоров и среднюю оценку."
   ]
  },
  {
   "cell_type": "code",
   "execution_count": 12,
   "id": "rotary-province",
   "metadata": {},
   "outputs": [
    {
     "data": {
      "text/html": [
       "<div>\n",
       "<style scoped>\n",
       "    .dataframe tbody tr th:only-of-type {\n",
       "        vertical-align: middle;\n",
       "    }\n",
       "\n",
       "    .dataframe tbody tr th {\n",
       "        vertical-align: top;\n",
       "    }\n",
       "\n",
       "    .dataframe thead th {\n",
       "        text-align: right;\n",
       "    }\n",
       "</style>\n",
       "<table border=\"1\" class=\"dataframe\">\n",
       "  <thead>\n",
       "    <tr style=\"text-align: right;\">\n",
       "      <th></th>\n",
       "      <th>book_id</th>\n",
       "      <th>title</th>\n",
       "      <th>reviews_count</th>\n",
       "      <th>raiting_avg</th>\n",
       "    </tr>\n",
       "  </thead>\n",
       "  <tbody>\n",
       "    <tr>\n",
       "      <th>0</th>\n",
       "      <td>1</td>\n",
       "      <td>'Salem's Lot</td>\n",
       "      <td>2</td>\n",
       "      <td>3.7</td>\n",
       "    </tr>\n",
       "    <tr>\n",
       "      <th>1</th>\n",
       "      <td>2</td>\n",
       "      <td>1 000 Places to See Before You Die</td>\n",
       "      <td>1</td>\n",
       "      <td>2.5</td>\n",
       "    </tr>\n",
       "    <tr>\n",
       "      <th>2</th>\n",
       "      <td>3</td>\n",
       "      <td>13 Little Blue Envelopes (Little Blue Envelope...</td>\n",
       "      <td>3</td>\n",
       "      <td>4.7</td>\n",
       "    </tr>\n",
       "    <tr>\n",
       "      <th>3</th>\n",
       "      <td>4</td>\n",
       "      <td>1491: New Revelations of the Americas Before C...</td>\n",
       "      <td>2</td>\n",
       "      <td>4.5</td>\n",
       "    </tr>\n",
       "    <tr>\n",
       "      <th>4</th>\n",
       "      <td>5</td>\n",
       "      <td>1776</td>\n",
       "      <td>4</td>\n",
       "      <td>4.0</td>\n",
       "    </tr>\n",
       "  </tbody>\n",
       "</table>\n",
       "</div>"
      ],
      "text/plain": [
       "   book_id                                              title  reviews_count  \\\n",
       "0        1                                       'Salem's Lot              2   \n",
       "1        2                 1 000 Places to See Before You Die              1   \n",
       "2        3  13 Little Blue Envelopes (Little Blue Envelope...              3   \n",
       "3        4  1491: New Revelations of the Americas Before C...              2   \n",
       "4        5                                               1776              4   \n",
       "\n",
       "   raiting_avg  \n",
       "0          3.7  \n",
       "1          2.5  \n",
       "2          4.7  \n",
       "3          4.5  \n",
       "4          4.0  "
      ]
     },
     "execution_count": 12,
     "metadata": {},
     "output_type": "execute_result"
    }
   ],
   "source": [
    "query = ''' SELECT \n",
    "                b.book_id, \n",
    "                title, \n",
    "                COUNT(DISTINCT review_id) as reviews_count, \n",
    "                ROUND(AVG(rating), 1) as raiting_avg\n",
    "            FROM books as b\n",
    "            LEFT JOIN ratings as r on b.book_id = r.book_id\n",
    "            LEFT JOIN reviews as rev on b.book_id = rev.book_id\n",
    "            GROUP BY b.book_id\n",
    "            ORDER BY book_id\n",
    "            \n",
    "        '''\n",
    "books_ratings_reviews = pd.io.sql.read_sql(query, con = engine)\n",
    "books_ratings_reviews.head()"
   ]
  },
  {
   "cell_type": "markdown",
   "id": "interstate-manor",
   "metadata": {},
   "source": [
    "Для каждой книги посчитано количество обзоров и средний рейтинг."
   ]
  },
  {
   "cell_type": "markdown",
   "id": "bound-prompt",
   "metadata": {},
   "source": [
    "## Издательство, которое выпустило наибольшее число книг толще 50 страниц"
   ]
  },
  {
   "cell_type": "markdown",
   "id": "accessible-password",
   "metadata": {},
   "source": [
    "Определим издательство, которое выпустило наибольшее число книг толще 50 страниц, чтобы исключить из анализа брошюры."
   ]
  },
  {
   "cell_type": "code",
   "execution_count": 13,
   "id": "fatal-expense",
   "metadata": {},
   "outputs": [
    {
     "data": {
      "text/html": [
       "<div>\n",
       "<style scoped>\n",
       "    .dataframe tbody tr th:only-of-type {\n",
       "        vertical-align: middle;\n",
       "    }\n",
       "\n",
       "    .dataframe tbody tr th {\n",
       "        vertical-align: top;\n",
       "    }\n",
       "\n",
       "    .dataframe thead th {\n",
       "        text-align: right;\n",
       "    }\n",
       "</style>\n",
       "<table border=\"1\" class=\"dataframe\">\n",
       "  <thead>\n",
       "    <tr style=\"text-align: right;\">\n",
       "      <th></th>\n",
       "      <th>publisher_id</th>\n",
       "      <th>publisher</th>\n",
       "      <th>count</th>\n",
       "    </tr>\n",
       "  </thead>\n",
       "  <tbody>\n",
       "    <tr>\n",
       "      <th>0</th>\n",
       "      <td>212</td>\n",
       "      <td>Penguin Books</td>\n",
       "      <td>42</td>\n",
       "    </tr>\n",
       "  </tbody>\n",
       "</table>\n",
       "</div>"
      ],
      "text/plain": [
       "   publisher_id      publisher  count\n",
       "0           212  Penguin Books     42"
      ]
     },
     "execution_count": 13,
     "metadata": {},
     "output_type": "execute_result"
    }
   ],
   "source": [
    "query = ''' SELECT p.publisher_id, p.publisher, COUNT(book_id)\n",
    "            FROM  publishers as p\n",
    "            LEFT JOIN books as b on b.publisher_id = p.publisher_id\n",
    "            WHERE num_pages > 50\n",
    "            GROUP BY p.publisher_id, p.publisher\n",
    "            ORDER BY count DESC\n",
    "            LIMIT 1\n",
    "           \n",
    "        '''\n",
    "books_publishers = pd.io.sql.read_sql(query, con = engine)\n",
    "books_publishers.head()"
   ]
  },
  {
   "cell_type": "markdown",
   "id": "studied-lounge",
   "metadata": {},
   "source": [
    "Наибольшее число книг толще 50 страниц выпустило издательство Penguin Books. Число таких книг составило - 42."
   ]
  },
  {
   "cell_type": "markdown",
   "id": "severe-compiler",
   "metadata": {},
   "source": [
    "## Автор с самой высокой средней оценкой книг для книг с 50 и более оценками"
   ]
  },
  {
   "cell_type": "markdown",
   "id": "square-mapping",
   "metadata": {},
   "source": [
    "Определим автора с самой высокой средней оценкой книг, учитывая только книги с 50 и более оценками."
   ]
  },
  {
   "cell_type": "code",
   "execution_count": 14,
   "id": "0f893cc8",
   "metadata": {},
   "outputs": [
    {
     "data": {
      "text/html": [
       "<div>\n",
       "<style scoped>\n",
       "    .dataframe tbody tr th:only-of-type {\n",
       "        vertical-align: middle;\n",
       "    }\n",
       "\n",
       "    .dataframe tbody tr th {\n",
       "        vertical-align: top;\n",
       "    }\n",
       "\n",
       "    .dataframe thead th {\n",
       "        text-align: right;\n",
       "    }\n",
       "</style>\n",
       "<table border=\"1\" class=\"dataframe\">\n",
       "  <thead>\n",
       "    <tr style=\"text-align: right;\">\n",
       "      <th></th>\n",
       "      <th>author</th>\n",
       "      <th>rating_avg</th>\n",
       "    </tr>\n",
       "  </thead>\n",
       "  <tbody>\n",
       "    <tr>\n",
       "      <th>0</th>\n",
       "      <td>J.K. Rowling/Mary GrandPré</td>\n",
       "      <td>4.287</td>\n",
       "    </tr>\n",
       "  </tbody>\n",
       "</table>\n",
       "</div>"
      ],
      "text/plain": [
       "                       author  rating_avg\n",
       "0  J.K. Rowling/Mary GrandPré       4.287"
      ]
     },
     "execution_count": 14,
     "metadata": {},
     "output_type": "execute_result"
    }
   ],
   "source": [
    "# итоговая исправленная версия\n",
    "query = ''' SELECT author, ROUND(AVG(rating), 3) as rating_avg\n",
    "            FROM  books as b\n",
    "            LEFT JOIN authors as a on b.author_id = a.author_id\n",
    "            LEFT JOIN ratings as r on b.book_id = r.book_id\n",
    "            WHERE r.book_id IN (\n",
    "                SELECT b.book_id\n",
    "                FROM  books as b\n",
    "                LEFT JOIN authors as a on b.author_id = a.author_id\n",
    "                LEFT JOIN ratings as r on b.book_id = r.book_id\n",
    "                GROUP BY b.book_id\n",
    "                HAVING COUNT(DISTINCT rating_id) >= 50)\n",
    "            GROUP BY author\n",
    "            ORDER BY rating_avg DESC\n",
    "            LIMIT 1\n",
    "\n",
    "        '''\n",
    "books_publishers = pd.io.sql.read_sql(query, con = engine)\n",
    "books_publishers.head(10)"
   ]
  },
  {
   "cell_type": "markdown",
   "id": "promotional-ridge",
   "metadata": {},
   "source": [
    "J.K. Rowling - автор с самой высокой средней оценкой книг, учитывая только книги с 50 и более оценками."
   ]
  },
  {
   "cell_type": "markdown",
   "id": "latter-packet",
   "metadata": {},
   "source": [
    "## Cреднее количество обзоров от пользователей, которые поставили больше 50 оценок"
   ]
  },
  {
   "cell_type": "markdown",
   "id": "labeled-toilet",
   "metadata": {},
   "source": [
    "Посчитаем среднее количество обзоров от пользователей, которые поставили больше 50 оценок."
   ]
  },
  {
   "cell_type": "code",
   "execution_count": 15,
   "id": "numeric-junior",
   "metadata": {},
   "outputs": [
    {
     "data": {
      "text/html": [
       "<div>\n",
       "<style scoped>\n",
       "    .dataframe tbody tr th:only-of-type {\n",
       "        vertical-align: middle;\n",
       "    }\n",
       "\n",
       "    .dataframe tbody tr th {\n",
       "        vertical-align: top;\n",
       "    }\n",
       "\n",
       "    .dataframe thead th {\n",
       "        text-align: right;\n",
       "    }\n",
       "</style>\n",
       "<table border=\"1\" class=\"dataframe\">\n",
       "  <thead>\n",
       "    <tr style=\"text-align: right;\">\n",
       "      <th></th>\n",
       "      <th>reviews_avg</th>\n",
       "    </tr>\n",
       "  </thead>\n",
       "  <tbody>\n",
       "    <tr>\n",
       "      <th>0</th>\n",
       "      <td>24.33</td>\n",
       "    </tr>\n",
       "  </tbody>\n",
       "</table>\n",
       "</div>"
      ],
      "text/plain": [
       "   reviews_avg\n",
       "0        24.33"
      ]
     },
     "execution_count": 15,
     "metadata": {},
     "output_type": "execute_result"
    }
   ],
   "source": [
    "query = '''     \n",
    "            SELECT ROUND(AVG(t.review_count), 2) as reviews_avg\n",
    "            FROM\n",
    "                (SELECT \n",
    "                    rev.username, \n",
    "                    COUNT(DISTINCT r.rating_id) as rating_count, \n",
    "                    COUNT(DISTINCT rev.review_id) as review_count\n",
    "                FROM reviews as rev\n",
    "                LEFT JOIN ratings as r on rev.username = r.username\n",
    "                GROUP BY rev.username \n",
    "                HAVING COUNT(DISTINCT r.rating_id) > 50) as t\n",
    "\n",
    "\n",
    "\n",
    "        '''\n",
    "reviews_books_ratings = pd.io.sql.read_sql(query, con = engine)\n",
    "reviews_books_ratings"
   ]
  },
  {
   "cell_type": "markdown",
   "id": "medical-printing",
   "metadata": {},
   "source": [
    "Cреднее количество обзоров от пользователей, которые поставили больше 50 оценок - 24.33"
   ]
  },
  {
   "cell_type": "markdown",
   "id": "impaired-moment",
   "metadata": {},
   "source": [
    "Таким образом:\n",
    "- в сервисе присутствует 819 книг, вышедших после 1 января 2020;\n",
    "- наибольшее число книг толще 50 страниц (т.е. не брошюры) выпустило издательство Penguin Books, число таких книг составило - 42 книги;\n",
    "- J.K. Rowling - автор с самой высокой средней оценкой книг, учитывая только книги с 50 и более оценками;\n",
    "- помимо оценок, пользователи пишут обзоры - cреднее количество обзоров от пользователей, которые поставили больше 50 оценок - 24 обзора. \n",
    "\n",
    "Так же для каждой книги посчитано количество обзоров и средний рейтинг."
   ]
  },
  {
   "cell_type": "code",
   "execution_count": 16,
   "id": "unexpected-plumbing",
   "metadata": {},
   "outputs": [
    {
     "data": {
      "text/html": [
       "<div>\n",
       "<style scoped>\n",
       "    .dataframe tbody tr th:only-of-type {\n",
       "        vertical-align: middle;\n",
       "    }\n",
       "\n",
       "    .dataframe tbody tr th {\n",
       "        vertical-align: top;\n",
       "    }\n",
       "\n",
       "    .dataframe thead th {\n",
       "        text-align: right;\n",
       "    }\n",
       "</style>\n",
       "<table border=\"1\" class=\"dataframe\">\n",
       "  <thead>\n",
       "    <tr style=\"text-align: right;\">\n",
       "      <th></th>\n",
       "      <th>book_id</th>\n",
       "      <th>title</th>\n",
       "      <th>reviews_count</th>\n",
       "      <th>raiting_avg</th>\n",
       "    </tr>\n",
       "  </thead>\n",
       "  <tbody>\n",
       "    <tr>\n",
       "      <th>0</th>\n",
       "      <td>1</td>\n",
       "      <td>'Salem's Lot</td>\n",
       "      <td>2</td>\n",
       "      <td>3.7</td>\n",
       "    </tr>\n",
       "    <tr>\n",
       "      <th>1</th>\n",
       "      <td>2</td>\n",
       "      <td>1 000 Places to See Before You Die</td>\n",
       "      <td>1</td>\n",
       "      <td>2.5</td>\n",
       "    </tr>\n",
       "    <tr>\n",
       "      <th>2</th>\n",
       "      <td>3</td>\n",
       "      <td>13 Little Blue Envelopes (Little Blue Envelope...</td>\n",
       "      <td>3</td>\n",
       "      <td>4.7</td>\n",
       "    </tr>\n",
       "    <tr>\n",
       "      <th>3</th>\n",
       "      <td>4</td>\n",
       "      <td>1491: New Revelations of the Americas Before C...</td>\n",
       "      <td>2</td>\n",
       "      <td>4.5</td>\n",
       "    </tr>\n",
       "    <tr>\n",
       "      <th>4</th>\n",
       "      <td>5</td>\n",
       "      <td>1776</td>\n",
       "      <td>4</td>\n",
       "      <td>4.0</td>\n",
       "    </tr>\n",
       "  </tbody>\n",
       "</table>\n",
       "</div>"
      ],
      "text/plain": [
       "   book_id                                              title  reviews_count  \\\n",
       "0        1                                       'Salem's Lot              2   \n",
       "1        2                 1 000 Places to See Before You Die              1   \n",
       "2        3  13 Little Blue Envelopes (Little Blue Envelope...              3   \n",
       "3        4  1491: New Revelations of the Americas Before C...              2   \n",
       "4        5                                               1776              4   \n",
       "\n",
       "   raiting_avg  \n",
       "0          3.7  \n",
       "1          2.5  \n",
       "2          4.7  \n",
       "3          4.5  \n",
       "4          4.0  "
      ]
     },
     "execution_count": 16,
     "metadata": {},
     "output_type": "execute_result"
    }
   ],
   "source": [
    "books_ratings_reviews.head()"
   ]
  }
 ],
 "metadata": {
  "ExecuteTimeLog": [
   {
    "duration": 629,
    "start_time": "2022-06-26T14:33:22.119Z"
   },
   {
    "duration": 16,
    "start_time": "2022-06-26T14:33:22.756Z"
   },
   {
    "duration": 15,
    "start_time": "2022-06-26T14:33:22.778Z"
   },
   {
    "duration": 13507,
    "start_time": "2022-06-26T14:33:22.795Z"
   },
   {
    "duration": 3,
    "start_time": "2022-06-26T14:33:36.304Z"
   },
   {
    "duration": 412,
    "start_time": "2022-06-26T14:33:36.308Z"
   },
   {
    "duration": 53,
    "start_time": "2022-06-26T14:33:36.722Z"
   },
   {
    "duration": 3,
    "start_time": "2022-06-26T14:33:36.777Z"
   },
   {
    "duration": 690,
    "start_time": "2022-06-26T14:33:36.783Z"
   },
   {
    "duration": 100,
    "start_time": "2022-06-26T14:33:37.476Z"
   },
   {
    "duration": 5,
    "start_time": "2022-06-26T14:33:37.578Z"
   },
   {
    "duration": 120,
    "start_time": "2022-06-26T14:33:37.585Z"
   },
   {
    "duration": 100,
    "start_time": "2022-06-26T14:33:37.707Z"
   },
   {
    "duration": 100,
    "start_time": "2022-06-26T14:33:37.809Z"
   },
   {
    "duration": 164,
    "start_time": "2022-06-26T14:33:37.911Z"
   },
   {
    "duration": 137,
    "start_time": "2022-06-26T14:34:20.078Z"
   },
   {
    "duration": 161,
    "start_time": "2022-06-26T14:34:23.296Z"
   },
   {
    "duration": 103,
    "start_time": "2022-06-26T14:34:43.971Z"
   },
   {
    "duration": 117,
    "start_time": "2022-06-26T14:34:46.632Z"
   },
   {
    "duration": 94,
    "start_time": "2022-06-26T17:55:59.228Z"
   },
   {
    "duration": 732,
    "start_time": "2022-06-26T17:56:06.593Z"
   },
   {
    "duration": 5,
    "start_time": "2022-06-26T17:56:07.328Z"
   },
   {
    "duration": 27,
    "start_time": "2022-06-26T17:56:07.335Z"
   },
   {
    "duration": 9490,
    "start_time": "2022-06-26T17:56:07.366Z"
   },
   {
    "duration": 9,
    "start_time": "2022-06-26T17:56:16.858Z"
   },
   {
    "duration": 184,
    "start_time": "2022-06-26T17:56:16.870Z"
   },
   {
    "duration": 32,
    "start_time": "2022-06-26T17:56:17.057Z"
   },
   {
    "duration": 40,
    "start_time": "2022-06-26T17:56:17.091Z"
   },
   {
    "duration": 265,
    "start_time": "2022-06-26T17:56:17.133Z"
   },
   {
    "duration": 31,
    "start_time": "2022-06-26T17:56:17.401Z"
   },
   {
    "duration": 32,
    "start_time": "2022-06-26T17:56:17.434Z"
   },
   {
    "duration": 63,
    "start_time": "2022-06-26T17:56:17.469Z"
   },
   {
    "duration": 22,
    "start_time": "2022-06-26T17:56:17.534Z"
   },
   {
    "duration": 196,
    "start_time": "2022-06-26T17:56:17.558Z"
   },
   {
    "duration": 0,
    "start_time": "2022-06-26T17:56:17.757Z"
   },
   {
    "duration": 0,
    "start_time": "2022-06-26T17:56:17.758Z"
   },
   {
    "duration": 117,
    "start_time": "2022-06-26T18:01:40.230Z"
   },
   {
    "duration": 90,
    "start_time": "2022-06-26T18:01:52.112Z"
   },
   {
    "duration": 159,
    "start_time": "2022-06-26T18:04:04.353Z"
   },
   {
    "duration": 104,
    "start_time": "2022-06-26T18:04:19.386Z"
   },
   {
    "duration": 23,
    "start_time": "2022-06-26T18:04:57.548Z"
   },
   {
    "duration": 26,
    "start_time": "2022-06-26T18:05:22.418Z"
   },
   {
    "duration": 136,
    "start_time": "2022-06-26T18:05:56.026Z"
   },
   {
    "duration": 29,
    "start_time": "2022-06-26T18:05:59.662Z"
   },
   {
    "duration": 142,
    "start_time": "2022-06-26T18:06:06.055Z"
   },
   {
    "duration": 34,
    "start_time": "2022-06-26T18:06:15.695Z"
   },
   {
    "duration": 109,
    "start_time": "2022-06-26T18:08:17.259Z"
   },
   {
    "duration": 138,
    "start_time": "2022-06-26T18:08:24.941Z"
   },
   {
    "duration": 112,
    "start_time": "2022-06-26T18:08:31.703Z"
   },
   {
    "duration": 126,
    "start_time": "2022-06-26T18:08:42.158Z"
   },
   {
    "duration": 116,
    "start_time": "2022-06-26T18:09:24.373Z"
   },
   {
    "duration": 27,
    "start_time": "2022-06-26T18:09:30.016Z"
   },
   {
    "duration": 23,
    "start_time": "2022-06-26T18:09:43.309Z"
   },
   {
    "duration": 58,
    "start_time": "2022-06-26T18:09:55.031Z"
   },
   {
    "duration": 167,
    "start_time": "2022-06-26T18:10:21.804Z"
   },
   {
    "duration": 175,
    "start_time": "2022-06-26T18:10:26.860Z"
   },
   {
    "duration": 27,
    "start_time": "2022-06-26T18:10:47.395Z"
   },
   {
    "duration": 128,
    "start_time": "2022-06-26T18:11:49.712Z"
   },
   {
    "duration": 144,
    "start_time": "2022-06-26T18:11:58.516Z"
   },
   {
    "duration": 134,
    "start_time": "2022-06-26T18:12:08.901Z"
   },
   {
    "duration": 127,
    "start_time": "2022-06-26T18:12:24.466Z"
   },
   {
    "duration": 171,
    "start_time": "2022-06-26T18:12:27.434Z"
   },
   {
    "duration": 31,
    "start_time": "2022-06-26T18:12:31.325Z"
   },
   {
    "duration": 29,
    "start_time": "2022-06-26T18:13:00.486Z"
   },
   {
    "duration": 27,
    "start_time": "2022-06-26T18:13:04.699Z"
   },
   {
    "duration": 22,
    "start_time": "2022-06-26T18:14:42.871Z"
   },
   {
    "duration": 131,
    "start_time": "2022-06-26T18:15:00.976Z"
   },
   {
    "duration": 21,
    "start_time": "2022-06-26T18:15:10.209Z"
   },
   {
    "duration": 24,
    "start_time": "2022-06-26T18:15:20.654Z"
   },
   {
    "duration": 10,
    "start_time": "2022-06-26T18:15:34.363Z"
   },
   {
    "duration": 89,
    "start_time": "2022-06-26T18:15:57.678Z"
   },
   {
    "duration": 5,
    "start_time": "2022-06-26T18:16:07.629Z"
   },
   {
    "duration": 3,
    "start_time": "2022-06-26T18:16:16.214Z"
   },
   {
    "duration": 23,
    "start_time": "2022-06-26T18:16:26.132Z"
   },
   {
    "duration": 17,
    "start_time": "2022-06-26T18:16:34.197Z"
   },
   {
    "duration": 28,
    "start_time": "2022-06-26T18:18:44.839Z"
   },
   {
    "duration": 21,
    "start_time": "2022-06-26T18:18:57.204Z"
   },
   {
    "duration": 22,
    "start_time": "2022-06-26T18:20:45.192Z"
   },
   {
    "duration": 21,
    "start_time": "2022-06-26T18:20:50.291Z"
   },
   {
    "duration": 15,
    "start_time": "2022-06-26T18:22:17.827Z"
   },
   {
    "duration": 45,
    "start_time": "2022-06-26T18:22:22.040Z"
   },
   {
    "duration": 16,
    "start_time": "2022-06-26T18:23:13.376Z"
   },
   {
    "duration": 37,
    "start_time": "2022-06-26T18:23:17.233Z"
   },
   {
    "duration": 17,
    "start_time": "2022-06-26T18:25:11.574Z"
   },
   {
    "duration": 18,
    "start_time": "2022-06-26T18:25:14.015Z"
   },
   {
    "duration": 25,
    "start_time": "2022-06-26T18:26:42.085Z"
   },
   {
    "duration": 22,
    "start_time": "2022-06-26T18:27:25.245Z"
   },
   {
    "duration": 19,
    "start_time": "2022-06-26T18:27:28.758Z"
   },
   {
    "duration": 22,
    "start_time": "2022-06-26T18:27:50.816Z"
   },
   {
    "duration": 26,
    "start_time": "2022-06-26T18:29:07.550Z"
   },
   {
    "duration": 74,
    "start_time": "2022-06-26T18:29:53.984Z"
   },
   {
    "duration": 124,
    "start_time": "2022-06-26T18:33:05.183Z"
   },
   {
    "duration": 103,
    "start_time": "2022-06-26T18:33:12.757Z"
   },
   {
    "duration": 112,
    "start_time": "2022-06-26T18:33:31.384Z"
   },
   {
    "duration": 108,
    "start_time": "2022-06-26T18:33:38.444Z"
   },
   {
    "duration": 18,
    "start_time": "2022-06-26T18:33:43.858Z"
   },
   {
    "duration": 35,
    "start_time": "2022-06-26T18:36:25.770Z"
   },
   {
    "duration": 22,
    "start_time": "2022-06-26T18:37:13.096Z"
   },
   {
    "duration": 32,
    "start_time": "2022-06-26T18:37:36.918Z"
   },
   {
    "duration": 4,
    "start_time": "2022-06-26T18:38:22.243Z"
   },
   {
    "duration": 19,
    "start_time": "2022-06-26T18:39:41.817Z"
   },
   {
    "duration": 8,
    "start_time": "2022-06-26T18:39:43.510Z"
   },
   {
    "duration": 19,
    "start_time": "2022-06-26T18:44:27.889Z"
   },
   {
    "duration": 161,
    "start_time": "2022-06-26T18:44:41.638Z"
   },
   {
    "duration": 128,
    "start_time": "2022-06-26T18:45:19.196Z"
   },
   {
    "duration": 161,
    "start_time": "2022-06-26T18:45:44.831Z"
   },
   {
    "duration": 39,
    "start_time": "2022-06-26T18:45:52.831Z"
   },
   {
    "duration": 37,
    "start_time": "2022-06-26T18:45:59.238Z"
   },
   {
    "duration": 637,
    "start_time": "2022-06-26T18:47:53.836Z"
   },
   {
    "duration": 5,
    "start_time": "2022-06-26T18:47:54.476Z"
   },
   {
    "duration": 18,
    "start_time": "2022-06-26T18:47:54.484Z"
   },
   {
    "duration": 10803,
    "start_time": "2022-06-26T18:47:54.505Z"
   },
   {
    "duration": 4,
    "start_time": "2022-06-26T18:48:05.311Z"
   },
   {
    "duration": 455,
    "start_time": "2022-06-26T18:48:05.318Z"
   },
   {
    "duration": 26,
    "start_time": "2022-06-26T18:48:05.776Z"
   },
   {
    "duration": 3,
    "start_time": "2022-06-26T18:48:05.805Z"
   },
   {
    "duration": 180,
    "start_time": "2022-06-26T18:48:05.811Z"
   },
   {
    "duration": 16,
    "start_time": "2022-06-26T18:48:05.994Z"
   },
   {
    "duration": 5,
    "start_time": "2022-06-26T18:48:06.012Z"
   },
   {
    "duration": 62,
    "start_time": "2022-06-26T18:48:06.019Z"
   },
   {
    "duration": 21,
    "start_time": "2022-06-26T18:48:06.084Z"
   },
   {
    "duration": 19,
    "start_time": "2022-06-26T18:48:06.109Z"
   },
   {
    "duration": 5,
    "start_time": "2022-06-26T18:48:06.131Z"
   },
   {
    "duration": 51,
    "start_time": "2022-06-26T18:48:06.138Z"
   },
   {
    "duration": 26,
    "start_time": "2022-06-26T18:48:34.580Z"
   },
   {
    "duration": 3,
    "start_time": "2022-06-26T18:49:01.458Z"
   },
   {
    "duration": 3,
    "start_time": "2022-06-26T18:49:08.263Z"
   },
   {
    "duration": 542,
    "start_time": "2022-06-27T12:32:07.391Z"
   },
   {
    "duration": 3,
    "start_time": "2022-06-27T12:32:07.943Z"
   },
   {
    "duration": 15,
    "start_time": "2022-06-27T12:32:07.956Z"
   },
   {
    "duration": 9589,
    "start_time": "2022-06-27T12:32:07.974Z"
   },
   {
    "duration": 2,
    "start_time": "2022-06-27T12:32:17.565Z"
   },
   {
    "duration": 293,
    "start_time": "2022-06-27T12:32:17.569Z"
   },
   {
    "duration": 15,
    "start_time": "2022-06-27T12:32:17.864Z"
   },
   {
    "duration": 4,
    "start_time": "2022-06-27T12:32:17.880Z"
   },
   {
    "duration": 505,
    "start_time": "2022-06-27T12:32:17.885Z"
   },
   {
    "duration": 86,
    "start_time": "2022-06-27T12:32:18.392Z"
   },
   {
    "duration": 4,
    "start_time": "2022-06-27T12:32:18.479Z"
   },
   {
    "duration": 99,
    "start_time": "2022-06-27T12:32:18.484Z"
   },
   {
    "duration": 88,
    "start_time": "2022-06-27T12:32:18.586Z"
   },
   {
    "duration": 91,
    "start_time": "2022-06-27T12:32:18.675Z"
   },
   {
    "duration": 3,
    "start_time": "2022-06-27T12:32:18.768Z"
   },
   {
    "duration": 122,
    "start_time": "2022-06-27T12:32:18.773Z"
   },
   {
    "duration": 94,
    "start_time": "2022-06-27T12:32:42.500Z"
   }
  ],
  "kernelspec": {
   "display_name": "Python 3",
   "language": "python",
   "name": "python3"
  },
  "language_info": {
   "codemirror_mode": {
    "name": "ipython",
    "version": 3
   },
   "file_extension": ".py",
   "mimetype": "text/x-python",
   "name": "python",
   "nbconvert_exporter": "python",
   "pygments_lexer": "ipython3",
   "version": "3.8.8"
  },
  "toc": {
   "base_numbering": 1,
   "nav_menu": {},
   "number_sections": true,
   "sideBar": true,
   "skip_h1_title": true,
   "title_cell": "Table of Contents",
   "title_sidebar": "Contents",
   "toc_cell": false,
   "toc_position": {},
   "toc_section_display": true,
   "toc_window_display": false
  }
 },
 "nbformat": 4,
 "nbformat_minor": 5
}
