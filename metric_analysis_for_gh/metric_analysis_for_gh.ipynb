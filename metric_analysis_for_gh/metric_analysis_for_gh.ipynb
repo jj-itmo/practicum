{
 "cells": [
  {
   "cell_type": "markdown",
   "id": "mediterranean-michigan",
   "metadata": {
    "id": "sufficient-lesson",
    "toc": true
   },
   "source": [
    "<h1>Содержание<span class=\"tocSkip\"></span></h1>\n",
    "<div class=\"toc\"><ul class=\"toc-item\"><li><span><a href=\"#Предварительный-анализ-данных\" data-toc-modified-id=\"Предварительный-анализ-данных-1\"><span class=\"toc-item-num\">1&nbsp;&nbsp;</span>Предварительный анализ данных</a></span><ul class=\"toc-item\"><li><span><a href=\"#Users\" data-toc-modified-id=\"Users-1.1\"><span class=\"toc-item-num\">1.1&nbsp;&nbsp;</span>Users</a></span></li><li><span><a href=\"#Sessions\" data-toc-modified-id=\"Sessions-1.2\"><span class=\"toc-item-num\">1.2&nbsp;&nbsp;</span>Sessions</a></span></li><li><span><a href=\"#Payments\" data-toc-modified-id=\"Payments-1.3\"><span class=\"toc-item-num\">1.3&nbsp;&nbsp;</span>Payments</a></span></li><li><span><a href=\"#Levels\" data-toc-modified-id=\"Levels-1.4\"><span class=\"toc-item-num\">1.4&nbsp;&nbsp;</span>Levels</a></span></li></ul></li><li><span><a href=\"#Retention-и-время,-которое-ученики-проводят-в-приложении.\" data-toc-modified-id=\"Retention-и-время,-которое-ученики-проводят-в-приложении.-2\"><span class=\"toc-item-num\">2&nbsp;&nbsp;</span>Retention и время, которое ученики проводят в приложении.</a></span><ul class=\"toc-item\"><li><span><a href=\"#Основные-метрики\" data-toc-modified-id=\"Основные-метрики-2.1\"><span class=\"toc-item-num\">2.1&nbsp;&nbsp;</span>Основные метрики</a></span></li><li><span><a href=\"#Retention-rate\" data-toc-modified-id=\"Retention-rate-2.2\"><span class=\"toc-item-num\">2.2&nbsp;&nbsp;</span>Retention rate</a></span></li><li><span><a href=\"#Время-в-приложении\" data-toc-modified-id=\"Время-в-приложении-2.3\"><span class=\"toc-item-num\">2.3&nbsp;&nbsp;</span>Время в приложении</a></span></li></ul></li><li><span><a href=\"#Присутствие-учеников-на-уровнях\" data-toc-modified-id=\"Присутствие-учеников-на-уровнях-3\"><span class=\"toc-item-num\">3&nbsp;&nbsp;</span>Присутствие учеников на уровнях</a></span></li><li><span><a href=\"#Метрики-монетизации-для-всей-когорты\" data-toc-modified-id=\"Метрики-монетизации-для-всей-когорты-4\"><span class=\"toc-item-num\">4&nbsp;&nbsp;</span>Метрики монетизации для всей когорты</a></span><ul class=\"toc-item\"><li><span><a href=\"#Количество-платящих-учеников\" data-toc-modified-id=\"Количество-платящих-учеников-4.1\"><span class=\"toc-item-num\">4.1&nbsp;&nbsp;</span>Количество платящих учеников</a></span></li><li><span><a href=\"#Доля-платящих-учеников\" data-toc-modified-id=\"Доля-платящих-учеников-4.2\"><span class=\"toc-item-num\">4.2&nbsp;&nbsp;</span>Доля платящих учеников</a></span></li><li><span><a href=\"#Количество-оплат-на-одного-платящего-ученика\" data-toc-modified-id=\"Количество-оплат-на-одного-платящего-ученика-4.3\"><span class=\"toc-item-num\">4.3&nbsp;&nbsp;</span>Количество оплат на одного платящего ученика</a></span></li><li><span><a href=\"#ARPU\" data-toc-modified-id=\"ARPU-4.4\"><span class=\"toc-item-num\">4.4&nbsp;&nbsp;</span>ARPU</a></span></li><li><span><a href=\"#ARPPU\" data-toc-modified-id=\"ARPPU-4.5\"><span class=\"toc-item-num\">4.5&nbsp;&nbsp;</span>ARPPU</a></span></li><li><span><a href=\"#Средний-чек-(AOV)\" data-toc-modified-id=\"Средний-чек-(AOV)-4.6\"><span class=\"toc-item-num\">4.6&nbsp;&nbsp;</span>Средний чек (AOV)</a></span></li><li><span><a href=\"#Средняя-сумма-дневных-платежей\" data-toc-modified-id=\"Средняя-сумма-дневных-платежей-4.7\"><span class=\"toc-item-num\">4.7&nbsp;&nbsp;</span>Средняя сумма дневных платежей</a></span></li><li><span><a href=\"#Динамика-оплат-по-дням\" data-toc-modified-id=\"Динамика-оплат-по-дням-4.8\"><span class=\"toc-item-num\">4.8&nbsp;&nbsp;</span>Динамика оплат по дням</a></span></li></ul></li><li><span><a href=\"#Где-ученики-совершают-больше-всего-платежей?\" data-toc-modified-id=\"Где-ученики-совершают-больше-всего-платежей?-5\"><span class=\"toc-item-num\">5&nbsp;&nbsp;</span>Где ученики совершают больше всего платежей?</a></span></li><li><span><a href=\"#Где-ученики-совершают-первые-платежи?\" data-toc-modified-id=\"Где-ученики-совершают-первые-платежи?-6\"><span class=\"toc-item-num\">6&nbsp;&nbsp;</span>Где ученики совершают первые платежи?</a></span></li><li><span><a href=\"#Выводы\" data-toc-modified-id=\"Выводы-7\"><span class=\"toc-item-num\">7&nbsp;&nbsp;</span>Выводы</a></span></li></ul></div>"
   ]
  },
  {
   "cell_type": "markdown",
   "id": "stunning-minute",
   "metadata": {
    "id": "muslim-august"
   },
   "source": [
    "# Анализ метрик обучающего игрового приложения"
   ]
  },
  {
   "cell_type": "markdown",
   "id": "precious-contrast",
   "metadata": {
    "id": "welsh-mountain"
   },
   "source": [
    "В базе представлены данные об активности пользователей в обучающем игровом\n",
    "приложении. Необходимо проанализировать доступные данные и рассчитать метрики:\n",
    "- Retention и время, которое ученики проводят в приложении.\n",
    "- Присутствие учеников на уровнях.\n",
    "- Метрики монетизации для всей когорты\n",
    "- Где ученики совершают больше всего платежей?\n",
    "- Где ученики совершают первые платежи?"
   ]
  },
  {
   "cell_type": "markdown",
   "id": "based-pendant",
   "metadata": {
    "id": "quantitative-black"
   },
   "source": [
    "Даны таблицы: <br>\n",
    "**users**<br>\n",
    "`user_id` - id пользователя<br>\n",
    "`reg_time` - время события (регистрация)<br>\n",
    "\n",
    "**sessions**<br>\n",
    "`user_id` - id пользователя<br>\n",
    "`open_time` - время начала сессии<br>\n",
    "`close_time` - время окончания сессии<br>\n",
    "\n",
    "**payments**<br>\n",
    "`user_id` - id пользователя<br>\n",
    "`time` - время события<br>\n",
    "`amt` - сумма платежа<br>\n",
    "\n",
    "**levels**<br>\n",
    "`user_id` - id пользователя<br>\n",
    "`time` - время события<br>\n",
    "`level` - номер полученного игроком уровня<br>\n"
   ]
  },
  {
   "cell_type": "markdown",
   "id": "fatty-tower",
   "metadata": {
    "id": "complete-breath"
   },
   "source": [
    "## Предварительный анализ данных"
   ]
  },
  {
   "cell_type": "code",
   "execution_count": 1,
   "id": "acoustic-automation",
   "metadata": {
    "id": "embedded-magazine"
   },
   "outputs": [],
   "source": [
    "import pandas as pd\n",
    "import matplotlib.pyplot as plt\n",
    "import seaborn as sns\n",
    "from datetime import datetime, timedelta as dt"
   ]
  },
  {
   "cell_type": "code",
   "execution_count": 2,
   "id": "charming-selling",
   "metadata": {
    "id": "spread-title"
   },
   "outputs": [],
   "source": [
    "pd.set_option('float_format', '{:.2f}'.format)\n",
    "pd.set_option('display.max_columns', None) # показать все колонки"
   ]
  },
  {
   "cell_type": "markdown",
   "id": "stock-setting",
   "metadata": {
    "id": "impaired-minnesota"
   },
   "source": [
    "### Users"
   ]
  },
  {
   "cell_type": "code",
   "execution_count": 3,
   "id": "ecological-first",
   "metadata": {
    "id": "perfect-fairy",
    "outputId": "3536a37b-a655-44bf-f474-3cd8c0b0a3d6"
   },
   "outputs": [
    {
     "data": {
      "text/html": [
       "<div>\n",
       "<style scoped>\n",
       "    .dataframe tbody tr th:only-of-type {\n",
       "        vertical-align: middle;\n",
       "    }\n",
       "\n",
       "    .dataframe tbody tr th {\n",
       "        vertical-align: top;\n",
       "    }\n",
       "\n",
       "    .dataframe thead th {\n",
       "        text-align: right;\n",
       "    }\n",
       "</style>\n",
       "<table border=\"1\" class=\"dataframe\">\n",
       "  <thead>\n",
       "    <tr style=\"text-align: right;\">\n",
       "      <th></th>\n",
       "      <th>user_id</th>\n",
       "      <th>reg_time</th>\n",
       "    </tr>\n",
       "  </thead>\n",
       "  <tbody>\n",
       "    <tr>\n",
       "      <th>0</th>\n",
       "      <td>439127</td>\n",
       "      <td>2023-05-16 15:47:56.024</td>\n",
       "    </tr>\n",
       "    <tr>\n",
       "      <th>1</th>\n",
       "      <td>646681</td>\n",
       "      <td>2023-05-16 16:32:35.495</td>\n",
       "    </tr>\n",
       "    <tr>\n",
       "      <th>2</th>\n",
       "      <td>35136</td>\n",
       "      <td>2023-05-16 16:50:14.571</td>\n",
       "    </tr>\n",
       "    <tr>\n",
       "      <th>3</th>\n",
       "      <td>933255</td>\n",
       "      <td>2023-05-16 03:28:56.790</td>\n",
       "    </tr>\n",
       "    <tr>\n",
       "      <th>4</th>\n",
       "      <td>59440</td>\n",
       "      <td>2023-05-16 06:53:22.412</td>\n",
       "    </tr>\n",
       "  </tbody>\n",
       "</table>\n",
       "</div>"
      ],
      "text/plain": [
       "   user_id                 reg_time\n",
       "0   439127  2023-05-16 15:47:56.024\n",
       "1   646681  2023-05-16 16:32:35.495\n",
       "2    35136  2023-05-16 16:50:14.571\n",
       "3   933255  2023-05-16 03:28:56.790\n",
       "4    59440  2023-05-16 06:53:22.412"
      ]
     },
     "execution_count": 3,
     "metadata": {},
     "output_type": "execute_result"
    }
   ],
   "source": [
    "# user_id - id пользователя\n",
    "# reg_time - время события\n",
    "users = pd.read_csv('../projects/users.csv', index_col=[0])\n",
    "users.head()"
   ]
  },
  {
   "cell_type": "code",
   "execution_count": 4,
   "id": "advanced-harrison",
   "metadata": {
    "id": "happy-athletics",
    "outputId": "a883dd49-7450-4563-cfe2-e088f45f39be"
   },
   "outputs": [
    {
     "name": "stdout",
     "output_type": "stream",
     "text": [
      "<class 'pandas.core.frame.DataFrame'>\n",
      "Int64Index: 31114 entries, 0 to 31114\n",
      "Data columns (total 2 columns):\n",
      " #   Column    Non-Null Count  Dtype \n",
      "---  ------    --------------  ----- \n",
      " 0   user_id   31114 non-null  int64 \n",
      " 1   reg_time  31114 non-null  object\n",
      "dtypes: int64(1), object(1)\n",
      "memory usage: 729.2+ KB\n"
     ]
    }
   ],
   "source": [
    "users.info()"
   ]
  },
  {
   "cell_type": "code",
   "execution_count": 5,
   "id": "possible-honduras",
   "metadata": {
    "id": "unable-liver",
    "outputId": "a564847b-1196-4a45-8d6a-8ba3b9d52b6a"
   },
   "outputs": [
    {
     "data": {
      "text/html": [
       "<div>\n",
       "<style scoped>\n",
       "    .dataframe tbody tr th:only-of-type {\n",
       "        vertical-align: middle;\n",
       "    }\n",
       "\n",
       "    .dataframe tbody tr th {\n",
       "        vertical-align: top;\n",
       "    }\n",
       "\n",
       "    .dataframe thead th {\n",
       "        text-align: right;\n",
       "    }\n",
       "</style>\n",
       "<table border=\"1\" class=\"dataframe\">\n",
       "  <thead>\n",
       "    <tr style=\"text-align: right;\">\n",
       "      <th></th>\n",
       "      <th>user_id</th>\n",
       "      <th>reg_time</th>\n",
       "      <th>reg_time_dt</th>\n",
       "    </tr>\n",
       "  </thead>\n",
       "  <tbody>\n",
       "    <tr>\n",
       "      <th>0</th>\n",
       "      <td>439127</td>\n",
       "      <td>2023-05-16 15:47:56</td>\n",
       "      <td>2023-05-16</td>\n",
       "    </tr>\n",
       "    <tr>\n",
       "      <th>1</th>\n",
       "      <td>646681</td>\n",
       "      <td>2023-05-16 16:32:35</td>\n",
       "      <td>2023-05-16</td>\n",
       "    </tr>\n",
       "    <tr>\n",
       "      <th>2</th>\n",
       "      <td>35136</td>\n",
       "      <td>2023-05-16 16:50:14</td>\n",
       "      <td>2023-05-16</td>\n",
       "    </tr>\n",
       "    <tr>\n",
       "      <th>3</th>\n",
       "      <td>933255</td>\n",
       "      <td>2023-05-16 03:28:56</td>\n",
       "      <td>2023-05-16</td>\n",
       "    </tr>\n",
       "    <tr>\n",
       "      <th>4</th>\n",
       "      <td>59440</td>\n",
       "      <td>2023-05-16 06:53:22</td>\n",
       "      <td>2023-05-16</td>\n",
       "    </tr>\n",
       "  </tbody>\n",
       "</table>\n",
       "</div>"
      ],
      "text/plain": [
       "   user_id            reg_time reg_time_dt\n",
       "0   439127 2023-05-16 15:47:56  2023-05-16\n",
       "1   646681 2023-05-16 16:32:35  2023-05-16\n",
       "2    35136 2023-05-16 16:50:14  2023-05-16\n",
       "3   933255 2023-05-16 03:28:56  2023-05-16\n",
       "4    59440 2023-05-16 06:53:22  2023-05-16"
      ]
     },
     "execution_count": 5,
     "metadata": {},
     "output_type": "execute_result"
    }
   ],
   "source": [
    "users['reg_time'] = users['reg_time'].astype('datetime64[s]')\n",
    "users['reg_time_dt'] = users['reg_time'].astype('datetime64[D]')\n",
    "#users['reg_time'] = pd.to_datetime(users['reg_time'], format='%Y-%m-%d %H:%M:%S')\n",
    "users.head()"
   ]
  },
  {
   "cell_type": "code",
   "execution_count": 6,
   "id": "biblical-installation",
   "metadata": {
    "id": "central-iraqi",
    "outputId": "5efcf80d-050b-4d12-8150-dde577416025"
   },
   "outputs": [
    {
     "name": "stdout",
     "output_type": "stream",
     "text": [
      "<class 'pandas.core.frame.DataFrame'>\n",
      "Int64Index: 31114 entries, 0 to 31114\n",
      "Data columns (total 3 columns):\n",
      " #   Column       Non-Null Count  Dtype         \n",
      "---  ------       --------------  -----         \n",
      " 0   user_id      31114 non-null  int64         \n",
      " 1   reg_time     31114 non-null  datetime64[ns]\n",
      " 2   reg_time_dt  31114 non-null  datetime64[ns]\n",
      "dtypes: datetime64[ns](2), int64(1)\n",
      "memory usage: 972.3 KB\n"
     ]
    }
   ],
   "source": [
    "users.info()"
   ]
  },
  {
   "cell_type": "code",
   "execution_count": 7,
   "id": "entertaining-ecology",
   "metadata": {
    "id": "another-possibility",
    "outputId": "8e8fcdda-0420-48b4-990c-d6f32c708567"
   },
   "outputs": [
    {
     "data": {
      "text/plain": [
       "31114"
      ]
     },
     "execution_count": 7,
     "metadata": {},
     "output_type": "execute_result"
    }
   ],
   "source": [
    "# всего уникальных пользователей\n",
    "users['user_id'].nunique()"
   ]
  },
  {
   "cell_type": "code",
   "execution_count": 8,
   "id": "major-radical",
   "metadata": {
    "id": "reduced-metallic",
    "outputId": "9d3284aa-2cfa-47a7-b0ed-024f05d740b5"
   },
   "outputs": [
    {
     "data": {
      "text/plain": [
       "(Timestamp('2023-05-11 02:01:36'), Timestamp('2023-05-21 01:58:09'))"
      ]
     },
     "execution_count": 8,
     "metadata": {},
     "output_type": "execute_result"
    }
   ],
   "source": [
    "# данные регистраций за период\n",
    "users['reg_time'].min(), users['reg_time'].max()"
   ]
  },
  {
   "cell_type": "markdown",
   "id": "exotic-location",
   "metadata": {
    "id": "elder-amazon"
   },
   "source": [
    "### Sessions"
   ]
  },
  {
   "cell_type": "code",
   "execution_count": 9,
   "id": "meaningful-hungary",
   "metadata": {
    "id": "known-manual",
    "outputId": "3352cb3e-9d9b-4d5b-d855-e97d57e68148"
   },
   "outputs": [
    {
     "data": {
      "text/html": [
       "<div>\n",
       "<style scoped>\n",
       "    .dataframe tbody tr th:only-of-type {\n",
       "        vertical-align: middle;\n",
       "    }\n",
       "\n",
       "    .dataframe tbody tr th {\n",
       "        vertical-align: top;\n",
       "    }\n",
       "\n",
       "    .dataframe thead th {\n",
       "        text-align: right;\n",
       "    }\n",
       "</style>\n",
       "<table border=\"1\" class=\"dataframe\">\n",
       "  <thead>\n",
       "    <tr style=\"text-align: right;\">\n",
       "      <th></th>\n",
       "      <th>user_id</th>\n",
       "      <th>open_time</th>\n",
       "      <th>close_time</th>\n",
       "    </tr>\n",
       "  </thead>\n",
       "  <tbody>\n",
       "    <tr>\n",
       "      <th>0</th>\n",
       "      <td>875013</td>\n",
       "      <td>2023-05-16 05:06:09</td>\n",
       "      <td>2023-05-16 05:17:59</td>\n",
       "    </tr>\n",
       "    <tr>\n",
       "      <th>1</th>\n",
       "      <td>138278</td>\n",
       "      <td>2023-05-16 06:47:34</td>\n",
       "      <td>2023-05-16 06:48:24</td>\n",
       "    </tr>\n",
       "    <tr>\n",
       "      <th>2</th>\n",
       "      <td>138278</td>\n",
       "      <td>2023-05-18 01:07:58</td>\n",
       "      <td>2023-05-18 01:44:40</td>\n",
       "    </tr>\n",
       "    <tr>\n",
       "      <th>3</th>\n",
       "      <td>138278</td>\n",
       "      <td>2023-05-18 04:51:06</td>\n",
       "      <td>2023-05-18 05:02:58</td>\n",
       "    </tr>\n",
       "    <tr>\n",
       "      <th>4</th>\n",
       "      <td>138278</td>\n",
       "      <td>2023-05-19 05:46:19</td>\n",
       "      <td>2023-05-19 05:58:32</td>\n",
       "    </tr>\n",
       "  </tbody>\n",
       "</table>\n",
       "</div>"
      ],
      "text/plain": [
       "   user_id            open_time           close_time\n",
       "0   875013  2023-05-16 05:06:09  2023-05-16 05:17:59\n",
       "1   138278  2023-05-16 06:47:34  2023-05-16 06:48:24\n",
       "2   138278  2023-05-18 01:07:58  2023-05-18 01:44:40\n",
       "3   138278  2023-05-18 04:51:06  2023-05-18 05:02:58\n",
       "4   138278  2023-05-19 05:46:19  2023-05-19 05:58:32"
      ]
     },
     "execution_count": 9,
     "metadata": {},
     "output_type": "execute_result"
    }
   ],
   "source": [
    "# user_id - id пользователя\n",
    "# open_time - время начала сессии\n",
    "# close_time - время окончания сессии\n",
    "sessions = pd.read_csv('../projects/sessions.csv', index_col=[0])\n",
    "sessions = sessions[['user_id', 'open_time', 'close_time']]\n",
    "sessions.head()"
   ]
  },
  {
   "cell_type": "code",
   "execution_count": 10,
   "id": "expressed-petersburg",
   "metadata": {
    "id": "elder-religious",
    "outputId": "076eb846-f13f-4eac-c317-3348571d35f6"
   },
   "outputs": [
    {
     "name": "stdout",
     "output_type": "stream",
     "text": [
      "<class 'pandas.core.frame.DataFrame'>\n",
      "Int64Index: 358004 entries, 0 to 358033\n",
      "Data columns (total 3 columns):\n",
      " #   Column      Non-Null Count   Dtype \n",
      "---  ------      --------------   ----- \n",
      " 0   user_id     358004 non-null  int64 \n",
      " 1   open_time   358004 non-null  object\n",
      " 2   close_time  358004 non-null  object\n",
      "dtypes: int64(1), object(2)\n",
      "memory usage: 10.9+ MB\n"
     ]
    }
   ],
   "source": [
    "sessions.info()"
   ]
  },
  {
   "cell_type": "code",
   "execution_count": 11,
   "id": "alternate-anchor",
   "metadata": {
    "id": "fleet-situation",
    "outputId": "f4e9b75b-13c1-4db3-8f3a-d8ae0f893fbd"
   },
   "outputs": [
    {
     "name": "stdout",
     "output_type": "stream",
     "text": [
      "<class 'pandas.core.frame.DataFrame'>\n",
      "Int64Index: 358004 entries, 0 to 358033\n",
      "Data columns (total 3 columns):\n",
      " #   Column      Non-Null Count   Dtype         \n",
      "---  ------      --------------   -----         \n",
      " 0   user_id     358004 non-null  int64         \n",
      " 1   open_time   358004 non-null  datetime64[ns]\n",
      " 2   close_time  358004 non-null  datetime64[ns]\n",
      "dtypes: datetime64[ns](2), int64(1)\n",
      "memory usage: 10.9 MB\n"
     ]
    }
   ],
   "source": [
    "sessions['close_time'] = pd.to_datetime(sessions['close_time'], format='%Y-%m-%d %H:%M:%S')\n",
    "sessions['open_time'] = pd.to_datetime(sessions['open_time'], format='%Y-%m-%d %H:%M:%S')\n",
    "sessions.info()"
   ]
  },
  {
   "cell_type": "code",
   "execution_count": 12,
   "id": "annual-glass",
   "metadata": {
    "id": "concrete-smell",
    "outputId": "59f2d760-124a-46da-9db8-6fa0d0ec7a2e"
   },
   "outputs": [
    {
     "data": {
      "text/plain": [
       "(31070, 31114)"
      ]
     },
     "execution_count": 12,
     "metadata": {},
     "output_type": "execute_result"
    }
   ],
   "source": [
    "# пользователи, совершившие сессии; всего зарегистрированных уникальных пользователей\n",
    "sessions['user_id'].nunique(), users['user_id'].nunique()"
   ]
  },
  {
   "cell_type": "markdown",
   "id": "considered-moisture",
   "metadata": {
    "id": "theoretical-endorsement"
   },
   "source": [
    "Не все пользователи из таблицы **users** совершали сессии"
   ]
  },
  {
   "cell_type": "code",
   "execution_count": 13,
   "id": "outside-genetics",
   "metadata": {
    "id": "revised-tulsa",
    "outputId": "c7a1726a-3a45-450f-ebbe-df45509ffcc8"
   },
   "outputs": [
    {
     "data": {
      "text/plain": [
       "11.522497586095913"
      ]
     },
     "execution_count": 13,
     "metadata": {},
     "output_type": "execute_result"
    }
   ],
   "source": [
    "sessions['user_id'].count() / sessions['user_id'].nunique()"
   ]
  },
  {
   "cell_type": "markdown",
   "id": "nuclear-moral",
   "metadata": {
    "id": "diverse-foundation"
   },
   "source": [
    "В среднем, на пользователя приходится 12 сессий"
   ]
  },
  {
   "cell_type": "code",
   "execution_count": 14,
   "id": "patient-onion",
   "metadata": {
    "id": "alternate-prerequisite",
    "outputId": "3e9fd569-9774-4e80-eaa0-9950517b3799"
   },
   "outputs": [
    {
     "data": {
      "text/plain": [
       "(Timestamp('2023-05-11 02:01:37'), Timestamp('2023-05-30 17:18:17'))"
      ]
     },
     "execution_count": 14,
     "metadata": {},
     "output_type": "execute_result"
    }
   ],
   "source": [
    "# период данных\n",
    "sessions['open_time'].min(), sessions['close_time'].max()"
   ]
  },
  {
   "cell_type": "markdown",
   "id": "regional-effectiveness",
   "metadata": {
    "id": "illegal-correlation"
   },
   "source": [
    "### Payments"
   ]
  },
  {
   "cell_type": "code",
   "execution_count": 15,
   "id": "residential-saturday",
   "metadata": {
    "id": "tender-voice",
    "outputId": "e69a520f-e54a-414c-f199-5e482a267482"
   },
   "outputs": [
    {
     "data": {
      "text/html": [
       "<div>\n",
       "<style scoped>\n",
       "    .dataframe tbody tr th:only-of-type {\n",
       "        vertical-align: middle;\n",
       "    }\n",
       "\n",
       "    .dataframe tbody tr th {\n",
       "        vertical-align: top;\n",
       "    }\n",
       "\n",
       "    .dataframe thead th {\n",
       "        text-align: right;\n",
       "    }\n",
       "</style>\n",
       "<table border=\"1\" class=\"dataframe\">\n",
       "  <thead>\n",
       "    <tr style=\"text-align: right;\">\n",
       "      <th></th>\n",
       "      <th>user_id</th>\n",
       "      <th>pay_time</th>\n",
       "      <th>amt</th>\n",
       "    </tr>\n",
       "  </thead>\n",
       "  <tbody>\n",
       "    <tr>\n",
       "      <th>1</th>\n",
       "      <td>107907</td>\n",
       "      <td>2023-05-29 17:08:18.890</td>\n",
       "      <td>0.40</td>\n",
       "    </tr>\n",
       "    <tr>\n",
       "      <th>2</th>\n",
       "      <td>510991</td>\n",
       "      <td>2023-05-20 16:55:01.216</td>\n",
       "      <td>0.20</td>\n",
       "    </tr>\n",
       "    <tr>\n",
       "      <th>3</th>\n",
       "      <td>294837</td>\n",
       "      <td>2023-05-19 01:41:55.970</td>\n",
       "      <td>0.20</td>\n",
       "    </tr>\n",
       "    <tr>\n",
       "      <th>4</th>\n",
       "      <td>644287</td>\n",
       "      <td>2023-05-20 03:01:53.697</td>\n",
       "      <td>0.20</td>\n",
       "    </tr>\n",
       "    <tr>\n",
       "      <th>5</th>\n",
       "      <td>673424</td>\n",
       "      <td>2023-05-20 03:33:36.918</td>\n",
       "      <td>0.10</td>\n",
       "    </tr>\n",
       "  </tbody>\n",
       "</table>\n",
       "</div>"
      ],
      "text/plain": [
       "   user_id                 pay_time  amt\n",
       "1   107907  2023-05-29 17:08:18.890 0.40\n",
       "2   510991  2023-05-20 16:55:01.216 0.20\n",
       "3   294837  2023-05-19 01:41:55.970 0.20\n",
       "4   644287  2023-05-20 03:01:53.697 0.20\n",
       "5   673424  2023-05-20 03:33:36.918 0.10"
      ]
     },
     "execution_count": 15,
     "metadata": {},
     "output_type": "execute_result"
    }
   ],
   "source": [
    "# user_id - id пользователя\n",
    "# time - время события\n",
    "# amt - сумма платежа\n",
    "payments = pd.read_csv('../projects/payments.csv', index_col=[0])\n",
    "payments.head()"
   ]
  },
  {
   "cell_type": "code",
   "execution_count": 16,
   "id": "mineral-power",
   "metadata": {
    "id": "balanced-inspector",
    "outputId": "729c7d3c-0fbf-4030-a6aa-ad17f380bd6d"
   },
   "outputs": [
    {
     "name": "stdout",
     "output_type": "stream",
     "text": [
      "<class 'pandas.core.frame.DataFrame'>\n",
      "Int64Index: 699 entries, 1 to 699\n",
      "Data columns (total 4 columns):\n",
      " #   Column       Non-Null Count  Dtype         \n",
      "---  ------       --------------  -----         \n",
      " 0   user_id      699 non-null    int64         \n",
      " 1   pay_time     699 non-null    datetime64[ns]\n",
      " 2   amt          699 non-null    float64       \n",
      " 3   pay_time_dt  699 non-null    datetime64[ns]\n",
      "dtypes: datetime64[ns](2), float64(1), int64(1)\n",
      "memory usage: 27.3 KB\n"
     ]
    }
   ],
   "source": [
    "# переводим в формат дат и округляем до секунд для удобства\n",
    "payments['pay_time'] = pd.to_datetime(payments['pay_time'], format='%Y-%m-%d %H:%M:%S').astype('datetime64[s]')\n",
    "payments['pay_time_dt'] = payments['pay_time'].astype('datetime64[D]')\n",
    "payments.info()"
   ]
  },
  {
   "cell_type": "code",
   "execution_count": 17,
   "id": "german-newport",
   "metadata": {
    "id": "prospective-lover",
    "outputId": "a1fee7ca-735f-4300-fb83-e5fff8628b2a"
   },
   "outputs": [
    {
     "data": {
      "text/plain": [
       "312"
      ]
     },
     "execution_count": 17,
     "metadata": {},
     "output_type": "execute_result"
    }
   ],
   "source": [
    "# всего 312 пользователей совершали платеж\n",
    "payments['user_id'].nunique()"
   ]
  },
  {
   "cell_type": "code",
   "execution_count": 18,
   "id": "emotional-digest",
   "metadata": {
    "id": "radio-ground",
    "outputId": "2e66e459-7561-44ec-be78-26f50020e935"
   },
   "outputs": [
    {
     "data": {
      "text/plain": [
       "2.2403846153846154"
      ]
     },
     "execution_count": 18,
     "metadata": {},
     "output_type": "execute_result"
    }
   ],
   "source": [
    "# в среднем, каждый платящий пользователь совершал 2 платежа\n",
    "payments.groupby('user_id')['user_id'].count().mean()"
   ]
  },
  {
   "cell_type": "code",
   "execution_count": 19,
   "id": "parliamentary-constitution",
   "metadata": {
    "id": "endangered-letters",
    "outputId": "53543978-2915-4da5-fa9e-6f0c20400d45"
   },
   "outputs": [
    {
     "data": {
      "text/plain": [
       "count   699.00\n",
       "mean      0.72\n",
       "std       1.04\n",
       "min       0.10\n",
       "25%       0.20\n",
       "50%       0.40\n",
       "75%       1.00\n",
       "max      10.03\n",
       "Name: amt, dtype: float64"
      ]
     },
     "execution_count": 19,
     "metadata": {},
     "output_type": "execute_result"
    }
   ],
   "source": [
    "payments['amt'].describe()"
   ]
  },
  {
   "cell_type": "markdown",
   "id": "rapid-cartoon",
   "metadata": {
    "id": "polished-wiring"
   },
   "source": [
    "Минимальный размер одного платежа - 0.10, максимальный - 10.03, средний - 0.72."
   ]
  },
  {
   "cell_type": "markdown",
   "id": "portable-freeze",
   "metadata": {
    "id": "coastal-stomach"
   },
   "source": [
    "### Levels"
   ]
  },
  {
   "cell_type": "code",
   "execution_count": 20,
   "id": "funded-undergraduate",
   "metadata": {
    "id": "forced-painting",
    "outputId": "b01035af-4af4-4051-e525-b0336ac20410"
   },
   "outputs": [
    {
     "data": {
      "text/html": [
       "<div>\n",
       "<style scoped>\n",
       "    .dataframe tbody tr th:only-of-type {\n",
       "        vertical-align: middle;\n",
       "    }\n",
       "\n",
       "    .dataframe tbody tr th {\n",
       "        vertical-align: top;\n",
       "    }\n",
       "\n",
       "    .dataframe thead th {\n",
       "        text-align: right;\n",
       "    }\n",
       "</style>\n",
       "<table border=\"1\" class=\"dataframe\">\n",
       "  <thead>\n",
       "    <tr style=\"text-align: right;\">\n",
       "      <th></th>\n",
       "      <th>user_id</th>\n",
       "      <th>time</th>\n",
       "      <th>level</th>\n",
       "    </tr>\n",
       "  </thead>\n",
       "  <tbody>\n",
       "    <tr>\n",
       "      <th>0</th>\n",
       "      <td>105194</td>\n",
       "      <td>2023-05-16 08:22:12.799003</td>\n",
       "      <td>2.00</td>\n",
       "    </tr>\n",
       "    <tr>\n",
       "      <th>1</th>\n",
       "      <td>105194</td>\n",
       "      <td>2023-05-16 08:26:42.405003</td>\n",
       "      <td>3.00</td>\n",
       "    </tr>\n",
       "    <tr>\n",
       "      <th>2</th>\n",
       "      <td>105194</td>\n",
       "      <td>2023-05-16 08:27:12.760003</td>\n",
       "      <td>4.00</td>\n",
       "    </tr>\n",
       "    <tr>\n",
       "      <th>3</th>\n",
       "      <td>991914</td>\n",
       "      <td>2023-05-16 09:06:38.315003</td>\n",
       "      <td>2.00</td>\n",
       "    </tr>\n",
       "    <tr>\n",
       "      <th>4</th>\n",
       "      <td>991914</td>\n",
       "      <td>2023-05-16 09:09:39.832003</td>\n",
       "      <td>3.00</td>\n",
       "    </tr>\n",
       "  </tbody>\n",
       "</table>\n",
       "</div>"
      ],
      "text/plain": [
       "   user_id                        time  level\n",
       "0   105194  2023-05-16 08:22:12.799003   2.00\n",
       "1   105194  2023-05-16 08:26:42.405003   3.00\n",
       "2   105194  2023-05-16 08:27:12.760003   4.00\n",
       "3   991914  2023-05-16 09:06:38.315003   2.00\n",
       "4   991914  2023-05-16 09:09:39.832003   3.00"
      ]
     },
     "execution_count": 20,
     "metadata": {},
     "output_type": "execute_result"
    }
   ],
   "source": [
    "# user_id - id пользователя\n",
    "# time - время события\n",
    "# level - номер полученного игроком уровня\n",
    "levels = pd.read_csv('../projects/levels.csv', index_col=[0])\n",
    "levels.head()"
   ]
  },
  {
   "cell_type": "code",
   "execution_count": 21,
   "id": "cleared-translator",
   "metadata": {
    "id": "differential-arrival",
    "outputId": "d6e2c925-a95b-443f-d4dd-689a0254c19e"
   },
   "outputs": [
    {
     "name": "stdout",
     "output_type": "stream",
     "text": [
      "<class 'pandas.core.frame.DataFrame'>\n",
      "Int64Index: 130623 entries, 0 to 130629\n",
      "Data columns (total 3 columns):\n",
      " #   Column   Non-Null Count   Dtype  \n",
      "---  ------   --------------   -----  \n",
      " 0   user_id  130623 non-null  int64  \n",
      " 1   time     130623 non-null  object \n",
      " 2   level    130623 non-null  float64\n",
      "dtypes: float64(1), int64(1), object(1)\n",
      "memory usage: 4.0+ MB\n"
     ]
    }
   ],
   "source": [
    "levels.info()"
   ]
  },
  {
   "cell_type": "code",
   "execution_count": 22,
   "id": "persistent-stereo",
   "metadata": {
    "id": "challenging-devil",
    "outputId": "ecb352f7-f20f-4a02-98e4-3ce37e6f33e3"
   },
   "outputs": [
    {
     "name": "stdout",
     "output_type": "stream",
     "text": [
      "<class 'pandas.core.frame.DataFrame'>\n",
      "Int64Index: 130623 entries, 0 to 130629\n",
      "Data columns (total 4 columns):\n",
      " #   Column   Non-Null Count   Dtype         \n",
      "---  ------   --------------   -----         \n",
      " 0   user_id  130623 non-null  int64         \n",
      " 1   time     130623 non-null  datetime64[ns]\n",
      " 2   level    130623 non-null  float64       \n",
      " 3   time_dt  130623 non-null  datetime64[ns]\n",
      "dtypes: datetime64[ns](2), float64(1), int64(1)\n",
      "memory usage: 5.0 MB\n"
     ]
    }
   ],
   "source": [
    "# переводим в формат дат, округляем до секунд\n",
    "levels['time'] = pd.to_datetime(levels['time'], format='%Y-%m-%d %H:%M:%S').astype('datetime64[s]')\n",
    "levels['time_dt'] = levels['time'].astype('datetime64[D]')\n",
    "levels.info()"
   ]
  },
  {
   "cell_type": "code",
   "execution_count": 23,
   "id": "answering-province",
   "metadata": {
    "id": "latest-belgium",
    "outputId": "4c714bdb-b15e-42b4-ba1d-f3f2d4b1bd61"
   },
   "outputs": [
    {
     "data": {
      "text/html": [
       "<div>\n",
       "<style scoped>\n",
       "    .dataframe tbody tr th:only-of-type {\n",
       "        vertical-align: middle;\n",
       "    }\n",
       "\n",
       "    .dataframe tbody tr th {\n",
       "        vertical-align: top;\n",
       "    }\n",
       "\n",
       "    .dataframe thead th {\n",
       "        text-align: right;\n",
       "    }\n",
       "</style>\n",
       "<table border=\"1\" class=\"dataframe\">\n",
       "  <thead>\n",
       "    <tr style=\"text-align: right;\">\n",
       "      <th></th>\n",
       "      <th>user_id</th>\n",
       "      <th>time</th>\n",
       "      <th>level</th>\n",
       "      <th>time_dt</th>\n",
       "    </tr>\n",
       "  </thead>\n",
       "  <tbody>\n",
       "    <tr>\n",
       "      <th>0</th>\n",
       "      <td>105194</td>\n",
       "      <td>2023-05-16 08:22:12</td>\n",
       "      <td>2.00</td>\n",
       "      <td>2023-05-16</td>\n",
       "    </tr>\n",
       "    <tr>\n",
       "      <th>1</th>\n",
       "      <td>105194</td>\n",
       "      <td>2023-05-16 08:26:42</td>\n",
       "      <td>3.00</td>\n",
       "      <td>2023-05-16</td>\n",
       "    </tr>\n",
       "    <tr>\n",
       "      <th>2</th>\n",
       "      <td>105194</td>\n",
       "      <td>2023-05-16 08:27:12</td>\n",
       "      <td>4.00</td>\n",
       "      <td>2023-05-16</td>\n",
       "    </tr>\n",
       "    <tr>\n",
       "      <th>3</th>\n",
       "      <td>991914</td>\n",
       "      <td>2023-05-16 09:06:38</td>\n",
       "      <td>2.00</td>\n",
       "      <td>2023-05-16</td>\n",
       "    </tr>\n",
       "    <tr>\n",
       "      <th>4</th>\n",
       "      <td>991914</td>\n",
       "      <td>2023-05-16 09:09:39</td>\n",
       "      <td>3.00</td>\n",
       "      <td>2023-05-16</td>\n",
       "    </tr>\n",
       "  </tbody>\n",
       "</table>\n",
       "</div>"
      ],
      "text/plain": [
       "   user_id                time  level    time_dt\n",
       "0   105194 2023-05-16 08:22:12   2.00 2023-05-16\n",
       "1   105194 2023-05-16 08:26:42   3.00 2023-05-16\n",
       "2   105194 2023-05-16 08:27:12   4.00 2023-05-16\n",
       "3   991914 2023-05-16 09:06:38   2.00 2023-05-16\n",
       "4   991914 2023-05-16 09:09:39   3.00 2023-05-16"
      ]
     },
     "execution_count": 23,
     "metadata": {},
     "output_type": "execute_result"
    }
   ],
   "source": [
    "levels.head()"
   ]
  },
  {
   "cell_type": "code",
   "execution_count": 24,
   "id": "latin-mileage",
   "metadata": {
    "id": "danish-circle",
    "outputId": "f95ed336-ebb6-4dba-ef00-0d82936d0be2"
   },
   "outputs": [
    {
     "data": {
      "text/plain": [
       "25545"
      ]
     },
     "execution_count": 24,
     "metadata": {},
     "output_type": "execute_result"
    }
   ],
   "source": [
    "# количество пользователей, которые подняли уровень\n",
    "levels['user_id'].nunique()"
   ]
  },
  {
   "cell_type": "code",
   "execution_count": 25,
   "id": "appreciated-covering",
   "metadata": {
    "id": "timely-counter",
    "outputId": "33baf619-88fb-442c-af05-871ed2ec835c"
   },
   "outputs": [
    {
     "data": {
      "text/plain": [
       "array([ 2.,  3.,  4.,  5.,  6.,  7.,  8.,  9., 10., 11., 12., 13., 14.,\n",
       "       15., 16., 17., 18., 19., 20., 21.])"
      ]
     },
     "execution_count": 25,
     "metadata": {},
     "output_type": "execute_result"
    }
   ],
   "source": [
    "# уровни\n",
    "levels['level'].unique()"
   ]
  },
  {
   "cell_type": "code",
   "execution_count": 26,
   "id": "mediterranean-webmaster",
   "metadata": {
    "id": "worldwide-attendance",
    "outputId": "d2261075-e0c7-44cc-c46b-515db8f32d17"
   },
   "outputs": [
    {
     "data": {
      "text/plain": [
       "5.113446858485027"
      ]
     },
     "execution_count": 26,
     "metadata": {},
     "output_type": "execute_result"
    }
   ],
   "source": [
    "# в среднем, 5 поднятий уровня на пользователя\n",
    "levels.groupby('user_id')['user_id'].count().mean()"
   ]
  },
  {
   "cell_type": "markdown",
   "id": "mounted-butterfly",
   "metadata": {
    "id": "adaptive-asthma"
   },
   "source": [
    "В среднем, 5 поднятий уровня на пользователя"
   ]
  },
  {
   "cell_type": "code",
   "execution_count": 27,
   "id": "hazardous-transaction",
   "metadata": {
    "id": "identical-george",
    "outputId": "3fd0e2e9-c683-4d13-bf73-de50e1990456"
   },
   "outputs": [
    {
     "data": {
      "text/html": [
       "<div>\n",
       "<style scoped>\n",
       "    .dataframe tbody tr th:only-of-type {\n",
       "        vertical-align: middle;\n",
       "    }\n",
       "\n",
       "    .dataframe tbody tr th {\n",
       "        vertical-align: top;\n",
       "    }\n",
       "\n",
       "    .dataframe thead th {\n",
       "        text-align: right;\n",
       "    }\n",
       "</style>\n",
       "<table border=\"1\" class=\"dataframe\">\n",
       "  <thead>\n",
       "    <tr style=\"text-align: right;\">\n",
       "      <th></th>\n",
       "      <th>user_id</th>\n",
       "      <th>time</th>\n",
       "      <th>level</th>\n",
       "      <th>time_dt</th>\n",
       "    </tr>\n",
       "  </thead>\n",
       "  <tbody>\n",
       "    <tr>\n",
       "      <th>85398</th>\n",
       "      <td>999975</td>\n",
       "      <td>2023-05-16 23:53:04</td>\n",
       "      <td>2.00</td>\n",
       "      <td>2023-05-16</td>\n",
       "    </tr>\n",
       "    <tr>\n",
       "      <th>85399</th>\n",
       "      <td>999975</td>\n",
       "      <td>2023-05-16 23:56:43</td>\n",
       "      <td>3.00</td>\n",
       "      <td>2023-05-16</td>\n",
       "    </tr>\n",
       "    <tr>\n",
       "      <th>85400</th>\n",
       "      <td>999975</td>\n",
       "      <td>2023-05-17 00:01:46</td>\n",
       "      <td>4.00</td>\n",
       "      <td>2023-05-17</td>\n",
       "    </tr>\n",
       "    <tr>\n",
       "      <th>85401</th>\n",
       "      <td>999975</td>\n",
       "      <td>2023-05-17 05:46:48</td>\n",
       "      <td>5.00</td>\n",
       "      <td>2023-05-17</td>\n",
       "    </tr>\n",
       "    <tr>\n",
       "      <th>85402</th>\n",
       "      <td>999975</td>\n",
       "      <td>2023-05-18 05:58:04</td>\n",
       "      <td>6.00</td>\n",
       "      <td>2023-05-18</td>\n",
       "    </tr>\n",
       "    <tr>\n",
       "      <th>85403</th>\n",
       "      <td>999975</td>\n",
       "      <td>2023-05-18 06:13:52</td>\n",
       "      <td>7.00</td>\n",
       "      <td>2023-05-18</td>\n",
       "    </tr>\n",
       "    <tr>\n",
       "      <th>85404</th>\n",
       "      <td>999975</td>\n",
       "      <td>2023-05-18 08:11:34</td>\n",
       "      <td>8.00</td>\n",
       "      <td>2023-05-18</td>\n",
       "    </tr>\n",
       "  </tbody>\n",
       "</table>\n",
       "</div>"
      ],
      "text/plain": [
       "       user_id                time  level    time_dt\n",
       "85398   999975 2023-05-16 23:53:04   2.00 2023-05-16\n",
       "85399   999975 2023-05-16 23:56:43   3.00 2023-05-16\n",
       "85400   999975 2023-05-17 00:01:46   4.00 2023-05-17\n",
       "85401   999975 2023-05-17 05:46:48   5.00 2023-05-17\n",
       "85402   999975 2023-05-18 05:58:04   6.00 2023-05-18\n",
       "85403   999975 2023-05-18 06:13:52   7.00 2023-05-18\n",
       "85404   999975 2023-05-18 08:11:34   8.00 2023-05-18"
      ]
     },
     "execution_count": 27,
     "metadata": {},
     "output_type": "execute_result"
    }
   ],
   "source": [
    "# история уровней для пользователя 999975 (для наглядности)\n",
    "levels.query('user_id == 999975')"
   ]
  },
  {
   "cell_type": "markdown",
   "id": "spread-subcommittee",
   "metadata": {
    "id": "historical-workshop"
   },
   "source": [
    "## Retention и время, которое ученики проводят в приложении."
   ]
  },
  {
   "cell_type": "markdown",
   "id": "overhead-classic",
   "metadata": {
    "id": "listed-passage"
   },
   "source": [
    "### Основные метрики"
   ]
  },
  {
   "cell_type": "markdown",
   "id": "measured-oregon",
   "metadata": {
    "id": "damaged-buffer"
   },
   "source": [
    "Перед тем, как рассчитать retantion rate, подробнее изучим данные и посмотрим на динамику регистраций учеников, динамику количества активных учеников в приложении и среднее время сессиий."
   ]
  },
  {
   "cell_type": "code",
   "execution_count": 28,
   "id": "infrared-cuisine",
   "metadata": {
    "id": "underlying-earth",
    "outputId": "a40c75a2-31bf-4133-8a2e-62187267747e"
   },
   "outputs": [
    {
     "data": {
      "text/html": [
       "<div>\n",
       "<style scoped>\n",
       "    .dataframe tbody tr th:only-of-type {\n",
       "        vertical-align: middle;\n",
       "    }\n",
       "\n",
       "    .dataframe tbody tr th {\n",
       "        vertical-align: top;\n",
       "    }\n",
       "\n",
       "    .dataframe thead th {\n",
       "        text-align: right;\n",
       "    }\n",
       "</style>\n",
       "<table border=\"1\" class=\"dataframe\">\n",
       "  <thead>\n",
       "    <tr style=\"text-align: right;\">\n",
       "      <th></th>\n",
       "      <th>user_id</th>\n",
       "      <th>reg_time</th>\n",
       "      <th>reg_time_dt</th>\n",
       "    </tr>\n",
       "  </thead>\n",
       "  <tbody>\n",
       "    <tr>\n",
       "      <th>0</th>\n",
       "      <td>439127</td>\n",
       "      <td>2023-05-16 15:47:56</td>\n",
       "      <td>2023-05-16</td>\n",
       "    </tr>\n",
       "    <tr>\n",
       "      <th>1</th>\n",
       "      <td>646681</td>\n",
       "      <td>2023-05-16 16:32:35</td>\n",
       "      <td>2023-05-16</td>\n",
       "    </tr>\n",
       "    <tr>\n",
       "      <th>2</th>\n",
       "      <td>35136</td>\n",
       "      <td>2023-05-16 16:50:14</td>\n",
       "      <td>2023-05-16</td>\n",
       "    </tr>\n",
       "    <tr>\n",
       "      <th>3</th>\n",
       "      <td>933255</td>\n",
       "      <td>2023-05-16 03:28:56</td>\n",
       "      <td>2023-05-16</td>\n",
       "    </tr>\n",
       "    <tr>\n",
       "      <th>4</th>\n",
       "      <td>59440</td>\n",
       "      <td>2023-05-16 06:53:22</td>\n",
       "      <td>2023-05-16</td>\n",
       "    </tr>\n",
       "  </tbody>\n",
       "</table>\n",
       "</div>"
      ],
      "text/plain": [
       "   user_id            reg_time reg_time_dt\n",
       "0   439127 2023-05-16 15:47:56  2023-05-16\n",
       "1   646681 2023-05-16 16:32:35  2023-05-16\n",
       "2    35136 2023-05-16 16:50:14  2023-05-16\n",
       "3   933255 2023-05-16 03:28:56  2023-05-16\n",
       "4    59440 2023-05-16 06:53:22  2023-05-16"
      ]
     },
     "execution_count": 28,
     "metadata": {},
     "output_type": "execute_result"
    }
   ],
   "source": [
    "users.head()"
   ]
  },
  {
   "cell_type": "code",
   "execution_count": 29,
   "id": "induced-chest",
   "metadata": {
    "id": "third-morgan",
    "outputId": "38892f6f-a292-4d34-ee25-ba3ca3a427d5"
   },
   "outputs": [
    {
     "name": "stdout",
     "output_type": "stream",
     "text": [
      "Таблица количества регистраций\n"
     ]
    },
    {
     "data": {
      "text/html": [
       "<div>\n",
       "<style scoped>\n",
       "    .dataframe tbody tr th:only-of-type {\n",
       "        vertical-align: middle;\n",
       "    }\n",
       "\n",
       "    .dataframe tbody tr th {\n",
       "        vertical-align: top;\n",
       "    }\n",
       "\n",
       "    .dataframe thead th {\n",
       "        text-align: right;\n",
       "    }\n",
       "</style>\n",
       "<table border=\"1\" class=\"dataframe\">\n",
       "  <thead>\n",
       "    <tr style=\"text-align: right;\">\n",
       "      <th>reg_time_dt</th>\n",
       "      <th>2023-05-11</th>\n",
       "      <th>2023-05-12</th>\n",
       "      <th>2023-05-13</th>\n",
       "      <th>2023-05-14</th>\n",
       "      <th>2023-05-15</th>\n",
       "      <th>2023-05-16</th>\n",
       "      <th>2023-05-17</th>\n",
       "      <th>2023-05-18</th>\n",
       "      <th>2023-05-19</th>\n",
       "      <th>2023-05-20</th>\n",
       "      <th>2023-05-21</th>\n",
       "    </tr>\n",
       "  </thead>\n",
       "  <tbody>\n",
       "    <tr>\n",
       "      <th>user_id</th>\n",
       "      <td>348</td>\n",
       "      <td>409</td>\n",
       "      <td>551</td>\n",
       "      <td>1208</td>\n",
       "      <td>4017</td>\n",
       "      <td>8333</td>\n",
       "      <td>7234</td>\n",
       "      <td>5476</td>\n",
       "      <td>1624</td>\n",
       "      <td>1783</td>\n",
       "      <td>131</td>\n",
       "    </tr>\n",
       "  </tbody>\n",
       "</table>\n",
       "</div>"
      ],
      "text/plain": [
       "reg_time_dt  2023-05-11  2023-05-12  2023-05-13  2023-05-14  2023-05-15  \\\n",
       "user_id             348         409         551        1208        4017   \n",
       "\n",
       "reg_time_dt  2023-05-16  2023-05-17  2023-05-18  2023-05-19  2023-05-20  \\\n",
       "user_id            8333        7234        5476        1624        1783   \n",
       "\n",
       "reg_time_dt  2023-05-21  \n",
       "user_id             131  "
      ]
     },
     "execution_count": 29,
     "metadata": {},
     "output_type": "execute_result"
    }
   ],
   "source": [
    "#users['reg_time_dt'] = users['reg_time'].dt.date  # astype('datetime64[D]')\n",
    "print('Таблица количества регистраций')\n",
    "users.pivot_table(\n",
    "    index='reg_time_dt',  # даты регистраций\n",
    "    values='user_id',  # id пользователей\n",
    "    aggfunc='nunique',  # подсчёт уникальных значений\n",
    ").T"
   ]
  },
  {
   "cell_type": "code",
   "execution_count": 30,
   "id": "compound-treaty",
   "metadata": {
    "id": "perfect-hunter",
    "outputId": "63b30339-5fbf-4675-82d7-3ac2b4dbcccd"
   },
   "outputs": [
    {
     "data": {
      "image/png": "[encoded data removed]",
      "text/plain": [
       "<Figure size 1080x360 with 1 Axes>"
      ]
     },
     "metadata": {
      "needs_background": "light"
     },
     "output_type": "display_data"
    }
   ],
   "source": [
    "#users['reg_time_dt'] = users['reg_time'].dt.date  # astype('datetime64[D]')\n",
    "users.pivot_table(\n",
    "    index='reg_time_dt',  # даты регистраций\n",
    "    values='user_id',  # id пользователей\n",
    "    aggfunc='nunique',  # подсчёт уникальных значений\n",
    ").plot(figsize=(15, 5), grid=True)\n",
    "\n",
    "plt.title('Динамика регистраций')\n",
    "sns.despine()\n",
    "plt.show()"
   ]
  },
  {
   "cell_type": "markdown",
   "id": "musical-drilling",
   "metadata": {
    "id": "convinced-aggregate"
   },
   "source": [
    "Динамика регистраций новых пользователей нестабильна - с 13 мая начинается активный рост, 16 мая - пик активности, после которого наблюдается интенсивный спад. 21 мая количество регистраций стремится к нулю."
   ]
  },
  {
   "cell_type": "code",
   "execution_count": 31,
   "id": "addressed-ontario",
   "metadata": {
    "id": "judicial-asian",
    "outputId": "dea83248-f842-4429-feb5-350b673e9a20"
   },
   "outputs": [
    {
     "data": {
      "text/html": [
       "<div>\n",
       "<style scoped>\n",
       "    .dataframe tbody tr th:only-of-type {\n",
       "        vertical-align: middle;\n",
       "    }\n",
       "\n",
       "    .dataframe tbody tr th {\n",
       "        vertical-align: top;\n",
       "    }\n",
       "\n",
       "    .dataframe thead th {\n",
       "        text-align: right;\n",
       "    }\n",
       "</style>\n",
       "<table border=\"1\" class=\"dataframe\">\n",
       "  <thead>\n",
       "    <tr style=\"text-align: right;\">\n",
       "      <th></th>\n",
       "      <th>user_id</th>\n",
       "      <th>open_time</th>\n",
       "      <th>close_time</th>\n",
       "    </tr>\n",
       "  </thead>\n",
       "  <tbody>\n",
       "    <tr>\n",
       "      <th>0</th>\n",
       "      <td>875013</td>\n",
       "      <td>2023-05-16 05:06:09</td>\n",
       "      <td>2023-05-16 05:17:59</td>\n",
       "    </tr>\n",
       "    <tr>\n",
       "      <th>1</th>\n",
       "      <td>138278</td>\n",
       "      <td>2023-05-16 06:47:34</td>\n",
       "      <td>2023-05-16 06:48:24</td>\n",
       "    </tr>\n",
       "    <tr>\n",
       "      <th>2</th>\n",
       "      <td>138278</td>\n",
       "      <td>2023-05-18 01:07:58</td>\n",
       "      <td>2023-05-18 01:44:40</td>\n",
       "    </tr>\n",
       "    <tr>\n",
       "      <th>3</th>\n",
       "      <td>138278</td>\n",
       "      <td>2023-05-18 04:51:06</td>\n",
       "      <td>2023-05-18 05:02:58</td>\n",
       "    </tr>\n",
       "    <tr>\n",
       "      <th>4</th>\n",
       "      <td>138278</td>\n",
       "      <td>2023-05-19 05:46:19</td>\n",
       "      <td>2023-05-19 05:58:32</td>\n",
       "    </tr>\n",
       "  </tbody>\n",
       "</table>\n",
       "</div>"
      ],
      "text/plain": [
       "   user_id           open_time          close_time\n",
       "0   875013 2023-05-16 05:06:09 2023-05-16 05:17:59\n",
       "1   138278 2023-05-16 06:47:34 2023-05-16 06:48:24\n",
       "2   138278 2023-05-18 01:07:58 2023-05-18 01:44:40\n",
       "3   138278 2023-05-18 04:51:06 2023-05-18 05:02:58\n",
       "4   138278 2023-05-19 05:46:19 2023-05-19 05:58:32"
      ]
     },
     "execution_count": 31,
     "metadata": {},
     "output_type": "execute_result"
    }
   ],
   "source": [
    "sessions.head()"
   ]
  },
  {
   "cell_type": "code",
   "execution_count": 32,
   "id": "preliminary-community",
   "metadata": {
    "id": "helpful-fountain",
    "outputId": "8873b18b-7f35-4dfc-bc8e-00857ccd3b62"
   },
   "outputs": [
    {
     "data": {
      "text/html": [
       "<div>\n",
       "<style scoped>\n",
       "    .dataframe tbody tr th:only-of-type {\n",
       "        vertical-align: middle;\n",
       "    }\n",
       "\n",
       "    .dataframe tbody tr th {\n",
       "        vertical-align: top;\n",
       "    }\n",
       "\n",
       "    .dataframe thead th {\n",
       "        text-align: right;\n",
       "    }\n",
       "</style>\n",
       "<table border=\"1\" class=\"dataframe\">\n",
       "  <thead>\n",
       "    <tr style=\"text-align: right;\">\n",
       "      <th></th>\n",
       "      <th>user_id</th>\n",
       "      <th>open_time</th>\n",
       "      <th>close_time</th>\n",
       "      <th>open_time_dt</th>\n",
       "      <th>duration</th>\n",
       "    </tr>\n",
       "  </thead>\n",
       "  <tbody>\n",
       "    <tr>\n",
       "      <th>0</th>\n",
       "      <td>875013</td>\n",
       "      <td>2023-05-16 05:06:09</td>\n",
       "      <td>2023-05-16 05:17:59</td>\n",
       "      <td>2023-05-16</td>\n",
       "      <td>11.00</td>\n",
       "    </tr>\n",
       "    <tr>\n",
       "      <th>1</th>\n",
       "      <td>138278</td>\n",
       "      <td>2023-05-16 06:47:34</td>\n",
       "      <td>2023-05-16 06:48:24</td>\n",
       "      <td>2023-05-16</td>\n",
       "      <td>0.00</td>\n",
       "    </tr>\n",
       "    <tr>\n",
       "      <th>2</th>\n",
       "      <td>138278</td>\n",
       "      <td>2023-05-18 01:07:58</td>\n",
       "      <td>2023-05-18 01:44:40</td>\n",
       "      <td>2023-05-18</td>\n",
       "      <td>36.00</td>\n",
       "    </tr>\n",
       "    <tr>\n",
       "      <th>3</th>\n",
       "      <td>138278</td>\n",
       "      <td>2023-05-18 04:51:06</td>\n",
       "      <td>2023-05-18 05:02:58</td>\n",
       "      <td>2023-05-18</td>\n",
       "      <td>11.00</td>\n",
       "    </tr>\n",
       "    <tr>\n",
       "      <th>4</th>\n",
       "      <td>138278</td>\n",
       "      <td>2023-05-19 05:46:19</td>\n",
       "      <td>2023-05-19 05:58:32</td>\n",
       "      <td>2023-05-19</td>\n",
       "      <td>12.00</td>\n",
       "    </tr>\n",
       "  </tbody>\n",
       "</table>\n",
       "</div>"
      ],
      "text/plain": [
       "   user_id           open_time          close_time open_time_dt  duration\n",
       "0   875013 2023-05-16 05:06:09 2023-05-16 05:17:59   2023-05-16     11.00\n",
       "1   138278 2023-05-16 06:47:34 2023-05-16 06:48:24   2023-05-16      0.00\n",
       "2   138278 2023-05-18 01:07:58 2023-05-18 01:44:40   2023-05-18     36.00\n",
       "3   138278 2023-05-18 04:51:06 2023-05-18 05:02:58   2023-05-18     11.00\n",
       "4   138278 2023-05-19 05:46:19 2023-05-19 05:58:32   2023-05-19     12.00"
      ]
     },
     "execution_count": 32,
     "metadata": {},
     "output_type": "execute_result"
    }
   ],
   "source": [
    "# чтобы корректно рассчитать лайфтайм\n",
    "# (новый лайфтайм начинается с новой даты (т.е. на следующий день), а не через 24 ч),\n",
    "# получим даты с округлением до дня\n",
    "sessions['open_time_dt'] = sessions['open_time'].astype('datetime64[D]')\n",
    "# заодно рассчитаем время сессий в минутах\n",
    "sessions['duration'] = (sessions['close_time'] - sessions['open_time']).astype('timedelta64[m]')\n",
    "sessions.head()"
   ]
  },
  {
   "cell_type": "code",
   "execution_count": 33,
   "id": "centered-allergy",
   "metadata": {
    "id": "successful-albuquerque",
    "outputId": "e66d1a3a-2135-42c6-f085-6691aeae52de"
   },
   "outputs": [
    {
     "name": "stdout",
     "output_type": "stream",
     "text": [
      "<class 'pandas.core.frame.DataFrame'>\n",
      "Int64Index: 358004 entries, 0 to 358033\n",
      "Data columns (total 5 columns):\n",
      " #   Column        Non-Null Count   Dtype         \n",
      "---  ------        --------------   -----         \n",
      " 0   user_id       358004 non-null  int64         \n",
      " 1   open_time     358004 non-null  datetime64[ns]\n",
      " 2   close_time    358004 non-null  datetime64[ns]\n",
      " 3   open_time_dt  358004 non-null  datetime64[ns]\n",
      " 4   duration      358004 non-null  float64       \n",
      "dtypes: datetime64[ns](3), float64(1), int64(1)\n",
      "memory usage: 16.4 MB\n"
     ]
    }
   ],
   "source": [
    "sessions.info()"
   ]
  },
  {
   "cell_type": "code",
   "execution_count": 34,
   "id": "partial-combine",
   "metadata": {
    "id": "agreed-northeast",
    "outputId": "b2454fcf-bb3a-409b-f2cf-57613f8e5b46"
   },
   "outputs": [
    {
     "data": {
      "text/html": [
       "<div>\n",
       "<style scoped>\n",
       "    .dataframe tbody tr th:only-of-type {\n",
       "        vertical-align: middle;\n",
       "    }\n",
       "\n",
       "    .dataframe tbody tr th {\n",
       "        vertical-align: top;\n",
       "    }\n",
       "\n",
       "    .dataframe thead th {\n",
       "        text-align: right;\n",
       "    }\n",
       "</style>\n",
       "<table border=\"1\" class=\"dataframe\">\n",
       "  <thead>\n",
       "    <tr style=\"text-align: right;\">\n",
       "      <th></th>\n",
       "      <th>user_id</th>\n",
       "      <th>duration</th>\n",
       "    </tr>\n",
       "    <tr>\n",
       "      <th>open_time_dt</th>\n",
       "      <th></th>\n",
       "      <th></th>\n",
       "    </tr>\n",
       "  </thead>\n",
       "  <tbody>\n",
       "    <tr>\n",
       "      <th>2023-05-11</th>\n",
       "      <td>347</td>\n",
       "      <td>18.22</td>\n",
       "    </tr>\n",
       "    <tr>\n",
       "      <th>2023-05-12</th>\n",
       "      <td>566</td>\n",
       "      <td>14.54</td>\n",
       "    </tr>\n",
       "    <tr>\n",
       "      <th>2023-05-13</th>\n",
       "      <td>859</td>\n",
       "      <td>13.34</td>\n",
       "    </tr>\n",
       "    <tr>\n",
       "      <th>2023-05-14</th>\n",
       "      <td>1673</td>\n",
       "      <td>11.77</td>\n",
       "    </tr>\n",
       "    <tr>\n",
       "      <th>2023-05-15</th>\n",
       "      <td>4758</td>\n",
       "      <td>14.18</td>\n",
       "    </tr>\n",
       "  </tbody>\n",
       "</table>\n",
       "</div>"
      ],
      "text/plain": [
       "              user_id  duration\n",
       "open_time_dt                   \n",
       "2023-05-11        347     18.22\n",
       "2023-05-12        566     14.54\n",
       "2023-05-13        859     13.34\n",
       "2023-05-14       1673     11.77\n",
       "2023-05-15       4758     14.18"
      ]
     },
     "execution_count": 34,
     "metadata": {},
     "output_type": "execute_result"
    }
   ],
   "source": [
    "# рассчитаем кол-во учеников в приложении и среднее время сессии по дням\n",
    "duration = sessions.groupby('open_time_dt').agg({'user_id':'nunique', 'duration':'mean'})\n",
    "duration.head()"
   ]
  },
  {
   "cell_type": "code",
   "execution_count": 35,
   "id": "cosmetic-battle",
   "metadata": {
    "id": "dutch-david",
    "outputId": "8cf7a700-3796-4ac2-c9fb-7121b4d079b6"
   },
   "outputs": [
    {
     "data": {
      "image/png": "[encoded data removed]",
      "text/plain": [
       "<Figure size 864x360 with 2 Axes>"
      ]
     },
     "metadata": {
      "needs_background": "light"
     },
     "output_type": "display_data"
    }
   ],
   "source": [
    "fig, ax = plt.subplots(figsize=(12, 5))\n",
    "\n",
    "sns.lineplot(data=duration, x=duration.index, y=duration['duration'], color='orange', label='Время, мин.')\n",
    "ax.set_ylabel('Время, мин.')\n",
    "ax.legend(bbox_to_anchor=(0.87, 1, 0, 0), frameon=False) # координаты размещения легенды\n",
    "ax.grid()\n",
    "ax.set_ylim(bottom=0)\n",
    "\n",
    "ax2 = ax.twinx()\n",
    "ax2.plot(duration.index, duration['user_id'], label='Ученики')\n",
    "#sns.lineplot(data=duration, x=duration.index,y= duration['user_id'], label='Ученики', ax=ax2)\n",
    "ax2.set_ylabel('Ученики')\n",
    "ax2.legend(frameon=False) # убрать border для легенды\n",
    "ax2.set_ylim(bottom=0)\n",
    "\n",
    "plt.title('Количество учеников и среднее время в приложении')\n",
    "sns.despine(right=False)\n",
    "plt.show()"
   ]
  },
  {
   "cell_type": "markdown",
   "id": "numerous-guest",
   "metadata": {
    "id": "faced-angola"
   },
   "source": [
    "Время пребывания в приложении неравномерно: с 11 по 14 мая наблюдается резкий спад, затем среднее время сессии восстанавливается на уровне не менее 14 минут, но с 17 мая снова падает. Более или менее стабильность наступает к 21 мая, после чего время сессии колеблется около отметки в 11 минут. <br>\n",
    "Количество учеников, пребывающих в приложении растет с 11 и 18 мая достигает своего пика - более 12 000. Затем интенсивный спад. К концу периода (29 мая), количество активных участников стремится к нулю."
   ]
  },
  {
   "cell_type": "markdown",
   "id": "shared-nirvana",
   "metadata": {
    "id": "expired-spencer"
   },
   "source": [
    "### Retention rate"
   ]
  },
  {
   "cell_type": "code",
   "execution_count": 36,
   "id": "heavy-graham",
   "metadata": {
    "id": "composed-infection",
    "outputId": "5d3f4287-9629-4bc6-94d3-b796bf8907af"
   },
   "outputs": [
    {
     "data": {
      "text/html": [
       "<div>\n",
       "<style scoped>\n",
       "    .dataframe tbody tr th:only-of-type {\n",
       "        vertical-align: middle;\n",
       "    }\n",
       "\n",
       "    .dataframe tbody tr th {\n",
       "        vertical-align: top;\n",
       "    }\n",
       "\n",
       "    .dataframe thead th {\n",
       "        text-align: right;\n",
       "    }\n",
       "</style>\n",
       "<table border=\"1\" class=\"dataframe\">\n",
       "  <thead>\n",
       "    <tr style=\"text-align: right;\">\n",
       "      <th></th>\n",
       "      <th>user_id</th>\n",
       "      <th>reg_time</th>\n",
       "      <th>reg_time_dt</th>\n",
       "      <th>open_time</th>\n",
       "      <th>close_time</th>\n",
       "      <th>open_time_dt</th>\n",
       "      <th>duration</th>\n",
       "    </tr>\n",
       "  </thead>\n",
       "  <tbody>\n",
       "    <tr>\n",
       "      <th>0</th>\n",
       "      <td>439127</td>\n",
       "      <td>2023-05-16 15:47:56</td>\n",
       "      <td>2023-05-16</td>\n",
       "      <td>2023-05-16 15:47:56</td>\n",
       "      <td>2023-05-16 16:55:15</td>\n",
       "      <td>2023-05-16</td>\n",
       "      <td>67.00</td>\n",
       "    </tr>\n",
       "    <tr>\n",
       "      <th>1</th>\n",
       "      <td>439127</td>\n",
       "      <td>2023-05-16 15:47:56</td>\n",
       "      <td>2023-05-16</td>\n",
       "      <td>2023-05-17 02:16:58</td>\n",
       "      <td>2023-05-17 02:52:27</td>\n",
       "      <td>2023-05-17</td>\n",
       "      <td>35.00</td>\n",
       "    </tr>\n",
       "    <tr>\n",
       "      <th>2</th>\n",
       "      <td>439127</td>\n",
       "      <td>2023-05-16 15:47:56</td>\n",
       "      <td>2023-05-16</td>\n",
       "      <td>2023-05-17 03:18:01</td>\n",
       "      <td>2023-05-17 03:35:25</td>\n",
       "      <td>2023-05-17</td>\n",
       "      <td>17.00</td>\n",
       "    </tr>\n",
       "    <tr>\n",
       "      <th>3</th>\n",
       "      <td>439127</td>\n",
       "      <td>2023-05-16 15:47:56</td>\n",
       "      <td>2023-05-16</td>\n",
       "      <td>2023-05-17 04:25:57</td>\n",
       "      <td>2023-05-17 04:40:43</td>\n",
       "      <td>2023-05-17</td>\n",
       "      <td>14.00</td>\n",
       "    </tr>\n",
       "    <tr>\n",
       "      <th>4</th>\n",
       "      <td>439127</td>\n",
       "      <td>2023-05-16 15:47:56</td>\n",
       "      <td>2023-05-16</td>\n",
       "      <td>2023-05-17 10:22:22</td>\n",
       "      <td>2023-05-17 10:33:00</td>\n",
       "      <td>2023-05-17</td>\n",
       "      <td>10.00</td>\n",
       "    </tr>\n",
       "  </tbody>\n",
       "</table>\n",
       "</div>"
      ],
      "text/plain": [
       "   user_id            reg_time reg_time_dt           open_time  \\\n",
       "0   439127 2023-05-16 15:47:56  2023-05-16 2023-05-16 15:47:56   \n",
       "1   439127 2023-05-16 15:47:56  2023-05-16 2023-05-17 02:16:58   \n",
       "2   439127 2023-05-16 15:47:56  2023-05-16 2023-05-17 03:18:01   \n",
       "3   439127 2023-05-16 15:47:56  2023-05-16 2023-05-17 04:25:57   \n",
       "4   439127 2023-05-16 15:47:56  2023-05-16 2023-05-17 10:22:22   \n",
       "\n",
       "           close_time open_time_dt  duration  \n",
       "0 2023-05-16 16:55:15   2023-05-16     67.00  \n",
       "1 2023-05-17 02:52:27   2023-05-17     35.00  \n",
       "2 2023-05-17 03:35:25   2023-05-17     17.00  \n",
       "3 2023-05-17 04:40:43   2023-05-17     14.00  \n",
       "4 2023-05-17 10:33:00   2023-05-17     10.00  "
      ]
     },
     "execution_count": 36,
     "metadata": {},
     "output_type": "execute_result"
    }
   ],
   "source": [
    "# объединим таблицы регистраций и сессий\n",
    "users_sessions = users.merge(sessions, on='user_id', how='left')\n",
    "users_sessions.head()"
   ]
  },
  {
   "cell_type": "code",
   "execution_count": 37,
   "id": "destroyed-irrigation",
   "metadata": {
    "id": "linear-butterfly",
    "outputId": "e7c182bd-3053-4adf-bde6-d819c3c16982"
   },
   "outputs": [
    {
     "data": {
      "text/html": [
       "<div>\n",
       "<style scoped>\n",
       "    .dataframe tbody tr th:only-of-type {\n",
       "        vertical-align: middle;\n",
       "    }\n",
       "\n",
       "    .dataframe tbody tr th {\n",
       "        vertical-align: top;\n",
       "    }\n",
       "\n",
       "    .dataframe thead th {\n",
       "        text-align: right;\n",
       "    }\n",
       "</style>\n",
       "<table border=\"1\" class=\"dataframe\">\n",
       "  <thead>\n",
       "    <tr style=\"text-align: right;\">\n",
       "      <th></th>\n",
       "      <th>user_id</th>\n",
       "      <th>reg_time</th>\n",
       "      <th>reg_time_dt</th>\n",
       "      <th>open_time</th>\n",
       "      <th>close_time</th>\n",
       "      <th>open_time_dt</th>\n",
       "      <th>duration</th>\n",
       "    </tr>\n",
       "  </thead>\n",
       "  <tbody>\n",
       "    <tr>\n",
       "      <th>21809</th>\n",
       "      <td>629905</td>\n",
       "      <td>2023-05-16 15:32:51</td>\n",
       "      <td>2023-05-16</td>\n",
       "      <td>NaT</td>\n",
       "      <td>NaT</td>\n",
       "      <td>NaT</td>\n",
       "      <td>NaN</td>\n",
       "    </tr>\n",
       "    <tr>\n",
       "      <th>50698</th>\n",
       "      <td>661898</td>\n",
       "      <td>2023-05-18 08:32:24</td>\n",
       "      <td>2023-05-18</td>\n",
       "      <td>NaT</td>\n",
       "      <td>NaT</td>\n",
       "      <td>NaT</td>\n",
       "      <td>NaN</td>\n",
       "    </tr>\n",
       "    <tr>\n",
       "      <th>81098</th>\n",
       "      <td>815414</td>\n",
       "      <td>2023-05-17 07:41:40</td>\n",
       "      <td>2023-05-17</td>\n",
       "      <td>NaT</td>\n",
       "      <td>NaT</td>\n",
       "      <td>NaT</td>\n",
       "      <td>NaN</td>\n",
       "    </tr>\n",
       "    <tr>\n",
       "      <th>124449</th>\n",
       "      <td>117206</td>\n",
       "      <td>2023-05-17 04:21:31</td>\n",
       "      <td>2023-05-17</td>\n",
       "      <td>NaT</td>\n",
       "      <td>NaT</td>\n",
       "      <td>NaT</td>\n",
       "      <td>NaN</td>\n",
       "    </tr>\n",
       "    <tr>\n",
       "      <th>125443</th>\n",
       "      <td>637623</td>\n",
       "      <td>2023-05-17 22:10:49</td>\n",
       "      <td>2023-05-17</td>\n",
       "      <td>NaT</td>\n",
       "      <td>NaT</td>\n",
       "      <td>NaT</td>\n",
       "      <td>NaN</td>\n",
       "    </tr>\n",
       "  </tbody>\n",
       "</table>\n",
       "</div>"
      ],
      "text/plain": [
       "        user_id            reg_time reg_time_dt open_time close_time  \\\n",
       "21809    629905 2023-05-16 15:32:51  2023-05-16       NaT        NaT   \n",
       "50698    661898 2023-05-18 08:32:24  2023-05-18       NaT        NaT   \n",
       "81098    815414 2023-05-17 07:41:40  2023-05-17       NaT        NaT   \n",
       "124449   117206 2023-05-17 04:21:31  2023-05-17       NaT        NaT   \n",
       "125443   637623 2023-05-17 22:10:49  2023-05-17       NaT        NaT   \n",
       "\n",
       "       open_time_dt  duration  \n",
       "21809           NaT       NaN  \n",
       "50698           NaT       NaN  \n",
       "81098           NaT       NaN  \n",
       "124449          NaT       NaN  \n",
       "125443          NaT       NaN  "
      ]
     },
     "execution_count": 37,
     "metadata": {},
     "output_type": "execute_result"
    }
   ],
   "source": [
    "# при объединении таблиц образовались пропуски в данных\n",
    "# т.к. не для всех зарегистрированных пользователей были зафиксированы сессии\n",
    "users_sessions.query(\"open_time.isna()\").head()"
   ]
  },
  {
   "cell_type": "code",
   "execution_count": 38,
   "id": "human-payment",
   "metadata": {
    "id": "genetic-million",
    "outputId": "4eee237a-286d-46fb-ded1-3a9c902a52aa"
   },
   "outputs": [
    {
     "data": {
      "text/plain": [
       "user_id         44\n",
       "reg_time        44\n",
       "reg_time_dt     44\n",
       "open_time        0\n",
       "close_time       0\n",
       "open_time_dt     0\n",
       "duration         0\n",
       "dtype: int64"
      ]
     },
     "execution_count": 38,
     "metadata": {},
     "output_type": "execute_result"
    }
   ],
   "source": [
    "# расхождение в 44 пользователя\n",
    "users_sessions.query(\"open_time.isna()\").count()"
   ]
  },
  {
   "cell_type": "code",
   "execution_count": 39,
   "id": "occasional-consequence",
   "metadata": {
    "id": "surface-pressure",
    "outputId": "1c5acef3-1714-45e5-df8f-31f99a04e9f0"
   },
   "outputs": [
    {
     "data": {
      "text/html": [
       "<div>\n",
       "<style scoped>\n",
       "    .dataframe tbody tr th:only-of-type {\n",
       "        vertical-align: middle;\n",
       "    }\n",
       "\n",
       "    .dataframe tbody tr th {\n",
       "        vertical-align: top;\n",
       "    }\n",
       "\n",
       "    .dataframe thead th {\n",
       "        text-align: right;\n",
       "    }\n",
       "</style>\n",
       "<table border=\"1\" class=\"dataframe\">\n",
       "  <thead>\n",
       "    <tr style=\"text-align: right;\">\n",
       "      <th></th>\n",
       "      <th>user_id</th>\n",
       "      <th>reg_time</th>\n",
       "      <th>reg_time_dt</th>\n",
       "      <th>open_time</th>\n",
       "      <th>close_time</th>\n",
       "      <th>open_time_dt</th>\n",
       "      <th>duration</th>\n",
       "      <th>lifetime</th>\n",
       "    </tr>\n",
       "  </thead>\n",
       "  <tbody>\n",
       "    <tr>\n",
       "      <th>0</th>\n",
       "      <td>439127</td>\n",
       "      <td>2023-05-16 15:47:56</td>\n",
       "      <td>2023-05-16</td>\n",
       "      <td>2023-05-16 15:47:56</td>\n",
       "      <td>2023-05-16 16:55:15</td>\n",
       "      <td>2023-05-16</td>\n",
       "      <td>67.00</td>\n",
       "      <td>0.00</td>\n",
       "    </tr>\n",
       "    <tr>\n",
       "      <th>1</th>\n",
       "      <td>439127</td>\n",
       "      <td>2023-05-16 15:47:56</td>\n",
       "      <td>2023-05-16</td>\n",
       "      <td>2023-05-17 02:16:58</td>\n",
       "      <td>2023-05-17 02:52:27</td>\n",
       "      <td>2023-05-17</td>\n",
       "      <td>35.00</td>\n",
       "      <td>1.00</td>\n",
       "    </tr>\n",
       "    <tr>\n",
       "      <th>2</th>\n",
       "      <td>439127</td>\n",
       "      <td>2023-05-16 15:47:56</td>\n",
       "      <td>2023-05-16</td>\n",
       "      <td>2023-05-17 03:18:01</td>\n",
       "      <td>2023-05-17 03:35:25</td>\n",
       "      <td>2023-05-17</td>\n",
       "      <td>17.00</td>\n",
       "      <td>1.00</td>\n",
       "    </tr>\n",
       "    <tr>\n",
       "      <th>3</th>\n",
       "      <td>439127</td>\n",
       "      <td>2023-05-16 15:47:56</td>\n",
       "      <td>2023-05-16</td>\n",
       "      <td>2023-05-17 04:25:57</td>\n",
       "      <td>2023-05-17 04:40:43</td>\n",
       "      <td>2023-05-17</td>\n",
       "      <td>14.00</td>\n",
       "      <td>1.00</td>\n",
       "    </tr>\n",
       "    <tr>\n",
       "      <th>4</th>\n",
       "      <td>439127</td>\n",
       "      <td>2023-05-16 15:47:56</td>\n",
       "      <td>2023-05-16</td>\n",
       "      <td>2023-05-17 10:22:22</td>\n",
       "      <td>2023-05-17 10:33:00</td>\n",
       "      <td>2023-05-17</td>\n",
       "      <td>10.00</td>\n",
       "      <td>1.00</td>\n",
       "    </tr>\n",
       "  </tbody>\n",
       "</table>\n",
       "</div>"
      ],
      "text/plain": [
       "   user_id            reg_time reg_time_dt           open_time  \\\n",
       "0   439127 2023-05-16 15:47:56  2023-05-16 2023-05-16 15:47:56   \n",
       "1   439127 2023-05-16 15:47:56  2023-05-16 2023-05-17 02:16:58   \n",
       "2   439127 2023-05-16 15:47:56  2023-05-16 2023-05-17 03:18:01   \n",
       "3   439127 2023-05-16 15:47:56  2023-05-16 2023-05-17 04:25:57   \n",
       "4   439127 2023-05-16 15:47:56  2023-05-16 2023-05-17 10:22:22   \n",
       "\n",
       "           close_time open_time_dt  duration  lifetime  \n",
       "0 2023-05-16 16:55:15   2023-05-16     67.00      0.00  \n",
       "1 2023-05-17 02:52:27   2023-05-17     35.00      1.00  \n",
       "2 2023-05-17 03:35:25   2023-05-17     17.00      1.00  \n",
       "3 2023-05-17 04:40:43   2023-05-17     14.00      1.00  \n",
       "4 2023-05-17 10:33:00   2023-05-17     10.00      1.00  "
      ]
     },
     "execution_count": 39,
     "metadata": {},
     "output_type": "execute_result"
    }
   ],
   "source": [
    "# посчитаем лайфтайм\n",
    "# пропуски в лайфтайме заменим нулями, приняв время первой сессии за время регистрации\n",
    "# иначе пользователи, у которых после регистрации не было сессий - потеряются\n",
    "users_sessions['lifetime'] = (users_sessions['open_time_dt'] - users_sessions['reg_time_dt']).dt.days\n",
    "users_sessions['lifetime'] = users_sessions['lifetime'].fillna(0)\n",
    "users_sessions.head()"
   ]
  },
  {
   "cell_type": "code",
   "execution_count": 40,
   "id": "appointed-picture",
   "metadata": {
    "id": "numerous-glory",
    "outputId": "d00f24f2-5610-4ead-b763-45339d624177"
   },
   "outputs": [
    {
     "data": {
      "text/plain": [
       "0"
      ]
     },
     "execution_count": 40,
     "metadata": {},
     "output_type": "execute_result"
    }
   ],
   "source": [
    "users_sessions.query(\"lifetime.isna()\")['lifetime'].count()"
   ]
  },
  {
   "cell_type": "code",
   "execution_count": 41,
   "id": "complicated-disabled",
   "metadata": {
    "id": "marked-terrorism",
    "outputId": "c40043f4-fddf-4585-c02b-7a5f580954f7"
   },
   "outputs": [
    {
     "data": {
      "text/plain": [
       "array([ 0.,  1.,  2.,  3.,  4.,  5.,  6.,  7.,  8.,  9., 10., -1.])"
      ]
     },
     "execution_count": 41,
     "metadata": {},
     "output_type": "execute_result"
    }
   ],
   "source": [
    "# проверим лайфтаймы - есть неожиданное значение -1\n",
    "users_sessions['lifetime'].unique()"
   ]
  },
  {
   "cell_type": "code",
   "execution_count": 42,
   "id": "textile-crystal",
   "metadata": {
    "id": "subject-litigation",
    "outputId": "25432823-2304-4f91-ed28-1add85256932"
   },
   "outputs": [
    {
     "data": {
      "text/html": [
       "<div>\n",
       "<style scoped>\n",
       "    .dataframe tbody tr th:only-of-type {\n",
       "        vertical-align: middle;\n",
       "    }\n",
       "\n",
       "    .dataframe tbody tr th {\n",
       "        vertical-align: top;\n",
       "    }\n",
       "\n",
       "    .dataframe thead th {\n",
       "        text-align: right;\n",
       "    }\n",
       "</style>\n",
       "<table border=\"1\" class=\"dataframe\">\n",
       "  <thead>\n",
       "    <tr style=\"text-align: right;\">\n",
       "      <th></th>\n",
       "      <th>user_id</th>\n",
       "      <th>reg_time</th>\n",
       "      <th>reg_time_dt</th>\n",
       "      <th>open_time</th>\n",
       "      <th>close_time</th>\n",
       "      <th>open_time_dt</th>\n",
       "      <th>duration</th>\n",
       "      <th>lifetime</th>\n",
       "    </tr>\n",
       "  </thead>\n",
       "  <tbody>\n",
       "    <tr>\n",
       "      <th>28167</th>\n",
       "      <td>622739</td>\n",
       "      <td>2023-05-17 03:22:17</td>\n",
       "      <td>2023-05-17</td>\n",
       "      <td>2023-05-16 02:05:38</td>\n",
       "      <td>2023-05-16 02:10:55</td>\n",
       "      <td>2023-05-16</td>\n",
       "      <td>5.00</td>\n",
       "      <td>-1.00</td>\n",
       "    </tr>\n",
       "  </tbody>\n",
       "</table>\n",
       "</div>"
      ],
      "text/plain": [
       "       user_id            reg_time reg_time_dt           open_time  \\\n",
       "28167   622739 2023-05-17 03:22:17  2023-05-17 2023-05-16 02:05:38   \n",
       "\n",
       "               close_time open_time_dt  duration  lifetime  \n",
       "28167 2023-05-16 02:10:55   2023-05-16      5.00     -1.00  "
      ]
     },
     "execution_count": 42,
     "metadata": {},
     "output_type": "execute_result"
    }
   ],
   "source": [
    "# -1 - есть регистрации, которые были сделаны позднее момента первой сессии\n",
    "# уточнить, почему в некоторых случаях reg_time > open_time, а в других reg_time < open_time\n",
    "# например, user_id 622739: reg_time - 2023-05-17 03:22:17, open_time - 2023-05-16 02:05:38\n",
    "# как фиксируются регистрации и начало сессий ? каким образом регистрация может быть позднее начала сессии ?\n",
    "users_sessions.query('lifetime < 0')"
   ]
  },
  {
   "cell_type": "code",
   "execution_count": 43,
   "id": "governing-dressing",
   "metadata": {
    "id": "framed-national",
    "outputId": "8037d234-5b89-4ffe-f1f5-5c771a450f57"
   },
   "outputs": [
    {
     "data": {
      "text/plain": [
       "1"
      ]
     },
     "execution_count": 43,
     "metadata": {},
     "output_type": "execute_result"
    }
   ],
   "source": [
    "users_sessions.query('lifetime < 0')['lifetime'].count()"
   ]
  },
  {
   "cell_type": "code",
   "execution_count": 44,
   "id": "variable-detroit",
   "metadata": {
    "id": "legal-kennedy",
    "outputId": "421850fe-9498-49e7-c125-eb8b60787467"
   },
   "outputs": [
    {
     "data": {
      "text/plain": [
       "0"
      ]
     },
     "execution_count": 44,
     "metadata": {},
     "output_type": "execute_result"
    }
   ],
   "source": [
    "# нам нужен retention rate с момента регистрации (reg_time),\n",
    "# поэтому для корректных рассчетов заменим значения lifetime -1 на 0\n",
    "users_sessions['lifetime'] = users_sessions['lifetime'].replace(-1, 0)\n",
    "users_sessions.query('lifetime < 0')['lifetime'].count()"
   ]
  },
  {
   "cell_type": "code",
   "execution_count": 45,
   "id": "loaded-studio",
   "metadata": {
    "id": "confused-grill",
    "outputId": "c6b4f96b-c4aa-46cb-f54c-2b029fe333aa"
   },
   "outputs": [
    {
     "data": {
      "text/plain": [
       "array([ 0.,  1.,  2.,  3.,  4.,  5.,  6.,  7.,  8.,  9., 10.])"
      ]
     },
     "execution_count": 45,
     "metadata": {},
     "output_type": "execute_result"
    }
   ],
   "source": [
    "users_sessions['lifetime'].unique()"
   ]
  },
  {
   "cell_type": "code",
   "execution_count": 46,
   "id": "federal-division",
   "metadata": {
    "id": "permanent-partnership",
    "outputId": "d66afdb7-41a1-441c-89d3-68687ebe4aa5"
   },
   "outputs": [
    {
     "data": {
      "text/html": [
       "<div>\n",
       "<style scoped>\n",
       "    .dataframe tbody tr th:only-of-type {\n",
       "        vertical-align: middle;\n",
       "    }\n",
       "\n",
       "    .dataframe tbody tr th {\n",
       "        vertical-align: top;\n",
       "    }\n",
       "\n",
       "    .dataframe thead th {\n",
       "        text-align: right;\n",
       "    }\n",
       "</style>\n",
       "<table border=\"1\" class=\"dataframe\">\n",
       "  <thead>\n",
       "    <tr style=\"text-align: right;\">\n",
       "      <th>lifetime</th>\n",
       "      <th>0.00</th>\n",
       "      <th>1.00</th>\n",
       "      <th>2.00</th>\n",
       "      <th>3.00</th>\n",
       "      <th>4.00</th>\n",
       "      <th>5.00</th>\n",
       "      <th>6.00</th>\n",
       "      <th>7.00</th>\n",
       "      <th>8.00</th>\n",
       "      <th>9.00</th>\n",
       "      <th>10.00</th>\n",
       "    </tr>\n",
       "    <tr>\n",
       "      <th>reg_time_dt</th>\n",
       "      <th></th>\n",
       "      <th></th>\n",
       "      <th></th>\n",
       "      <th></th>\n",
       "      <th></th>\n",
       "      <th></th>\n",
       "      <th></th>\n",
       "      <th></th>\n",
       "      <th></th>\n",
       "      <th></th>\n",
       "      <th></th>\n",
       "    </tr>\n",
       "  </thead>\n",
       "  <tbody>\n",
       "    <tr>\n",
       "      <th>2023-05-11</th>\n",
       "      <td>348.00</td>\n",
       "      <td>157.00</td>\n",
       "      <td>128.00</td>\n",
       "      <td>105.00</td>\n",
       "      <td>92.00</td>\n",
       "      <td>79.00</td>\n",
       "      <td>83.00</td>\n",
       "      <td>84.00</td>\n",
       "      <td>73.00</td>\n",
       "      <td>65.00</td>\n",
       "      <td>20.00</td>\n",
       "    </tr>\n",
       "    <tr>\n",
       "      <th>2023-05-12</th>\n",
       "      <td>409.00</td>\n",
       "      <td>181.00</td>\n",
       "      <td>142.00</td>\n",
       "      <td>118.00</td>\n",
       "      <td>91.00</td>\n",
       "      <td>95.00</td>\n",
       "      <td>90.00</td>\n",
       "      <td>85.00</td>\n",
       "      <td>76.00</td>\n",
       "      <td>64.00</td>\n",
       "      <td>28.00</td>\n",
       "    </tr>\n",
       "    <tr>\n",
       "      <th>2023-05-13</th>\n",
       "      <td>550.00</td>\n",
       "      <td>224.00</td>\n",
       "      <td>169.00</td>\n",
       "      <td>148.00</td>\n",
       "      <td>130.00</td>\n",
       "      <td>114.00</td>\n",
       "      <td>111.00</td>\n",
       "      <td>99.00</td>\n",
       "      <td>99.00</td>\n",
       "      <td>89.00</td>\n",
       "      <td>33.00</td>\n",
       "    </tr>\n",
       "    <tr>\n",
       "      <th>2023-05-14</th>\n",
       "      <td>1204.00</td>\n",
       "      <td>370.00</td>\n",
       "      <td>261.00</td>\n",
       "      <td>242.00</td>\n",
       "      <td>211.00</td>\n",
       "      <td>198.00</td>\n",
       "      <td>191.00</td>\n",
       "      <td>190.00</td>\n",
       "      <td>150.00</td>\n",
       "      <td>143.00</td>\n",
       "      <td>54.00</td>\n",
       "    </tr>\n",
       "    <tr>\n",
       "      <th>2023-05-15</th>\n",
       "      <td>4016.00</td>\n",
       "      <td>1395.00</td>\n",
       "      <td>1031.00</td>\n",
       "      <td>874.00</td>\n",
       "      <td>756.00</td>\n",
       "      <td>703.00</td>\n",
       "      <td>652.00</td>\n",
       "      <td>610.00</td>\n",
       "      <td>575.00</td>\n",
       "      <td>547.00</td>\n",
       "      <td>298.00</td>\n",
       "    </tr>\n",
       "    <tr>\n",
       "      <th>2023-05-16</th>\n",
       "      <td>8332.00</td>\n",
       "      <td>2735.00</td>\n",
       "      <td>2003.00</td>\n",
       "      <td>1706.00</td>\n",
       "      <td>1521.00</td>\n",
       "      <td>1355.00</td>\n",
       "      <td>1265.00</td>\n",
       "      <td>1207.00</td>\n",
       "      <td>1181.00</td>\n",
       "      <td>1110.00</td>\n",
       "      <td>311.00</td>\n",
       "    </tr>\n",
       "    <tr>\n",
       "      <th>2023-05-17</th>\n",
       "      <td>7230.00</td>\n",
       "      <td>3424.00</td>\n",
       "      <td>2639.00</td>\n",
       "      <td>2258.00</td>\n",
       "      <td>2013.00</td>\n",
       "      <td>1852.00</td>\n",
       "      <td>1701.00</td>\n",
       "      <td>1661.00</td>\n",
       "      <td>1551.00</td>\n",
       "      <td>1459.00</td>\n",
       "      <td>520.00</td>\n",
       "    </tr>\n",
       "    <tr>\n",
       "      <th>2023-05-18</th>\n",
       "      <td>5472.00</td>\n",
       "      <td>2785.00</td>\n",
       "      <td>2200.00</td>\n",
       "      <td>1938.00</td>\n",
       "      <td>1694.00</td>\n",
       "      <td>1533.00</td>\n",
       "      <td>1450.00</td>\n",
       "      <td>1414.00</td>\n",
       "      <td>1351.00</td>\n",
       "      <td>1226.00</td>\n",
       "      <td>196.00</td>\n",
       "    </tr>\n",
       "    <tr>\n",
       "      <th>2023-05-19</th>\n",
       "      <td>1621.00</td>\n",
       "      <td>741.00</td>\n",
       "      <td>601.00</td>\n",
       "      <td>523.00</td>\n",
       "      <td>455.00</td>\n",
       "      <td>459.00</td>\n",
       "      <td>421.00</td>\n",
       "      <td>406.00</td>\n",
       "      <td>359.00</td>\n",
       "      <td>335.00</td>\n",
       "      <td>130.00</td>\n",
       "    </tr>\n",
       "    <tr>\n",
       "      <th>2023-05-20</th>\n",
       "      <td>1780.00</td>\n",
       "      <td>825.00</td>\n",
       "      <td>621.00</td>\n",
       "      <td>519.00</td>\n",
       "      <td>487.00</td>\n",
       "      <td>450.00</td>\n",
       "      <td>423.00</td>\n",
       "      <td>398.00</td>\n",
       "      <td>378.00</td>\n",
       "      <td>361.00</td>\n",
       "      <td>112.00</td>\n",
       "    </tr>\n",
       "    <tr>\n",
       "      <th>2023-05-21</th>\n",
       "      <td>131.00</td>\n",
       "      <td>60.00</td>\n",
       "      <td>55.00</td>\n",
       "      <td>47.00</td>\n",
       "      <td>43.00</td>\n",
       "      <td>41.00</td>\n",
       "      <td>40.00</td>\n",
       "      <td>33.00</td>\n",
       "      <td>31.00</td>\n",
       "      <td>28.00</td>\n",
       "      <td>NaN</td>\n",
       "    </tr>\n",
       "  </tbody>\n",
       "</table>\n",
       "</div>"
      ],
      "text/plain": [
       "lifetime      0.00    1.00    2.00    3.00    4.00    5.00    6.00    7.00   \\\n",
       "reg_time_dt                                                                   \n",
       "2023-05-11   348.00  157.00  128.00  105.00   92.00   79.00   83.00   84.00   \n",
       "2023-05-12   409.00  181.00  142.00  118.00   91.00   95.00   90.00   85.00   \n",
       "2023-05-13   550.00  224.00  169.00  148.00  130.00  114.00  111.00   99.00   \n",
       "2023-05-14  1204.00  370.00  261.00  242.00  211.00  198.00  191.00  190.00   \n",
       "2023-05-15  4016.00 1395.00 1031.00  874.00  756.00  703.00  652.00  610.00   \n",
       "2023-05-16  8332.00 2735.00 2003.00 1706.00 1521.00 1355.00 1265.00 1207.00   \n",
       "2023-05-17  7230.00 3424.00 2639.00 2258.00 2013.00 1852.00 1701.00 1661.00   \n",
       "2023-05-18  5472.00 2785.00 2200.00 1938.00 1694.00 1533.00 1450.00 1414.00   \n",
       "2023-05-19  1621.00  741.00  601.00  523.00  455.00  459.00  421.00  406.00   \n",
       "2023-05-20  1780.00  825.00  621.00  519.00  487.00  450.00  423.00  398.00   \n",
       "2023-05-21   131.00   60.00   55.00   47.00   43.00   41.00   40.00   33.00   \n",
       "\n",
       "lifetime      8.00    9.00   10.00  \n",
       "reg_time_dt                         \n",
       "2023-05-11    73.00   65.00  20.00  \n",
       "2023-05-12    76.00   64.00  28.00  \n",
       "2023-05-13    99.00   89.00  33.00  \n",
       "2023-05-14   150.00  143.00  54.00  \n",
       "2023-05-15   575.00  547.00 298.00  \n",
       "2023-05-16  1181.00 1110.00 311.00  \n",
       "2023-05-17  1551.00 1459.00 520.00  \n",
       "2023-05-18  1351.00 1226.00 196.00  \n",
       "2023-05-19   359.00  335.00 130.00  \n",
       "2023-05-20   378.00  361.00 112.00  \n",
       "2023-05-21    31.00   28.00    NaN  "
      ]
     },
     "execution_count": 46,
     "metadata": {},
     "output_type": "execute_result"
    }
   ],
   "source": [
    "# сформирум когорты\n",
    "# для всех когорт, кроме когорты \"2023-05-21\" доступен горизонт анализа в 10 дней\n",
    "# оставим данные без изменений\n",
    "users_sessions_grouped = users_sessions.pivot_table(index='reg_time_dt', columns='lifetime', values='user_id', aggfunc='nunique')\n",
    "users_sessions_grouped"
   ]
  },
  {
   "cell_type": "code",
   "execution_count": 47,
   "id": "careful-shannon",
   "metadata": {
    "id": "quarterly-print",
    "outputId": "ecbd2408-8df0-4c8a-a91c-8da896fbb2fc"
   },
   "outputs": [
    {
     "data": {
      "text/plain": [
       "(Timestamp('2023-05-11 02:01:36'), Timestamp('2023-05-21 01:58:09'))"
      ]
     },
     "execution_count": 47,
     "metadata": {},
     "output_type": "execute_result"
    }
   ],
   "source": [
    "# проверим даты\n",
    "users.reg_time.min(), users.reg_time.max()"
   ]
  },
  {
   "cell_type": "code",
   "execution_count": 48,
   "id": "numerical-check",
   "metadata": {
    "id": "dominant-wound",
    "outputId": "40532c4b-531a-40e8-bfd4-2b3f3cf0ef37"
   },
   "outputs": [
    {
     "data": {
      "text/plain": [
       "(Timestamp('2023-05-11 02:01:37'), Timestamp('2023-05-30 17:09:26'))"
      ]
     },
     "execution_count": 48,
     "metadata": {},
     "output_type": "execute_result"
    }
   ],
   "source": [
    "sessions.open_time.min(), sessions.open_time.max()"
   ]
  },
  {
   "cell_type": "code",
   "execution_count": 49,
   "id": "characteristic-elder",
   "metadata": {
    "id": "organized-champagne",
    "outputId": "25b85023-4e88-48ee-d104-0c45b70d2107"
   },
   "outputs": [
    {
     "data": {
      "text/html": [
       "<div>\n",
       "<style scoped>\n",
       "    .dataframe tbody tr th:only-of-type {\n",
       "        vertical-align: middle;\n",
       "    }\n",
       "\n",
       "    .dataframe tbody tr th {\n",
       "        vertical-align: top;\n",
       "    }\n",
       "\n",
       "    .dataframe thead th {\n",
       "        text-align: right;\n",
       "    }\n",
       "</style>\n",
       "<table border=\"1\" class=\"dataframe\">\n",
       "  <thead>\n",
       "    <tr style=\"text-align: right;\">\n",
       "      <th></th>\n",
       "      <th>cohort_size</th>\n",
       "    </tr>\n",
       "    <tr>\n",
       "      <th>reg_time_dt</th>\n",
       "      <th></th>\n",
       "    </tr>\n",
       "  </thead>\n",
       "  <tbody>\n",
       "    <tr>\n",
       "      <th>2023-05-11</th>\n",
       "      <td>348</td>\n",
       "    </tr>\n",
       "    <tr>\n",
       "      <th>2023-05-12</th>\n",
       "      <td>409</td>\n",
       "    </tr>\n",
       "    <tr>\n",
       "      <th>2023-05-13</th>\n",
       "      <td>551</td>\n",
       "    </tr>\n",
       "    <tr>\n",
       "      <th>2023-05-14</th>\n",
       "      <td>1208</td>\n",
       "    </tr>\n",
       "    <tr>\n",
       "      <th>2023-05-15</th>\n",
       "      <td>4017</td>\n",
       "    </tr>\n",
       "    <tr>\n",
       "      <th>2023-05-16</th>\n",
       "      <td>8333</td>\n",
       "    </tr>\n",
       "    <tr>\n",
       "      <th>2023-05-17</th>\n",
       "      <td>7234</td>\n",
       "    </tr>\n",
       "    <tr>\n",
       "      <th>2023-05-18</th>\n",
       "      <td>5476</td>\n",
       "    </tr>\n",
       "    <tr>\n",
       "      <th>2023-05-19</th>\n",
       "      <td>1624</td>\n",
       "    </tr>\n",
       "    <tr>\n",
       "      <th>2023-05-20</th>\n",
       "      <td>1783</td>\n",
       "    </tr>\n",
       "    <tr>\n",
       "      <th>2023-05-21</th>\n",
       "      <td>131</td>\n",
       "    </tr>\n",
       "  </tbody>\n",
       "</table>\n",
       "</div>"
      ],
      "text/plain": [
       "             cohort_size\n",
       "reg_time_dt             \n",
       "2023-05-11           348\n",
       "2023-05-12           409\n",
       "2023-05-13           551\n",
       "2023-05-14          1208\n",
       "2023-05-15          4017\n",
       "2023-05-16          8333\n",
       "2023-05-17          7234\n",
       "2023-05-18          5476\n",
       "2023-05-19          1624\n",
       "2023-05-20          1783\n",
       "2023-05-21           131"
      ]
     },
     "execution_count": 49,
     "metadata": {},
     "output_type": "execute_result"
    }
   ],
   "source": [
    "# сформируем размер когорт\n",
    "cohort_sizes = users_sessions.groupby('reg_time_dt').agg({'user_id':'nunique'}).rename(columns={'user_id':'cohort_size'})\n",
    "cohort_sizes"
   ]
  },
  {
   "cell_type": "code",
   "execution_count": 50,
   "id": "hawaiian-founder",
   "metadata": {
    "id": "interstate-deployment",
    "outputId": "79527a1b-76f1-4fe8-9c5b-62a70cf67dc5"
   },
   "outputs": [
    {
     "data": {
      "text/html": [
       "<div>\n",
       "<style scoped>\n",
       "    .dataframe tbody tr th:only-of-type {\n",
       "        vertical-align: middle;\n",
       "    }\n",
       "\n",
       "    .dataframe tbody tr th {\n",
       "        vertical-align: top;\n",
       "    }\n",
       "\n",
       "    .dataframe thead th {\n",
       "        text-align: right;\n",
       "    }\n",
       "</style>\n",
       "<table border=\"1\" class=\"dataframe\">\n",
       "  <thead>\n",
       "    <tr style=\"text-align: right;\">\n",
       "      <th></th>\n",
       "      <th>cohort_size</th>\n",
       "      <th>0.0</th>\n",
       "      <th>1.0</th>\n",
       "      <th>2.0</th>\n",
       "      <th>3.0</th>\n",
       "      <th>4.0</th>\n",
       "      <th>5.0</th>\n",
       "      <th>6.0</th>\n",
       "      <th>7.0</th>\n",
       "      <th>8.0</th>\n",
       "      <th>9.0</th>\n",
       "      <th>10.0</th>\n",
       "    </tr>\n",
       "    <tr>\n",
       "      <th>reg_time_dt</th>\n",
       "      <th></th>\n",
       "      <th></th>\n",
       "      <th></th>\n",
       "      <th></th>\n",
       "      <th></th>\n",
       "      <th></th>\n",
       "      <th></th>\n",
       "      <th></th>\n",
       "      <th></th>\n",
       "      <th></th>\n",
       "      <th></th>\n",
       "      <th></th>\n",
       "    </tr>\n",
       "  </thead>\n",
       "  <tbody>\n",
       "    <tr>\n",
       "      <th>2023-05-11</th>\n",
       "      <td>348</td>\n",
       "      <td>348.00</td>\n",
       "      <td>157.00</td>\n",
       "      <td>128.00</td>\n",
       "      <td>105.00</td>\n",
       "      <td>92.00</td>\n",
       "      <td>79.00</td>\n",
       "      <td>83.00</td>\n",
       "      <td>84.00</td>\n",
       "      <td>73.00</td>\n",
       "      <td>65.00</td>\n",
       "      <td>20.00</td>\n",
       "    </tr>\n",
       "    <tr>\n",
       "      <th>2023-05-12</th>\n",
       "      <td>409</td>\n",
       "      <td>409.00</td>\n",
       "      <td>181.00</td>\n",
       "      <td>142.00</td>\n",
       "      <td>118.00</td>\n",
       "      <td>91.00</td>\n",
       "      <td>95.00</td>\n",
       "      <td>90.00</td>\n",
       "      <td>85.00</td>\n",
       "      <td>76.00</td>\n",
       "      <td>64.00</td>\n",
       "      <td>28.00</td>\n",
       "    </tr>\n",
       "    <tr>\n",
       "      <th>2023-05-13</th>\n",
       "      <td>551</td>\n",
       "      <td>550.00</td>\n",
       "      <td>224.00</td>\n",
       "      <td>169.00</td>\n",
       "      <td>148.00</td>\n",
       "      <td>130.00</td>\n",
       "      <td>114.00</td>\n",
       "      <td>111.00</td>\n",
       "      <td>99.00</td>\n",
       "      <td>99.00</td>\n",
       "      <td>89.00</td>\n",
       "      <td>33.00</td>\n",
       "    </tr>\n",
       "    <tr>\n",
       "      <th>2023-05-14</th>\n",
       "      <td>1208</td>\n",
       "      <td>1204.00</td>\n",
       "      <td>370.00</td>\n",
       "      <td>261.00</td>\n",
       "      <td>242.00</td>\n",
       "      <td>211.00</td>\n",
       "      <td>198.00</td>\n",
       "      <td>191.00</td>\n",
       "      <td>190.00</td>\n",
       "      <td>150.00</td>\n",
       "      <td>143.00</td>\n",
       "      <td>54.00</td>\n",
       "    </tr>\n",
       "    <tr>\n",
       "      <th>2023-05-15</th>\n",
       "      <td>4017</td>\n",
       "      <td>4016.00</td>\n",
       "      <td>1395.00</td>\n",
       "      <td>1031.00</td>\n",
       "      <td>874.00</td>\n",
       "      <td>756.00</td>\n",
       "      <td>703.00</td>\n",
       "      <td>652.00</td>\n",
       "      <td>610.00</td>\n",
       "      <td>575.00</td>\n",
       "      <td>547.00</td>\n",
       "      <td>298.00</td>\n",
       "    </tr>\n",
       "    <tr>\n",
       "      <th>2023-05-16</th>\n",
       "      <td>8333</td>\n",
       "      <td>8332.00</td>\n",
       "      <td>2735.00</td>\n",
       "      <td>2003.00</td>\n",
       "      <td>1706.00</td>\n",
       "      <td>1521.00</td>\n",
       "      <td>1355.00</td>\n",
       "      <td>1265.00</td>\n",
       "      <td>1207.00</td>\n",
       "      <td>1181.00</td>\n",
       "      <td>1110.00</td>\n",
       "      <td>311.00</td>\n",
       "    </tr>\n",
       "    <tr>\n",
       "      <th>2023-05-17</th>\n",
       "      <td>7234</td>\n",
       "      <td>7230.00</td>\n",
       "      <td>3424.00</td>\n",
       "      <td>2639.00</td>\n",
       "      <td>2258.00</td>\n",
       "      <td>2013.00</td>\n",
       "      <td>1852.00</td>\n",
       "      <td>1701.00</td>\n",
       "      <td>1661.00</td>\n",
       "      <td>1551.00</td>\n",
       "      <td>1459.00</td>\n",
       "      <td>520.00</td>\n",
       "    </tr>\n",
       "    <tr>\n",
       "      <th>2023-05-18</th>\n",
       "      <td>5476</td>\n",
       "      <td>5472.00</td>\n",
       "      <td>2785.00</td>\n",
       "      <td>2200.00</td>\n",
       "      <td>1938.00</td>\n",
       "      <td>1694.00</td>\n",
       "      <td>1533.00</td>\n",
       "      <td>1450.00</td>\n",
       "      <td>1414.00</td>\n",
       "      <td>1351.00</td>\n",
       "      <td>1226.00</td>\n",
       "      <td>196.00</td>\n",
       "    </tr>\n",
       "    <tr>\n",
       "      <th>2023-05-19</th>\n",
       "      <td>1624</td>\n",
       "      <td>1621.00</td>\n",
       "      <td>741.00</td>\n",
       "      <td>601.00</td>\n",
       "      <td>523.00</td>\n",
       "      <td>455.00</td>\n",
       "      <td>459.00</td>\n",
       "      <td>421.00</td>\n",
       "      <td>406.00</td>\n",
       "      <td>359.00</td>\n",
       "      <td>335.00</td>\n",
       "      <td>130.00</td>\n",
       "    </tr>\n",
       "    <tr>\n",
       "      <th>2023-05-20</th>\n",
       "      <td>1783</td>\n",
       "      <td>1780.00</td>\n",
       "      <td>825.00</td>\n",
       "      <td>621.00</td>\n",
       "      <td>519.00</td>\n",
       "      <td>487.00</td>\n",
       "      <td>450.00</td>\n",
       "      <td>423.00</td>\n",
       "      <td>398.00</td>\n",
       "      <td>378.00</td>\n",
       "      <td>361.00</td>\n",
       "      <td>112.00</td>\n",
       "    </tr>\n",
       "    <tr>\n",
       "      <th>2023-05-21</th>\n",
       "      <td>131</td>\n",
       "      <td>131.00</td>\n",
       "      <td>60.00</td>\n",
       "      <td>55.00</td>\n",
       "      <td>47.00</td>\n",
       "      <td>43.00</td>\n",
       "      <td>41.00</td>\n",
       "      <td>40.00</td>\n",
       "      <td>33.00</td>\n",
       "      <td>31.00</td>\n",
       "      <td>28.00</td>\n",
       "      <td>0.00</td>\n",
       "    </tr>\n",
       "  </tbody>\n",
       "</table>\n",
       "</div>"
      ],
      "text/plain": [
       "             cohort_size     0.0     1.0     2.0     3.0     4.0     5.0  \\\n",
       "reg_time_dt                                                                \n",
       "2023-05-11           348  348.00  157.00  128.00  105.00   92.00   79.00   \n",
       "2023-05-12           409  409.00  181.00  142.00  118.00   91.00   95.00   \n",
       "2023-05-13           551  550.00  224.00  169.00  148.00  130.00  114.00   \n",
       "2023-05-14          1208 1204.00  370.00  261.00  242.00  211.00  198.00   \n",
       "2023-05-15          4017 4016.00 1395.00 1031.00  874.00  756.00  703.00   \n",
       "2023-05-16          8333 8332.00 2735.00 2003.00 1706.00 1521.00 1355.00   \n",
       "2023-05-17          7234 7230.00 3424.00 2639.00 2258.00 2013.00 1852.00   \n",
       "2023-05-18          5476 5472.00 2785.00 2200.00 1938.00 1694.00 1533.00   \n",
       "2023-05-19          1624 1621.00  741.00  601.00  523.00  455.00  459.00   \n",
       "2023-05-20          1783 1780.00  825.00  621.00  519.00  487.00  450.00   \n",
       "2023-05-21           131  131.00   60.00   55.00   47.00   43.00   41.00   \n",
       "\n",
       "                6.0     7.0     8.0     9.0   10.0  \n",
       "reg_time_dt                                         \n",
       "2023-05-11    83.00   84.00   73.00   65.00  20.00  \n",
       "2023-05-12    90.00   85.00   76.00   64.00  28.00  \n",
       "2023-05-13   111.00   99.00   99.00   89.00  33.00  \n",
       "2023-05-14   191.00  190.00  150.00  143.00  54.00  \n",
       "2023-05-15   652.00  610.00  575.00  547.00 298.00  \n",
       "2023-05-16  1265.00 1207.00 1181.00 1110.00 311.00  \n",
       "2023-05-17  1701.00 1661.00 1551.00 1459.00 520.00  \n",
       "2023-05-18  1450.00 1414.00 1351.00 1226.00 196.00  \n",
       "2023-05-19   421.00  406.00  359.00  335.00 130.00  \n",
       "2023-05-20   423.00  398.00  378.00  361.00 112.00  \n",
       "2023-05-21    40.00   33.00   31.00   28.00   0.00  "
      ]
     },
     "execution_count": 50,
     "metadata": {},
     "output_type": "execute_result"
    }
   ],
   "source": [
    "# объединим размер когорт с таблицей когорт\n",
    "# для нескольких когорт (например, 2023-05-14) размер когорты не совпадает с количеством пользователей 0-го дня\n",
    "# возможно, связано с ошибками/неполнотой предоставленных данных (таблица sessions) - уточнить\n",
    "rr_table = cohort_sizes.merge(users_sessions_grouped, on='reg_time_dt', how='left').fillna(0)\n",
    "rr_table"
   ]
  },
  {
   "cell_type": "code",
   "execution_count": 51,
   "id": "limiting-attraction",
   "metadata": {
    "id": "convenient-leone",
    "outputId": "5524d13d-80c6-4839-c147-ffed181356a7"
   },
   "outputs": [
    {
     "data": {
      "text/html": [
       "<div>\n",
       "<style scoped>\n",
       "    .dataframe tbody tr th:only-of-type {\n",
       "        vertical-align: middle;\n",
       "    }\n",
       "\n",
       "    .dataframe tbody tr th {\n",
       "        vertical-align: top;\n",
       "    }\n",
       "\n",
       "    .dataframe thead th {\n",
       "        text-align: right;\n",
       "    }\n",
       "</style>\n",
       "<table border=\"1\" class=\"dataframe\">\n",
       "  <thead>\n",
       "    <tr style=\"text-align: right;\">\n",
       "      <th></th>\n",
       "      <th>0.00</th>\n",
       "      <th>1.00</th>\n",
       "      <th>2.00</th>\n",
       "      <th>3.00</th>\n",
       "      <th>4.00</th>\n",
       "      <th>5.00</th>\n",
       "      <th>6.00</th>\n",
       "      <th>7.00</th>\n",
       "      <th>8.00</th>\n",
       "      <th>9.00</th>\n",
       "      <th>10.00</th>\n",
       "    </tr>\n",
       "    <tr>\n",
       "      <th>reg_time_dt</th>\n",
       "      <th></th>\n",
       "      <th></th>\n",
       "      <th></th>\n",
       "      <th></th>\n",
       "      <th></th>\n",
       "      <th></th>\n",
       "      <th></th>\n",
       "      <th></th>\n",
       "      <th></th>\n",
       "      <th></th>\n",
       "      <th></th>\n",
       "    </tr>\n",
       "  </thead>\n",
       "  <tbody>\n",
       "    <tr>\n",
       "      <th>2023-05-11</th>\n",
       "      <td>1.00</td>\n",
       "      <td>0.45</td>\n",
       "      <td>0.37</td>\n",
       "      <td>0.30</td>\n",
       "      <td>0.26</td>\n",
       "      <td>0.23</td>\n",
       "      <td>0.24</td>\n",
       "      <td>0.24</td>\n",
       "      <td>0.21</td>\n",
       "      <td>0.19</td>\n",
       "      <td>0.06</td>\n",
       "    </tr>\n",
       "    <tr>\n",
       "      <th>2023-05-12</th>\n",
       "      <td>1.00</td>\n",
       "      <td>0.44</td>\n",
       "      <td>0.35</td>\n",
       "      <td>0.29</td>\n",
       "      <td>0.22</td>\n",
       "      <td>0.23</td>\n",
       "      <td>0.22</td>\n",
       "      <td>0.21</td>\n",
       "      <td>0.19</td>\n",
       "      <td>0.16</td>\n",
       "      <td>0.07</td>\n",
       "    </tr>\n",
       "    <tr>\n",
       "      <th>2023-05-13</th>\n",
       "      <td>1.00</td>\n",
       "      <td>0.41</td>\n",
       "      <td>0.31</td>\n",
       "      <td>0.27</td>\n",
       "      <td>0.24</td>\n",
       "      <td>0.21</td>\n",
       "      <td>0.20</td>\n",
       "      <td>0.18</td>\n",
       "      <td>0.18</td>\n",
       "      <td>0.16</td>\n",
       "      <td>0.06</td>\n",
       "    </tr>\n",
       "    <tr>\n",
       "      <th>2023-05-14</th>\n",
       "      <td>1.00</td>\n",
       "      <td>0.31</td>\n",
       "      <td>0.22</td>\n",
       "      <td>0.20</td>\n",
       "      <td>0.17</td>\n",
       "      <td>0.16</td>\n",
       "      <td>0.16</td>\n",
       "      <td>0.16</td>\n",
       "      <td>0.12</td>\n",
       "      <td>0.12</td>\n",
       "      <td>0.04</td>\n",
       "    </tr>\n",
       "    <tr>\n",
       "      <th>2023-05-15</th>\n",
       "      <td>1.00</td>\n",
       "      <td>0.35</td>\n",
       "      <td>0.26</td>\n",
       "      <td>0.22</td>\n",
       "      <td>0.19</td>\n",
       "      <td>0.18</td>\n",
       "      <td>0.16</td>\n",
       "      <td>0.15</td>\n",
       "      <td>0.14</td>\n",
       "      <td>0.14</td>\n",
       "      <td>0.07</td>\n",
       "    </tr>\n",
       "    <tr>\n",
       "      <th>2023-05-16</th>\n",
       "      <td>1.00</td>\n",
       "      <td>0.33</td>\n",
       "      <td>0.24</td>\n",
       "      <td>0.20</td>\n",
       "      <td>0.18</td>\n",
       "      <td>0.16</td>\n",
       "      <td>0.15</td>\n",
       "      <td>0.14</td>\n",
       "      <td>0.14</td>\n",
       "      <td>0.13</td>\n",
       "      <td>0.04</td>\n",
       "    </tr>\n",
       "    <tr>\n",
       "      <th>2023-05-17</th>\n",
       "      <td>1.00</td>\n",
       "      <td>0.47</td>\n",
       "      <td>0.36</td>\n",
       "      <td>0.31</td>\n",
       "      <td>0.28</td>\n",
       "      <td>0.26</td>\n",
       "      <td>0.24</td>\n",
       "      <td>0.23</td>\n",
       "      <td>0.21</td>\n",
       "      <td>0.20</td>\n",
       "      <td>0.07</td>\n",
       "    </tr>\n",
       "    <tr>\n",
       "      <th>2023-05-18</th>\n",
       "      <td>1.00</td>\n",
       "      <td>0.51</td>\n",
       "      <td>0.40</td>\n",
       "      <td>0.35</td>\n",
       "      <td>0.31</td>\n",
       "      <td>0.28</td>\n",
       "      <td>0.26</td>\n",
       "      <td>0.26</td>\n",
       "      <td>0.25</td>\n",
       "      <td>0.22</td>\n",
       "      <td>0.04</td>\n",
       "    </tr>\n",
       "    <tr>\n",
       "      <th>2023-05-19</th>\n",
       "      <td>1.00</td>\n",
       "      <td>0.46</td>\n",
       "      <td>0.37</td>\n",
       "      <td>0.32</td>\n",
       "      <td>0.28</td>\n",
       "      <td>0.28</td>\n",
       "      <td>0.26</td>\n",
       "      <td>0.25</td>\n",
       "      <td>0.22</td>\n",
       "      <td>0.21</td>\n",
       "      <td>0.08</td>\n",
       "    </tr>\n",
       "    <tr>\n",
       "      <th>2023-05-20</th>\n",
       "      <td>1.00</td>\n",
       "      <td>0.46</td>\n",
       "      <td>0.35</td>\n",
       "      <td>0.29</td>\n",
       "      <td>0.27</td>\n",
       "      <td>0.25</td>\n",
       "      <td>0.24</td>\n",
       "      <td>0.22</td>\n",
       "      <td>0.21</td>\n",
       "      <td>0.20</td>\n",
       "      <td>0.06</td>\n",
       "    </tr>\n",
       "    <tr>\n",
       "      <th>2023-05-21</th>\n",
       "      <td>1.00</td>\n",
       "      <td>0.46</td>\n",
       "      <td>0.42</td>\n",
       "      <td>0.36</td>\n",
       "      <td>0.33</td>\n",
       "      <td>0.31</td>\n",
       "      <td>0.31</td>\n",
       "      <td>0.25</td>\n",
       "      <td>0.24</td>\n",
       "      <td>0.21</td>\n",
       "      <td>0.00</td>\n",
       "    </tr>\n",
       "  </tbody>\n",
       "</table>\n",
       "</div>"
      ],
      "text/plain": [
       "             0.00   1.00   2.00   3.00   4.00   5.00   6.00   7.00   8.00   \\\n",
       "reg_time_dt                                                                  \n",
       "2023-05-11    1.00   0.45   0.37   0.30   0.26   0.23   0.24   0.24   0.21   \n",
       "2023-05-12    1.00   0.44   0.35   0.29   0.22   0.23   0.22   0.21   0.19   \n",
       "2023-05-13    1.00   0.41   0.31   0.27   0.24   0.21   0.20   0.18   0.18   \n",
       "2023-05-14    1.00   0.31   0.22   0.20   0.17   0.16   0.16   0.16   0.12   \n",
       "2023-05-15    1.00   0.35   0.26   0.22   0.19   0.18   0.16   0.15   0.14   \n",
       "2023-05-16    1.00   0.33   0.24   0.20   0.18   0.16   0.15   0.14   0.14   \n",
       "2023-05-17    1.00   0.47   0.36   0.31   0.28   0.26   0.24   0.23   0.21   \n",
       "2023-05-18    1.00   0.51   0.40   0.35   0.31   0.28   0.26   0.26   0.25   \n",
       "2023-05-19    1.00   0.46   0.37   0.32   0.28   0.28   0.26   0.25   0.22   \n",
       "2023-05-20    1.00   0.46   0.35   0.29   0.27   0.25   0.24   0.22   0.21   \n",
       "2023-05-21    1.00   0.46   0.42   0.36   0.33   0.31   0.31   0.25   0.24   \n",
       "\n",
       "             9.00   10.00  \n",
       "reg_time_dt                \n",
       "2023-05-11    0.19   0.06  \n",
       "2023-05-12    0.16   0.07  \n",
       "2023-05-13    0.16   0.06  \n",
       "2023-05-14    0.12   0.04  \n",
       "2023-05-15    0.14   0.07  \n",
       "2023-05-16    0.13   0.04  \n",
       "2023-05-17    0.20   0.07  \n",
       "2023-05-18    0.22   0.04  \n",
       "2023-05-19    0.21   0.08  \n",
       "2023-05-20    0.20   0.06  \n",
       "2023-05-21    0.21   0.00  "
      ]
     },
     "execution_count": 51,
     "metadata": {},
     "output_type": "execute_result"
    }
   ],
   "source": [
    "# делим данные таблицы когорт на размеры когорт\n",
    "# и меняем размер когорт (кол-во регистраций) на лайфтайм 0 (т.к. размер когорт не был равен 0-му лайфтайму),\n",
    "# чтобы отталкиваться именно от кол-ва регистраций\n",
    "rr_table = rr_table.div(rr_table['cohort_size'], axis=0).drop(columns=[0.0]).rename(columns={'cohort_size':0.0})\n",
    "rr_table"
   ]
  },
  {
   "cell_type": "code",
   "execution_count": 52,
   "id": "changing-stocks",
   "metadata": {
    "id": "veterinary-impression",
    "outputId": "b2a0f161-2b08-4d03-f0a3-382e5d4e586c"
   },
   "outputs": [
    {
     "data": {
      "text/html": [
       "<div>\n",
       "<style scoped>\n",
       "    .dataframe tbody tr th:only-of-type {\n",
       "        vertical-align: middle;\n",
       "    }\n",
       "\n",
       "    .dataframe tbody tr th {\n",
       "        vertical-align: top;\n",
       "    }\n",
       "\n",
       "    .dataframe thead th {\n",
       "        text-align: right;\n",
       "    }\n",
       "</style>\n",
       "<table border=\"1\" class=\"dataframe\">\n",
       "  <thead>\n",
       "    <tr style=\"text-align: right;\">\n",
       "      <th></th>\n",
       "      <th>cohort_size</th>\n",
       "      <th>0.0</th>\n",
       "      <th>1.0</th>\n",
       "      <th>2.0</th>\n",
       "      <th>3.0</th>\n",
       "      <th>4.0</th>\n",
       "      <th>5.0</th>\n",
       "      <th>6.0</th>\n",
       "      <th>7.0</th>\n",
       "      <th>8.0</th>\n",
       "      <th>9.0</th>\n",
       "      <th>10.0</th>\n",
       "    </tr>\n",
       "    <tr>\n",
       "      <th>reg_time_dt</th>\n",
       "      <th></th>\n",
       "      <th></th>\n",
       "      <th></th>\n",
       "      <th></th>\n",
       "      <th></th>\n",
       "      <th></th>\n",
       "      <th></th>\n",
       "      <th></th>\n",
       "      <th></th>\n",
       "      <th></th>\n",
       "      <th></th>\n",
       "      <th></th>\n",
       "    </tr>\n",
       "  </thead>\n",
       "  <tbody>\n",
       "    <tr>\n",
       "      <th>2023-05-11</th>\n",
       "      <td>348</td>\n",
       "      <td>1.00</td>\n",
       "      <td>0.45</td>\n",
       "      <td>0.37</td>\n",
       "      <td>0.30</td>\n",
       "      <td>0.26</td>\n",
       "      <td>0.23</td>\n",
       "      <td>0.24</td>\n",
       "      <td>0.24</td>\n",
       "      <td>0.21</td>\n",
       "      <td>0.19</td>\n",
       "      <td>0.06</td>\n",
       "    </tr>\n",
       "    <tr>\n",
       "      <th>2023-05-12</th>\n",
       "      <td>409</td>\n",
       "      <td>1.00</td>\n",
       "      <td>0.44</td>\n",
       "      <td>0.35</td>\n",
       "      <td>0.29</td>\n",
       "      <td>0.22</td>\n",
       "      <td>0.23</td>\n",
       "      <td>0.22</td>\n",
       "      <td>0.21</td>\n",
       "      <td>0.19</td>\n",
       "      <td>0.16</td>\n",
       "      <td>0.07</td>\n",
       "    </tr>\n",
       "    <tr>\n",
       "      <th>2023-05-13</th>\n",
       "      <td>551</td>\n",
       "      <td>1.00</td>\n",
       "      <td>0.41</td>\n",
       "      <td>0.31</td>\n",
       "      <td>0.27</td>\n",
       "      <td>0.24</td>\n",
       "      <td>0.21</td>\n",
       "      <td>0.20</td>\n",
       "      <td>0.18</td>\n",
       "      <td>0.18</td>\n",
       "      <td>0.16</td>\n",
       "      <td>0.06</td>\n",
       "    </tr>\n",
       "    <tr>\n",
       "      <th>2023-05-14</th>\n",
       "      <td>1208</td>\n",
       "      <td>1.00</td>\n",
       "      <td>0.31</td>\n",
       "      <td>0.22</td>\n",
       "      <td>0.20</td>\n",
       "      <td>0.17</td>\n",
       "      <td>0.16</td>\n",
       "      <td>0.16</td>\n",
       "      <td>0.16</td>\n",
       "      <td>0.12</td>\n",
       "      <td>0.12</td>\n",
       "      <td>0.04</td>\n",
       "    </tr>\n",
       "    <tr>\n",
       "      <th>2023-05-15</th>\n",
       "      <td>4017</td>\n",
       "      <td>1.00</td>\n",
       "      <td>0.35</td>\n",
       "      <td>0.26</td>\n",
       "      <td>0.22</td>\n",
       "      <td>0.19</td>\n",
       "      <td>0.18</td>\n",
       "      <td>0.16</td>\n",
       "      <td>0.15</td>\n",
       "      <td>0.14</td>\n",
       "      <td>0.14</td>\n",
       "      <td>0.07</td>\n",
       "    </tr>\n",
       "    <tr>\n",
       "      <th>2023-05-16</th>\n",
       "      <td>8333</td>\n",
       "      <td>1.00</td>\n",
       "      <td>0.33</td>\n",
       "      <td>0.24</td>\n",
       "      <td>0.20</td>\n",
       "      <td>0.18</td>\n",
       "      <td>0.16</td>\n",
       "      <td>0.15</td>\n",
       "      <td>0.14</td>\n",
       "      <td>0.14</td>\n",
       "      <td>0.13</td>\n",
       "      <td>0.04</td>\n",
       "    </tr>\n",
       "    <tr>\n",
       "      <th>2023-05-17</th>\n",
       "      <td>7234</td>\n",
       "      <td>1.00</td>\n",
       "      <td>0.47</td>\n",
       "      <td>0.36</td>\n",
       "      <td>0.31</td>\n",
       "      <td>0.28</td>\n",
       "      <td>0.26</td>\n",
       "      <td>0.24</td>\n",
       "      <td>0.23</td>\n",
       "      <td>0.21</td>\n",
       "      <td>0.20</td>\n",
       "      <td>0.07</td>\n",
       "    </tr>\n",
       "    <tr>\n",
       "      <th>2023-05-18</th>\n",
       "      <td>5476</td>\n",
       "      <td>1.00</td>\n",
       "      <td>0.51</td>\n",
       "      <td>0.40</td>\n",
       "      <td>0.35</td>\n",
       "      <td>0.31</td>\n",
       "      <td>0.28</td>\n",
       "      <td>0.26</td>\n",
       "      <td>0.26</td>\n",
       "      <td>0.25</td>\n",
       "      <td>0.22</td>\n",
       "      <td>0.04</td>\n",
       "    </tr>\n",
       "    <tr>\n",
       "      <th>2023-05-19</th>\n",
       "      <td>1624</td>\n",
       "      <td>1.00</td>\n",
       "      <td>0.46</td>\n",
       "      <td>0.37</td>\n",
       "      <td>0.32</td>\n",
       "      <td>0.28</td>\n",
       "      <td>0.28</td>\n",
       "      <td>0.26</td>\n",
       "      <td>0.25</td>\n",
       "      <td>0.22</td>\n",
       "      <td>0.21</td>\n",
       "      <td>0.08</td>\n",
       "    </tr>\n",
       "    <tr>\n",
       "      <th>2023-05-20</th>\n",
       "      <td>1783</td>\n",
       "      <td>1.00</td>\n",
       "      <td>0.46</td>\n",
       "      <td>0.35</td>\n",
       "      <td>0.29</td>\n",
       "      <td>0.27</td>\n",
       "      <td>0.25</td>\n",
       "      <td>0.24</td>\n",
       "      <td>0.22</td>\n",
       "      <td>0.21</td>\n",
       "      <td>0.20</td>\n",
       "      <td>0.06</td>\n",
       "    </tr>\n",
       "    <tr>\n",
       "      <th>2023-05-21</th>\n",
       "      <td>131</td>\n",
       "      <td>1.00</td>\n",
       "      <td>0.46</td>\n",
       "      <td>0.42</td>\n",
       "      <td>0.36</td>\n",
       "      <td>0.33</td>\n",
       "      <td>0.31</td>\n",
       "      <td>0.31</td>\n",
       "      <td>0.25</td>\n",
       "      <td>0.24</td>\n",
       "      <td>0.21</td>\n",
       "      <td>0.00</td>\n",
       "    </tr>\n",
       "  </tbody>\n",
       "</table>\n",
       "</div>"
      ],
      "text/plain": [
       "             cohort_size  0.0  1.0  2.0  3.0  4.0  5.0  6.0  7.0  8.0  9.0  \\\n",
       "reg_time_dt                                                                  \n",
       "2023-05-11           348 1.00 0.45 0.37 0.30 0.26 0.23 0.24 0.24 0.21 0.19   \n",
       "2023-05-12           409 1.00 0.44 0.35 0.29 0.22 0.23 0.22 0.21 0.19 0.16   \n",
       "2023-05-13           551 1.00 0.41 0.31 0.27 0.24 0.21 0.20 0.18 0.18 0.16   \n",
       "2023-05-14          1208 1.00 0.31 0.22 0.20 0.17 0.16 0.16 0.16 0.12 0.12   \n",
       "2023-05-15          4017 1.00 0.35 0.26 0.22 0.19 0.18 0.16 0.15 0.14 0.14   \n",
       "2023-05-16          8333 1.00 0.33 0.24 0.20 0.18 0.16 0.15 0.14 0.14 0.13   \n",
       "2023-05-17          7234 1.00 0.47 0.36 0.31 0.28 0.26 0.24 0.23 0.21 0.20   \n",
       "2023-05-18          5476 1.00 0.51 0.40 0.35 0.31 0.28 0.26 0.26 0.25 0.22   \n",
       "2023-05-19          1624 1.00 0.46 0.37 0.32 0.28 0.28 0.26 0.25 0.22 0.21   \n",
       "2023-05-20          1783 1.00 0.46 0.35 0.29 0.27 0.25 0.24 0.22 0.21 0.20   \n",
       "2023-05-21           131 1.00 0.46 0.42 0.36 0.33 0.31 0.31 0.25 0.24 0.21   \n",
       "\n",
       "             10.0  \n",
       "reg_time_dt        \n",
       "2023-05-11   0.06  \n",
       "2023-05-12   0.07  \n",
       "2023-05-13   0.06  \n",
       "2023-05-14   0.04  \n",
       "2023-05-15   0.07  \n",
       "2023-05-16   0.04  \n",
       "2023-05-17   0.07  \n",
       "2023-05-18   0.04  \n",
       "2023-05-19   0.08  \n",
       "2023-05-20   0.06  \n",
       "2023-05-21   0.00  "
      ]
     },
     "execution_count": 52,
     "metadata": {},
     "output_type": "execute_result"
    }
   ],
   "source": [
    "# восстанавливаем столбец cohort_size\n",
    "# таблица retention rate готова\n",
    "rr_table['cohort_size'] = cohort_sizes\n",
    "rr_table = rr_table[['cohort_size', 0.0, 1.0, 2.0, 3.0, 4.0, 5.0, 6.0, 7.0, 8.0, 9.0, 10.0]]\n",
    "rr_table"
   ]
  },
  {
   "cell_type": "code",
   "execution_count": 53,
   "id": "vital-belle",
   "metadata": {
    "id": "coupled-absence",
    "outputId": "93bfd266-cd61-411e-b3cb-ca342b1c8a63"
   },
   "outputs": [
    {
     "data": {
      "image/png": "[encoded data removed]",
      "text/plain": [
       "<Figure size 864x432 with 2 Axes>"
      ]
     },
     "metadata": {
      "needs_background": "light"
     },
     "output_type": "display_data"
    }
   ],
   "source": [
    "# строим хитмэп retention rate\n",
    "plt.figure(figsize=(12, 6))\n",
    "ax = sns.heatmap(rr_table.drop(columns=['cohort_size', 0.0]), annot=True, fmt='.2%')\n",
    "ax.set_xlabel('Лайфтайм')\n",
    "ax.set_ylabel('Дата регистрации')\n",
    "ax.set_yticklabels(rr_table.index.strftime('%Y-%m-%d'))\n",
    "plt.title('Тепловая карта retention rate')\n",
    "plt.show()"
   ]
  },
  {
   "cell_type": "markdown",
   "id": "attached-phoenix",
   "metadata": {
    "id": "spare-eclipse"
   },
   "source": [
    "Наиболее высокий retention rate наблюдается у когорты, зарегистрировавшейся 2023-05-18.<br>\n",
    "Наиболее низкий retention rate - у когорты 2023-05-14.<br>\n",
    "Возвращаемость 1-го дня составляет - 30-50%<br>\n",
    "Возвращаемость 2-го дня - 21-54%<br>\n",
    "Возвращаемость 7-го дня - 14-25%<br>\n",
    "Возвращаемость резко падает на 10-й день и составляет 3-8%<br>"
   ]
  },
  {
   "cell_type": "markdown",
   "id": "clinical-zimbabwe",
   "metadata": {
    "id": "occasional-amino"
   },
   "source": [
    "### Время в приложении"
   ]
  },
  {
   "cell_type": "code",
   "execution_count": 54,
   "id": "front-basketball",
   "metadata": {
    "id": "exact-intake",
    "outputId": "8c93d7d8-2856-440e-d8ec-98ee5beb99ed"
   },
   "outputs": [
    {
     "data": {
      "text/html": [
       "<div>\n",
       "<style scoped>\n",
       "    .dataframe tbody tr th:only-of-type {\n",
       "        vertical-align: middle;\n",
       "    }\n",
       "\n",
       "    .dataframe tbody tr th {\n",
       "        vertical-align: top;\n",
       "    }\n",
       "\n",
       "    .dataframe thead th {\n",
       "        text-align: right;\n",
       "    }\n",
       "</style>\n",
       "<table border=\"1\" class=\"dataframe\">\n",
       "  <thead>\n",
       "    <tr style=\"text-align: right;\">\n",
       "      <th></th>\n",
       "      <th>user_id</th>\n",
       "      <th>reg_time</th>\n",
       "      <th>reg_time_dt</th>\n",
       "      <th>open_time</th>\n",
       "      <th>close_time</th>\n",
       "      <th>open_time_dt</th>\n",
       "      <th>duration</th>\n",
       "      <th>lifetime</th>\n",
       "    </tr>\n",
       "  </thead>\n",
       "  <tbody>\n",
       "    <tr>\n",
       "      <th>0</th>\n",
       "      <td>439127</td>\n",
       "      <td>2023-05-16 15:47:56</td>\n",
       "      <td>2023-05-16</td>\n",
       "      <td>2023-05-16 15:47:56</td>\n",
       "      <td>2023-05-16 16:55:15</td>\n",
       "      <td>2023-05-16</td>\n",
       "      <td>67.00</td>\n",
       "      <td>0.00</td>\n",
       "    </tr>\n",
       "    <tr>\n",
       "      <th>1</th>\n",
       "      <td>439127</td>\n",
       "      <td>2023-05-16 15:47:56</td>\n",
       "      <td>2023-05-16</td>\n",
       "      <td>2023-05-17 02:16:58</td>\n",
       "      <td>2023-05-17 02:52:27</td>\n",
       "      <td>2023-05-17</td>\n",
       "      <td>35.00</td>\n",
       "      <td>1.00</td>\n",
       "    </tr>\n",
       "    <tr>\n",
       "      <th>2</th>\n",
       "      <td>439127</td>\n",
       "      <td>2023-05-16 15:47:56</td>\n",
       "      <td>2023-05-16</td>\n",
       "      <td>2023-05-17 03:18:01</td>\n",
       "      <td>2023-05-17 03:35:25</td>\n",
       "      <td>2023-05-17</td>\n",
       "      <td>17.00</td>\n",
       "      <td>1.00</td>\n",
       "    </tr>\n",
       "    <tr>\n",
       "      <th>3</th>\n",
       "      <td>439127</td>\n",
       "      <td>2023-05-16 15:47:56</td>\n",
       "      <td>2023-05-16</td>\n",
       "      <td>2023-05-17 04:25:57</td>\n",
       "      <td>2023-05-17 04:40:43</td>\n",
       "      <td>2023-05-17</td>\n",
       "      <td>14.00</td>\n",
       "      <td>1.00</td>\n",
       "    </tr>\n",
       "    <tr>\n",
       "      <th>4</th>\n",
       "      <td>439127</td>\n",
       "      <td>2023-05-16 15:47:56</td>\n",
       "      <td>2023-05-16</td>\n",
       "      <td>2023-05-17 10:22:22</td>\n",
       "      <td>2023-05-17 10:33:00</td>\n",
       "      <td>2023-05-17</td>\n",
       "      <td>10.00</td>\n",
       "      <td>1.00</td>\n",
       "    </tr>\n",
       "  </tbody>\n",
       "</table>\n",
       "</div>"
      ],
      "text/plain": [
       "   user_id            reg_time reg_time_dt           open_time  \\\n",
       "0   439127 2023-05-16 15:47:56  2023-05-16 2023-05-16 15:47:56   \n",
       "1   439127 2023-05-16 15:47:56  2023-05-16 2023-05-17 02:16:58   \n",
       "2   439127 2023-05-16 15:47:56  2023-05-16 2023-05-17 03:18:01   \n",
       "3   439127 2023-05-16 15:47:56  2023-05-16 2023-05-17 04:25:57   \n",
       "4   439127 2023-05-16 15:47:56  2023-05-16 2023-05-17 10:22:22   \n",
       "\n",
       "           close_time open_time_dt  duration  lifetime  \n",
       "0 2023-05-16 16:55:15   2023-05-16     67.00      0.00  \n",
       "1 2023-05-17 02:52:27   2023-05-17     35.00      1.00  \n",
       "2 2023-05-17 03:35:25   2023-05-17     17.00      1.00  \n",
       "3 2023-05-17 04:40:43   2023-05-17     14.00      1.00  \n",
       "4 2023-05-17 10:33:00   2023-05-17     10.00      1.00  "
      ]
     },
     "execution_count": 54,
     "metadata": {},
     "output_type": "execute_result"
    }
   ],
   "source": [
    "users_sessions.head()"
   ]
  },
  {
   "cell_type": "code",
   "execution_count": 55,
   "id": "modular-spirit",
   "metadata": {
    "id": "intensive-accounting",
    "outputId": "da8d02f2-2a57-46fe-a270-5516680d79de"
   },
   "outputs": [
    {
     "name": "stdout",
     "output_type": "stream",
     "text": [
      "<class 'pandas.core.frame.DataFrame'>\n",
      "Int64Index: 358048 entries, 0 to 358047\n",
      "Data columns (total 8 columns):\n",
      " #   Column        Non-Null Count   Dtype         \n",
      "---  ------        --------------   -----         \n",
      " 0   user_id       358048 non-null  int64         \n",
      " 1   reg_time      358048 non-null  datetime64[ns]\n",
      " 2   reg_time_dt   358048 non-null  datetime64[ns]\n",
      " 3   open_time     358004 non-null  datetime64[ns]\n",
      " 4   close_time    358004 non-null  datetime64[ns]\n",
      " 5   open_time_dt  358004 non-null  datetime64[ns]\n",
      " 6   duration      358004 non-null  float64       \n",
      " 7   lifetime      358048 non-null  float64       \n",
      "dtypes: datetime64[ns](5), float64(2), int64(1)\n",
      "memory usage: 24.6 MB\n"
     ]
    }
   ],
   "source": [
    "users_sessions.info()"
   ]
  },
  {
   "cell_type": "code",
   "execution_count": 56,
   "id": "reasonable-grace",
   "metadata": {
    "id": "given-first",
    "outputId": "22deb318-f52c-4bc3-8c6b-84cd9abffd0a"
   },
   "outputs": [
    {
     "name": "stdout",
     "output_type": "stream",
     "text": [
      "<class 'pandas.core.frame.DataFrame'>\n",
      "Int64Index: 358004 entries, 0 to 358047\n",
      "Data columns (total 8 columns):\n",
      " #   Column        Non-Null Count   Dtype         \n",
      "---  ------        --------------   -----         \n",
      " 0   user_id       358004 non-null  int64         \n",
      " 1   reg_time      358004 non-null  datetime64[ns]\n",
      " 2   reg_time_dt   358004 non-null  datetime64[ns]\n",
      " 3   open_time     358004 non-null  datetime64[ns]\n",
      " 4   close_time    358004 non-null  datetime64[ns]\n",
      " 5   open_time_dt  358004 non-null  datetime64[ns]\n",
      " 6   duration      358004 non-null  float64       \n",
      " 7   lifetime      358004 non-null  float64       \n",
      "dtypes: datetime64[ns](5), float64(2), int64(1)\n",
      "memory usage: 24.6 MB\n"
     ]
    }
   ],
   "source": [
    "# для корректного расчета времени в приложении,\n",
    "# удалим строки с пропусками, которые сохраняли для когортного анализа,\n",
    "# чтобы учесть 44 пользователя, которые не совершали сессии после регистрации (больше пропуски не нужны)\n",
    "users_sessions = users_sessions[users_sessions['duration'].notna()] # users_sessions.dropna(subset=['duration'])\n",
    "users_sessions.info()"
   ]
  },
  {
   "cell_type": "code",
   "execution_count": 57,
   "id": "pharmaceutical-wilderness",
   "metadata": {
    "id": "sixth-roads",
    "outputId": "ed22de9f-284a-48bf-ec57-be6c3ea21812"
   },
   "outputs": [
    {
     "data": {
      "text/html": [
       "<div>\n",
       "<style scoped>\n",
       "    .dataframe tbody tr th:only-of-type {\n",
       "        vertical-align: middle;\n",
       "    }\n",
       "\n",
       "    .dataframe tbody tr th {\n",
       "        vertical-align: top;\n",
       "    }\n",
       "\n",
       "    .dataframe thead th {\n",
       "        text-align: right;\n",
       "    }\n",
       "</style>\n",
       "<table border=\"1\" class=\"dataframe\">\n",
       "  <thead>\n",
       "    <tr style=\"text-align: right;\">\n",
       "      <th>lifetime</th>\n",
       "      <th>0.00</th>\n",
       "      <th>1.00</th>\n",
       "      <th>2.00</th>\n",
       "      <th>3.00</th>\n",
       "      <th>4.00</th>\n",
       "      <th>5.00</th>\n",
       "      <th>6.00</th>\n",
       "      <th>7.00</th>\n",
       "      <th>8.00</th>\n",
       "      <th>9.00</th>\n",
       "      <th>10.00</th>\n",
       "    </tr>\n",
       "    <tr>\n",
       "      <th>reg_time_dt</th>\n",
       "      <th></th>\n",
       "      <th></th>\n",
       "      <th></th>\n",
       "      <th></th>\n",
       "      <th></th>\n",
       "      <th></th>\n",
       "      <th></th>\n",
       "      <th></th>\n",
       "      <th></th>\n",
       "      <th></th>\n",
       "      <th></th>\n",
       "    </tr>\n",
       "  </thead>\n",
       "  <tbody>\n",
       "    <tr>\n",
       "      <th>2023-05-11</th>\n",
       "      <td>18.22</td>\n",
       "      <td>10.86</td>\n",
       "      <td>9.93</td>\n",
       "      <td>11.11</td>\n",
       "      <td>11.31</td>\n",
       "      <td>13.34</td>\n",
       "      <td>12.11</td>\n",
       "      <td>10.28</td>\n",
       "      <td>11.58</td>\n",
       "      <td>12.06</td>\n",
       "      <td>18.43</td>\n",
       "    </tr>\n",
       "    <tr>\n",
       "      <th>2023-05-12</th>\n",
       "      <td>17.65</td>\n",
       "      <td>10.97</td>\n",
       "      <td>9.85</td>\n",
       "      <td>9.57</td>\n",
       "      <td>9.21</td>\n",
       "      <td>10.94</td>\n",
       "      <td>9.44</td>\n",
       "      <td>9.30</td>\n",
       "      <td>9.01</td>\n",
       "      <td>8.91</td>\n",
       "      <td>9.87</td>\n",
       "    </tr>\n",
       "    <tr>\n",
       "      <th>2023-05-13</th>\n",
       "      <td>16.36</td>\n",
       "      <td>9.37</td>\n",
       "      <td>10.59</td>\n",
       "      <td>9.57</td>\n",
       "      <td>9.88</td>\n",
       "      <td>11.06</td>\n",
       "      <td>9.90</td>\n",
       "      <td>9.55</td>\n",
       "      <td>11.25</td>\n",
       "      <td>11.27</td>\n",
       "      <td>9.78</td>\n",
       "    </tr>\n",
       "    <tr>\n",
       "      <th>2023-05-14</th>\n",
       "      <td>13.53</td>\n",
       "      <td>11.20</td>\n",
       "      <td>11.76</td>\n",
       "      <td>12.02</td>\n",
       "      <td>12.48</td>\n",
       "      <td>11.85</td>\n",
       "      <td>10.92</td>\n",
       "      <td>10.62</td>\n",
       "      <td>10.91</td>\n",
       "      <td>12.35</td>\n",
       "      <td>12.45</td>\n",
       "    </tr>\n",
       "    <tr>\n",
       "      <th>2023-05-15</th>\n",
       "      <td>15.82</td>\n",
       "      <td>12.09</td>\n",
       "      <td>10.63</td>\n",
       "      <td>10.85</td>\n",
       "      <td>10.77</td>\n",
       "      <td>10.06</td>\n",
       "      <td>10.86</td>\n",
       "      <td>10.61</td>\n",
       "      <td>11.30</td>\n",
       "      <td>11.15</td>\n",
       "      <td>11.77</td>\n",
       "    </tr>\n",
       "    <tr>\n",
       "      <th>2023-05-16</th>\n",
       "      <td>15.27</td>\n",
       "      <td>11.81</td>\n",
       "      <td>10.88</td>\n",
       "      <td>10.69</td>\n",
       "      <td>10.42</td>\n",
       "      <td>10.68</td>\n",
       "      <td>10.56</td>\n",
       "      <td>10.74</td>\n",
       "      <td>10.99</td>\n",
       "      <td>11.35</td>\n",
       "      <td>11.70</td>\n",
       "    </tr>\n",
       "    <tr>\n",
       "      <th>2023-05-17</th>\n",
       "      <td>17.77</td>\n",
       "      <td>11.34</td>\n",
       "      <td>10.68</td>\n",
       "      <td>10.12</td>\n",
       "      <td>10.49</td>\n",
       "      <td>10.69</td>\n",
       "      <td>10.77</td>\n",
       "      <td>10.97</td>\n",
       "      <td>10.91</td>\n",
       "      <td>10.95</td>\n",
       "      <td>11.55</td>\n",
       "    </tr>\n",
       "    <tr>\n",
       "      <th>2023-05-18</th>\n",
       "      <td>17.26</td>\n",
       "      <td>11.50</td>\n",
       "      <td>10.74</td>\n",
       "      <td>10.66</td>\n",
       "      <td>11.18</td>\n",
       "      <td>11.60</td>\n",
       "      <td>11.24</td>\n",
       "      <td>11.05</td>\n",
       "      <td>10.89</td>\n",
       "      <td>11.71</td>\n",
       "      <td>12.10</td>\n",
       "    </tr>\n",
       "    <tr>\n",
       "      <th>2023-05-19</th>\n",
       "      <td>19.30</td>\n",
       "      <td>12.44</td>\n",
       "      <td>12.58</td>\n",
       "      <td>12.66</td>\n",
       "      <td>11.86</td>\n",
       "      <td>13.00</td>\n",
       "      <td>12.27</td>\n",
       "      <td>11.87</td>\n",
       "      <td>12.92</td>\n",
       "      <td>12.83</td>\n",
       "      <td>11.11</td>\n",
       "    </tr>\n",
       "    <tr>\n",
       "      <th>2023-05-20</th>\n",
       "      <td>16.18</td>\n",
       "      <td>10.14</td>\n",
       "      <td>9.23</td>\n",
       "      <td>9.74</td>\n",
       "      <td>9.24</td>\n",
       "      <td>10.07</td>\n",
       "      <td>9.90</td>\n",
       "      <td>10.37</td>\n",
       "      <td>9.65</td>\n",
       "      <td>10.30</td>\n",
       "      <td>11.08</td>\n",
       "    </tr>\n",
       "    <tr>\n",
       "      <th>2023-05-21</th>\n",
       "      <td>17.10</td>\n",
       "      <td>13.06</td>\n",
       "      <td>9.06</td>\n",
       "      <td>10.68</td>\n",
       "      <td>9.18</td>\n",
       "      <td>11.01</td>\n",
       "      <td>8.20</td>\n",
       "      <td>9.37</td>\n",
       "      <td>10.71</td>\n",
       "      <td>10.98</td>\n",
       "      <td>0.00</td>\n",
       "    </tr>\n",
       "  </tbody>\n",
       "</table>\n",
       "</div>"
      ],
      "text/plain": [
       "lifetime     0.00   1.00   2.00   3.00   4.00   5.00   6.00   7.00   8.00   \\\n",
       "reg_time_dt                                                                  \n",
       "2023-05-11   18.22  10.86   9.93  11.11  11.31  13.34  12.11  10.28  11.58   \n",
       "2023-05-12   17.65  10.97   9.85   9.57   9.21  10.94   9.44   9.30   9.01   \n",
       "2023-05-13   16.36   9.37  10.59   9.57   9.88  11.06   9.90   9.55  11.25   \n",
       "2023-05-14   13.53  11.20  11.76  12.02  12.48  11.85  10.92  10.62  10.91   \n",
       "2023-05-15   15.82  12.09  10.63  10.85  10.77  10.06  10.86  10.61  11.30   \n",
       "2023-05-16   15.27  11.81  10.88  10.69  10.42  10.68  10.56  10.74  10.99   \n",
       "2023-05-17   17.77  11.34  10.68  10.12  10.49  10.69  10.77  10.97  10.91   \n",
       "2023-05-18   17.26  11.50  10.74  10.66  11.18  11.60  11.24  11.05  10.89   \n",
       "2023-05-19   19.30  12.44  12.58  12.66  11.86  13.00  12.27  11.87  12.92   \n",
       "2023-05-20   16.18  10.14   9.23   9.74   9.24  10.07   9.90  10.37   9.65   \n",
       "2023-05-21   17.10  13.06   9.06  10.68   9.18  11.01   8.20   9.37  10.71   \n",
       "\n",
       "lifetime     9.00   10.00  \n",
       "reg_time_dt                \n",
       "2023-05-11   12.06  18.43  \n",
       "2023-05-12    8.91   9.87  \n",
       "2023-05-13   11.27   9.78  \n",
       "2023-05-14   12.35  12.45  \n",
       "2023-05-15   11.15  11.77  \n",
       "2023-05-16   11.35  11.70  \n",
       "2023-05-17   10.95  11.55  \n",
       "2023-05-18   11.71  12.10  \n",
       "2023-05-19   12.83  11.11  \n",
       "2023-05-20   10.30  11.08  \n",
       "2023-05-21   10.98   0.00  "
      ]
     },
     "execution_count": 57,
     "metadata": {},
     "output_type": "execute_result"
    }
   ],
   "source": [
    "# сформирум когорты времени в приложении\n",
    "users_sessions_grouped_duration = users_sessions.pivot_table(index='reg_time_dt', columns='lifetime', values='duration', aggfunc='mean').fillna(0)\n",
    "users_sessions_grouped_duration"
   ]
  },
  {
   "cell_type": "code",
   "execution_count": 58,
   "id": "touched-cover",
   "metadata": {
    "id": "incomplete-bulletin",
    "outputId": "d54c3d53-b907-436a-978c-75fbf4afd312"
   },
   "outputs": [
    {
     "data": {
      "image/png": "[encoded data removed]",
      "text/plain": [
       "<Figure size 864x432 with 2 Axes>"
      ]
     },
     "metadata": {
      "needs_background": "light"
     },
     "output_type": "display_data"
    }
   ],
   "source": [
    "# хитмэп времени в приложении, в мин.\n",
    "plt.figure(figsize=(12, 6))\n",
    "ax = sns.heatmap(users_sessions_grouped_duration, annot=True, fmt='.0f')\n",
    "ax.set_xlabel('Лайфтайм')\n",
    "ax.set_ylabel('Дата регистрации')\n",
    "ax.set_yticklabels(users_sessions_grouped_duration.index.strftime('%Y-%m-%d'))\n",
    "plt.title('Тепловая карта времени в приложении (минуты)')\n",
    "plt.show()"
   ]
  },
  {
   "cell_type": "markdown",
   "id": "typical-occurrence",
   "metadata": {
    "id": "caring-commissioner"
   },
   "source": [
    "Больше всего времени пользователи проводят в приложении в день регистрации - 14-19 минут. В первые 10 дней после регистрации наблюдается стабильное времяпребывание в приложении - по 9-12 минут каждый день."
   ]
  },
  {
   "cell_type": "markdown",
   "id": "swiss-activation",
   "metadata": {
    "id": "thirty-cooling"
   },
   "source": [
    "## Присутствие учеников на уровнях"
   ]
  },
  {
   "cell_type": "code",
   "execution_count": 59,
   "id": "exclusive-denial",
   "metadata": {
    "id": "fifth-russian",
    "outputId": "a2c5bfd3-fcf9-4695-92dc-6adbef0de97c"
   },
   "outputs": [
    {
     "data": {
      "text/html": [
       "<div>\n",
       "<style scoped>\n",
       "    .dataframe tbody tr th:only-of-type {\n",
       "        vertical-align: middle;\n",
       "    }\n",
       "\n",
       "    .dataframe tbody tr th {\n",
       "        vertical-align: top;\n",
       "    }\n",
       "\n",
       "    .dataframe thead th {\n",
       "        text-align: right;\n",
       "    }\n",
       "</style>\n",
       "<table border=\"1\" class=\"dataframe\">\n",
       "  <thead>\n",
       "    <tr style=\"text-align: right;\">\n",
       "      <th></th>\n",
       "      <th>user_id</th>\n",
       "      <th>time</th>\n",
       "      <th>level</th>\n",
       "      <th>time_dt</th>\n",
       "    </tr>\n",
       "  </thead>\n",
       "  <tbody>\n",
       "    <tr>\n",
       "      <th>0</th>\n",
       "      <td>105194</td>\n",
       "      <td>2023-05-16 08:22:12</td>\n",
       "      <td>2.00</td>\n",
       "      <td>2023-05-16</td>\n",
       "    </tr>\n",
       "    <tr>\n",
       "      <th>1</th>\n",
       "      <td>105194</td>\n",
       "      <td>2023-05-16 08:26:42</td>\n",
       "      <td>3.00</td>\n",
       "      <td>2023-05-16</td>\n",
       "    </tr>\n",
       "    <tr>\n",
       "      <th>2</th>\n",
       "      <td>105194</td>\n",
       "      <td>2023-05-16 08:27:12</td>\n",
       "      <td>4.00</td>\n",
       "      <td>2023-05-16</td>\n",
       "    </tr>\n",
       "    <tr>\n",
       "      <th>3</th>\n",
       "      <td>991914</td>\n",
       "      <td>2023-05-16 09:06:38</td>\n",
       "      <td>2.00</td>\n",
       "      <td>2023-05-16</td>\n",
       "    </tr>\n",
       "    <tr>\n",
       "      <th>4</th>\n",
       "      <td>991914</td>\n",
       "      <td>2023-05-16 09:09:39</td>\n",
       "      <td>3.00</td>\n",
       "      <td>2023-05-16</td>\n",
       "    </tr>\n",
       "  </tbody>\n",
       "</table>\n",
       "</div>"
      ],
      "text/plain": [
       "   user_id                time  level    time_dt\n",
       "0   105194 2023-05-16 08:22:12   2.00 2023-05-16\n",
       "1   105194 2023-05-16 08:26:42   3.00 2023-05-16\n",
       "2   105194 2023-05-16 08:27:12   4.00 2023-05-16\n",
       "3   991914 2023-05-16 09:06:38   2.00 2023-05-16\n",
       "4   991914 2023-05-16 09:09:39   3.00 2023-05-16"
      ]
     },
     "execution_count": 59,
     "metadata": {},
     "output_type": "execute_result"
    }
   ],
   "source": [
    "levels.head()"
   ]
  },
  {
   "cell_type": "code",
   "execution_count": 60,
   "id": "manual-harrison",
   "metadata": {
    "id": "respiratory-indicator",
    "outputId": "437dcddb-d554-4b54-c787-da5c57c04990"
   },
   "outputs": [
    {
     "name": "stdout",
     "output_type": "stream",
     "text": [
      "<class 'pandas.core.frame.DataFrame'>\n",
      "Int64Index: 130623 entries, 0 to 130629\n",
      "Data columns (total 4 columns):\n",
      " #   Column   Non-Null Count   Dtype         \n",
      "---  ------   --------------   -----         \n",
      " 0   user_id  130623 non-null  int64         \n",
      " 1   time     130623 non-null  datetime64[ns]\n",
      " 2   level    130623 non-null  float64       \n",
      " 3   time_dt  130623 non-null  datetime64[ns]\n",
      "dtypes: datetime64[ns](2), float64(1), int64(1)\n",
      "memory usage: 5.0 MB\n"
     ]
    }
   ],
   "source": [
    "levels.info()"
   ]
  },
  {
   "cell_type": "code",
   "execution_count": 61,
   "id": "concrete-check",
   "metadata": {
    "id": "tough-radical",
    "outputId": "c2a12a04-8cfa-4ecf-c157-d1c83c1c2ea9"
   },
   "outputs": [
    {
     "data": {
      "text/plain": [
       "25545"
      ]
     },
     "execution_count": 61,
     "metadata": {},
     "output_type": "execute_result"
    }
   ],
   "source": [
    "levels['user_id'].nunique()"
   ]
  },
  {
   "cell_type": "code",
   "execution_count": 62,
   "id": "intense-marsh",
   "metadata": {
    "id": "square-phrase",
    "outputId": "9f726424-dd6b-40a7-e713-6bf780416125"
   },
   "outputs": [
    {
     "data": {
      "text/html": [
       "<div>\n",
       "<style scoped>\n",
       "    .dataframe tbody tr th:only-of-type {\n",
       "        vertical-align: middle;\n",
       "    }\n",
       "\n",
       "    .dataframe tbody tr th {\n",
       "        vertical-align: top;\n",
       "    }\n",
       "\n",
       "    .dataframe thead th {\n",
       "        text-align: right;\n",
       "    }\n",
       "</style>\n",
       "<table border=\"1\" class=\"dataframe\">\n",
       "  <thead>\n",
       "    <tr style=\"text-align: right;\">\n",
       "      <th></th>\n",
       "      <th>user_id</th>\n",
       "      <th>reg_time</th>\n",
       "      <th>reg_time_dt</th>\n",
       "    </tr>\n",
       "  </thead>\n",
       "  <tbody>\n",
       "    <tr>\n",
       "      <th>0</th>\n",
       "      <td>439127</td>\n",
       "      <td>2023-05-16 15:47:56</td>\n",
       "      <td>2023-05-16</td>\n",
       "    </tr>\n",
       "    <tr>\n",
       "      <th>1</th>\n",
       "      <td>646681</td>\n",
       "      <td>2023-05-16 16:32:35</td>\n",
       "      <td>2023-05-16</td>\n",
       "    </tr>\n",
       "    <tr>\n",
       "      <th>2</th>\n",
       "      <td>35136</td>\n",
       "      <td>2023-05-16 16:50:14</td>\n",
       "      <td>2023-05-16</td>\n",
       "    </tr>\n",
       "    <tr>\n",
       "      <th>3</th>\n",
       "      <td>933255</td>\n",
       "      <td>2023-05-16 03:28:56</td>\n",
       "      <td>2023-05-16</td>\n",
       "    </tr>\n",
       "    <tr>\n",
       "      <th>4</th>\n",
       "      <td>59440</td>\n",
       "      <td>2023-05-16 06:53:22</td>\n",
       "      <td>2023-05-16</td>\n",
       "    </tr>\n",
       "  </tbody>\n",
       "</table>\n",
       "</div>"
      ],
      "text/plain": [
       "   user_id            reg_time reg_time_dt\n",
       "0   439127 2023-05-16 15:47:56  2023-05-16\n",
       "1   646681 2023-05-16 16:32:35  2023-05-16\n",
       "2    35136 2023-05-16 16:50:14  2023-05-16\n",
       "3   933255 2023-05-16 03:28:56  2023-05-16\n",
       "4    59440 2023-05-16 06:53:22  2023-05-16"
      ]
     },
     "execution_count": 62,
     "metadata": {},
     "output_type": "execute_result"
    }
   ],
   "source": [
    "users.head()"
   ]
  },
  {
   "cell_type": "code",
   "execution_count": 63,
   "id": "falling-messenger",
   "metadata": {
    "id": "suburban-traffic",
    "outputId": "a206d276-1f29-48f4-b897-fd03c3390c49"
   },
   "outputs": [
    {
     "data": {
      "text/plain": [
       "31114"
      ]
     },
     "execution_count": 63,
     "metadata": {},
     "output_type": "execute_result"
    }
   ],
   "source": [
    "users['user_id'].nunique()"
   ]
  },
  {
   "cell_type": "code",
   "execution_count": 64,
   "id": "earned-intersection",
   "metadata": {
    "id": "simplified-alpha",
    "outputId": "4b516464-ed7a-4a87-8526-bc438ebcb4a5"
   },
   "outputs": [
    {
     "data": {
      "text/plain": [
       "0.82"
      ]
     },
     "execution_count": 64,
     "metadata": {},
     "output_type": "execute_result"
    }
   ],
   "source": [
    "round(levels['user_id'].nunique() / users['user_id'].nunique(), 2)"
   ]
  },
  {
   "cell_type": "markdown",
   "id": "affiliated-benefit",
   "metadata": {
    "id": "together-patient"
   },
   "source": [
    "Доля пользователей, повысивших уровень - 82%"
   ]
  },
  {
   "cell_type": "code",
   "execution_count": 65,
   "id": "extra-hammer",
   "metadata": {
    "id": "signed-eagle",
    "outputId": "0f163354-86c3-48b0-b851-3a8fc46ebcff"
   },
   "outputs": [
    {
     "data": {
      "text/html": [
       "<div>\n",
       "<style scoped>\n",
       "    .dataframe tbody tr th:only-of-type {\n",
       "        vertical-align: middle;\n",
       "    }\n",
       "\n",
       "    .dataframe tbody tr th {\n",
       "        vertical-align: top;\n",
       "    }\n",
       "\n",
       "    .dataframe thead th {\n",
       "        text-align: right;\n",
       "    }\n",
       "</style>\n",
       "<table border=\"1\" class=\"dataframe\">\n",
       "  <thead>\n",
       "    <tr style=\"text-align: right;\">\n",
       "      <th></th>\n",
       "      <th>user_id</th>\n",
       "      <th>reg_time</th>\n",
       "      <th>reg_time_dt</th>\n",
       "      <th>time</th>\n",
       "      <th>level</th>\n",
       "      <th>time_dt</th>\n",
       "    </tr>\n",
       "  </thead>\n",
       "  <tbody>\n",
       "    <tr>\n",
       "      <th>0</th>\n",
       "      <td>439127</td>\n",
       "      <td>2023-05-16 15:47:56</td>\n",
       "      <td>2023-05-16</td>\n",
       "      <td>2023-05-16 15:51:10</td>\n",
       "      <td>2.00</td>\n",
       "      <td>2023-05-16</td>\n",
       "    </tr>\n",
       "    <tr>\n",
       "      <th>1</th>\n",
       "      <td>439127</td>\n",
       "      <td>2023-05-16 15:47:56</td>\n",
       "      <td>2023-05-16</td>\n",
       "      <td>2023-05-16 15:55:16</td>\n",
       "      <td>3.00</td>\n",
       "      <td>2023-05-16</td>\n",
       "    </tr>\n",
       "    <tr>\n",
       "      <th>2</th>\n",
       "      <td>439127</td>\n",
       "      <td>2023-05-16 15:47:56</td>\n",
       "      <td>2023-05-16</td>\n",
       "      <td>2023-05-16 16:00:09</td>\n",
       "      <td>4.00</td>\n",
       "      <td>2023-05-16</td>\n",
       "    </tr>\n",
       "    <tr>\n",
       "      <th>3</th>\n",
       "      <td>439127</td>\n",
       "      <td>2023-05-16 15:47:56</td>\n",
       "      <td>2023-05-16</td>\n",
       "      <td>2023-05-16 16:14:09</td>\n",
       "      <td>5.00</td>\n",
       "      <td>2023-05-16</td>\n",
       "    </tr>\n",
       "    <tr>\n",
       "      <th>4</th>\n",
       "      <td>439127</td>\n",
       "      <td>2023-05-16 15:47:56</td>\n",
       "      <td>2023-05-16</td>\n",
       "      <td>2023-05-16 16:27:32</td>\n",
       "      <td>6.00</td>\n",
       "      <td>2023-05-16</td>\n",
       "    </tr>\n",
       "  </tbody>\n",
       "</table>\n",
       "</div>"
      ],
      "text/plain": [
       "   user_id            reg_time reg_time_dt                time  level  \\\n",
       "0   439127 2023-05-16 15:47:56  2023-05-16 2023-05-16 15:51:10   2.00   \n",
       "1   439127 2023-05-16 15:47:56  2023-05-16 2023-05-16 15:55:16   3.00   \n",
       "2   439127 2023-05-16 15:47:56  2023-05-16 2023-05-16 16:00:09   4.00   \n",
       "3   439127 2023-05-16 15:47:56  2023-05-16 2023-05-16 16:14:09   5.00   \n",
       "4   439127 2023-05-16 15:47:56  2023-05-16 2023-05-16 16:27:32   6.00   \n",
       "\n",
       "     time_dt  \n",
       "0 2023-05-16  \n",
       "1 2023-05-16  \n",
       "2 2023-05-16  \n",
       "3 2023-05-16  \n",
       "4 2023-05-16  "
      ]
     },
     "execution_count": 65,
     "metadata": {},
     "output_type": "execute_result"
    }
   ],
   "source": [
    "# объединим таблицы регистраций и уровней\n",
    "users_levels = users.merge(levels, how='inner', on='user_id')\n",
    "users_levels.head()"
   ]
  },
  {
   "cell_type": "code",
   "execution_count": 66,
   "id": "indie-renaissance",
   "metadata": {
    "id": "sixth-messaging",
    "outputId": "e3b9032a-55d5-4b46-ca65-6735f92f3e78"
   },
   "outputs": [
    {
     "name": "stdout",
     "output_type": "stream",
     "text": [
      "<class 'pandas.core.frame.DataFrame'>\n",
      "Int64Index: 130623 entries, 0 to 130622\n",
      "Data columns (total 6 columns):\n",
      " #   Column       Non-Null Count   Dtype         \n",
      "---  ------       --------------   -----         \n",
      " 0   user_id      130623 non-null  int64         \n",
      " 1   reg_time     130623 non-null  datetime64[ns]\n",
      " 2   reg_time_dt  130623 non-null  datetime64[ns]\n",
      " 3   time         130623 non-null  datetime64[ns]\n",
      " 4   level        130623 non-null  float64       \n",
      " 5   time_dt      130623 non-null  datetime64[ns]\n",
      "dtypes: datetime64[ns](4), float64(1), int64(1)\n",
      "memory usage: 7.0 MB\n"
     ]
    }
   ],
   "source": [
    "users_levels.info()"
   ]
  },
  {
   "cell_type": "code",
   "execution_count": 67,
   "id": "indie-advertising",
   "metadata": {
    "id": "front-palmer",
    "outputId": "7c943059-5a93-4ce5-e55f-5b00f1951c86"
   },
   "outputs": [
    {
     "data": {
      "text/html": [
       "<div>\n",
       "<style scoped>\n",
       "    .dataframe tbody tr th:only-of-type {\n",
       "        vertical-align: middle;\n",
       "    }\n",
       "\n",
       "    .dataframe tbody tr th {\n",
       "        vertical-align: top;\n",
       "    }\n",
       "\n",
       "    .dataframe thead th {\n",
       "        text-align: right;\n",
       "    }\n",
       "</style>\n",
       "<table border=\"1\" class=\"dataframe\">\n",
       "  <thead>\n",
       "    <tr style=\"text-align: right;\">\n",
       "      <th></th>\n",
       "      <th>user_id</th>\n",
       "      <th>reg_time</th>\n",
       "      <th>reg_time_dt</th>\n",
       "      <th>time</th>\n",
       "      <th>level</th>\n",
       "      <th>time_dt</th>\n",
       "      <th>minutes_to_uplevel</th>\n",
       "      <th>hours_to_uplevel</th>\n",
       "    </tr>\n",
       "  </thead>\n",
       "  <tbody>\n",
       "    <tr>\n",
       "      <th>0</th>\n",
       "      <td>439127</td>\n",
       "      <td>2023-05-16 15:47:56</td>\n",
       "      <td>2023-05-16</td>\n",
       "      <td>2023-05-16 15:51:10</td>\n",
       "      <td>2.00</td>\n",
       "      <td>2023-05-16</td>\n",
       "      <td>3.00</td>\n",
       "      <td>0.05</td>\n",
       "    </tr>\n",
       "    <tr>\n",
       "      <th>1</th>\n",
       "      <td>439127</td>\n",
       "      <td>2023-05-16 15:47:56</td>\n",
       "      <td>2023-05-16</td>\n",
       "      <td>2023-05-16 15:55:16</td>\n",
       "      <td>3.00</td>\n",
       "      <td>2023-05-16</td>\n",
       "      <td>7.00</td>\n",
       "      <td>0.12</td>\n",
       "    </tr>\n",
       "    <tr>\n",
       "      <th>2</th>\n",
       "      <td>439127</td>\n",
       "      <td>2023-05-16 15:47:56</td>\n",
       "      <td>2023-05-16</td>\n",
       "      <td>2023-05-16 16:00:09</td>\n",
       "      <td>4.00</td>\n",
       "      <td>2023-05-16</td>\n",
       "      <td>12.00</td>\n",
       "      <td>0.20</td>\n",
       "    </tr>\n",
       "    <tr>\n",
       "      <th>3</th>\n",
       "      <td>439127</td>\n",
       "      <td>2023-05-16 15:47:56</td>\n",
       "      <td>2023-05-16</td>\n",
       "      <td>2023-05-16 16:14:09</td>\n",
       "      <td>5.00</td>\n",
       "      <td>2023-05-16</td>\n",
       "      <td>26.00</td>\n",
       "      <td>0.43</td>\n",
       "    </tr>\n",
       "    <tr>\n",
       "      <th>4</th>\n",
       "      <td>439127</td>\n",
       "      <td>2023-05-16 15:47:56</td>\n",
       "      <td>2023-05-16</td>\n",
       "      <td>2023-05-16 16:27:32</td>\n",
       "      <td>6.00</td>\n",
       "      <td>2023-05-16</td>\n",
       "      <td>39.00</td>\n",
       "      <td>0.65</td>\n",
       "    </tr>\n",
       "  </tbody>\n",
       "</table>\n",
       "</div>"
      ],
      "text/plain": [
       "   user_id            reg_time reg_time_dt                time  level  \\\n",
       "0   439127 2023-05-16 15:47:56  2023-05-16 2023-05-16 15:51:10   2.00   \n",
       "1   439127 2023-05-16 15:47:56  2023-05-16 2023-05-16 15:55:16   3.00   \n",
       "2   439127 2023-05-16 15:47:56  2023-05-16 2023-05-16 16:00:09   4.00   \n",
       "3   439127 2023-05-16 15:47:56  2023-05-16 2023-05-16 16:14:09   5.00   \n",
       "4   439127 2023-05-16 15:47:56  2023-05-16 2023-05-16 16:27:32   6.00   \n",
       "\n",
       "     time_dt  minutes_to_uplevel  hours_to_uplevel  \n",
       "0 2023-05-16                3.00              0.05  \n",
       "1 2023-05-16                7.00              0.12  \n",
       "2 2023-05-16               12.00              0.20  \n",
       "3 2023-05-16               26.00              0.43  \n",
       "4 2023-05-16               39.00              0.65  "
      ]
     },
     "execution_count": 67,
     "metadata": {},
     "output_type": "execute_result"
    }
   ],
   "source": [
    "# рассчитаем количество минут и часов с момента регистрации до поднятия уровня\n",
    "users_levels['minutes_to_uplevel'] = (users_levels['time'] - users_levels['reg_time']).astype('timedelta64[m]')\n",
    "users_levels['hours_to_uplevel'] = users_levels['minutes_to_uplevel'] / 60\n",
    "users_levels.head()"
   ]
  },
  {
   "cell_type": "code",
   "execution_count": 68,
   "id": "sexual-freedom",
   "metadata": {
    "id": "close-inclusion",
    "outputId": "9bdae091-dc23-4e1f-f3c2-ab287ed47857"
   },
   "outputs": [
    {
     "data": {
      "text/plain": [
       "(0.016666666666666666, 232.98333333333332, 22.51441693525132)"
      ]
     },
     "execution_count": 68,
     "metadata": {},
     "output_type": "execute_result"
    }
   ],
   "source": [
    "# посмотрим на время в часах\n",
    "users_levels.hours_to_uplevel.min(), users_levels.hours_to_uplevel.max(), users_levels.hours_to_uplevel.mean()"
   ]
  },
  {
   "cell_type": "code",
   "execution_count": 69,
   "id": "manual-inspiration",
   "metadata": {
    "id": "stable-source",
    "outputId": "811454d6-f53f-4712-c2c9-d84c7ce577a9"
   },
   "outputs": [
    {
     "name": "stdout",
     "output_type": "stream",
     "text": [
      "Количество учеников на каждом уровне, начиная с уровня 2\n"
     ]
    },
    {
     "data": {
      "text/html": [
       "<div>\n",
       "<style scoped>\n",
       "    .dataframe tbody tr th:only-of-type {\n",
       "        vertical-align: middle;\n",
       "    }\n",
       "\n",
       "    .dataframe tbody tr th {\n",
       "        vertical-align: top;\n",
       "    }\n",
       "\n",
       "    .dataframe thead th {\n",
       "        text-align: right;\n",
       "    }\n",
       "</style>\n",
       "<table border=\"1\" class=\"dataframe\">\n",
       "  <thead>\n",
       "    <tr style=\"text-align: right;\">\n",
       "      <th>level</th>\n",
       "      <th>regs</th>\n",
       "      <th>2.0</th>\n",
       "      <th>3.0</th>\n",
       "      <th>4.0</th>\n",
       "      <th>5.0</th>\n",
       "      <th>6.0</th>\n",
       "      <th>7.0</th>\n",
       "      <th>8.0</th>\n",
       "      <th>9.0</th>\n",
       "      <th>10.0</th>\n",
       "      <th>11.0</th>\n",
       "      <th>12.0</th>\n",
       "      <th>13.0</th>\n",
       "      <th>14.0</th>\n",
       "      <th>15.0</th>\n",
       "      <th>16.0</th>\n",
       "      <th>17.0</th>\n",
       "      <th>18.0</th>\n",
       "      <th>19.0</th>\n",
       "      <th>20.0</th>\n",
       "      <th>21.0</th>\n",
       "    </tr>\n",
       "  </thead>\n",
       "  <tbody>\n",
       "    <tr>\n",
       "      <th>user_id</th>\n",
       "      <td>31114</td>\n",
       "      <td>25534</td>\n",
       "      <td>21366</td>\n",
       "      <td>17862</td>\n",
       "      <td>14438</td>\n",
       "      <td>12729</td>\n",
       "      <td>12083</td>\n",
       "      <td>10327</td>\n",
       "      <td>6598</td>\n",
       "      <td>4034</td>\n",
       "      <td>2636</td>\n",
       "      <td>1553</td>\n",
       "      <td>795</td>\n",
       "      <td>384</td>\n",
       "      <td>173</td>\n",
       "      <td>74</td>\n",
       "      <td>22</td>\n",
       "      <td>7</td>\n",
       "      <td>5</td>\n",
       "      <td>2</td>\n",
       "      <td>1</td>\n",
       "    </tr>\n",
       "  </tbody>\n",
       "</table>\n",
       "</div>"
      ],
      "text/plain": [
       "level     regs    2.0    3.0    4.0    5.0    6.0    7.0    8.0   9.0  10.0  \\\n",
       "user_id  31114  25534  21366  17862  14438  12729  12083  10327  6598  4034   \n",
       "\n",
       "level    11.0  12.0  13.0  14.0  15.0  16.0  17.0  18.0  19.0  20.0  21.0  \n",
       "user_id  2636  1553   795   384   173    74    22     7     5     2     1  "
      ]
     },
     "execution_count": 69,
     "metadata": {},
     "output_type": "execute_result"
    }
   ],
   "source": [
    "# рассчитаем количество учеников на каждом уровне, начиная с уровня 2\n",
    "user_id = users_levels.pivot_table(columns='level', values='user_id', aggfunc='nunique')\n",
    "# добавим количество зарегистрированных\n",
    "user_id['regs'] = users['user_id'].nunique()\n",
    "user_id = user_id[['regs', 2.0,    3.0,    4.0,    5.0,    6.0,    7.0,    8.0,    9.0,   10.0,\n",
    "         11.0,   12.0,   13.0,   14.0,   15.0,   16.0,   17.0,   18.0,   19.0,\n",
    "         20.0,   21.0]]\n",
    "print('Количество учеников на каждом уровне, начиная с уровня 2')\n",
    "user_id"
   ]
  },
  {
   "cell_type": "code",
   "execution_count": 70,
   "id": "understood-harrison",
   "metadata": {
    "id": "limiting-walter",
    "outputId": "9dc64e3b-c59a-4c50-8602-35b11d7a0690"
   },
   "outputs": [
    {
     "name": "stdout",
     "output_type": "stream",
     "text": [
      "Доля учеников на каждом уровне от общего количества зарегистрированных\n"
     ]
    },
    {
     "data": {
      "text/html": [
       "<div>\n",
       "<style scoped>\n",
       "    .dataframe tbody tr th:only-of-type {\n",
       "        vertical-align: middle;\n",
       "    }\n",
       "\n",
       "    .dataframe tbody tr th {\n",
       "        vertical-align: top;\n",
       "    }\n",
       "\n",
       "    .dataframe thead th {\n",
       "        text-align: right;\n",
       "    }\n",
       "</style>\n",
       "<table border=\"1\" class=\"dataframe\">\n",
       "  <thead>\n",
       "    <tr style=\"text-align: right;\">\n",
       "      <th>level</th>\n",
       "      <th>regs</th>\n",
       "      <th>2.0</th>\n",
       "      <th>3.0</th>\n",
       "      <th>4.0</th>\n",
       "      <th>5.0</th>\n",
       "      <th>6.0</th>\n",
       "      <th>7.0</th>\n",
       "      <th>8.0</th>\n",
       "      <th>9.0</th>\n",
       "      <th>10.0</th>\n",
       "      <th>11.0</th>\n",
       "      <th>12.0</th>\n",
       "      <th>13.0</th>\n",
       "      <th>14.0</th>\n",
       "      <th>15.0</th>\n",
       "      <th>16.0</th>\n",
       "      <th>17.0</th>\n",
       "      <th>18.0</th>\n",
       "      <th>19.0</th>\n",
       "      <th>20.0</th>\n",
       "      <th>21.0</th>\n",
       "    </tr>\n",
       "  </thead>\n",
       "  <tbody>\n",
       "    <tr>\n",
       "      <th>users_ratio</th>\n",
       "      <td>1.00</td>\n",
       "      <td>0.82</td>\n",
       "      <td>0.69</td>\n",
       "      <td>0.57</td>\n",
       "      <td>0.46</td>\n",
       "      <td>0.41</td>\n",
       "      <td>0.39</td>\n",
       "      <td>0.33</td>\n",
       "      <td>0.21</td>\n",
       "      <td>0.13</td>\n",
       "      <td>0.08</td>\n",
       "      <td>0.05</td>\n",
       "      <td>0.03</td>\n",
       "      <td>0.01</td>\n",
       "      <td>0.01</td>\n",
       "      <td>0.00</td>\n",
       "      <td>0.00</td>\n",
       "      <td>0.00</td>\n",
       "      <td>0.00</td>\n",
       "      <td>0.00</td>\n",
       "      <td>0.00</td>\n",
       "    </tr>\n",
       "  </tbody>\n",
       "</table>\n",
       "</div>"
      ],
      "text/plain": [
       "level        regs  2.0  3.0  4.0  5.0  6.0  7.0  8.0  9.0  10.0  11.0  12.0  \\\n",
       "users_ratio  1.00 0.82 0.69 0.57 0.46 0.41 0.39 0.33 0.21  0.13  0.08  0.05   \n",
       "\n",
       "level        13.0  14.0  15.0  16.0  17.0  18.0  19.0  20.0  21.0  \n",
       "users_ratio  0.03  0.01  0.01  0.00  0.00  0.00  0.00  0.00  0.00  "
      ]
     },
     "execution_count": 70,
     "metadata": {},
     "output_type": "execute_result"
    }
   ],
   "source": [
    "# рассчитаем долю пользователей,\n",
    "# перешедших на соответствующий уровень от общего количества зарегистрированных\n",
    "ratio = user_id.div(user_id['regs'], axis=0).rename(index={'user_id': 'users_ratio'})\n",
    "print('Доля учеников на каждом уровне от общего количества зарегистрированных')\n",
    "ratio"
   ]
  },
  {
   "cell_type": "markdown",
   "id": "objective-dallas",
   "metadata": {
    "id": "hispanic-bishop"
   },
   "source": [
    "Доля учеников, перешедших хотя бы на 1 уровень составляет - 82% от зарегистрированных т.е. 18% учеников остались на 1-м уровне и не двигались дальше.<br>\n",
    "Почти 50% учеников добрались до 5-го уровня. <br>\n",
    "До 14-15 уровней дошли только 1% от зарегистрированных учеников.\n",
    "Менее 1% зарегистрированных - на 16-м уровне и выше."
   ]
  },
  {
   "cell_type": "markdown",
   "id": "czech-marks",
   "metadata": {
    "id": "spread-rochester"
   },
   "source": [
    "## Метрики монетизации для всей когорты"
   ]
  },
  {
   "cell_type": "code",
   "execution_count": 71,
   "id": "neural-domestic",
   "metadata": {
    "id": "acting-swing",
    "outputId": "62638092-6191-4c49-f29e-f4f489cef6eb"
   },
   "outputs": [
    {
     "data": {
      "text/html": [
       "<div>\n",
       "<style scoped>\n",
       "    .dataframe tbody tr th:only-of-type {\n",
       "        vertical-align: middle;\n",
       "    }\n",
       "\n",
       "    .dataframe tbody tr th {\n",
       "        vertical-align: top;\n",
       "    }\n",
       "\n",
       "    .dataframe thead th {\n",
       "        text-align: right;\n",
       "    }\n",
       "</style>\n",
       "<table border=\"1\" class=\"dataframe\">\n",
       "  <thead>\n",
       "    <tr style=\"text-align: right;\">\n",
       "      <th></th>\n",
       "      <th>user_id</th>\n",
       "      <th>pay_time</th>\n",
       "      <th>amt</th>\n",
       "      <th>pay_time_dt</th>\n",
       "    </tr>\n",
       "  </thead>\n",
       "  <tbody>\n",
       "    <tr>\n",
       "      <th>1</th>\n",
       "      <td>107907</td>\n",
       "      <td>2023-05-29 17:08:18</td>\n",
       "      <td>0.40</td>\n",
       "      <td>2023-05-29</td>\n",
       "    </tr>\n",
       "    <tr>\n",
       "      <th>2</th>\n",
       "      <td>510991</td>\n",
       "      <td>2023-05-20 16:55:01</td>\n",
       "      <td>0.20</td>\n",
       "      <td>2023-05-20</td>\n",
       "    </tr>\n",
       "    <tr>\n",
       "      <th>3</th>\n",
       "      <td>294837</td>\n",
       "      <td>2023-05-19 01:41:55</td>\n",
       "      <td>0.20</td>\n",
       "      <td>2023-05-19</td>\n",
       "    </tr>\n",
       "    <tr>\n",
       "      <th>4</th>\n",
       "      <td>644287</td>\n",
       "      <td>2023-05-20 03:01:53</td>\n",
       "      <td>0.20</td>\n",
       "      <td>2023-05-20</td>\n",
       "    </tr>\n",
       "    <tr>\n",
       "      <th>5</th>\n",
       "      <td>673424</td>\n",
       "      <td>2023-05-20 03:33:36</td>\n",
       "      <td>0.10</td>\n",
       "      <td>2023-05-20</td>\n",
       "    </tr>\n",
       "  </tbody>\n",
       "</table>\n",
       "</div>"
      ],
      "text/plain": [
       "   user_id            pay_time  amt pay_time_dt\n",
       "1   107907 2023-05-29 17:08:18 0.40  2023-05-29\n",
       "2   510991 2023-05-20 16:55:01 0.20  2023-05-20\n",
       "3   294837 2023-05-19 01:41:55 0.20  2023-05-19\n",
       "4   644287 2023-05-20 03:01:53 0.20  2023-05-20\n",
       "5   673424 2023-05-20 03:33:36 0.10  2023-05-20"
      ]
     },
     "execution_count": 71,
     "metadata": {},
     "output_type": "execute_result"
    }
   ],
   "source": [
    "payments.head()"
   ]
  },
  {
   "cell_type": "markdown",
   "id": "aggressive-supplement",
   "metadata": {
    "id": "caring-aircraft"
   },
   "source": [
    "### Количество платящих учеников"
   ]
  },
  {
   "cell_type": "code",
   "execution_count": 72,
   "id": "geological-probe",
   "metadata": {
    "id": "according-tuition",
    "outputId": "5e05672c-26b1-4ec7-be45-9d75d029fc3d"
   },
   "outputs": [
    {
     "data": {
      "text/plain": [
       "312"
      ]
     },
     "execution_count": 72,
     "metadata": {},
     "output_type": "execute_result"
    }
   ],
   "source": [
    "payments['user_id'].nunique()"
   ]
  },
  {
   "cell_type": "markdown",
   "id": "verified-defense",
   "metadata": {
    "id": "popular-reply"
   },
   "source": [
    "### Доля платящих учеников"
   ]
  },
  {
   "cell_type": "code",
   "execution_count": 73,
   "id": "olympic-kelly",
   "metadata": {
    "id": "buried-boston",
    "outputId": "1e009cd5-dbfe-49dc-9298-284b5c1b5c0c"
   },
   "outputs": [
    {
     "data": {
      "text/plain": [
       "0.01"
      ]
     },
     "execution_count": 73,
     "metadata": {},
     "output_type": "execute_result"
    }
   ],
   "source": [
    "round(payments['user_id'].nunique() / users['user_id'].nunique(), 2)"
   ]
  },
  {
   "cell_type": "markdown",
   "id": "characteristic-bathroom",
   "metadata": {
    "id": "appointed-snapshot"
   },
   "source": [
    "### Количество оплат на одного платящего ученика"
   ]
  },
  {
   "cell_type": "code",
   "execution_count": 74,
   "id": "healthy-bulgarian",
   "metadata": {
    "id": "spread-detail",
    "outputId": "7d7cf72f-6e93-4725-f83f-87b6b4ace5b2"
   },
   "outputs": [
    {
     "data": {
      "text/plain": [
       "2"
      ]
     },
     "execution_count": 74,
     "metadata": {},
     "output_type": "execute_result"
    }
   ],
   "source": [
    "round(payments['user_id'].count() / payments['user_id'].nunique())"
   ]
  },
  {
   "cell_type": "code",
   "execution_count": 75,
   "id": "first-freeze",
   "metadata": {},
   "outputs": [
    {
     "data": {
      "text/html": [
       "<div>\n",
       "<style scoped>\n",
       "    .dataframe tbody tr th:only-of-type {\n",
       "        vertical-align: middle;\n",
       "    }\n",
       "\n",
       "    .dataframe tbody tr th {\n",
       "        vertical-align: top;\n",
       "    }\n",
       "\n",
       "    .dataframe thead th {\n",
       "        text-align: right;\n",
       "    }\n",
       "</style>\n",
       "<table border=\"1\" class=\"dataframe\">\n",
       "  <thead>\n",
       "    <tr style=\"text-align: right;\">\n",
       "      <th></th>\n",
       "      <th>user_id</th>\n",
       "      <th>pay_time</th>\n",
       "      <th>amt</th>\n",
       "      <th>pay_time_dt</th>\n",
       "    </tr>\n",
       "  </thead>\n",
       "  <tbody>\n",
       "    <tr>\n",
       "      <th>1</th>\n",
       "      <td>107907</td>\n",
       "      <td>2023-05-29 17:08:18</td>\n",
       "      <td>0.40</td>\n",
       "      <td>2023-05-29</td>\n",
       "    </tr>\n",
       "    <tr>\n",
       "      <th>2</th>\n",
       "      <td>510991</td>\n",
       "      <td>2023-05-20 16:55:01</td>\n",
       "      <td>0.20</td>\n",
       "      <td>2023-05-20</td>\n",
       "    </tr>\n",
       "    <tr>\n",
       "      <th>3</th>\n",
       "      <td>294837</td>\n",
       "      <td>2023-05-19 01:41:55</td>\n",
       "      <td>0.20</td>\n",
       "      <td>2023-05-19</td>\n",
       "    </tr>\n",
       "    <tr>\n",
       "      <th>4</th>\n",
       "      <td>644287</td>\n",
       "      <td>2023-05-20 03:01:53</td>\n",
       "      <td>0.20</td>\n",
       "      <td>2023-05-20</td>\n",
       "    </tr>\n",
       "    <tr>\n",
       "      <th>5</th>\n",
       "      <td>673424</td>\n",
       "      <td>2023-05-20 03:33:36</td>\n",
       "      <td>0.10</td>\n",
       "      <td>2023-05-20</td>\n",
       "    </tr>\n",
       "  </tbody>\n",
       "</table>\n",
       "</div>"
      ],
      "text/plain": [
       "   user_id            pay_time  amt pay_time_dt\n",
       "1   107907 2023-05-29 17:08:18 0.40  2023-05-29\n",
       "2   510991 2023-05-20 16:55:01 0.20  2023-05-20\n",
       "3   294837 2023-05-19 01:41:55 0.20  2023-05-19\n",
       "4   644287 2023-05-20 03:01:53 0.20  2023-05-20\n",
       "5   673424 2023-05-20 03:33:36 0.10  2023-05-20"
      ]
     },
     "execution_count": 75,
     "metadata": {},
     "output_type": "execute_result"
    }
   ],
   "source": [
    "payments.head()"
   ]
  },
  {
   "cell_type": "code",
   "execution_count": 76,
   "id": "polar-dependence",
   "metadata": {},
   "outputs": [
    {
     "data": {
      "text/plain": [
       "(Timestamp('2023-05-12 00:00:00'), Timestamp('2023-05-30 00:00:00'))"
      ]
     },
     "execution_count": 76,
     "metadata": {},
     "output_type": "execute_result"
    }
   ],
   "source": [
    "payments.pay_time_dt.min(), payments.pay_time_dt.max()"
   ]
  },
  {
   "cell_type": "markdown",
   "id": "previous-injection",
   "metadata": {},
   "source": [
    "### ARPU"
   ]
  },
  {
   "cell_type": "code",
   "execution_count": 77,
   "id": "engaged-scope",
   "metadata": {},
   "outputs": [
    {
     "data": {
      "text/plain": [
       "0.02"
      ]
     },
     "execution_count": 77,
     "metadata": {},
     "output_type": "execute_result"
    }
   ],
   "source": [
    "round(payments['amt'].sum() / users['user_id'].nunique(), 2)"
   ]
  },
  {
   "cell_type": "markdown",
   "id": "annoying-beast",
   "metadata": {},
   "source": [
    "### ARPPU"
   ]
  },
  {
   "cell_type": "code",
   "execution_count": 78,
   "id": "present-links",
   "metadata": {},
   "outputs": [
    {
     "data": {
      "text/plain": [
       "1.61"
      ]
     },
     "execution_count": 78,
     "metadata": {},
     "output_type": "execute_result"
    }
   ],
   "source": [
    "round(payments['amt'].sum() / payments['user_id'].nunique(), 2)"
   ]
  },
  {
   "cell_type": "markdown",
   "id": "informative-funds",
   "metadata": {
    "id": "collect-plate"
   },
   "source": [
    "### Средний чек (AOV)"
   ]
  },
  {
   "cell_type": "code",
   "execution_count": 79,
   "id": "small-thursday",
   "metadata": {},
   "outputs": [
    {
     "data": {
      "text/plain": [
       "0.72"
      ]
     },
     "execution_count": 79,
     "metadata": {},
     "output_type": "execute_result"
    }
   ],
   "source": [
    "round(payments['amt'].sum() / payments['user_id'].count(), 2)"
   ]
  },
  {
   "cell_type": "markdown",
   "id": "enormous-tyler",
   "metadata": {
    "id": "grateful-myrtle"
   },
   "source": [
    "### Средняя сумма дневных платежей"
   ]
  },
  {
   "cell_type": "code",
   "execution_count": 80,
   "id": "effective-arcade",
   "metadata": {
    "id": "polyphonic-cross",
    "outputId": "2e74fd03-101c-4050-ba82-32c447b9b104"
   },
   "outputs": [
    {
     "data": {
      "text/plain": [
       "26"
      ]
     },
     "execution_count": 80,
     "metadata": {},
     "output_type": "execute_result"
    }
   ],
   "source": [
    "round(payments['amt'].sum() / payments['pay_time_dt'].nunique())"
   ]
  },
  {
   "cell_type": "markdown",
   "id": "north-earth",
   "metadata": {
    "id": "yEDQOxUTIzTg"
   },
   "source": [
    "**Комментарий наставника** Хорошо, но мало.\n",
    "\n",
    "* В теоретической части был вопрос про ARPPU - логично, что эта метрика интересна заказчику, иначе он бы не спрашивал. Стоило расчитать.\n",
    "* И логично добавить к нему расчет APRU.\n",
    "* Средняя сумма платежа на одного платящего ученика - не верно расчитано. По названию метрика похожа на среднйи чек, но по сути расчета - ARPPU за 10 дней lifetime."
   ]
  },
  {
   "cell_type": "markdown",
   "id": "isolated-reduction",
   "metadata": {
    "id": "simple-maria"
   },
   "source": [
    "### Динамика оплат по дням"
   ]
  },
  {
   "cell_type": "code",
   "execution_count": 81,
   "id": "manufactured-logistics",
   "metadata": {
    "id": "substantial-merit"
   },
   "outputs": [],
   "source": [
    "# payments_df = (payments.groupby('pay_time_dt').agg({'user_id':'nunique', 'pay_time_dt':'count', 'amt':'sum'})\n",
    "#                .rename(columns={'user_id':'payers', 'pay_time_dt':'payments_count', 'amt':'sum_amt'})\n",
    "#               )\n",
    "# print('Таблица платежей')\n",
    "# payments_df"
   ]
  },
  {
   "cell_type": "code",
   "execution_count": 82,
   "id": "treated-romantic",
   "metadata": {
    "id": "binding-insight",
    "outputId": "a659b18c-2a8e-41a7-8893-fddad694bdb1"
   },
   "outputs": [
    {
     "name": "stdout",
     "output_type": "stream",
     "text": [
      "Таблица платежей\n"
     ]
    },
    {
     "data": {
      "text/html": [
       "<div>\n",
       "<style scoped>\n",
       "    .dataframe tbody tr th:only-of-type {\n",
       "        vertical-align: middle;\n",
       "    }\n",
       "\n",
       "    .dataframe tbody tr th {\n",
       "        vertical-align: top;\n",
       "    }\n",
       "\n",
       "    .dataframe thead th {\n",
       "        text-align: right;\n",
       "    }\n",
       "</style>\n",
       "<table border=\"1\" class=\"dataframe\">\n",
       "  <thead>\n",
       "    <tr style=\"text-align: right;\">\n",
       "      <th></th>\n",
       "      <th>payers</th>\n",
       "      <th>payments_count</th>\n",
       "      <th>sum_amt</th>\n",
       "    </tr>\n",
       "    <tr>\n",
       "      <th>pay_time_dt</th>\n",
       "      <th></th>\n",
       "      <th></th>\n",
       "      <th></th>\n",
       "    </tr>\n",
       "  </thead>\n",
       "  <tbody>\n",
       "    <tr>\n",
       "      <th>2023-05-12</th>\n",
       "      <td>3</td>\n",
       "      <td>4</td>\n",
       "      <td>2.70</td>\n",
       "    </tr>\n",
       "    <tr>\n",
       "      <th>2023-05-13</th>\n",
       "      <td>5</td>\n",
       "      <td>9</td>\n",
       "      <td>3.60</td>\n",
       "    </tr>\n",
       "    <tr>\n",
       "      <th>2023-05-14</th>\n",
       "      <td>4</td>\n",
       "      <td>7</td>\n",
       "      <td>3.90</td>\n",
       "    </tr>\n",
       "    <tr>\n",
       "      <th>2023-05-15</th>\n",
       "      <td>8</td>\n",
       "      <td>14</td>\n",
       "      <td>54.55</td>\n",
       "    </tr>\n",
       "    <tr>\n",
       "      <th>2023-05-16</th>\n",
       "      <td>8</td>\n",
       "      <td>11</td>\n",
       "      <td>4.00</td>\n",
       "    </tr>\n",
       "    <tr>\n",
       "      <th>2023-05-17</th>\n",
       "      <td>21</td>\n",
       "      <td>23</td>\n",
       "      <td>9.41</td>\n",
       "    </tr>\n",
       "    <tr>\n",
       "      <th>2023-05-18</th>\n",
       "      <td>44</td>\n",
       "      <td>53</td>\n",
       "      <td>21.61</td>\n",
       "    </tr>\n",
       "    <tr>\n",
       "      <th>2023-05-19</th>\n",
       "      <td>73</td>\n",
       "      <td>114</td>\n",
       "      <td>56.86</td>\n",
       "    </tr>\n",
       "    <tr>\n",
       "      <th>2023-05-20</th>\n",
       "      <td>81</td>\n",
       "      <td>121</td>\n",
       "      <td>84.43</td>\n",
       "    </tr>\n",
       "    <tr>\n",
       "      <th>2023-05-21</th>\n",
       "      <td>49</td>\n",
       "      <td>76</td>\n",
       "      <td>53.08</td>\n",
       "    </tr>\n",
       "    <tr>\n",
       "      <th>2023-05-22</th>\n",
       "      <td>44</td>\n",
       "      <td>61</td>\n",
       "      <td>39.66</td>\n",
       "    </tr>\n",
       "    <tr>\n",
       "      <th>2023-05-23</th>\n",
       "      <td>34</td>\n",
       "      <td>54</td>\n",
       "      <td>48.29</td>\n",
       "    </tr>\n",
       "    <tr>\n",
       "      <th>2023-05-24</th>\n",
       "      <td>20</td>\n",
       "      <td>27</td>\n",
       "      <td>12.71</td>\n",
       "    </tr>\n",
       "    <tr>\n",
       "      <th>2023-05-25</th>\n",
       "      <td>24</td>\n",
       "      <td>40</td>\n",
       "      <td>30.15</td>\n",
       "    </tr>\n",
       "    <tr>\n",
       "      <th>2023-05-26</th>\n",
       "      <td>20</td>\n",
       "      <td>29</td>\n",
       "      <td>21.94</td>\n",
       "    </tr>\n",
       "    <tr>\n",
       "      <th>2023-05-27</th>\n",
       "      <td>25</td>\n",
       "      <td>32</td>\n",
       "      <td>25.04</td>\n",
       "    </tr>\n",
       "    <tr>\n",
       "      <th>2023-05-28</th>\n",
       "      <td>5</td>\n",
       "      <td>8</td>\n",
       "      <td>7.71</td>\n",
       "    </tr>\n",
       "    <tr>\n",
       "      <th>2023-05-29</th>\n",
       "      <td>5</td>\n",
       "      <td>14</td>\n",
       "      <td>19.85</td>\n",
       "    </tr>\n",
       "    <tr>\n",
       "      <th>2023-05-30</th>\n",
       "      <td>2</td>\n",
       "      <td>2</td>\n",
       "      <td>1.90</td>\n",
       "    </tr>\n",
       "  </tbody>\n",
       "</table>\n",
       "</div>"
      ],
      "text/plain": [
       "             payers  payments_count  sum_amt\n",
       "pay_time_dt                                 \n",
       "2023-05-12        3               4     2.70\n",
       "2023-05-13        5               9     3.60\n",
       "2023-05-14        4               7     3.90\n",
       "2023-05-15        8              14    54.55\n",
       "2023-05-16        8              11     4.00\n",
       "2023-05-17       21              23     9.41\n",
       "2023-05-18       44              53    21.61\n",
       "2023-05-19       73             114    56.86\n",
       "2023-05-20       81             121    84.43\n",
       "2023-05-21       49              76    53.08\n",
       "2023-05-22       44              61    39.66\n",
       "2023-05-23       34              54    48.29\n",
       "2023-05-24       20              27    12.71\n",
       "2023-05-25       24              40    30.15\n",
       "2023-05-26       20              29    21.94\n",
       "2023-05-27       25              32    25.04\n",
       "2023-05-28        5               8     7.71\n",
       "2023-05-29        5              14    19.85\n",
       "2023-05-30        2               2     1.90"
      ]
     },
     "execution_count": 82,
     "metadata": {},
     "output_type": "execute_result"
    }
   ],
   "source": [
    "payments_df = (payments.groupby('pay_time_dt').agg({'user_id':['nunique', 'count'], 'amt':'sum'})\n",
    "               .droplevel(level=0, axis=1) # удалить мультииндекс\n",
    "               .rename(columns={'nunique':'payers', 'count':'payments_count', 'sum':'sum_amt'})\n",
    "              )\n",
    "print('Таблица платежей')\n",
    "payments_df"
   ]
  },
  {
   "cell_type": "code",
   "execution_count": 83,
   "id": "surface-mechanics",
   "metadata": {
    "id": "international-packaging",
    "outputId": "df1f9889-7a46-4652-f26b-2a832ec4225b"
   },
   "outputs": [
    {
     "data": {
      "image/png": "[encoded data removed]",
      "text/plain": [
       "<Figure size 864x360 with 2 Axes>"
      ]
     },
     "metadata": {
      "needs_background": "light"
     },
     "output_type": "display_data"
    }
   ],
   "source": [
    "fig, ax = plt.subplots(figsize=(12,5))\n",
    "\n",
    "ax.plot(payments_df.index, payments_df['sum_amt'], color='red', label='Сумма платежей')\n",
    "ax.set_ylabel('Сумма платежей')\n",
    "ax.legend(bbox_to_anchor=(1, 1, -0.063, -0.11), frameon=False) #bbox_to_anchor=(0.87, 1, 0, 0)\n",
    "ax.grid()\n",
    "\n",
    "ax2 = ax.twinx()\n",
    "ax2.plot(payments_df.index, payments_df['payments_count'], label='Количество платежей')\n",
    "ax2.plot(payments_df.index, payments_df['payers'], color='green', label='Количество покупателей')\n",
    "ax2.set_ylabel('Количество платежей')\n",
    "ax2.legend(frameon=False)\n",
    "ax2.set_title('Динамика по дням')\n",
    "sns.despine(right=False)\n",
    "plt.show()"
   ]
  },
  {
   "cell_type": "markdown",
   "id": "dried-captain",
   "metadata": {
    "id": "pretty-authority"
   },
   "source": [
    "С начала периода наблюдается стремительный рост суммы платежей, с пиками 15 и 20 мая 2023. Далее - активный спад.\n",
    "Пик 15 мая обусловлен повышенной стоимостью платежей, пик 23 мая - соответствует положительной динамике количества платящих учеников. <br>\n",
    "\n",
    "Максимальная дневная сумма платежей составила 84 у.е. Сумма среднего платежа за период - 26 у.е. <br>\n",
    "\n",
    "Сумма платежей коррелирует с количеством платящих пользователей. <br>\n",
    "В среднем, на одного платящего ученика приходится 2 платежа. <br>\n",
    "Доля платящих учеников от всех зарегистрированных - 1%. <br>"
   ]
  },
  {
   "cell_type": "markdown",
   "id": "becoming-resource",
   "metadata": {
    "id": "signed-command"
   },
   "source": [
    "## Где ученики совершают больше всего платежей?"
   ]
  },
  {
   "cell_type": "code",
   "execution_count": 84,
   "id": "greatest-storage",
   "metadata": {
    "id": "enabling-dairy",
    "outputId": "f1deacfe-dfd0-4298-ce6e-c30a3c4e740f"
   },
   "outputs": [
    {
     "data": {
      "text/html": [
       "<div>\n",
       "<style scoped>\n",
       "    .dataframe tbody tr th:only-of-type {\n",
       "        vertical-align: middle;\n",
       "    }\n",
       "\n",
       "    .dataframe tbody tr th {\n",
       "        vertical-align: top;\n",
       "    }\n",
       "\n",
       "    .dataframe thead th {\n",
       "        text-align: right;\n",
       "    }\n",
       "</style>\n",
       "<table border=\"1\" class=\"dataframe\">\n",
       "  <thead>\n",
       "    <tr style=\"text-align: right;\">\n",
       "      <th></th>\n",
       "      <th>user_id</th>\n",
       "      <th>pay_time</th>\n",
       "      <th>amt</th>\n",
       "      <th>pay_time_dt</th>\n",
       "    </tr>\n",
       "  </thead>\n",
       "  <tbody>\n",
       "    <tr>\n",
       "      <th>1</th>\n",
       "      <td>107907</td>\n",
       "      <td>2023-05-29 17:08:18</td>\n",
       "      <td>0.40</td>\n",
       "      <td>2023-05-29</td>\n",
       "    </tr>\n",
       "    <tr>\n",
       "      <th>2</th>\n",
       "      <td>510991</td>\n",
       "      <td>2023-05-20 16:55:01</td>\n",
       "      <td>0.20</td>\n",
       "      <td>2023-05-20</td>\n",
       "    </tr>\n",
       "    <tr>\n",
       "      <th>3</th>\n",
       "      <td>294837</td>\n",
       "      <td>2023-05-19 01:41:55</td>\n",
       "      <td>0.20</td>\n",
       "      <td>2023-05-19</td>\n",
       "    </tr>\n",
       "    <tr>\n",
       "      <th>4</th>\n",
       "      <td>644287</td>\n",
       "      <td>2023-05-20 03:01:53</td>\n",
       "      <td>0.20</td>\n",
       "      <td>2023-05-20</td>\n",
       "    </tr>\n",
       "    <tr>\n",
       "      <th>5</th>\n",
       "      <td>673424</td>\n",
       "      <td>2023-05-20 03:33:36</td>\n",
       "      <td>0.10</td>\n",
       "      <td>2023-05-20</td>\n",
       "    </tr>\n",
       "  </tbody>\n",
       "</table>\n",
       "</div>"
      ],
      "text/plain": [
       "   user_id            pay_time  amt pay_time_dt\n",
       "1   107907 2023-05-29 17:08:18 0.40  2023-05-29\n",
       "2   510991 2023-05-20 16:55:01 0.20  2023-05-20\n",
       "3   294837 2023-05-19 01:41:55 0.20  2023-05-19\n",
       "4   644287 2023-05-20 03:01:53 0.20  2023-05-20\n",
       "5   673424 2023-05-20 03:33:36 0.10  2023-05-20"
      ]
     },
     "execution_count": 84,
     "metadata": {},
     "output_type": "execute_result"
    }
   ],
   "source": [
    "payments.head()"
   ]
  },
  {
   "cell_type": "code",
   "execution_count": 85,
   "id": "injured-lightweight",
   "metadata": {
    "id": "discrete-warner",
    "outputId": "fe7aae05-2e61-474b-ef38-3343ca9d2ef8"
   },
   "outputs": [
    {
     "data": {
      "text/plain": [
       "(699, 312)"
      ]
     },
     "execution_count": 85,
     "metadata": {},
     "output_type": "execute_result"
    }
   ],
   "source": [
    "payments.user_id.count(), payments.user_id.nunique()"
   ]
  },
  {
   "cell_type": "code",
   "execution_count": 86,
   "id": "outside-sacramento",
   "metadata": {
    "id": "postal-sacrifice"
   },
   "outputs": [],
   "source": [
    "# payments.query('user_id == 398670')"
   ]
  },
  {
   "cell_type": "code",
   "execution_count": 87,
   "id": "opening-church",
   "metadata": {
    "id": "willing-yukon",
    "outputId": "62d93ba1-163a-4c86-bd83-ee31cdf1101a"
   },
   "outputs": [
    {
     "data": {
      "text/html": [
       "<div>\n",
       "<style scoped>\n",
       "    .dataframe tbody tr th:only-of-type {\n",
       "        vertical-align: middle;\n",
       "    }\n",
       "\n",
       "    .dataframe tbody tr th {\n",
       "        vertical-align: top;\n",
       "    }\n",
       "\n",
       "    .dataframe thead th {\n",
       "        text-align: right;\n",
       "    }\n",
       "</style>\n",
       "<table border=\"1\" class=\"dataframe\">\n",
       "  <thead>\n",
       "    <tr style=\"text-align: right;\">\n",
       "      <th></th>\n",
       "      <th>user_id</th>\n",
       "      <th>time</th>\n",
       "      <th>level</th>\n",
       "      <th>time_dt</th>\n",
       "    </tr>\n",
       "  </thead>\n",
       "  <tbody>\n",
       "    <tr>\n",
       "      <th>0</th>\n",
       "      <td>105194</td>\n",
       "      <td>2023-05-16 08:22:12</td>\n",
       "      <td>2.00</td>\n",
       "      <td>2023-05-16</td>\n",
       "    </tr>\n",
       "    <tr>\n",
       "      <th>1</th>\n",
       "      <td>105194</td>\n",
       "      <td>2023-05-16 08:26:42</td>\n",
       "      <td>3.00</td>\n",
       "      <td>2023-05-16</td>\n",
       "    </tr>\n",
       "    <tr>\n",
       "      <th>2</th>\n",
       "      <td>105194</td>\n",
       "      <td>2023-05-16 08:27:12</td>\n",
       "      <td>4.00</td>\n",
       "      <td>2023-05-16</td>\n",
       "    </tr>\n",
       "    <tr>\n",
       "      <th>3</th>\n",
       "      <td>991914</td>\n",
       "      <td>2023-05-16 09:06:38</td>\n",
       "      <td>2.00</td>\n",
       "      <td>2023-05-16</td>\n",
       "    </tr>\n",
       "    <tr>\n",
       "      <th>4</th>\n",
       "      <td>991914</td>\n",
       "      <td>2023-05-16 09:09:39</td>\n",
       "      <td>3.00</td>\n",
       "      <td>2023-05-16</td>\n",
       "    </tr>\n",
       "  </tbody>\n",
       "</table>\n",
       "</div>"
      ],
      "text/plain": [
       "   user_id                time  level    time_dt\n",
       "0   105194 2023-05-16 08:22:12   2.00 2023-05-16\n",
       "1   105194 2023-05-16 08:26:42   3.00 2023-05-16\n",
       "2   105194 2023-05-16 08:27:12   4.00 2023-05-16\n",
       "3   991914 2023-05-16 09:06:38   2.00 2023-05-16\n",
       "4   991914 2023-05-16 09:09:39   3.00 2023-05-16"
      ]
     },
     "execution_count": 87,
     "metadata": {},
     "output_type": "execute_result"
    }
   ],
   "source": [
    "levels.head()"
   ]
  },
  {
   "cell_type": "code",
   "execution_count": 88,
   "id": "developmental-allowance",
   "metadata": {
    "id": "solved-holder",
    "outputId": "37846d71-bfca-4716-ee29-81755ba4b7d5"
   },
   "outputs": [
    {
     "data": {
      "text/plain": [
       "(130623, 25545)"
      ]
     },
     "execution_count": 88,
     "metadata": {},
     "output_type": "execute_result"
    }
   ],
   "source": [
    "levels.user_id.count(), levels.user_id.nunique(),"
   ]
  },
  {
   "cell_type": "code",
   "execution_count": 89,
   "id": "brazilian-indonesian",
   "metadata": {
    "id": "precious-tissue",
    "outputId": "5e5c405c-cfd6-49cf-d6b6-7cd2f0da62f9"
   },
   "outputs": [
    {
     "name": "stdout",
     "output_type": "stream",
     "text": [
      "Таблица времени получения (time) и окончания (time_end) уровня\n"
     ]
    },
    {
     "data": {
      "text/html": [
       "<div>\n",
       "<style scoped>\n",
       "    .dataframe tbody tr th:only-of-type {\n",
       "        vertical-align: middle;\n",
       "    }\n",
       "\n",
       "    .dataframe tbody tr th {\n",
       "        vertical-align: top;\n",
       "    }\n",
       "\n",
       "    .dataframe thead th {\n",
       "        text-align: right;\n",
       "    }\n",
       "</style>\n",
       "<table border=\"1\" class=\"dataframe\">\n",
       "  <thead>\n",
       "    <tr style=\"text-align: right;\">\n",
       "      <th></th>\n",
       "      <th>user_id</th>\n",
       "      <th>time</th>\n",
       "      <th>level</th>\n",
       "      <th>time_dt</th>\n",
       "      <th>payers</th>\n",
       "      <th>time_end</th>\n",
       "    </tr>\n",
       "  </thead>\n",
       "  <tbody>\n",
       "    <tr>\n",
       "      <th>70810</th>\n",
       "      <td>199</td>\n",
       "      <td>2023-05-19 13:38:30</td>\n",
       "      <td>2.00</td>\n",
       "      <td>2023-05-19</td>\n",
       "      <td>True</td>\n",
       "      <td>2023-05-19 13:40:40</td>\n",
       "    </tr>\n",
       "    <tr>\n",
       "      <th>70811</th>\n",
       "      <td>199</td>\n",
       "      <td>2023-05-19 13:40:40</td>\n",
       "      <td>3.00</td>\n",
       "      <td>2023-05-19</td>\n",
       "      <td>True</td>\n",
       "      <td>2023-05-19 13:45:03</td>\n",
       "    </tr>\n",
       "    <tr>\n",
       "      <th>70812</th>\n",
       "      <td>199</td>\n",
       "      <td>2023-05-19 13:45:03</td>\n",
       "      <td>4.00</td>\n",
       "      <td>2023-05-19</td>\n",
       "      <td>True</td>\n",
       "      <td>2023-05-22 20:32:04</td>\n",
       "    </tr>\n",
       "    <tr>\n",
       "      <th>70813</th>\n",
       "      <td>199</td>\n",
       "      <td>2023-05-22 20:32:04</td>\n",
       "      <td>5.00</td>\n",
       "      <td>2023-05-22</td>\n",
       "      <td>True</td>\n",
       "      <td>2023-05-22 20:42:27</td>\n",
       "    </tr>\n",
       "    <tr>\n",
       "      <th>70814</th>\n",
       "      <td>199</td>\n",
       "      <td>2023-05-22 20:42:27</td>\n",
       "      <td>6.00</td>\n",
       "      <td>2023-05-22</td>\n",
       "      <td>True</td>\n",
       "      <td>2023-05-22 21:27:21</td>\n",
       "    </tr>\n",
       "    <tr>\n",
       "      <th>70815</th>\n",
       "      <td>199</td>\n",
       "      <td>2023-05-22 21:27:21</td>\n",
       "      <td>7.00</td>\n",
       "      <td>2023-05-22</td>\n",
       "      <td>True</td>\n",
       "      <td>2023-05-22 21:31:35</td>\n",
       "    </tr>\n",
       "    <tr>\n",
       "      <th>70816</th>\n",
       "      <td>199</td>\n",
       "      <td>2023-05-22 21:31:35</td>\n",
       "      <td>8.00</td>\n",
       "      <td>2023-05-22</td>\n",
       "      <td>True</td>\n",
       "      <td>2023-05-25 06:05:48</td>\n",
       "    </tr>\n",
       "    <tr>\n",
       "      <th>70817</th>\n",
       "      <td>199</td>\n",
       "      <td>2023-05-25 06:05:48</td>\n",
       "      <td>9.00</td>\n",
       "      <td>2023-05-25</td>\n",
       "      <td>True</td>\n",
       "      <td>2023-05-25 22:37:22</td>\n",
       "    </tr>\n",
       "    <tr>\n",
       "      <th>70818</th>\n",
       "      <td>199</td>\n",
       "      <td>2023-05-25 22:37:22</td>\n",
       "      <td>10.00</td>\n",
       "      <td>2023-05-25</td>\n",
       "      <td>True</td>\n",
       "      <td>NaT</td>\n",
       "    </tr>\n",
       "    <tr>\n",
       "      <th>113395</th>\n",
       "      <td>2586</td>\n",
       "      <td>2023-05-20 17:36:28</td>\n",
       "      <td>2.00</td>\n",
       "      <td>2023-05-20</td>\n",
       "      <td>True</td>\n",
       "      <td>2023-05-20 17:38:46</td>\n",
       "    </tr>\n",
       "    <tr>\n",
       "      <th>113396</th>\n",
       "      <td>2586</td>\n",
       "      <td>2023-05-20 17:38:46</td>\n",
       "      <td>3.00</td>\n",
       "      <td>2023-05-20</td>\n",
       "      <td>True</td>\n",
       "      <td>2023-05-20 17:42:22</td>\n",
       "    </tr>\n",
       "    <tr>\n",
       "      <th>113397</th>\n",
       "      <td>2586</td>\n",
       "      <td>2023-05-20 17:42:22</td>\n",
       "      <td>4.00</td>\n",
       "      <td>2023-05-20</td>\n",
       "      <td>True</td>\n",
       "      <td>2023-05-21 21:43:59</td>\n",
       "    </tr>\n",
       "    <tr>\n",
       "      <th>113398</th>\n",
       "      <td>2586</td>\n",
       "      <td>2023-05-21 21:43:59</td>\n",
       "      <td>5.00</td>\n",
       "      <td>2023-05-21</td>\n",
       "      <td>True</td>\n",
       "      <td>2023-05-22 05:26:18</td>\n",
       "    </tr>\n",
       "    <tr>\n",
       "      <th>113399</th>\n",
       "      <td>2586</td>\n",
       "      <td>2023-05-22 05:26:18</td>\n",
       "      <td>6.00</td>\n",
       "      <td>2023-05-22</td>\n",
       "      <td>True</td>\n",
       "      <td>2023-05-22 18:16:29</td>\n",
       "    </tr>\n",
       "    <tr>\n",
       "      <th>113400</th>\n",
       "      <td>2586</td>\n",
       "      <td>2023-05-22 18:16:29</td>\n",
       "      <td>7.00</td>\n",
       "      <td>2023-05-22</td>\n",
       "      <td>True</td>\n",
       "      <td>2023-05-22 18:35:49</td>\n",
       "    </tr>\n",
       "    <tr>\n",
       "      <th>113401</th>\n",
       "      <td>2586</td>\n",
       "      <td>2023-05-22 18:35:49</td>\n",
       "      <td>8.00</td>\n",
       "      <td>2023-05-22</td>\n",
       "      <td>True</td>\n",
       "      <td>2023-05-23 21:30:53</td>\n",
       "    </tr>\n",
       "    <tr>\n",
       "      <th>113402</th>\n",
       "      <td>2586</td>\n",
       "      <td>2023-05-23 21:30:53</td>\n",
       "      <td>9.00</td>\n",
       "      <td>2023-05-23</td>\n",
       "      <td>True</td>\n",
       "      <td>2023-05-27 15:37:28</td>\n",
       "    </tr>\n",
       "    <tr>\n",
       "      <th>113403</th>\n",
       "      <td>2586</td>\n",
       "      <td>2023-05-27 15:37:28</td>\n",
       "      <td>10.00</td>\n",
       "      <td>2023-05-27</td>\n",
       "      <td>True</td>\n",
       "      <td>2023-05-28 05:55:29</td>\n",
       "    </tr>\n",
       "    <tr>\n",
       "      <th>113404</th>\n",
       "      <td>2586</td>\n",
       "      <td>2023-05-28 05:55:29</td>\n",
       "      <td>11.00</td>\n",
       "      <td>2023-05-28</td>\n",
       "      <td>True</td>\n",
       "      <td>2023-05-28 18:27:18</td>\n",
       "    </tr>\n",
       "    <tr>\n",
       "      <th>113405</th>\n",
       "      <td>2586</td>\n",
       "      <td>2023-05-28 18:27:18</td>\n",
       "      <td>12.00</td>\n",
       "      <td>2023-05-28</td>\n",
       "      <td>True</td>\n",
       "      <td>2023-05-29 15:40:08</td>\n",
       "    </tr>\n",
       "    <tr>\n",
       "      <th>113406</th>\n",
       "      <td>2586</td>\n",
       "      <td>2023-05-29 15:40:08</td>\n",
       "      <td>13.00</td>\n",
       "      <td>2023-05-29</td>\n",
       "      <td>True</td>\n",
       "      <td>NaT</td>\n",
       "    </tr>\n",
       "    <tr>\n",
       "      <th>45614</th>\n",
       "      <td>4609</td>\n",
       "      <td>2023-05-17 17:37:28</td>\n",
       "      <td>2.00</td>\n",
       "      <td>2023-05-17</td>\n",
       "      <td>True</td>\n",
       "      <td>2023-05-17 17:38:51</td>\n",
       "    </tr>\n",
       "  </tbody>\n",
       "</table>\n",
       "</div>"
      ],
      "text/plain": [
       "        user_id                time  level    time_dt  payers  \\\n",
       "70810       199 2023-05-19 13:38:30   2.00 2023-05-19    True   \n",
       "70811       199 2023-05-19 13:40:40   3.00 2023-05-19    True   \n",
       "70812       199 2023-05-19 13:45:03   4.00 2023-05-19    True   \n",
       "70813       199 2023-05-22 20:32:04   5.00 2023-05-22    True   \n",
       "70814       199 2023-05-22 20:42:27   6.00 2023-05-22    True   \n",
       "70815       199 2023-05-22 21:27:21   7.00 2023-05-22    True   \n",
       "70816       199 2023-05-22 21:31:35   8.00 2023-05-22    True   \n",
       "70817       199 2023-05-25 06:05:48   9.00 2023-05-25    True   \n",
       "70818       199 2023-05-25 22:37:22  10.00 2023-05-25    True   \n",
       "113395     2586 2023-05-20 17:36:28   2.00 2023-05-20    True   \n",
       "113396     2586 2023-05-20 17:38:46   3.00 2023-05-20    True   \n",
       "113397     2586 2023-05-20 17:42:22   4.00 2023-05-20    True   \n",
       "113398     2586 2023-05-21 21:43:59   5.00 2023-05-21    True   \n",
       "113399     2586 2023-05-22 05:26:18   6.00 2023-05-22    True   \n",
       "113400     2586 2023-05-22 18:16:29   7.00 2023-05-22    True   \n",
       "113401     2586 2023-05-22 18:35:49   8.00 2023-05-22    True   \n",
       "113402     2586 2023-05-23 21:30:53   9.00 2023-05-23    True   \n",
       "113403     2586 2023-05-27 15:37:28  10.00 2023-05-27    True   \n",
       "113404     2586 2023-05-28 05:55:29  11.00 2023-05-28    True   \n",
       "113405     2586 2023-05-28 18:27:18  12.00 2023-05-28    True   \n",
       "113406     2586 2023-05-29 15:40:08  13.00 2023-05-29    True   \n",
       "45614      4609 2023-05-17 17:37:28   2.00 2023-05-17    True   \n",
       "\n",
       "                  time_end  \n",
       "70810  2023-05-19 13:40:40  \n",
       "70811  2023-05-19 13:45:03  \n",
       "70812  2023-05-22 20:32:04  \n",
       "70813  2023-05-22 20:42:27  \n",
       "70814  2023-05-22 21:27:21  \n",
       "70815  2023-05-22 21:31:35  \n",
       "70816  2023-05-25 06:05:48  \n",
       "70817  2023-05-25 22:37:22  \n",
       "70818                  NaT  \n",
       "113395 2023-05-20 17:38:46  \n",
       "113396 2023-05-20 17:42:22  \n",
       "113397 2023-05-21 21:43:59  \n",
       "113398 2023-05-22 05:26:18  \n",
       "113399 2023-05-22 18:16:29  \n",
       "113400 2023-05-22 18:35:49  \n",
       "113401 2023-05-23 21:30:53  \n",
       "113402 2023-05-27 15:37:28  \n",
       "113403 2023-05-28 05:55:29  \n",
       "113404 2023-05-28 18:27:18  \n",
       "113405 2023-05-29 15:40:08  \n",
       "113406                 NaT  \n",
       "45614  2023-05-17 17:38:51  "
      ]
     },
     "execution_count": 89,
     "metadata": {},
     "output_type": "execute_result"
    }
   ],
   "source": [
    "levels['payers'] = levels['user_id'].isin(payments[\"user_id\"].unique())\n",
    "level_payments = levels.query('payers == True').sort_values(by=['user_id', 'time'])\n",
    "level_payments['time_end'] = level_payments.groupby('user_id')['time'].shift(-1)\n",
    "print('Таблица времени получения (time) и окончания (time_end) уровня')\n",
    "level_payments.head(22)"
   ]
  },
  {
   "cell_type": "code",
   "execution_count": 90,
   "id": "undefined-panic",
   "metadata": {
    "id": "previous-thunder",
    "outputId": "5b496470-e940-4c94-9703-a01ce9669115"
   },
   "outputs": [
    {
     "data": {
      "text/html": [
       "<div>\n",
       "<style scoped>\n",
       "    .dataframe tbody tr th:only-of-type {\n",
       "        vertical-align: middle;\n",
       "    }\n",
       "\n",
       "    .dataframe tbody tr th {\n",
       "        vertical-align: top;\n",
       "    }\n",
       "\n",
       "    .dataframe thead th {\n",
       "        text-align: right;\n",
       "    }\n",
       "</style>\n",
       "<table border=\"1\" class=\"dataframe\">\n",
       "  <thead>\n",
       "    <tr style=\"text-align: right;\">\n",
       "      <th></th>\n",
       "      <th>user_id</th>\n",
       "      <th>pay_time</th>\n",
       "      <th>amt</th>\n",
       "      <th>pay_time_dt</th>\n",
       "    </tr>\n",
       "  </thead>\n",
       "  <tbody>\n",
       "    <tr>\n",
       "      <th>561</th>\n",
       "      <td>199</td>\n",
       "      <td>2023-05-22 20:32:31</td>\n",
       "      <td>0.20</td>\n",
       "      <td>2023-05-22</td>\n",
       "    </tr>\n",
       "    <tr>\n",
       "      <th>562</th>\n",
       "      <td>199</td>\n",
       "      <td>2023-05-25 06:09:40</td>\n",
       "      <td>1.50</td>\n",
       "      <td>2023-05-25</td>\n",
       "    </tr>\n",
       "    <tr>\n",
       "      <th>563</th>\n",
       "      <td>199</td>\n",
       "      <td>2023-05-25 06:30:46</td>\n",
       "      <td>1.00</td>\n",
       "      <td>2023-05-25</td>\n",
       "    </tr>\n",
       "    <tr>\n",
       "      <th>533</th>\n",
       "      <td>2586</td>\n",
       "      <td>2023-05-22 15:57:31</td>\n",
       "      <td>0.20</td>\n",
       "      <td>2023-05-22</td>\n",
       "    </tr>\n",
       "    <tr>\n",
       "      <th>534</th>\n",
       "      <td>2586</td>\n",
       "      <td>2023-05-27 05:33:25</td>\n",
       "      <td>0.40</td>\n",
       "      <td>2023-05-27</td>\n",
       "    </tr>\n",
       "    <tr>\n",
       "      <th>535</th>\n",
       "      <td>2586</td>\n",
       "      <td>2023-05-28 17:23:31</td>\n",
       "      <td>0.40</td>\n",
       "      <td>2023-05-28</td>\n",
       "    </tr>\n",
       "    <tr>\n",
       "      <th>536</th>\n",
       "      <td>2586</td>\n",
       "      <td>2023-05-29 17:11:37</td>\n",
       "      <td>0.40</td>\n",
       "      <td>2023-05-29</td>\n",
       "    </tr>\n",
       "    <tr>\n",
       "      <th>266</th>\n",
       "      <td>4609</td>\n",
       "      <td>2023-05-20 19:43:45</td>\n",
       "      <td>0.10</td>\n",
       "      <td>2023-05-20</td>\n",
       "    </tr>\n",
       "    <tr>\n",
       "      <th>402</th>\n",
       "      <td>6500</td>\n",
       "      <td>2023-05-17 18:55:31</td>\n",
       "      <td>0.20</td>\n",
       "      <td>2023-05-17</td>\n",
       "    </tr>\n",
       "    <tr>\n",
       "      <th>647</th>\n",
       "      <td>6578</td>\n",
       "      <td>2023-05-19 17:40:44</td>\n",
       "      <td>0.20</td>\n",
       "      <td>2023-05-19</td>\n",
       "    </tr>\n",
       "  </tbody>\n",
       "</table>\n",
       "</div>"
      ],
      "text/plain": [
       "     user_id            pay_time  amt pay_time_dt\n",
       "561      199 2023-05-22 20:32:31 0.20  2023-05-22\n",
       "562      199 2023-05-25 06:09:40 1.50  2023-05-25\n",
       "563      199 2023-05-25 06:30:46 1.00  2023-05-25\n",
       "533     2586 2023-05-22 15:57:31 0.20  2023-05-22\n",
       "534     2586 2023-05-27 05:33:25 0.40  2023-05-27\n",
       "535     2586 2023-05-28 17:23:31 0.40  2023-05-28\n",
       "536     2586 2023-05-29 17:11:37 0.40  2023-05-29\n",
       "266     4609 2023-05-20 19:43:45 0.10  2023-05-20\n",
       "402     6500 2023-05-17 18:55:31 0.20  2023-05-17\n",
       "647     6578 2023-05-19 17:40:44 0.20  2023-05-19"
      ]
     },
     "execution_count": 90,
     "metadata": {},
     "output_type": "execute_result"
    }
   ],
   "source": [
    "payments.sort_values(by=['user_id', 'pay_time']).head(10)"
   ]
  },
  {
   "cell_type": "code",
   "execution_count": 91,
   "id": "rolled-pencil",
   "metadata": {
    "id": "attached-works",
    "outputId": "b3fd2807-02e5-475b-a125-f53e43af09b9"
   },
   "outputs": [
    {
     "data": {
      "text/html": [
       "<div>\n",
       "<style scoped>\n",
       "    .dataframe tbody tr th:only-of-type {\n",
       "        vertical-align: middle;\n",
       "    }\n",
       "\n",
       "    .dataframe tbody tr th {\n",
       "        vertical-align: top;\n",
       "    }\n",
       "\n",
       "    .dataframe thead th {\n",
       "        text-align: right;\n",
       "    }\n",
       "</style>\n",
       "<table border=\"1\" class=\"dataframe\">\n",
       "  <thead>\n",
       "    <tr style=\"text-align: right;\">\n",
       "      <th></th>\n",
       "      <th>user_id</th>\n",
       "      <th>pay_time</th>\n",
       "      <th>amt</th>\n",
       "      <th>pay_time_dt</th>\n",
       "      <th>time</th>\n",
       "      <th>level</th>\n",
       "      <th>time_dt</th>\n",
       "      <th>payers</th>\n",
       "      <th>time_end</th>\n",
       "    </tr>\n",
       "  </thead>\n",
       "  <tbody>\n",
       "    <tr>\n",
       "      <th>5947</th>\n",
       "      <td>199</td>\n",
       "      <td>2023-05-22 20:32:31</td>\n",
       "      <td>0.20</td>\n",
       "      <td>2023-05-22</td>\n",
       "      <td>2023-05-22 20:32:04</td>\n",
       "      <td>5.00</td>\n",
       "      <td>2023-05-22</td>\n",
       "      <td>True</td>\n",
       "      <td>2023-05-22 20:42:27</td>\n",
       "    </tr>\n",
       "    <tr>\n",
       "      <th>5960</th>\n",
       "      <td>199</td>\n",
       "      <td>2023-05-25 06:09:40</td>\n",
       "      <td>1.50</td>\n",
       "      <td>2023-05-25</td>\n",
       "      <td>2023-05-25 06:05:48</td>\n",
       "      <td>9.00</td>\n",
       "      <td>2023-05-25</td>\n",
       "      <td>True</td>\n",
       "      <td>2023-05-25 22:37:22</td>\n",
       "    </tr>\n",
       "    <tr>\n",
       "      <th>5969</th>\n",
       "      <td>199</td>\n",
       "      <td>2023-05-25 06:30:46</td>\n",
       "      <td>1.00</td>\n",
       "      <td>2023-05-25</td>\n",
       "      <td>2023-05-25 06:05:48</td>\n",
       "      <td>9.00</td>\n",
       "      <td>2023-05-25</td>\n",
       "      <td>True</td>\n",
       "      <td>2023-05-25 22:37:22</td>\n",
       "    </tr>\n",
       "    <tr>\n",
       "      <th>5610</th>\n",
       "      <td>2586</td>\n",
       "      <td>2023-05-22 15:57:31</td>\n",
       "      <td>0.20</td>\n",
       "      <td>2023-05-22</td>\n",
       "      <td>2023-05-22 05:26:18</td>\n",
       "      <td>6.00</td>\n",
       "      <td>2023-05-22</td>\n",
       "      <td>True</td>\n",
       "      <td>2023-05-22 18:16:29</td>\n",
       "    </tr>\n",
       "    <tr>\n",
       "      <th>5625</th>\n",
       "      <td>2586</td>\n",
       "      <td>2023-05-27 05:33:25</td>\n",
       "      <td>0.40</td>\n",
       "      <td>2023-05-27</td>\n",
       "      <td>2023-05-23 21:30:53</td>\n",
       "      <td>9.00</td>\n",
       "      <td>2023-05-23</td>\n",
       "      <td>True</td>\n",
       "      <td>2023-05-27 15:37:28</td>\n",
       "    </tr>\n",
       "    <tr>\n",
       "      <th>5639</th>\n",
       "      <td>2586</td>\n",
       "      <td>2023-05-28 17:23:31</td>\n",
       "      <td>0.40</td>\n",
       "      <td>2023-05-28</td>\n",
       "      <td>2023-05-28 05:55:29</td>\n",
       "      <td>11.00</td>\n",
       "      <td>2023-05-28</td>\n",
       "      <td>True</td>\n",
       "      <td>2023-05-28 18:27:18</td>\n",
       "    </tr>\n",
       "    <tr>\n",
       "      <th>5653</th>\n",
       "      <td>2586</td>\n",
       "      <td>2023-05-29 17:11:37</td>\n",
       "      <td>0.40</td>\n",
       "      <td>2023-05-29</td>\n",
       "      <td>2023-05-29 15:40:08</td>\n",
       "      <td>13.00</td>\n",
       "      <td>2023-05-29</td>\n",
       "      <td>True</td>\n",
       "      <td>NaT</td>\n",
       "    </tr>\n",
       "    <tr>\n",
       "      <th>2981</th>\n",
       "      <td>4609</td>\n",
       "      <td>2023-05-20 19:43:45</td>\n",
       "      <td>0.10</td>\n",
       "      <td>2023-05-20</td>\n",
       "      <td>2023-05-20 03:13:37</td>\n",
       "      <td>9.00</td>\n",
       "      <td>2023-05-20</td>\n",
       "      <td>True</td>\n",
       "      <td>2023-05-21 08:41:24</td>\n",
       "    </tr>\n",
       "    <tr>\n",
       "      <th>4385</th>\n",
       "      <td>6500</td>\n",
       "      <td>2023-05-17 18:55:31</td>\n",
       "      <td>0.20</td>\n",
       "      <td>2023-05-17</td>\n",
       "      <td>2023-05-17 18:54:38</td>\n",
       "      <td>5.00</td>\n",
       "      <td>2023-05-17</td>\n",
       "      <td>True</td>\n",
       "      <td>2023-05-17 19:15:41</td>\n",
       "    </tr>\n",
       "    <tr>\n",
       "      <th>6871</th>\n",
       "      <td>6578</td>\n",
       "      <td>2023-05-19 17:40:44</td>\n",
       "      <td>0.20</td>\n",
       "      <td>2023-05-19</td>\n",
       "      <td>2023-05-19 17:33:05</td>\n",
       "      <td>4.00</td>\n",
       "      <td>2023-05-19</td>\n",
       "      <td>True</td>\n",
       "      <td>NaT</td>\n",
       "    </tr>\n",
       "  </tbody>\n",
       "</table>\n",
       "</div>"
      ],
      "text/plain": [
       "      user_id            pay_time  amt pay_time_dt                time  level  \\\n",
       "5947      199 2023-05-22 20:32:31 0.20  2023-05-22 2023-05-22 20:32:04   5.00   \n",
       "5960      199 2023-05-25 06:09:40 1.50  2023-05-25 2023-05-25 06:05:48   9.00   \n",
       "5969      199 2023-05-25 06:30:46 1.00  2023-05-25 2023-05-25 06:05:48   9.00   \n",
       "5610     2586 2023-05-22 15:57:31 0.20  2023-05-22 2023-05-22 05:26:18   6.00   \n",
       "5625     2586 2023-05-27 05:33:25 0.40  2023-05-27 2023-05-23 21:30:53   9.00   \n",
       "5639     2586 2023-05-28 17:23:31 0.40  2023-05-28 2023-05-28 05:55:29  11.00   \n",
       "5653     2586 2023-05-29 17:11:37 0.40  2023-05-29 2023-05-29 15:40:08  13.00   \n",
       "2981     4609 2023-05-20 19:43:45 0.10  2023-05-20 2023-05-20 03:13:37   9.00   \n",
       "4385     6500 2023-05-17 18:55:31 0.20  2023-05-17 2023-05-17 18:54:38   5.00   \n",
       "6871     6578 2023-05-19 17:40:44 0.20  2023-05-19 2023-05-19 17:33:05   4.00   \n",
       "\n",
       "        time_dt  payers            time_end  \n",
       "5947 2023-05-22    True 2023-05-22 20:42:27  \n",
       "5960 2023-05-25    True 2023-05-25 22:37:22  \n",
       "5969 2023-05-25    True 2023-05-25 22:37:22  \n",
       "5610 2023-05-22    True 2023-05-22 18:16:29  \n",
       "5625 2023-05-23    True 2023-05-27 15:37:28  \n",
       "5639 2023-05-28    True 2023-05-28 18:27:18  \n",
       "5653 2023-05-29    True                 NaT  \n",
       "2981 2023-05-20    True 2023-05-21 08:41:24  \n",
       "4385 2023-05-17    True 2023-05-17 19:15:41  \n",
       "6871 2023-05-19    True                 NaT  "
      ]
     },
     "execution_count": 91,
     "metadata": {},
     "output_type": "execute_result"
    }
   ],
   "source": [
    "# merge_df\n",
    "# объединяем таблицы (многие ко многим)\n",
    "# оставляем только те строки, где время оплаты находится между получением и окончанием уровня\n",
    "level_payments_merge_payments = payments.merge(level_payments, how='left', on='user_id')\n",
    "level_payments_merge_payments = (level_payments_merge_payments.query('pay_time >= time and (pay_time <= time_end or time_end.isna())')\n",
    "                                 .sort_values(by=['user_id', 'pay_time'])\n",
    "                                )\n",
    "level_payments_merge_payments.head(10)"
   ]
  },
  {
   "cell_type": "code",
   "execution_count": 92,
   "id": "matched-nightmare",
   "metadata": {
    "id": "operational-leather",
    "outputId": "440ec7f6-1a89-47da-f8bd-175f55f01f42"
   },
   "outputs": [
    {
     "data": {
      "text/html": [
       "<div>\n",
       "<style scoped>\n",
       "    .dataframe tbody tr th:only-of-type {\n",
       "        vertical-align: middle;\n",
       "    }\n",
       "\n",
       "    .dataframe tbody tr th {\n",
       "        vertical-align: top;\n",
       "    }\n",
       "\n",
       "    .dataframe thead th {\n",
       "        text-align: right;\n",
       "    }\n",
       "</style>\n",
       "<table border=\"1\" class=\"dataframe\">\n",
       "  <thead>\n",
       "    <tr style=\"text-align: right;\">\n",
       "      <th></th>\n",
       "      <th>sum_amt</th>\n",
       "      <th>payers</th>\n",
       "      <th>payments</th>\n",
       "    </tr>\n",
       "    <tr>\n",
       "      <th>level</th>\n",
       "      <th></th>\n",
       "      <th></th>\n",
       "      <th></th>\n",
       "    </tr>\n",
       "  </thead>\n",
       "  <tbody>\n",
       "    <tr>\n",
       "      <th>2.00</th>\n",
       "      <td>3.41</td>\n",
       "      <td>2</td>\n",
       "      <td>2</td>\n",
       "    </tr>\n",
       "    <tr>\n",
       "      <th>3.00</th>\n",
       "      <td>5.41</td>\n",
       "      <td>8</td>\n",
       "      <td>8</td>\n",
       "    </tr>\n",
       "    <tr>\n",
       "      <th>4.00</th>\n",
       "      <td>31.55</td>\n",
       "      <td>45</td>\n",
       "      <td>45</td>\n",
       "    </tr>\n",
       "    <tr>\n",
       "      <th>5.00</th>\n",
       "      <td>16.29</td>\n",
       "      <td>61</td>\n",
       "      <td>62</td>\n",
       "    </tr>\n",
       "    <tr>\n",
       "      <th>6.00</th>\n",
       "      <td>12.11</td>\n",
       "      <td>19</td>\n",
       "      <td>20</td>\n",
       "    </tr>\n",
       "    <tr>\n",
       "      <th>7.00</th>\n",
       "      <td>17.11</td>\n",
       "      <td>47</td>\n",
       "      <td>47</td>\n",
       "    </tr>\n",
       "    <tr>\n",
       "      <th>8.00</th>\n",
       "      <td>127.11</td>\n",
       "      <td>131</td>\n",
       "      <td>173</td>\n",
       "    </tr>\n",
       "    <tr>\n",
       "      <th>9.00</th>\n",
       "      <td>82.73</td>\n",
       "      <td>91</td>\n",
       "      <td>119</td>\n",
       "    </tr>\n",
       "    <tr>\n",
       "      <th>10.00</th>\n",
       "      <td>64.01</td>\n",
       "      <td>55</td>\n",
       "      <td>84</td>\n",
       "    </tr>\n",
       "    <tr>\n",
       "      <th>11.00</th>\n",
       "      <td>40.67</td>\n",
       "      <td>28</td>\n",
       "      <td>49</td>\n",
       "    </tr>\n",
       "    <tr>\n",
       "      <th>12.00</th>\n",
       "      <td>34.57</td>\n",
       "      <td>18</td>\n",
       "      <td>36</td>\n",
       "    </tr>\n",
       "    <tr>\n",
       "      <th>13.00</th>\n",
       "      <td>7.61</td>\n",
       "      <td>10</td>\n",
       "      <td>12</td>\n",
       "    </tr>\n",
       "    <tr>\n",
       "      <th>14.00</th>\n",
       "      <td>17.54</td>\n",
       "      <td>10</td>\n",
       "      <td>14</td>\n",
       "    </tr>\n",
       "    <tr>\n",
       "      <th>15.00</th>\n",
       "      <td>4.11</td>\n",
       "      <td>4</td>\n",
       "      <td>6</td>\n",
       "    </tr>\n",
       "    <tr>\n",
       "      <th>16.00</th>\n",
       "      <td>6.51</td>\n",
       "      <td>6</td>\n",
       "      <td>7</td>\n",
       "    </tr>\n",
       "    <tr>\n",
       "      <th>17.00</th>\n",
       "      <td>1.60</td>\n",
       "      <td>2</td>\n",
       "      <td>4</td>\n",
       "    </tr>\n",
       "    <tr>\n",
       "      <th>18.00</th>\n",
       "      <td>7.82</td>\n",
       "      <td>3</td>\n",
       "      <td>6</td>\n",
       "    </tr>\n",
       "    <tr>\n",
       "      <th>19.00</th>\n",
       "      <td>1.20</td>\n",
       "      <td>1</td>\n",
       "      <td>3</td>\n",
       "    </tr>\n",
       "  </tbody>\n",
       "</table>\n",
       "</div>"
      ],
      "text/plain": [
       "       sum_amt  payers  payments\n",
       "level                           \n",
       "2.00      3.41       2         2\n",
       "3.00      5.41       8         8\n",
       "4.00     31.55      45        45\n",
       "5.00     16.29      61        62\n",
       "6.00     12.11      19        20\n",
       "7.00     17.11      47        47\n",
       "8.00    127.11     131       173\n",
       "9.00     82.73      91       119\n",
       "10.00    64.01      55        84\n",
       "11.00    40.67      28        49\n",
       "12.00    34.57      18        36\n",
       "13.00     7.61      10        12\n",
       "14.00    17.54      10        14\n",
       "15.00     4.11       4         6\n",
       "16.00     6.51       6         7\n",
       "17.00     1.60       2         4\n",
       "18.00     7.82       3         6\n",
       "19.00     1.20       1         3"
      ]
     },
     "execution_count": 92,
     "metadata": {},
     "output_type": "execute_result"
    }
   ],
   "source": [
    "payments_on_levels = (level_payments_merge_payments.groupby('level').agg({'amt':'sum', 'user_id':'nunique', 'payers':'count'})\n",
    " .rename(columns={'amt':'sum_amt', 'user_id':'payers', 'payers':'payments'})\n",
    ")\n",
    "payments_on_levels"
   ]
  },
  {
   "cell_type": "code",
   "execution_count": 93,
   "id": "circular-physics",
   "metadata": {
    "id": "sustainable-drilling",
    "outputId": "9cdcf579-b75d-4f59-93dc-71883e82a8fe"
   },
   "outputs": [
    {
     "data": {
      "image/png": "[encoded data removed]",
      "text/plain": [
       "<Figure size 864x360 with 2 Axes>"
      ]
     },
     "metadata": {
      "needs_background": "light"
     },
     "output_type": "display_data"
    }
   ],
   "source": [
    "#payments_on_levels\n",
    "\n",
    "fig, ax = plt.subplots(figsize=(12, 5))\n",
    "ax.bar(payments_on_levels.index, payments_on_levels['payments'], label='Количество платежей')\n",
    "ax.bar(payments_on_levels.index, payments_on_levels['payers'], color='lightblue', label='Количество покупателей')\n",
    "ax.set_ylabel('Количество')\n",
    "ax.legend(frameon=False)\n",
    "ax.grid()\n",
    "\n",
    "ax2 = ax.twinx()\n",
    "ax2.plot(payments_on_levels.index, payments_on_levels['sum_amt'], color='red', label='Сумма платежей')\n",
    "ax2.set_ylabel('Сумма платежей')\n",
    "ax2.legend(bbox_to_anchor=(1, 1, -0.065, -0.10), frameon=False)\n",
    "ax2.set_title('Динамика по уровням')\n",
    "\n",
    "sns.despine(right=False)\n",
    "plt.show()"
   ]
  },
  {
   "cell_type": "markdown",
   "id": "moral-wesley",
   "metadata": {
    "id": "unknown-circle"
   },
   "source": [
    "Больше всего платежей совершаются на уровне 8, 9 и 10. На этих уровнях ученики могут делать более одного платежа. <br>\n",
    "Уровень 5 также популярен по количеству платящих учеников, но здесь большинтсво совершает не более 1-го платежа."
   ]
  },
  {
   "cell_type": "markdown",
   "id": "remarkable-romania",
   "metadata": {
    "id": "accepted-practitioner"
   },
   "source": [
    "## Где ученики совершают первые платежи?"
   ]
  },
  {
   "cell_type": "code",
   "execution_count": 94,
   "id": "saved-future",
   "metadata": {
    "id": "progressive-absorption",
    "outputId": "8f81ead0-ad3e-4503-dc66-a0373428a568"
   },
   "outputs": [
    {
     "name": "stdout",
     "output_type": "stream",
     "text": [
      "Таблица первых платежей учеников\n"
     ]
    },
    {
     "data": {
      "text/html": [
       "<div>\n",
       "<style scoped>\n",
       "    .dataframe tbody tr th:only-of-type {\n",
       "        vertical-align: middle;\n",
       "    }\n",
       "\n",
       "    .dataframe tbody tr th {\n",
       "        vertical-align: top;\n",
       "    }\n",
       "\n",
       "    .dataframe thead th {\n",
       "        text-align: right;\n",
       "    }\n",
       "</style>\n",
       "<table border=\"1\" class=\"dataframe\">\n",
       "  <thead>\n",
       "    <tr style=\"text-align: right;\">\n",
       "      <th></th>\n",
       "      <th>level</th>\n",
       "      <th>payments</th>\n",
       "      <th>sum_amt</th>\n",
       "    </tr>\n",
       "  </thead>\n",
       "  <tbody>\n",
       "    <tr>\n",
       "      <th>0</th>\n",
       "      <td>2.00</td>\n",
       "      <td>2</td>\n",
       "      <td>3.41</td>\n",
       "    </tr>\n",
       "    <tr>\n",
       "      <th>1</th>\n",
       "      <td>3.00</td>\n",
       "      <td>8</td>\n",
       "      <td>5.41</td>\n",
       "    </tr>\n",
       "    <tr>\n",
       "      <th>2</th>\n",
       "      <td>4.00</td>\n",
       "      <td>41</td>\n",
       "      <td>27.74</td>\n",
       "    </tr>\n",
       "    <tr>\n",
       "      <th>3</th>\n",
       "      <td>5.00</td>\n",
       "      <td>57</td>\n",
       "      <td>13.18</td>\n",
       "    </tr>\n",
       "    <tr>\n",
       "      <th>4</th>\n",
       "      <td>6.00</td>\n",
       "      <td>14</td>\n",
       "      <td>4.50</td>\n",
       "    </tr>\n",
       "    <tr>\n",
       "      <th>5</th>\n",
       "      <td>7.00</td>\n",
       "      <td>39</td>\n",
       "      <td>11.70</td>\n",
       "    </tr>\n",
       "    <tr>\n",
       "      <th>6</th>\n",
       "      <td>8.00</td>\n",
       "      <td>84</td>\n",
       "      <td>27.60</td>\n",
       "    </tr>\n",
       "    <tr>\n",
       "      <th>7</th>\n",
       "      <td>9.00</td>\n",
       "      <td>47</td>\n",
       "      <td>12.79</td>\n",
       "    </tr>\n",
       "    <tr>\n",
       "      <th>8</th>\n",
       "      <td>10.00</td>\n",
       "      <td>14</td>\n",
       "      <td>5.60</td>\n",
       "    </tr>\n",
       "    <tr>\n",
       "      <th>9</th>\n",
       "      <td>11.00</td>\n",
       "      <td>4</td>\n",
       "      <td>1.00</td>\n",
       "    </tr>\n",
       "  </tbody>\n",
       "</table>\n",
       "</div>"
      ],
      "text/plain": [
       "   level  payments  sum_amt\n",
       "0   2.00         2     3.41\n",
       "1   3.00         8     5.41\n",
       "2   4.00        41    27.74\n",
       "3   5.00        57    13.18\n",
       "4   6.00        14     4.50\n",
       "5   7.00        39    11.70\n",
       "6   8.00        84    27.60\n",
       "7   9.00        47    12.79\n",
       "8  10.00        14     5.60\n",
       "9  11.00         4     1.00"
      ]
     },
     "execution_count": 94,
     "metadata": {},
     "output_type": "execute_result"
    }
   ],
   "source": [
    "first_payment = (level_payments_merge_payments.sort_values(by=['user_id', 'pay_time']).groupby('user_id').agg({'pay_time':'min', 'amt':'first', 'level':'first'})\n",
    "                 .groupby('level', as_index=False).agg({'pay_time':'count', 'amt':'sum'}).rename(columns={'pay_time':'payments', 'amt':'sum_amt'})\n",
    "                )\n",
    "print('Таблица первых платежей учеников')\n",
    "first_payment.head(10)"
   ]
  },
  {
   "cell_type": "code",
   "execution_count": 95,
   "id": "fantastic-brick",
   "metadata": {
    "id": "typical-better",
    "outputId": "e3f0b67d-7265-4791-8a19-18bcbeb2b060"
   },
   "outputs": [
    {
     "data": {
      "image/png": "[encoded data removed]",
      "text/plain": [
       "<Figure size 864x360 with 2 Axes>"
      ]
     },
     "metadata": {
      "needs_background": "light"
     },
     "output_type": "display_data"
    }
   ],
   "source": [
    "fig, ax = plt.subplots(figsize=(12, 5))\n",
    "ax.bar(first_payment['level'], first_payment['payments'], label='Количество первых платежей')\n",
    "ax.set_ylabel('Количество первых платежей')\n",
    "ax.grid()\n",
    "ax.legend(frameon=False)\n",
    "\n",
    "ax2 = ax.twinx()\n",
    "ax2.plot(first_payment['level'], first_payment['sum_amt'], color='red', label='Сумма платежей')\n",
    "ax2.set_ylabel('Сумма платежей')\n",
    "ax2.legend(bbox_to_anchor=(1, 1, -0.102, -0.06), frameon=False) #1, 1, -0.065, -0.10\n",
    "\n",
    "plt.title('Первые платежи')\n",
    "sns.despine(right=False)\n",
    "plt.show()"
   ]
  },
  {
   "cell_type": "markdown",
   "id": "billion-democrat",
   "metadata": {
    "id": "hollywood-belfast"
   },
   "source": [
    "Большинство первых оплат совершается для перехода на уровень 8. Также популярны оплаты для перехода на уровни - 5, 4, 9 и 7. <br>\n",
    "Наиболее крупные платежи совершаются для перехода на 4 и 8 уровни."
   ]
  },
  {
   "cell_type": "markdown",
   "id": "saving-booth",
   "metadata": {
    "id": "convinced-injury"
   },
   "source": [
    "## Выводы"
   ]
  },
  {
   "cell_type": "markdown",
   "id": "distinguished-saint",
   "metadata": {
    "id": "swiss-pendant"
   },
   "source": [
    "**Retention rate и время в приложении**<br>\n",
    "Наиболее высокий retention rate наблюдается у когорты, зарегистрировавшейся 2023-05-18.<br>\n",
    "Наиболее низкий retention rate - у когорты 2023-05-14.<br>\n",
    "Возвращаемость 1-го дня составляет - 30-50%.<br>\n",
    "Возвращаемость 2-го дня - 21-54%.<br>\n",
    "Возвращаемость 7-го дня - 14-25%.<br>\n",
    "Возвращаемость резко падает на 10-й день и составляет 3-8%. <br>\n",
    "\n",
    "Больше всего времени пользователи проводят в приложении в день регистрации - 14-19 минут. В первые 10 дней после регистрации наблюдается стабильное времяпребывание в приложении - по 9-12 минут каждый день.<br>\n",
    "\n",
    "\n",
    "**Присутствие учеников на уровнях**<br>\n",
    "Доля учеников, перешедших хотя бы на 1 уровень составляет - 82% от зарегистрированных т.е. 18% учеников остались на 1-м уровне и не двигались дальше.<br>\n",
    "Почти 50% учеников добрались до 5-го уровня. <br>\n",
    "До 14-15 уровней дошли только 1% от зарегистрированных учеников.\n",
    "Менее 1% зарегистрированных - на 16-м уровне и выше.<br>\n",
    "\n",
    "**Метрики монетизации для всей когорты**<br>\n",
    "С начала периода наблюдается стремительный рост суммы платежей, с пиками 15 и 20 мая 2023. Далее - активный спад. Пик 15 мая обусловлен повышенной стоимостью платежей, пик 23 мая - соответствует положительной динамике количества платящих учеников.<br>\n",
    "\n",
    "Максимальная дневная сумма платежей составила 84 у.е. Сумма среднего платежа за период - 26 у.е.<br>\n",
    "\n",
    "Сумма платежей коррелирует с количеством платящих пользователей.<br>\n",
    "В среднем, на одного платящего ученика приходится 2 платежа.<br>\n",
    "Доля платящих учеников от всех зарегистрированных - 1%.<br>\n",
    "\n",
    "**Где ученики совершают больше всего платежей**<br>\n",
    "Больше всего платежей совершаются на уровне 8, 9 и 10. На этих уровнях ученики могут делать более одного платежа.<br>\n",
    "Уровень 5 также популярен по количеству платящих учеников, но здесь большинтсво совершает не более 1-го платежа.<br>\n",
    "\n",
    "**Где ученики совершают первые платежи**<br>\n",
    "Большинство первых оплат совершается для перехода на уровень 8. Также популярны первые оплаты для перехода на уровни - 5, 4, 9 и 7.<br>\n",
    "Наиболее крупные первые платежи совершаются для перехода на 4 и 8 уровни.<br>"
   ]
  }
 ],
 "metadata": {
  "colab": {
   "provenance": []
  },
  "kernelspec": {
   "display_name": "Python 3",
   "language": "python",
   "name": "python3"
  },
  "language_info": {
   "codemirror_mode": {
    "name": "ipython",
    "version": 3
   },
   "file_extension": ".py",
   "mimetype": "text/x-python",
   "name": "python",
   "nbconvert_exporter": "python",
   "pygments_lexer": "ipython3",
   "version": "3.8.8"
  },
  "toc": {
   "base_numbering": 1,
   "nav_menu": {},
   "number_sections": true,
   "sideBar": true,
   "skip_h1_title": true,
   "title_cell": "Содержание",
   "title_sidebar": "Содержание",
   "toc_cell": true,
   "toc_position": {},
   "toc_section_display": true,
   "toc_window_display": true
  },
  "toc-showcode": true
 },
 "nbformat": 4,
 "nbformat_minor": 5
}
