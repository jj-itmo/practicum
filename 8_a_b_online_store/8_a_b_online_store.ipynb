{
 "cells": [
  {
   "cell_type": "markdown",
   "metadata": {
    "toc": true
   },
   "source": [
    "<h1>Содержание<span class=\"tocSkip\"></span></h1>\n",
    "<div class=\"toc\"><ul class=\"toc-item\"><li><span><a href=\"#Часть-1.-Приоритизация-гипотез.\" data-toc-modified-id=\"Часть-1.-Приоритизация-гипотез.-1\"><span class=\"toc-item-num\">1&nbsp;&nbsp;</span>Часть 1. Приоритизация гипотез.</a></span><ul class=\"toc-item\"><li><span><a href=\"#ICE\" data-toc-modified-id=\"ICE-1.1\"><span class=\"toc-item-num\">1.1&nbsp;&nbsp;</span>ICE</a></span></li><li><span><a href=\"#RICE\" data-toc-modified-id=\"RICE-1.2\"><span class=\"toc-item-num\">1.2&nbsp;&nbsp;</span>RICE</a></span></li><li><span><a href=\"#Выводы\" data-toc-modified-id=\"Выводы-1.3\"><span class=\"toc-item-num\">1.3&nbsp;&nbsp;</span>Выводы</a></span></li></ul></li><li><span><a href=\"#Часть-2.-Анализ-A/B-теста\" data-toc-modified-id=\"Часть-2.-Анализ-A/B-теста-2\"><span class=\"toc-item-num\">2&nbsp;&nbsp;</span>Часть 2. Анализ A/B-теста</a></span><ul class=\"toc-item\"><li><span><a href=\"#График-кумулятивной-выручки-по-группам.\" data-toc-modified-id=\"График-кумулятивной-выручки-по-группам.-2.1\"><span class=\"toc-item-num\">2.1&nbsp;&nbsp;</span>График кумулятивной выручки по группам.</a></span></li><li><span><a href=\"#График-кумулятивного-среднего-чека-по-группам\" data-toc-modified-id=\"График-кумулятивного-среднего-чека-по-группам-2.2\"><span class=\"toc-item-num\">2.2&nbsp;&nbsp;</span>График кумулятивного среднего чека по группам</a></span></li><li><span><a href=\"#График-относительного-изменения-кумулятивного-среднего-чека\" data-toc-modified-id=\"График-относительного-изменения-кумулятивного-среднего-чека-2.3\"><span class=\"toc-item-num\">2.3&nbsp;&nbsp;</span>График относительного изменения кумулятивного среднего чека</a></span></li><li><span><a href=\"#График-кумулятивной-конверсии-по-группам\" data-toc-modified-id=\"График-кумулятивной-конверсии-по-группам-2.4\"><span class=\"toc-item-num\">2.4&nbsp;&nbsp;</span>График кумулятивной конверсии по группам</a></span></li><li><span><a href=\"#График-относительного-изменения-кумулятивной-конверсии\" data-toc-modified-id=\"График-относительного-изменения-кумулятивной-конверсии-2.5\"><span class=\"toc-item-num\">2.5&nbsp;&nbsp;</span>График относительного изменения кумулятивной конверсии</a></span></li><li><span><a href=\"#Точечный-график-количества-заказов-по-пользователям\" data-toc-modified-id=\"Точечный-график-количества-заказов-по-пользователям-2.6\"><span class=\"toc-item-num\">2.6&nbsp;&nbsp;</span>Точечный график количества заказов по пользователям</a></span></li><li><span><a href=\"#95-й-и-99-й-перцентили-количества-заказов-на-пользователя\" data-toc-modified-id=\"95-й-и-99-й-перцентили-количества-заказов-на-пользователя-2.7\"><span class=\"toc-item-num\">2.7&nbsp;&nbsp;</span>95-й и 99-й перцентили количества заказов на пользователя</a></span></li><li><span><a href=\"#Точечный-график-стоимостей-заказов\" data-toc-modified-id=\"Точечный-график-стоимостей-заказов-2.8\"><span class=\"toc-item-num\">2.8&nbsp;&nbsp;</span>Точечный график стоимостей заказов</a></span></li><li><span><a href=\"#95-й-и-99-й-перцентили-стоимости-заказов\" data-toc-modified-id=\"95-й-и-99-й-перцентили-стоимости-заказов-2.9\"><span class=\"toc-item-num\">2.9&nbsp;&nbsp;</span>95-й и 99-й перцентили стоимости заказов</a></span></li><li><span><a href=\"#Cтатистическая-значимость-различий-в-конверсии-между-группами-по-«сырым»-данным\" data-toc-modified-id=\"Cтатистическая-значимость-различий-в-конверсии-между-группами-по-«сырым»-данным-2.10\"><span class=\"toc-item-num\">2.10&nbsp;&nbsp;</span>Cтатистическая значимость различий в конверсии между группами по «сырым» данным</a></span></li><li><span><a href=\"#Cтатистическая-значимость-различий-в-среднем-чеке-заказа-между-группами-по-«сырым»-данным\" data-toc-modified-id=\"Cтатистическая-значимость-различий-в-среднем-чеке-заказа-между-группами-по-«сырым»-данным-2.11\"><span class=\"toc-item-num\">2.11&nbsp;&nbsp;</span>Cтатистическая значимость различий в среднем чеке заказа между группами по «сырым» данным</a></span></li><li><span><a href=\"#Cтатистическая-значимость-различий-в-конверсии-между-группами-по-«очищенным»-данным\" data-toc-modified-id=\"Cтатистическая-значимость-различий-в-конверсии-между-группами-по-«очищенным»-данным-2.12\"><span class=\"toc-item-num\">2.12&nbsp;&nbsp;</span>Cтатистическая значимость различий в конверсии между группами по «очищенным» данным</a></span></li><li><span><a href=\"#Cтатистическая-значимость-различий-в-среднем-чеке-заказа-между-группами-по-«очищенным»-данным\" data-toc-modified-id=\"Cтатистическая-значимость-различий-в-среднем-чеке-заказа-между-группами-по-«очищенным»-данным-2.13\"><span class=\"toc-item-num\">2.13&nbsp;&nbsp;</span>Cтатистическая значимость различий в среднем чеке заказа между группами по «очищенным» данным</a></span></li><li><span><a href=\"#Результаты-теста\" data-toc-modified-id=\"Результаты-теста-2.14\"><span class=\"toc-item-num\">2.14&nbsp;&nbsp;</span>Результаты теста</a></span></li></ul></li></ul></div>"
   ]
  },
  {
   "cell_type": "markdown",
   "metadata": {},
   "source": [
    "# Увеличение выручки интернет-магазина"
   ]
  },
  {
   "cell_type": "markdown",
   "metadata": {},
   "source": [
    "Вместе с отделом маркетинга подготовлен список гипотез для увеличения выручки интернет-магазина.\n",
    "\n",
    "Задачи:\n",
    "- приоритизировать гипотезы:\n",
    "    - применить фреймворки ICE и RICE, как одни из самых популярных способов приоритизации,\n",
    "    - проанализировать изменение приоритезации в зависимости от фрейворка\n",
    "- запустить A/B-тест и проанализировать результаты:\n",
    "    - посчитать основные куммулятивные метрики,\n",
    "    - определить динамику (графики) по основным куммулятивным метрикам,\n",
    "    - определить динамику (графики) относительного изменения куммулятивных метрик\n",
    "    - определить возможные выбросы и аномалии,\n",
    "    - определить статестическую значимость различий между группами по основным метрикам по \"сырым\" и \"очищенным\" данным,\n",
    "    - сформировать выводы и решение по тесту.\n",
    "\n",
    "Исходя из обнаруженных фактов, потребуется принять решение по дальнейшему проведению теста и сформировать итоги по его результатам. "
   ]
  },
  {
   "cell_type": "code",
   "execution_count": 1,
   "metadata": {},
   "outputs": [],
   "source": [
    "import pandas as pd\n",
    "import numpy as np\n",
    "import math\n",
    "import seaborn as sns\n",
    "#from matplotlib import pyplot as plt\n",
    "import matplotlib.pyplot as plt\n",
    "import datetime as dt\n",
    "#from datetime import timedelta\n",
    "from scipy import stats\n",
    "\n",
    "#from pandas.plotting import register_matplotlib_converters"
   ]
  },
  {
   "cell_type": "code",
   "execution_count": 2,
   "metadata": {},
   "outputs": [],
   "source": [
    "pd.set_option('display.max_columns', None)\n",
    "pd.set_option('display.float_format', '{:,.2f}'.format)\n",
    "pd.set_option('display.max_colwidth', None)\n",
    "\n",
    "# конвертеры, которые позволяют использовать типы pandas в matplotlib  \n",
    "#register_matplotlib_converters()"
   ]
  },
  {
   "cell_type": "markdown",
   "metadata": {},
   "source": [
    "## Часть 1. Приоритизация гипотез."
   ]
  },
  {
   "cell_type": "markdown",
   "metadata": {},
   "source": [
    "В файле `/datasets/hypothesis.csv` 9 гипотез по увеличению выручки интернет-магазина с указанными параметрами:\n",
    "- `Hypothesis` — краткое описание гипотезы;\n",
    "- `Reach` — охват пользователей по 10-балльной шкале;\n",
    "- `Impact` — влияние на пользователей по 10-балльной шкале;\n",
    "- `Confidence` — уверенность в гипотезе по 10-балльной шкале;\n",
    "- `Efforts` — затраты ресурсов на проверку гипотезы по 10-балльной шкале. Чем больше значение Efforts, тем дороже проверка гипотезы.\n",
    "\n",
    "Применим фреймворки ICE и RICE, как одни из самых популярных способов приоритизации задач, для приоритизации гипотез. Проанализируем изменение приоритезации в зависимости от фрейворка."
   ]
  },
  {
   "cell_type": "code",
   "execution_count": 3,
   "metadata": {},
   "outputs": [],
   "source": [
    "try:\n",
    "    hypothesis = pd.read_csv('ab/hypothesis.csv', sep=',')\n",
    "except:\n",
    "    hypothesis = pd.read_csv('https://code.s3.yandex.net/datasets/hypothesis.csv', sep=',')    "
   ]
  },
  {
   "cell_type": "code",
   "execution_count": 4,
   "metadata": {},
   "outputs": [
    {
     "name": "stdout",
     "output_type": "stream",
     "text": [
      "<class 'pandas.core.frame.DataFrame'>\n",
      "RangeIndex: 9 entries, 0 to 8\n",
      "Data columns (total 5 columns):\n",
      " #   Column      Non-Null Count  Dtype \n",
      "---  ------      --------------  ----- \n",
      " 0   Hypothesis  9 non-null      object\n",
      " 1   Reach       9 non-null      int64 \n",
      " 2   Impact      9 non-null      int64 \n",
      " 3   Confidence  9 non-null      int64 \n",
      " 4   Efforts     9 non-null      int64 \n",
      "dtypes: int64(4), object(1)\n",
      "memory usage: 488.0+ bytes\n"
     ]
    }
   ],
   "source": [
    "hypothesis.info()"
   ]
  },
  {
   "cell_type": "code",
   "execution_count": 5,
   "metadata": {},
   "outputs": [
    {
     "data": {
      "text/html": [
       "<div>\n",
       "<style scoped>\n",
       "    .dataframe tbody tr th:only-of-type {\n",
       "        vertical-align: middle;\n",
       "    }\n",
       "\n",
       "    .dataframe tbody tr th {\n",
       "        vertical-align: top;\n",
       "    }\n",
       "\n",
       "    .dataframe thead th {\n",
       "        text-align: right;\n",
       "    }\n",
       "</style>\n",
       "<table border=\"1\" class=\"dataframe\">\n",
       "  <thead>\n",
       "    <tr style=\"text-align: right;\">\n",
       "      <th></th>\n",
       "      <th>Hypothesis</th>\n",
       "      <th>Reach</th>\n",
       "      <th>Impact</th>\n",
       "      <th>Confidence</th>\n",
       "      <th>Efforts</th>\n",
       "    </tr>\n",
       "  </thead>\n",
       "  <tbody>\n",
       "    <tr>\n",
       "      <th>0</th>\n",
       "      <td>Добавить два новых канала привлечения трафика, что позволит привлекать на 30% больше пользователей</td>\n",
       "      <td>3</td>\n",
       "      <td>10</td>\n",
       "      <td>8</td>\n",
       "      <td>6</td>\n",
       "    </tr>\n",
       "    <tr>\n",
       "      <th>1</th>\n",
       "      <td>Запустить собственную службу доставки, что сократит срок доставки заказов</td>\n",
       "      <td>2</td>\n",
       "      <td>5</td>\n",
       "      <td>4</td>\n",
       "      <td>10</td>\n",
       "    </tr>\n",
       "    <tr>\n",
       "      <th>2</th>\n",
       "      <td>Добавить блоки рекомендаций товаров на сайт интернет магазина, чтобы повысить конверсию и средний чек заказа</td>\n",
       "      <td>8</td>\n",
       "      <td>3</td>\n",
       "      <td>7</td>\n",
       "      <td>3</td>\n",
       "    </tr>\n",
       "    <tr>\n",
       "      <th>3</th>\n",
       "      <td>Изменить структура категорий, что увеличит конверсию, т.к. пользователи быстрее найдут нужный товар</td>\n",
       "      <td>8</td>\n",
       "      <td>3</td>\n",
       "      <td>3</td>\n",
       "      <td>8</td>\n",
       "    </tr>\n",
       "    <tr>\n",
       "      <th>4</th>\n",
       "      <td>Изменить цвет фона главной страницы, чтобы увеличить вовлеченность пользователей</td>\n",
       "      <td>3</td>\n",
       "      <td>1</td>\n",
       "      <td>1</td>\n",
       "      <td>1</td>\n",
       "    </tr>\n",
       "    <tr>\n",
       "      <th>5</th>\n",
       "      <td>Добавить страницу отзывов клиентов о магазине, что позволит увеличить количество заказов</td>\n",
       "      <td>3</td>\n",
       "      <td>2</td>\n",
       "      <td>2</td>\n",
       "      <td>3</td>\n",
       "    </tr>\n",
       "    <tr>\n",
       "      <th>6</th>\n",
       "      <td>Показать на главной странице баннеры с актуальными акциями и распродажами, чтобы увеличить конверсию</td>\n",
       "      <td>5</td>\n",
       "      <td>3</td>\n",
       "      <td>8</td>\n",
       "      <td>3</td>\n",
       "    </tr>\n",
       "    <tr>\n",
       "      <th>7</th>\n",
       "      <td>Добавить форму подписки на все основные страницы, чтобы собрать базу клиентов для email-рассылок</td>\n",
       "      <td>10</td>\n",
       "      <td>7</td>\n",
       "      <td>8</td>\n",
       "      <td>5</td>\n",
       "    </tr>\n",
       "    <tr>\n",
       "      <th>8</th>\n",
       "      <td>Запустить акцию, дающую скидку на товар в день рождения</td>\n",
       "      <td>1</td>\n",
       "      <td>9</td>\n",
       "      <td>9</td>\n",
       "      <td>5</td>\n",
       "    </tr>\n",
       "  </tbody>\n",
       "</table>\n",
       "</div>"
      ],
      "text/plain": [
       "                                                                                                     Hypothesis  \\\n",
       "0            Добавить два новых канала привлечения трафика, что позволит привлекать на 30% больше пользователей   \n",
       "1                                     Запустить собственную службу доставки, что сократит срок доставки заказов   \n",
       "2  Добавить блоки рекомендаций товаров на сайт интернет магазина, чтобы повысить конверсию и средний чек заказа   \n",
       "3           Изменить структура категорий, что увеличит конверсию, т.к. пользователи быстрее найдут нужный товар   \n",
       "4                              Изменить цвет фона главной страницы, чтобы увеличить вовлеченность пользователей   \n",
       "5                      Добавить страницу отзывов клиентов о магазине, что позволит увеличить количество заказов   \n",
       "6          Показать на главной странице баннеры с актуальными акциями и распродажами, чтобы увеличить конверсию   \n",
       "7              Добавить форму подписки на все основные страницы, чтобы собрать базу клиентов для email-рассылок   \n",
       "8                                                       Запустить акцию, дающую скидку на товар в день рождения   \n",
       "\n",
       "   Reach  Impact  Confidence  Efforts  \n",
       "0      3      10           8        6  \n",
       "1      2       5           4       10  \n",
       "2      8       3           7        3  \n",
       "3      8       3           3        8  \n",
       "4      3       1           1        1  \n",
       "5      3       2           2        3  \n",
       "6      5       3           8        3  \n",
       "7     10       7           8        5  \n",
       "8      1       9           9        5  "
      ]
     },
     "execution_count": 5,
     "metadata": {},
     "output_type": "execute_result"
    }
   ],
   "source": [
    "hypothesis"
   ]
  },
  {
   "cell_type": "markdown",
   "metadata": {},
   "source": [
    "### ICE"
   ]
  },
  {
   "cell_type": "markdown",
   "metadata": {},
   "source": [
    "Применим фреймворк ICE для приоритизации гипотез. Отсортируем их по убыванию приоритета."
   ]
  },
  {
   "cell_type": "code",
   "execution_count": 6,
   "metadata": {},
   "outputs": [
    {
     "data": {
      "text/html": [
       "<div>\n",
       "<style scoped>\n",
       "    .dataframe tbody tr th:only-of-type {\n",
       "        vertical-align: middle;\n",
       "    }\n",
       "\n",
       "    .dataframe tbody tr th {\n",
       "        vertical-align: top;\n",
       "    }\n",
       "\n",
       "    .dataframe thead th {\n",
       "        text-align: right;\n",
       "    }\n",
       "</style>\n",
       "<table border=\"1\" class=\"dataframe\">\n",
       "  <thead>\n",
       "    <tr style=\"text-align: right;\">\n",
       "      <th></th>\n",
       "      <th>Hypothesis</th>\n",
       "      <th>Reach</th>\n",
       "      <th>Impact</th>\n",
       "      <th>Confidence</th>\n",
       "      <th>Efforts</th>\n",
       "      <th>ICE</th>\n",
       "    </tr>\n",
       "  </thead>\n",
       "  <tbody>\n",
       "    <tr>\n",
       "      <th>1</th>\n",
       "      <td>Запустить акцию, дающую скидку на товар в день рождения</td>\n",
       "      <td>1</td>\n",
       "      <td>9</td>\n",
       "      <td>9</td>\n",
       "      <td>5</td>\n",
       "      <td>16.20</td>\n",
       "    </tr>\n",
       "    <tr>\n",
       "      <th>2</th>\n",
       "      <td>Добавить два новых канала привлечения трафика, что позволит привлекать на 30% больше пользователей</td>\n",
       "      <td>3</td>\n",
       "      <td>10</td>\n",
       "      <td>8</td>\n",
       "      <td>6</td>\n",
       "      <td>13.33</td>\n",
       "    </tr>\n",
       "    <tr>\n",
       "      <th>3</th>\n",
       "      <td>Добавить форму подписки на все основные страницы, чтобы собрать базу клиентов для email-рассылок</td>\n",
       "      <td>10</td>\n",
       "      <td>7</td>\n",
       "      <td>8</td>\n",
       "      <td>5</td>\n",
       "      <td>11.20</td>\n",
       "    </tr>\n",
       "    <tr>\n",
       "      <th>4</th>\n",
       "      <td>Показать на главной странице баннеры с актуальными акциями и распродажами, чтобы увеличить конверсию</td>\n",
       "      <td>5</td>\n",
       "      <td>3</td>\n",
       "      <td>8</td>\n",
       "      <td>3</td>\n",
       "      <td>8.00</td>\n",
       "    </tr>\n",
       "    <tr>\n",
       "      <th>5</th>\n",
       "      <td>Добавить блоки рекомендаций товаров на сайт интернет магазина, чтобы повысить конверсию и средний чек заказа</td>\n",
       "      <td>8</td>\n",
       "      <td>3</td>\n",
       "      <td>7</td>\n",
       "      <td>3</td>\n",
       "      <td>7.00</td>\n",
       "    </tr>\n",
       "    <tr>\n",
       "      <th>6</th>\n",
       "      <td>Запустить собственную службу доставки, что сократит срок доставки заказов</td>\n",
       "      <td>2</td>\n",
       "      <td>5</td>\n",
       "      <td>4</td>\n",
       "      <td>10</td>\n",
       "      <td>2.00</td>\n",
       "    </tr>\n",
       "    <tr>\n",
       "      <th>7</th>\n",
       "      <td>Добавить страницу отзывов клиентов о магазине, что позволит увеличить количество заказов</td>\n",
       "      <td>3</td>\n",
       "      <td>2</td>\n",
       "      <td>2</td>\n",
       "      <td>3</td>\n",
       "      <td>1.33</td>\n",
       "    </tr>\n",
       "    <tr>\n",
       "      <th>8</th>\n",
       "      <td>Изменить структура категорий, что увеличит конверсию, т.к. пользователи быстрее найдут нужный товар</td>\n",
       "      <td>8</td>\n",
       "      <td>3</td>\n",
       "      <td>3</td>\n",
       "      <td>8</td>\n",
       "      <td>1.12</td>\n",
       "    </tr>\n",
       "    <tr>\n",
       "      <th>9</th>\n",
       "      <td>Изменить цвет фона главной страницы, чтобы увеличить вовлеченность пользователей</td>\n",
       "      <td>3</td>\n",
       "      <td>1</td>\n",
       "      <td>1</td>\n",
       "      <td>1</td>\n",
       "      <td>1.00</td>\n",
       "    </tr>\n",
       "  </tbody>\n",
       "</table>\n",
       "</div>"
      ],
      "text/plain": [
       "                                                                                                     Hypothesis  \\\n",
       "1                                                       Запустить акцию, дающую скидку на товар в день рождения   \n",
       "2            Добавить два новых канала привлечения трафика, что позволит привлекать на 30% больше пользователей   \n",
       "3              Добавить форму подписки на все основные страницы, чтобы собрать базу клиентов для email-рассылок   \n",
       "4          Показать на главной странице баннеры с актуальными акциями и распродажами, чтобы увеличить конверсию   \n",
       "5  Добавить блоки рекомендаций товаров на сайт интернет магазина, чтобы повысить конверсию и средний чек заказа   \n",
       "6                                     Запустить собственную службу доставки, что сократит срок доставки заказов   \n",
       "7                      Добавить страницу отзывов клиентов о магазине, что позволит увеличить количество заказов   \n",
       "8           Изменить структура категорий, что увеличит конверсию, т.к. пользователи быстрее найдут нужный товар   \n",
       "9                              Изменить цвет фона главной страницы, чтобы увеличить вовлеченность пользователей   \n",
       "\n",
       "   Reach  Impact  Confidence  Efforts   ICE  \n",
       "1      1       9           9        5 16.20  \n",
       "2      3      10           8        6 13.33  \n",
       "3     10       7           8        5 11.20  \n",
       "4      5       3           8        3  8.00  \n",
       "5      8       3           7        3  7.00  \n",
       "6      2       5           4       10  2.00  \n",
       "7      3       2           2        3  1.33  \n",
       "8      8       3           3        8  1.12  \n",
       "9      3       1           1        1  1.00  "
      ]
     },
     "execution_count": 6,
     "metadata": {},
     "output_type": "execute_result"
    }
   ],
   "source": [
    "hypothesis['ICE'] = (\n",
    "    hypothesis['Impact'] * hypothesis['Confidence'] / hypothesis['Efforts']\n",
    ")\n",
    "\n",
    "hyp = hypothesis.sort_values(by='ICE', ascending=False).reset_index(drop=True)\n",
    "hyp.index = np.arange(1, len(hyp) + 1)\n",
    "hyp"
   ]
  },
  {
   "cell_type": "markdown",
   "metadata": {},
   "source": [
    "### RICE"
   ]
  },
  {
   "cell_type": "markdown",
   "metadata": {},
   "source": [
    "Применим фреймворк RICE для приоритизации гипотез. Отсортируем их по убыванию приоритета."
   ]
  },
  {
   "cell_type": "code",
   "execution_count": 7,
   "metadata": {},
   "outputs": [
    {
     "data": {
      "text/html": [
       "<div>\n",
       "<style scoped>\n",
       "    .dataframe tbody tr th:only-of-type {\n",
       "        vertical-align: middle;\n",
       "    }\n",
       "\n",
       "    .dataframe tbody tr th {\n",
       "        vertical-align: top;\n",
       "    }\n",
       "\n",
       "    .dataframe thead th {\n",
       "        text-align: right;\n",
       "    }\n",
       "</style>\n",
       "<table border=\"1\" class=\"dataframe\">\n",
       "  <thead>\n",
       "    <tr style=\"text-align: right;\">\n",
       "      <th></th>\n",
       "      <th>Hypothesis</th>\n",
       "      <th>Reach</th>\n",
       "      <th>Impact</th>\n",
       "      <th>Confidence</th>\n",
       "      <th>Efforts</th>\n",
       "      <th>ICE</th>\n",
       "      <th>RICE</th>\n",
       "    </tr>\n",
       "  </thead>\n",
       "  <tbody>\n",
       "    <tr>\n",
       "      <th>1</th>\n",
       "      <td>Добавить форму подписки на все основные страницы, чтобы собрать базу клиентов для email-рассылок</td>\n",
       "      <td>10</td>\n",
       "      <td>7</td>\n",
       "      <td>8</td>\n",
       "      <td>5</td>\n",
       "      <td>11.20</td>\n",
       "      <td>112.00</td>\n",
       "    </tr>\n",
       "    <tr>\n",
       "      <th>2</th>\n",
       "      <td>Добавить блоки рекомендаций товаров на сайт интернет магазина, чтобы повысить конверсию и средний чек заказа</td>\n",
       "      <td>8</td>\n",
       "      <td>3</td>\n",
       "      <td>7</td>\n",
       "      <td>3</td>\n",
       "      <td>7.00</td>\n",
       "      <td>56.00</td>\n",
       "    </tr>\n",
       "    <tr>\n",
       "      <th>3</th>\n",
       "      <td>Добавить два новых канала привлечения трафика, что позволит привлекать на 30% больше пользователей</td>\n",
       "      <td>3</td>\n",
       "      <td>10</td>\n",
       "      <td>8</td>\n",
       "      <td>6</td>\n",
       "      <td>13.33</td>\n",
       "      <td>40.00</td>\n",
       "    </tr>\n",
       "    <tr>\n",
       "      <th>4</th>\n",
       "      <td>Показать на главной странице баннеры с актуальными акциями и распродажами, чтобы увеличить конверсию</td>\n",
       "      <td>5</td>\n",
       "      <td>3</td>\n",
       "      <td>8</td>\n",
       "      <td>3</td>\n",
       "      <td>8.00</td>\n",
       "      <td>40.00</td>\n",
       "    </tr>\n",
       "    <tr>\n",
       "      <th>5</th>\n",
       "      <td>Запустить акцию, дающую скидку на товар в день рождения</td>\n",
       "      <td>1</td>\n",
       "      <td>9</td>\n",
       "      <td>9</td>\n",
       "      <td>5</td>\n",
       "      <td>16.20</td>\n",
       "      <td>16.20</td>\n",
       "    </tr>\n",
       "    <tr>\n",
       "      <th>6</th>\n",
       "      <td>Изменить структура категорий, что увеличит конверсию, т.к. пользователи быстрее найдут нужный товар</td>\n",
       "      <td>8</td>\n",
       "      <td>3</td>\n",
       "      <td>3</td>\n",
       "      <td>8</td>\n",
       "      <td>1.12</td>\n",
       "      <td>9.00</td>\n",
       "    </tr>\n",
       "    <tr>\n",
       "      <th>7</th>\n",
       "      <td>Запустить собственную службу доставки, что сократит срок доставки заказов</td>\n",
       "      <td>2</td>\n",
       "      <td>5</td>\n",
       "      <td>4</td>\n",
       "      <td>10</td>\n",
       "      <td>2.00</td>\n",
       "      <td>4.00</td>\n",
       "    </tr>\n",
       "    <tr>\n",
       "      <th>8</th>\n",
       "      <td>Добавить страницу отзывов клиентов о магазине, что позволит увеличить количество заказов</td>\n",
       "      <td>3</td>\n",
       "      <td>2</td>\n",
       "      <td>2</td>\n",
       "      <td>3</td>\n",
       "      <td>1.33</td>\n",
       "      <td>4.00</td>\n",
       "    </tr>\n",
       "    <tr>\n",
       "      <th>9</th>\n",
       "      <td>Изменить цвет фона главной страницы, чтобы увеличить вовлеченность пользователей</td>\n",
       "      <td>3</td>\n",
       "      <td>1</td>\n",
       "      <td>1</td>\n",
       "      <td>1</td>\n",
       "      <td>1.00</td>\n",
       "      <td>3.00</td>\n",
       "    </tr>\n",
       "  </tbody>\n",
       "</table>\n",
       "</div>"
      ],
      "text/plain": [
       "                                                                                                     Hypothesis  \\\n",
       "1              Добавить форму подписки на все основные страницы, чтобы собрать базу клиентов для email-рассылок   \n",
       "2  Добавить блоки рекомендаций товаров на сайт интернет магазина, чтобы повысить конверсию и средний чек заказа   \n",
       "3            Добавить два новых канала привлечения трафика, что позволит привлекать на 30% больше пользователей   \n",
       "4          Показать на главной странице баннеры с актуальными акциями и распродажами, чтобы увеличить конверсию   \n",
       "5                                                       Запустить акцию, дающую скидку на товар в день рождения   \n",
       "6           Изменить структура категорий, что увеличит конверсию, т.к. пользователи быстрее найдут нужный товар   \n",
       "7                                     Запустить собственную службу доставки, что сократит срок доставки заказов   \n",
       "8                      Добавить страницу отзывов клиентов о магазине, что позволит увеличить количество заказов   \n",
       "9                              Изменить цвет фона главной страницы, чтобы увеличить вовлеченность пользователей   \n",
       "\n",
       "   Reach  Impact  Confidence  Efforts   ICE   RICE  \n",
       "1     10       7           8        5 11.20 112.00  \n",
       "2      8       3           7        3  7.00  56.00  \n",
       "3      3      10           8        6 13.33  40.00  \n",
       "4      5       3           8        3  8.00  40.00  \n",
       "5      1       9           9        5 16.20  16.20  \n",
       "6      8       3           3        8  1.12   9.00  \n",
       "7      2       5           4       10  2.00   4.00  \n",
       "8      3       2           2        3  1.33   4.00  \n",
       "9      3       1           1        1  1.00   3.00  "
      ]
     },
     "execution_count": 7,
     "metadata": {},
     "output_type": "execute_result"
    }
   ],
   "source": [
    "hypothesis['RICE'] = (hypothesis['Reach'] * hypothesis['Impact'] * hypothesis['Confidence']) / hypothesis['Efforts']\n",
    "\n",
    "hyp = hypothesis.sort_values(by='RICE', ascending=False).reset_index(drop=True)\n",
    "hyp.index = np.arange(1, len(hyp) + 1)\n",
    "hyp"
   ]
  },
  {
   "cell_type": "markdown",
   "metadata": {},
   "source": [
    "### Выводы"
   ]
  },
  {
   "cell_type": "markdown",
   "metadata": {},
   "source": [
    "Приоритизация гипотез при применении RICE вместо ICE изменилась:\n",
    "- на первое место, вместо гипотезы `Запустить акцию, дающую скидку на товар в день рождения`, которая опустилась на 5-е место, вышла гипотеза  `Добавить форму подписки на все основные страницы, чтобы собрать базу клиентов для email-рассылок`.\n",
    "- гипотеза `Добавить блоки рекомендаций товаров на сайт интернет магазина, чтобы повысить конверсию и средний чек заказа\t` с середины таблицы, поднялась на 2-е место.\n",
    "\n",
    "Эти и другие, менее существенные изменения произошли потому, что фреймворк RICE использует параметр Reach (охват), который у поднявшихся гипотез оказался выше. Таким образом, помимо силы гипотез учитывается то, как много пользователей они затронут.\n",
    "\n",
    "\n"
   ]
  },
  {
   "cell_type": "markdown",
   "metadata": {},
   "source": [
    "## Часть 2. Анализ A/B-теста"
   ]
  },
  {
   "cell_type": "markdown",
   "metadata": {},
   "source": [
    "Проанализируем A/B тест, рузультаты которого представлены в файлах:\n",
    "\n",
    "Файл /datasets/orders.csv: \n",
    "- `transactionId` — идентификатор заказа;\n",
    "- `visitorId` — идентификатор пользователя, совершившего заказ;\n",
    "- `date` — дата, когда был совершён заказ;\n",
    "- `revenue` — выручка заказа;\n",
    "- `group` — группа A/B-теста, в которую попал заказ.\n",
    "\n",
    "Файл /datasets/visitors.csv: \n",
    "- `date` — дата;\n",
    "- `group` — группа A/B-теста;\n",
    "- `visitors` — количество пользователей в указанную дату в указанной группе A/B-теста\n"
   ]
  },
  {
   "cell_type": "code",
   "execution_count": 8,
   "metadata": {},
   "outputs": [],
   "source": [
    "try:\n",
    "    orders = pd.read_csv('ab/orders.csv', sep=',')\n",
    "    visitors = pd.read_csv('ab/visitors.csv', sep=',')\n",
    "except:\n",
    "    orders = pd.read_csv('https://code.s3.yandex.net/datasets/orders.csv', sep=',')\n",
    "    visitors = pd.read_csv('https://code.s3.yandex.net/datasets/visitors.csv', sep=',')"
   ]
  },
  {
   "cell_type": "code",
   "execution_count": 9,
   "metadata": {},
   "outputs": [
    {
     "data": {
      "text/html": [
       "<div>\n",
       "<style scoped>\n",
       "    .dataframe tbody tr th:only-of-type {\n",
       "        vertical-align: middle;\n",
       "    }\n",
       "\n",
       "    .dataframe tbody tr th {\n",
       "        vertical-align: top;\n",
       "    }\n",
       "\n",
       "    .dataframe thead th {\n",
       "        text-align: right;\n",
       "    }\n",
       "</style>\n",
       "<table border=\"1\" class=\"dataframe\">\n",
       "  <thead>\n",
       "    <tr style=\"text-align: right;\">\n",
       "      <th></th>\n",
       "      <th>transactionId</th>\n",
       "      <th>visitorId</th>\n",
       "      <th>date</th>\n",
       "      <th>revenue</th>\n",
       "      <th>group</th>\n",
       "    </tr>\n",
       "  </thead>\n",
       "  <tbody>\n",
       "    <tr>\n",
       "      <th>0</th>\n",
       "      <td>3667963787</td>\n",
       "      <td>3312258926</td>\n",
       "      <td>2019-08-15</td>\n",
       "      <td>1650</td>\n",
       "      <td>B</td>\n",
       "    </tr>\n",
       "    <tr>\n",
       "      <th>1</th>\n",
       "      <td>2804400009</td>\n",
       "      <td>3642806036</td>\n",
       "      <td>2019-08-15</td>\n",
       "      <td>730</td>\n",
       "      <td>B</td>\n",
       "    </tr>\n",
       "    <tr>\n",
       "      <th>2</th>\n",
       "      <td>2961555356</td>\n",
       "      <td>4069496402</td>\n",
       "      <td>2019-08-15</td>\n",
       "      <td>400</td>\n",
       "      <td>A</td>\n",
       "    </tr>\n",
       "    <tr>\n",
       "      <th>3</th>\n",
       "      <td>3797467345</td>\n",
       "      <td>1196621759</td>\n",
       "      <td>2019-08-15</td>\n",
       "      <td>9759</td>\n",
       "      <td>B</td>\n",
       "    </tr>\n",
       "    <tr>\n",
       "      <th>4</th>\n",
       "      <td>2282983706</td>\n",
       "      <td>2322279887</td>\n",
       "      <td>2019-08-15</td>\n",
       "      <td>2308</td>\n",
       "      <td>B</td>\n",
       "    </tr>\n",
       "  </tbody>\n",
       "</table>\n",
       "</div>"
      ],
      "text/plain": [
       "   transactionId   visitorId        date  revenue group\n",
       "0     3667963787  3312258926  2019-08-15     1650     B\n",
       "1     2804400009  3642806036  2019-08-15      730     B\n",
       "2     2961555356  4069496402  2019-08-15      400     A\n",
       "3     3797467345  1196621759  2019-08-15     9759     B\n",
       "4     2282983706  2322279887  2019-08-15     2308     B"
      ]
     },
     "execution_count": 9,
     "metadata": {},
     "output_type": "execute_result"
    }
   ],
   "source": [
    "orders.head()"
   ]
  },
  {
   "cell_type": "code",
   "execution_count": 10,
   "metadata": {},
   "outputs": [
    {
     "name": "stdout",
     "output_type": "stream",
     "text": [
      "<class 'pandas.core.frame.DataFrame'>\n",
      "RangeIndex: 1197 entries, 0 to 1196\n",
      "Data columns (total 5 columns):\n",
      " #   Column         Non-Null Count  Dtype \n",
      "---  ------         --------------  ----- \n",
      " 0   transactionId  1197 non-null   int64 \n",
      " 1   visitorId      1197 non-null   int64 \n",
      " 2   date           1197 non-null   object\n",
      " 3   revenue        1197 non-null   int64 \n",
      " 4   group          1197 non-null   object\n",
      "dtypes: int64(3), object(2)\n",
      "memory usage: 46.9+ KB\n"
     ]
    }
   ],
   "source": [
    "orders.info()"
   ]
  },
  {
   "cell_type": "code",
   "execution_count": 11,
   "metadata": {},
   "outputs": [
    {
     "data": {
      "text/html": [
       "<div>\n",
       "<style scoped>\n",
       "    .dataframe tbody tr th:only-of-type {\n",
       "        vertical-align: middle;\n",
       "    }\n",
       "\n",
       "    .dataframe tbody tr th {\n",
       "        vertical-align: top;\n",
       "    }\n",
       "\n",
       "    .dataframe thead th {\n",
       "        text-align: right;\n",
       "    }\n",
       "</style>\n",
       "<table border=\"1\" class=\"dataframe\">\n",
       "  <thead>\n",
       "    <tr style=\"text-align: right;\">\n",
       "      <th></th>\n",
       "      <th>date</th>\n",
       "      <th>group</th>\n",
       "      <th>visitors</th>\n",
       "    </tr>\n",
       "  </thead>\n",
       "  <tbody>\n",
       "    <tr>\n",
       "      <th>0</th>\n",
       "      <td>2019-08-01</td>\n",
       "      <td>A</td>\n",
       "      <td>719</td>\n",
       "    </tr>\n",
       "    <tr>\n",
       "      <th>1</th>\n",
       "      <td>2019-08-02</td>\n",
       "      <td>A</td>\n",
       "      <td>619</td>\n",
       "    </tr>\n",
       "    <tr>\n",
       "      <th>2</th>\n",
       "      <td>2019-08-03</td>\n",
       "      <td>A</td>\n",
       "      <td>507</td>\n",
       "    </tr>\n",
       "    <tr>\n",
       "      <th>3</th>\n",
       "      <td>2019-08-04</td>\n",
       "      <td>A</td>\n",
       "      <td>717</td>\n",
       "    </tr>\n",
       "    <tr>\n",
       "      <th>4</th>\n",
       "      <td>2019-08-05</td>\n",
       "      <td>A</td>\n",
       "      <td>756</td>\n",
       "    </tr>\n",
       "  </tbody>\n",
       "</table>\n",
       "</div>"
      ],
      "text/plain": [
       "         date group  visitors\n",
       "0  2019-08-01     A       719\n",
       "1  2019-08-02     A       619\n",
       "2  2019-08-03     A       507\n",
       "3  2019-08-04     A       717\n",
       "4  2019-08-05     A       756"
      ]
     },
     "execution_count": 11,
     "metadata": {},
     "output_type": "execute_result"
    }
   ],
   "source": [
    "visitors.head()"
   ]
  },
  {
   "cell_type": "code",
   "execution_count": 12,
   "metadata": {},
   "outputs": [
    {
     "name": "stdout",
     "output_type": "stream",
     "text": [
      "<class 'pandas.core.frame.DataFrame'>\n",
      "RangeIndex: 62 entries, 0 to 61\n",
      "Data columns (total 3 columns):\n",
      " #   Column    Non-Null Count  Dtype \n",
      "---  ------    --------------  ----- \n",
      " 0   date      62 non-null     object\n",
      " 1   group     62 non-null     object\n",
      " 2   visitors  62 non-null     int64 \n",
      "dtypes: int64(1), object(2)\n",
      "memory usage: 1.6+ KB\n"
     ]
    }
   ],
   "source": [
    "visitors.info()"
   ]
  },
  {
   "cell_type": "markdown",
   "metadata": {},
   "source": [
    "### График кумулятивной выручки по группам. "
   ]
  },
  {
   "cell_type": "markdown",
   "metadata": {},
   "source": [
    "Построим график кумулятивной выручки по группам. Сделаем выводы и предположения. "
   ]
  },
  {
   "cell_type": "code",
   "execution_count": 13,
   "metadata": {},
   "outputs": [],
   "source": [
    "# задаем правильный формат дат (вместо строковых)\n",
    "orders['date'] = orders['date'].map(lambda x: dt.datetime.strptime(x, '%Y-%m-%d'))\n",
    "visitors['date'] = visitors['date'].map(lambda x: dt.datetime.strptime(x, '%Y-%m-%d'))"
   ]
  },
  {
   "cell_type": "code",
   "execution_count": 14,
   "metadata": {},
   "outputs": [
    {
     "data": {
      "text/plain": [
       "Timestamp('2019-08-15 00:00:00')"
      ]
     },
     "execution_count": 14,
     "metadata": {},
     "output_type": "execute_result"
    }
   ],
   "source": [
    "orders['date'][0]"
   ]
  },
  {
   "cell_type": "code",
   "execution_count": 15,
   "metadata": {},
   "outputs": [
    {
     "data": {
      "text/plain": [
       "Timestamp('2019-08-01 00:00:00')"
      ]
     },
     "execution_count": 15,
     "metadata": {},
     "output_type": "execute_result"
    }
   ],
   "source": [
    "visitors['date'][0]"
   ]
  },
  {
   "cell_type": "code",
   "execution_count": 16,
   "metadata": {},
   "outputs": [
    {
     "data": {
      "text/html": [
       "<div>\n",
       "<style scoped>\n",
       "    .dataframe tbody tr th:only-of-type {\n",
       "        vertical-align: middle;\n",
       "    }\n",
       "\n",
       "    .dataframe tbody tr th {\n",
       "        vertical-align: top;\n",
       "    }\n",
       "\n",
       "    .dataframe thead th {\n",
       "        text-align: right;\n",
       "    }\n",
       "</style>\n",
       "<table border=\"1\" class=\"dataframe\">\n",
       "  <thead>\n",
       "    <tr style=\"text-align: right;\">\n",
       "      <th></th>\n",
       "      <th>date</th>\n",
       "      <th>group</th>\n",
       "    </tr>\n",
       "  </thead>\n",
       "  <tbody>\n",
       "    <tr>\n",
       "      <th>0</th>\n",
       "      <td>2019-08-15</td>\n",
       "      <td>B</td>\n",
       "    </tr>\n",
       "    <tr>\n",
       "      <th>2</th>\n",
       "      <td>2019-08-15</td>\n",
       "      <td>A</td>\n",
       "    </tr>\n",
       "    <tr>\n",
       "      <th>45</th>\n",
       "      <td>2019-08-16</td>\n",
       "      <td>A</td>\n",
       "    </tr>\n",
       "    <tr>\n",
       "      <th>47</th>\n",
       "      <td>2019-08-16</td>\n",
       "      <td>B</td>\n",
       "    </tr>\n",
       "    <tr>\n",
       "      <th>55</th>\n",
       "      <td>2019-08-01</td>\n",
       "      <td>A</td>\n",
       "    </tr>\n",
       "  </tbody>\n",
       "</table>\n",
       "</div>"
      ],
      "text/plain": [
       "         date group\n",
       "0  2019-08-15     B\n",
       "2  2019-08-15     A\n",
       "45 2019-08-16     A\n",
       "47 2019-08-16     B\n",
       "55 2019-08-01     A"
      ]
     },
     "execution_count": 16,
     "metadata": {},
     "output_type": "execute_result"
    }
   ],
   "source": [
    "# создаем массив уникальных пар значений дат и групп теста\n",
    "datesGroups = orders[['date', 'group']].drop_duplicates()\n",
    "datesGroups.head()"
   ]
  },
  {
   "cell_type": "code",
   "execution_count": 17,
   "metadata": {},
   "outputs": [
    {
     "data": {
      "text/html": [
       "<div>\n",
       "<style scoped>\n",
       "    .dataframe tbody tr th:only-of-type {\n",
       "        vertical-align: middle;\n",
       "    }\n",
       "\n",
       "    .dataframe tbody tr th {\n",
       "        vertical-align: top;\n",
       "    }\n",
       "\n",
       "    .dataframe thead th {\n",
       "        text-align: right;\n",
       "    }\n",
       "</style>\n",
       "<table border=\"1\" class=\"dataframe\">\n",
       "  <thead>\n",
       "    <tr style=\"text-align: right;\">\n",
       "      <th></th>\n",
       "      <th>transactionId</th>\n",
       "      <th>visitorId</th>\n",
       "      <th>date</th>\n",
       "      <th>revenue</th>\n",
       "      <th>group</th>\n",
       "    </tr>\n",
       "  </thead>\n",
       "  <tbody>\n",
       "    <tr>\n",
       "      <th>0</th>\n",
       "      <td>3667963787</td>\n",
       "      <td>3312258926</td>\n",
       "      <td>2019-08-15</td>\n",
       "      <td>1650</td>\n",
       "      <td>B</td>\n",
       "    </tr>\n",
       "    <tr>\n",
       "      <th>1</th>\n",
       "      <td>2804400009</td>\n",
       "      <td>3642806036</td>\n",
       "      <td>2019-08-15</td>\n",
       "      <td>730</td>\n",
       "      <td>B</td>\n",
       "    </tr>\n",
       "    <tr>\n",
       "      <th>2</th>\n",
       "      <td>2961555356</td>\n",
       "      <td>4069496402</td>\n",
       "      <td>2019-08-15</td>\n",
       "      <td>400</td>\n",
       "      <td>A</td>\n",
       "    </tr>\n",
       "    <tr>\n",
       "      <th>3</th>\n",
       "      <td>3797467345</td>\n",
       "      <td>1196621759</td>\n",
       "      <td>2019-08-15</td>\n",
       "      <td>9759</td>\n",
       "      <td>B</td>\n",
       "    </tr>\n",
       "    <tr>\n",
       "      <th>4</th>\n",
       "      <td>2282983706</td>\n",
       "      <td>2322279887</td>\n",
       "      <td>2019-08-15</td>\n",
       "      <td>2308</td>\n",
       "      <td>B</td>\n",
       "    </tr>\n",
       "  </tbody>\n",
       "</table>\n",
       "</div>"
      ],
      "text/plain": [
       "   transactionId   visitorId       date  revenue group\n",
       "0     3667963787  3312258926 2019-08-15     1650     B\n",
       "1     2804400009  3642806036 2019-08-15      730     B\n",
       "2     2961555356  4069496402 2019-08-15      400     A\n",
       "3     3797467345  1196621759 2019-08-15     9759     B\n",
       "4     2282983706  2322279887 2019-08-15     2308     B"
      ]
     },
     "execution_count": 17,
     "metadata": {},
     "output_type": "execute_result"
    }
   ],
   "source": [
    "orders.head()"
   ]
  },
  {
   "cell_type": "code",
   "execution_count": 18,
   "metadata": {},
   "outputs": [
    {
     "data": {
      "text/html": [
       "<div>\n",
       "<style scoped>\n",
       "    .dataframe tbody tr th:only-of-type {\n",
       "        vertical-align: middle;\n",
       "    }\n",
       "\n",
       "    .dataframe tbody tr th {\n",
       "        vertical-align: top;\n",
       "    }\n",
       "\n",
       "    .dataframe thead th {\n",
       "        text-align: right;\n",
       "    }\n",
       "</style>\n",
       "<table border=\"1\" class=\"dataframe\">\n",
       "  <thead>\n",
       "    <tr style=\"text-align: right;\">\n",
       "      <th></th>\n",
       "      <th>visitorId</th>\n",
       "      <th>group</th>\n",
       "    </tr>\n",
       "  </thead>\n",
       "  <tbody>\n",
       "    <tr>\n",
       "      <th>2</th>\n",
       "      <td>8300375</td>\n",
       "      <td>2</td>\n",
       "    </tr>\n",
       "    <tr>\n",
       "      <th>44</th>\n",
       "      <td>199603092</td>\n",
       "      <td>2</td>\n",
       "    </tr>\n",
       "    <tr>\n",
       "      <th>51</th>\n",
       "      <td>232979603</td>\n",
       "      <td>2</td>\n",
       "    </tr>\n",
       "    <tr>\n",
       "      <th>55</th>\n",
       "      <td>237748145</td>\n",
       "      <td>2</td>\n",
       "    </tr>\n",
       "    <tr>\n",
       "      <th>66</th>\n",
       "      <td>276558944</td>\n",
       "      <td>2</td>\n",
       "    </tr>\n",
       "  </tbody>\n",
       "</table>\n",
       "</div>"
      ],
      "text/plain": [
       "    visitorId  group\n",
       "2     8300375      2\n",
       "44  199603092      2\n",
       "51  232979603      2\n",
       "55  237748145      2\n",
       "66  276558944      2"
      ]
     },
     "execution_count": 18,
     "metadata": {},
     "output_type": "execute_result"
    }
   ],
   "source": [
    "duplicates = orders.groupby('visitorId', as_index=False).agg({'group':'nunique'})\n",
    "duplicates = duplicates[duplicates['group'] > 1]\n",
    "duplicates.head()"
   ]
  },
  {
   "cell_type": "code",
   "execution_count": 19,
   "metadata": {},
   "outputs": [
    {
     "name": "stdout",
     "output_type": "stream",
     "text": [
      "Количество пользователей, попавших в обе группы во время теста: 58 или 5.63%\n"
     ]
    }
   ],
   "source": [
    "print('Количество пользователей, попавших в обе группы во время теста:', \n",
    "      duplicates.count()[0], \n",
    "      'или', \n",
    "      '{0:.2%}'.format((duplicates[duplicates['group'] > 1].count() / orders['visitorId'].nunique())[0]))\n",
    "#print(duplicates[duplicates['group'] > 1].count() / orders['visitorId'].nunique())"
   ]
  },
  {
   "cell_type": "markdown",
   "metadata": {},
   "source": [
    "Выявлены id пользователей, которые присутствуют в обоих группах, что недопустимо - сбор данных проводился недостаточно корректно.<br>\n",
    "Для дальнейшего анализа удалять дублирующие id не будем, чтобы не ухудшить интерпретацию теста.\n"
   ]
  },
  {
   "cell_type": "code",
   "execution_count": 20,
   "metadata": {},
   "outputs": [
    {
     "data": {
      "text/html": [
       "<div>\n",
       "<style scoped>\n",
       "    .dataframe tbody tr th:only-of-type {\n",
       "        vertical-align: middle;\n",
       "    }\n",
       "\n",
       "    .dataframe tbody tr th {\n",
       "        vertical-align: top;\n",
       "    }\n",
       "\n",
       "    .dataframe thead th {\n",
       "        text-align: right;\n",
       "    }\n",
       "</style>\n",
       "<table border=\"1\" class=\"dataframe\">\n",
       "  <thead>\n",
       "    <tr style=\"text-align: right;\">\n",
       "      <th></th>\n",
       "      <th>date</th>\n",
       "      <th>group</th>\n",
       "      <th>transactionId</th>\n",
       "      <th>visitorId</th>\n",
       "      <th>revenue</th>\n",
       "    </tr>\n",
       "  </thead>\n",
       "  <tbody>\n",
       "    <tr>\n",
       "      <th>55</th>\n",
       "      <td>2019-08-01</td>\n",
       "      <td>A</td>\n",
       "      <td>24</td>\n",
       "      <td>20</td>\n",
       "      <td>148579</td>\n",
       "    </tr>\n",
       "    <tr>\n",
       "      <th>66</th>\n",
       "      <td>2019-08-01</td>\n",
       "      <td>B</td>\n",
       "      <td>21</td>\n",
       "      <td>20</td>\n",
       "      <td>101217</td>\n",
       "    </tr>\n",
       "    <tr>\n",
       "      <th>175</th>\n",
       "      <td>2019-08-02</td>\n",
       "      <td>A</td>\n",
       "      <td>44</td>\n",
       "      <td>38</td>\n",
       "      <td>242401</td>\n",
       "    </tr>\n",
       "    <tr>\n",
       "      <th>173</th>\n",
       "      <td>2019-08-02</td>\n",
       "      <td>B</td>\n",
       "      <td>45</td>\n",
       "      <td>43</td>\n",
       "      <td>266748</td>\n",
       "    </tr>\n",
       "    <tr>\n",
       "      <th>291</th>\n",
       "      <td>2019-08-03</td>\n",
       "      <td>A</td>\n",
       "      <td>68</td>\n",
       "      <td>62</td>\n",
       "      <td>354874</td>\n",
       "    </tr>\n",
       "  </tbody>\n",
       "</table>\n",
       "</div>"
      ],
      "text/plain": [
       "          date group  transactionId  visitorId  revenue\n",
       "55  2019-08-01     A             24         20   148579\n",
       "66  2019-08-01     B             21         20   101217\n",
       "175 2019-08-02     A             44         38   242401\n",
       "173 2019-08-02     B             45         43   266748\n",
       "291 2019-08-03     A             68         62   354874"
      ]
     },
     "execution_count": 20,
     "metadata": {},
     "output_type": "execute_result"
    }
   ],
   "source": [
    "# получаем агрегированные кумулятивные по дням данные о заказах \n",
    "ordersAggregated = (\n",
    "    datesGroups.apply(\n",
    "        lambda x: orders[np.logical_and(orders['date'] <= x['date'], orders['group'] == x['group'])]\n",
    "        .agg({\n",
    "            'date' : 'max', \n",
    "            'group' : 'max', \n",
    "            'transactionId' : 'nunique', \n",
    "            'visitorId' : 'nunique', \n",
    "            'revenue' : 'sum'\n",
    "        }), \n",
    "        axis=1).sort_values(by=['date','group'])\n",
    ")\n",
    "ordersAggregated.head()"
   ]
  },
  {
   "cell_type": "code",
   "execution_count": 21,
   "metadata": {},
   "outputs": [
    {
     "data": {
      "text/html": [
       "<div>\n",
       "<style scoped>\n",
       "    .dataframe tbody tr th:only-of-type {\n",
       "        vertical-align: middle;\n",
       "    }\n",
       "\n",
       "    .dataframe tbody tr th {\n",
       "        vertical-align: top;\n",
       "    }\n",
       "\n",
       "    .dataframe thead th {\n",
       "        text-align: right;\n",
       "    }\n",
       "</style>\n",
       "<table border=\"1\" class=\"dataframe\">\n",
       "  <thead>\n",
       "    <tr style=\"text-align: right;\">\n",
       "      <th></th>\n",
       "      <th>date</th>\n",
       "      <th>group</th>\n",
       "      <th>visitors</th>\n",
       "    </tr>\n",
       "  </thead>\n",
       "  <tbody>\n",
       "    <tr>\n",
       "      <th>55</th>\n",
       "      <td>2019-08-01</td>\n",
       "      <td>A</td>\n",
       "      <td>719</td>\n",
       "    </tr>\n",
       "    <tr>\n",
       "      <th>66</th>\n",
       "      <td>2019-08-01</td>\n",
       "      <td>B</td>\n",
       "      <td>713</td>\n",
       "    </tr>\n",
       "    <tr>\n",
       "      <th>175</th>\n",
       "      <td>2019-08-02</td>\n",
       "      <td>A</td>\n",
       "      <td>1338</td>\n",
       "    </tr>\n",
       "    <tr>\n",
       "      <th>173</th>\n",
       "      <td>2019-08-02</td>\n",
       "      <td>B</td>\n",
       "      <td>1294</td>\n",
       "    </tr>\n",
       "    <tr>\n",
       "      <th>291</th>\n",
       "      <td>2019-08-03</td>\n",
       "      <td>A</td>\n",
       "      <td>1845</td>\n",
       "    </tr>\n",
       "  </tbody>\n",
       "</table>\n",
       "</div>"
      ],
      "text/plain": [
       "          date group  visitors\n",
       "55  2019-08-01     A       719\n",
       "66  2019-08-01     B       713\n",
       "175 2019-08-02     A      1338\n",
       "173 2019-08-02     B      1294\n",
       "291 2019-08-03     A      1845"
      ]
     },
     "execution_count": 21,
     "metadata": {},
     "output_type": "execute_result"
    }
   ],
   "source": [
    "# получаем агрегированные кумулятивные по дням данные о посетителях интернет-магазина \n",
    "visitorsAggregated = (\n",
    "    datesGroups.apply(\n",
    "        lambda x: visitors[np.logical_and(visitors['date'] <= x['date'], visitors['group'] == x['group'])]\n",
    "        .agg({\n",
    "            'date' : 'max', \n",
    "            'group' : 'max', \n",
    "            'visitors' : 'sum'\n",
    "        }), \n",
    "        axis=1).sort_values(by=['date','group'])\n",
    ")\n",
    "visitorsAggregated.head()"
   ]
  },
  {
   "cell_type": "code",
   "execution_count": 22,
   "metadata": {},
   "outputs": [
    {
     "data": {
      "text/html": [
       "<div>\n",
       "<style scoped>\n",
       "    .dataframe tbody tr th:only-of-type {\n",
       "        vertical-align: middle;\n",
       "    }\n",
       "\n",
       "    .dataframe tbody tr th {\n",
       "        vertical-align: top;\n",
       "    }\n",
       "\n",
       "    .dataframe thead th {\n",
       "        text-align: right;\n",
       "    }\n",
       "</style>\n",
       "<table border=\"1\" class=\"dataframe\">\n",
       "  <thead>\n",
       "    <tr style=\"text-align: right;\">\n",
       "      <th></th>\n",
       "      <th>date</th>\n",
       "      <th>group</th>\n",
       "      <th>orders</th>\n",
       "      <th>buyers</th>\n",
       "      <th>revenue</th>\n",
       "      <th>visitors</th>\n",
       "    </tr>\n",
       "  </thead>\n",
       "  <tbody>\n",
       "    <tr>\n",
       "      <th>0</th>\n",
       "      <td>2019-08-01</td>\n",
       "      <td>A</td>\n",
       "      <td>24</td>\n",
       "      <td>20</td>\n",
       "      <td>148579</td>\n",
       "      <td>719</td>\n",
       "    </tr>\n",
       "    <tr>\n",
       "      <th>1</th>\n",
       "      <td>2019-08-01</td>\n",
       "      <td>B</td>\n",
       "      <td>21</td>\n",
       "      <td>20</td>\n",
       "      <td>101217</td>\n",
       "      <td>713</td>\n",
       "    </tr>\n",
       "    <tr>\n",
       "      <th>2</th>\n",
       "      <td>2019-08-02</td>\n",
       "      <td>A</td>\n",
       "      <td>44</td>\n",
       "      <td>38</td>\n",
       "      <td>242401</td>\n",
       "      <td>1338</td>\n",
       "    </tr>\n",
       "    <tr>\n",
       "      <th>3</th>\n",
       "      <td>2019-08-02</td>\n",
       "      <td>B</td>\n",
       "      <td>45</td>\n",
       "      <td>43</td>\n",
       "      <td>266748</td>\n",
       "      <td>1294</td>\n",
       "    </tr>\n",
       "    <tr>\n",
       "      <th>4</th>\n",
       "      <td>2019-08-03</td>\n",
       "      <td>A</td>\n",
       "      <td>68</td>\n",
       "      <td>62</td>\n",
       "      <td>354874</td>\n",
       "      <td>1845</td>\n",
       "    </tr>\n",
       "  </tbody>\n",
       "</table>\n",
       "</div>"
      ],
      "text/plain": [
       "        date group  orders  buyers  revenue  visitors\n",
       "0 2019-08-01     A      24      20   148579       719\n",
       "1 2019-08-01     B      21      20   101217       713\n",
       "2 2019-08-02     A      44      38   242401      1338\n",
       "3 2019-08-02     B      45      43   266748      1294\n",
       "4 2019-08-03     A      68      62   354874      1845"
      ]
     },
     "execution_count": 22,
     "metadata": {},
     "output_type": "execute_result"
    }
   ],
   "source": [
    "# объединяем кумулятивные данные в одной таблице и присваиваем ее столбцам понятные названия\n",
    "cumulativeData = ordersAggregated.merge(visitorsAggregated, left_on=['date', 'group'], right_on=['date', 'group'])\n",
    "cumulativeData.columns = ['date', 'group', 'orders', 'buyers', 'revenue', 'visitors']\n",
    "\n",
    "cumulativeData.head()"
   ]
  },
  {
   "cell_type": "code",
   "execution_count": 23,
   "metadata": {},
   "outputs": [
    {
     "data": {
      "image/png": "[encoded data removed]",
      "text/plain": [
       "<Figure size 432x288 with 1 Axes>"
      ]
     },
     "metadata": {
      "needs_background": "light"
     },
     "output_type": "display_data"
    }
   ],
   "source": [
    "# построим графики кумулятивной выручки по дням и группам A/B-тестирования\n",
    "\n",
    "# датафрейм с кумулятивным количеством заказов и кумулятивной выручкой по дням в группе А\n",
    "cumulativeRevenueA = cumulativeData[cumulativeData['group'] == 'A'][['date','revenue', 'orders']]\n",
    "\n",
    "# датафрейм с кумулятивным количеством заказов и кумулятивной выручкой по дням в группе B\n",
    "cumulativeRevenueB = cumulativeData[cumulativeData['group'] == 'B'][['date','revenue', 'orders']]\n",
    "\n",
    "# Строим график выручки группы А\n",
    "plt.ticklabel_format(style='plain') # le6 преобразуем в полный вид числа\n",
    "plt.plot(cumulativeRevenueA['date'], cumulativeRevenueA['revenue'], label='A')\n",
    "\n",
    "# Строим график выручки группы B\n",
    "plt.plot(cumulativeRevenueB['date'], cumulativeRevenueB['revenue'], label='B')\n",
    "plt.legend()\n",
    "plt.title('График кумулятивной выручки по группам ')\n",
    "plt.xticks(rotation=45) # наклон на 45 градусов против часовой стрелки для подписей оси X\n",
    "\n",
    "plt.show()"
   ]
  },
  {
   "cell_type": "markdown",
   "metadata": {},
   "source": [
    "Выручка увеличивается в течение всего теста для обеих групп.\n",
    "Для группы A динамика стабильная.\n",
    "\n",
    "Для группы B наблюдается резкий скачок вверх примерно 19 августа 2019, после чего преимущество этой группы по выручке сохраняется. Это может сигнализировать о всплесках числа заказов (конверсии) или увеличении среднего чека в выборке B. \n",
    "Проанализируем динамику этих показателей."
   ]
  },
  {
   "cell_type": "markdown",
   "metadata": {},
   "source": [
    "### График кумулятивного среднего чека по группам"
   ]
  },
  {
   "cell_type": "markdown",
   "metadata": {},
   "source": [
    "Построим график кумулятивного среднего чека по группам. Сделаем выводы и предположения."
   ]
  },
  {
   "cell_type": "code",
   "execution_count": 24,
   "metadata": {},
   "outputs": [
    {
     "data": {
      "image/png": "[encoded data removed]",
      "text/plain": [
       "<Figure size 432x288 with 1 Axes>"
      ]
     },
     "metadata": {
      "needs_background": "light"
     },
     "output_type": "display_data"
    }
   ],
   "source": [
    "# строим график среднего чека группы А\n",
    "plt.plot(cumulativeRevenueA['date'], cumulativeRevenueA['revenue'] / cumulativeRevenueA['orders'], label='A')\n",
    "# строим график среднего чека группы B\n",
    "plt.plot(cumulativeRevenueB['date'], cumulativeRevenueB['revenue'] / cumulativeRevenueB['orders'], label='B')\n",
    "\n",
    "plt.legend()\n",
    "plt.xticks(rotation=45) # поворот подписей оси X\n",
    "plt.title('График кумулятивного среднего чека по группам')\n",
    "plt.show()"
   ]
  },
  {
   "cell_type": "markdown",
   "metadata": {},
   "source": [
    "Средний чек крайне нестабилен в первой половине тестового периода и более или менее стабилизируется к концу периода. Возможно, имеет место влияние сезонности или разнородность групп.   \n",
    "\n",
    "Тенденция на конец периода противоречивая: рост для группы A и спад для группы B. Не исключены попадания крупных заказов в группу B во второй половине теста (резкий всплеск на графике). Тогда ей нужно больше данных, чтобы прийти к реальному среднему чеку и установиться на его уровне.   "
   ]
  },
  {
   "cell_type": "markdown",
   "metadata": {},
   "source": [
    "### График относительного изменения кумулятивного среднего чека"
   ]
  },
  {
   "cell_type": "markdown",
   "metadata": {},
   "source": [
    "Построим график относительного изменения кумулятивного среднего чека группы B к группе A. Сделаем выводы и предположения."
   ]
  },
  {
   "cell_type": "code",
   "execution_count": 25,
   "metadata": {},
   "outputs": [
    {
     "data": {
      "image/png": "[encoded data removed]",
      "text/plain": [
       "<Figure size 432x288 with 1 Axes>"
      ]
     },
     "metadata": {
      "needs_background": "light"
     },
     "output_type": "display_data"
    }
   ],
   "source": [
    "# собираем данные в одном датафрейме\n",
    "mergedCumulativeRevenue = cumulativeRevenueA.merge(cumulativeRevenueB, left_on='date', right_on='date', how='left', suffixes=['A', 'B'])\n",
    "\n",
    "# cтроим отношение средних чеков\n",
    "plt.plot(mergedCumulativeRevenue['date'], (mergedCumulativeRevenue['revenueB']/mergedCumulativeRevenue['ordersB'])/(mergedCumulativeRevenue['revenueA']/mergedCumulativeRevenue['ordersA'])-1)\n",
    "\n",
    "# добавляем ось X\n",
    "plt.axhline(y=0, color='black', linestyle='--')\n",
    "plt.axhline(y=0.26, color='gray', linestyle='--')\n",
    "plt.xticks(rotation=45)\n",
    "plt.title('График относительного изменения кумулятивного среднего чека')\n",
    "plt.show()"
   ]
  },
  {
   "cell_type": "markdown",
   "metadata": {},
   "source": [
    "В нескольких точках график различия между сегментами резко 'скачет'. Причиной такой динамики могут быть крупные заказы и выбросы. \n",
    "\n",
    "На конец периода, группа B показывает примерно на 26% средний чек лучше, чем группа A."
   ]
  },
  {
   "cell_type": "markdown",
   "metadata": {},
   "source": [
    "### График кумулятивной конверсии по группам"
   ]
  },
  {
   "cell_type": "markdown",
   "metadata": {},
   "source": [
    "Построим график кумулятивной конверсии по группам. Сделаем выводы и предположения."
   ]
  },
  {
   "cell_type": "code",
   "execution_count": 26,
   "metadata": {},
   "outputs": [],
   "source": [
    "# считаем кумулятивную конверсию\n",
    "cumulativeData['conversion'] = cumulativeData['orders'] / cumulativeData['visitors']\n",
    "#cumulativeData.head()\n",
    "\n",
    "# отделяем данные по группе A\n",
    "cumulativeDataA = cumulativeData[cumulativeData['group'] == 'A']\n",
    "# отделяем данные по группе B\n",
    "cumulativeDataB = cumulativeData[cumulativeData['group'] == 'B']"
   ]
  },
  {
   "cell_type": "code",
   "execution_count": 27,
   "metadata": {},
   "outputs": [
    {
     "data": {
      "text/html": [
       "<div>\n",
       "<style scoped>\n",
       "    .dataframe tbody tr th:only-of-type {\n",
       "        vertical-align: middle;\n",
       "    }\n",
       "\n",
       "    .dataframe tbody tr th {\n",
       "        vertical-align: top;\n",
       "    }\n",
       "\n",
       "    .dataframe thead th {\n",
       "        text-align: right;\n",
       "    }\n",
       "</style>\n",
       "<table border=\"1\" class=\"dataframe\">\n",
       "  <thead>\n",
       "    <tr style=\"text-align: right;\">\n",
       "      <th></th>\n",
       "      <th>date</th>\n",
       "      <th>group</th>\n",
       "      <th>orders</th>\n",
       "      <th>buyers</th>\n",
       "      <th>revenue</th>\n",
       "      <th>visitors</th>\n",
       "      <th>conversion</th>\n",
       "    </tr>\n",
       "  </thead>\n",
       "  <tbody>\n",
       "    <tr>\n",
       "      <th>0</th>\n",
       "      <td>2019-08-01</td>\n",
       "      <td>A</td>\n",
       "      <td>24</td>\n",
       "      <td>20</td>\n",
       "      <td>148579</td>\n",
       "      <td>719</td>\n",
       "      <td>0.03</td>\n",
       "    </tr>\n",
       "    <tr>\n",
       "      <th>2</th>\n",
       "      <td>2019-08-02</td>\n",
       "      <td>A</td>\n",
       "      <td>44</td>\n",
       "      <td>38</td>\n",
       "      <td>242401</td>\n",
       "      <td>1338</td>\n",
       "      <td>0.03</td>\n",
       "    </tr>\n",
       "    <tr>\n",
       "      <th>4</th>\n",
       "      <td>2019-08-03</td>\n",
       "      <td>A</td>\n",
       "      <td>68</td>\n",
       "      <td>62</td>\n",
       "      <td>354874</td>\n",
       "      <td>1845</td>\n",
       "      <td>0.04</td>\n",
       "    </tr>\n",
       "    <tr>\n",
       "      <th>6</th>\n",
       "      <td>2019-08-04</td>\n",
       "      <td>A</td>\n",
       "      <td>84</td>\n",
       "      <td>77</td>\n",
       "      <td>425699</td>\n",
       "      <td>2562</td>\n",
       "      <td>0.03</td>\n",
       "    </tr>\n",
       "    <tr>\n",
       "      <th>8</th>\n",
       "      <td>2019-08-05</td>\n",
       "      <td>A</td>\n",
       "      <td>109</td>\n",
       "      <td>100</td>\n",
       "      <td>549917</td>\n",
       "      <td>3318</td>\n",
       "      <td>0.03</td>\n",
       "    </tr>\n",
       "  </tbody>\n",
       "</table>\n",
       "</div>"
      ],
      "text/plain": [
       "        date group  orders  buyers  revenue  visitors  conversion\n",
       "0 2019-08-01     A      24      20   148579       719        0.03\n",
       "2 2019-08-02     A      44      38   242401      1338        0.03\n",
       "4 2019-08-03     A      68      62   354874      1845        0.04\n",
       "6 2019-08-04     A      84      77   425699      2562        0.03\n",
       "8 2019-08-05     A     109     100   549917      3318        0.03"
      ]
     },
     "execution_count": 27,
     "metadata": {},
     "output_type": "execute_result"
    }
   ],
   "source": [
    "cumulativeDataA.head()"
   ]
  },
  {
   "cell_type": "code",
   "execution_count": 28,
   "metadata": {},
   "outputs": [
    {
     "name": "stdout",
     "output_type": "stream",
     "text": [
      "2019-08-01 00:00:00\n",
      "2019-08-31 00:00:00\n"
     ]
    }
   ],
   "source": [
    "min_date = cumulativeDataB['date'].min()\n",
    "max_date = cumulativeDataB['date'].max()\n",
    "print(min_date)\n",
    "print(max_date)"
   ]
  },
  {
   "cell_type": "code",
   "execution_count": 29,
   "metadata": {},
   "outputs": [
    {
     "data": {
      "image/png": "[encoded data removed]",
      "text/plain": [
       "<Figure size 432x288 with 1 Axes>"
      ]
     },
     "metadata": {
      "needs_background": "light"
     },
     "output_type": "display_data"
    }
   ],
   "source": [
    "# строим графики\n",
    "plt.plot(cumulativeDataA['date'], cumulativeDataA['conversion'], label='A')\n",
    "plt.plot(cumulativeDataB['date'], cumulativeDataB['conversion'], label='B')\n",
    "plt.legend()\n",
    "plt.xticks(rotation=45)\n",
    "\n",
    "# задаем масштаб осей\n",
    "plt.axis([min_date, max_date + dt.timedelta(days=1), 0, 0.04]) \n",
    "# plt.axis([min_date, max_date, 0, 0.04]) \n",
    "#plt.axis([['2019-08-01'], ['2019-09-01'], 0, 0.04]) \n",
    "plt.show()"
   ]
  },
  {
   "cell_type": "markdown",
   "metadata": {},
   "source": [
    "Группы колебались cхожим образом в самом начале теста, но затем конверсия группы В вырвалась вперёд и зафиксировалась, а конверсия группы А просела и также зафиксировалась."
   ]
  },
  {
   "cell_type": "markdown",
   "metadata": {},
   "source": [
    "### График относительного изменения кумулятивной конверсии"
   ]
  },
  {
   "cell_type": "markdown",
   "metadata": {},
   "source": [
    "Построим график относительного изменения кумулятивной конверсии группы B к группе A. Сделаем выводы и предположения."
   ]
  },
  {
   "cell_type": "code",
   "execution_count": 30,
   "metadata": {},
   "outputs": [
    {
     "data": {
      "text/html": [
       "<div>\n",
       "<style scoped>\n",
       "    .dataframe tbody tr th:only-of-type {\n",
       "        vertical-align: middle;\n",
       "    }\n",
       "\n",
       "    .dataframe tbody tr th {\n",
       "        vertical-align: top;\n",
       "    }\n",
       "\n",
       "    .dataframe thead th {\n",
       "        text-align: right;\n",
       "    }\n",
       "</style>\n",
       "<table border=\"1\" class=\"dataframe\">\n",
       "  <thead>\n",
       "    <tr style=\"text-align: right;\">\n",
       "      <th></th>\n",
       "      <th>date</th>\n",
       "      <th>group</th>\n",
       "      <th>orders</th>\n",
       "      <th>buyers</th>\n",
       "      <th>revenue</th>\n",
       "      <th>visitors</th>\n",
       "      <th>conversion</th>\n",
       "    </tr>\n",
       "  </thead>\n",
       "  <tbody>\n",
       "    <tr>\n",
       "      <th>0</th>\n",
       "      <td>2019-08-01</td>\n",
       "      <td>A</td>\n",
       "      <td>24</td>\n",
       "      <td>20</td>\n",
       "      <td>148579</td>\n",
       "      <td>719</td>\n",
       "      <td>0.03</td>\n",
       "    </tr>\n",
       "    <tr>\n",
       "      <th>2</th>\n",
       "      <td>2019-08-02</td>\n",
       "      <td>A</td>\n",
       "      <td>44</td>\n",
       "      <td>38</td>\n",
       "      <td>242401</td>\n",
       "      <td>1338</td>\n",
       "      <td>0.03</td>\n",
       "    </tr>\n",
       "    <tr>\n",
       "      <th>4</th>\n",
       "      <td>2019-08-03</td>\n",
       "      <td>A</td>\n",
       "      <td>68</td>\n",
       "      <td>62</td>\n",
       "      <td>354874</td>\n",
       "      <td>1845</td>\n",
       "      <td>0.04</td>\n",
       "    </tr>\n",
       "    <tr>\n",
       "      <th>6</th>\n",
       "      <td>2019-08-04</td>\n",
       "      <td>A</td>\n",
       "      <td>84</td>\n",
       "      <td>77</td>\n",
       "      <td>425699</td>\n",
       "      <td>2562</td>\n",
       "      <td>0.03</td>\n",
       "    </tr>\n",
       "    <tr>\n",
       "      <th>8</th>\n",
       "      <td>2019-08-05</td>\n",
       "      <td>A</td>\n",
       "      <td>109</td>\n",
       "      <td>100</td>\n",
       "      <td>549917</td>\n",
       "      <td>3318</td>\n",
       "      <td>0.03</td>\n",
       "    </tr>\n",
       "  </tbody>\n",
       "</table>\n",
       "</div>"
      ],
      "text/plain": [
       "        date group  orders  buyers  revenue  visitors  conversion\n",
       "0 2019-08-01     A      24      20   148579       719        0.03\n",
       "2 2019-08-02     A      44      38   242401      1338        0.03\n",
       "4 2019-08-03     A      68      62   354874      1845        0.04\n",
       "6 2019-08-04     A      84      77   425699      2562        0.03\n",
       "8 2019-08-05     A     109     100   549917      3318        0.03"
      ]
     },
     "execution_count": 30,
     "metadata": {},
     "output_type": "execute_result"
    }
   ],
   "source": [
    "cumulativeDataA.head()"
   ]
  },
  {
   "cell_type": "code",
   "execution_count": 31,
   "metadata": {},
   "outputs": [
    {
     "data": {
      "text/html": [
       "<div>\n",
       "<style scoped>\n",
       "    .dataframe tbody tr th:only-of-type {\n",
       "        vertical-align: middle;\n",
       "    }\n",
       "\n",
       "    .dataframe tbody tr th {\n",
       "        vertical-align: top;\n",
       "    }\n",
       "\n",
       "    .dataframe thead th {\n",
       "        text-align: right;\n",
       "    }\n",
       "</style>\n",
       "<table border=\"1\" class=\"dataframe\">\n",
       "  <thead>\n",
       "    <tr style=\"text-align: right;\">\n",
       "      <th></th>\n",
       "      <th>date</th>\n",
       "      <th>conversionA</th>\n",
       "      <th>conversionB</th>\n",
       "    </tr>\n",
       "  </thead>\n",
       "  <tbody>\n",
       "    <tr>\n",
       "      <th>0</th>\n",
       "      <td>2019-08-01</td>\n",
       "      <td>0.03</td>\n",
       "      <td>0.03</td>\n",
       "    </tr>\n",
       "    <tr>\n",
       "      <th>1</th>\n",
       "      <td>2019-08-02</td>\n",
       "      <td>0.03</td>\n",
       "      <td>0.03</td>\n",
       "    </tr>\n",
       "    <tr>\n",
       "      <th>2</th>\n",
       "      <td>2019-08-03</td>\n",
       "      <td>0.04</td>\n",
       "      <td>0.03</td>\n",
       "    </tr>\n",
       "    <tr>\n",
       "      <th>3</th>\n",
       "      <td>2019-08-04</td>\n",
       "      <td>0.03</td>\n",
       "      <td>0.03</td>\n",
       "    </tr>\n",
       "    <tr>\n",
       "      <th>4</th>\n",
       "      <td>2019-08-05</td>\n",
       "      <td>0.03</td>\n",
       "      <td>0.03</td>\n",
       "    </tr>\n",
       "  </tbody>\n",
       "</table>\n",
       "</div>"
      ],
      "text/plain": [
       "        date  conversionA  conversionB\n",
       "0 2019-08-01         0.03         0.03\n",
       "1 2019-08-02         0.03         0.03\n",
       "2 2019-08-03         0.04         0.03\n",
       "3 2019-08-04         0.03         0.03\n",
       "4 2019-08-05         0.03         0.03"
      ]
     },
     "execution_count": 31,
     "metadata": {},
     "output_type": "execute_result"
    }
   ],
   "source": [
    "mergedCumulativeConvertion = (\n",
    "    cumulativeDataA[['date', 'conversion']]\n",
    "    .merge(cumulativeDataB[['date', 'conversion']], left_on='date', right_on='date', how='left', suffixes=['A', 'B'])\n",
    ")\n",
    "mergedCumulativeConvertion.head()"
   ]
  },
  {
   "cell_type": "code",
   "execution_count": 32,
   "metadata": {},
   "outputs": [
    {
     "data": {
      "image/png": "[encoded data removed]",
      "text/plain": [
       "<Figure size 432x288 with 1 Axes>"
      ]
     },
     "metadata": {
      "needs_background": "light"
     },
     "output_type": "display_data"
    }
   ],
   "source": [
    "plt.plot(mergedCumulativeConvertion['date'], \n",
    "         mergedCumulativeConvertion['conversionB'] / mergedCumulativeConvertion['conversionA'] - 1)\n",
    "plt.axhline(y=0, color='black', linestyle='--')\n",
    "plt.axhline(y=0.1, color='gray', linestyle='--')\n",
    "#plt.axis(['2019-08-01', '2019-09-01', -0.12, 0.22])\n",
    "plt.axis([min_date, max_date + dt.timedelta(days=1), -0.12, 0.22])\n",
    "plt.xticks(rotation=45)\n",
    "plt.title('График относительного изменения кумулятивной конверсии группы B к группе A')\n",
    "\n",
    "#plt.savefig('relative_conv_plot.png', bbox_inches=None, pad_inches=0.5)\n",
    "plt.show()"
   ]
  },
  {
   "cell_type": "markdown",
   "metadata": {},
   "source": [
    "В начале теста группа B демонстрировала резкие колебания. После 5 апреля 2019, группа B вырывается вперёд. Потом её конверсия снижается, и теперь постепенно растёт вновь.\n",
    "В целом, отношение конверсии ещё не установилось, но группа B показывает результаты значительно выше, группы А. \n",
    "\n",
    "Для более глубинного понимания результатов тестирования, стоит проанализировать аномалии."
   ]
  },
  {
   "cell_type": "markdown",
   "metadata": {},
   "source": [
    "### Точечный график количества заказов по пользователям"
   ]
  },
  {
   "cell_type": "markdown",
   "metadata": {},
   "source": [
    "Построим точечный график количества заказов по пользователям. Сделаем выводы и предположения."
   ]
  },
  {
   "cell_type": "code",
   "execution_count": 33,
   "metadata": {},
   "outputs": [
    {
     "data": {
      "text/html": [
       "<div>\n",
       "<style scoped>\n",
       "    .dataframe tbody tr th:only-of-type {\n",
       "        vertical-align: middle;\n",
       "    }\n",
       "\n",
       "    .dataframe tbody tr th {\n",
       "        vertical-align: top;\n",
       "    }\n",
       "\n",
       "    .dataframe thead th {\n",
       "        text-align: right;\n",
       "    }\n",
       "</style>\n",
       "<table border=\"1\" class=\"dataframe\">\n",
       "  <thead>\n",
       "    <tr style=\"text-align: right;\">\n",
       "      <th></th>\n",
       "      <th>transactionId</th>\n",
       "      <th>visitorId</th>\n",
       "      <th>date</th>\n",
       "      <th>revenue</th>\n",
       "      <th>group</th>\n",
       "    </tr>\n",
       "  </thead>\n",
       "  <tbody>\n",
       "    <tr>\n",
       "      <th>0</th>\n",
       "      <td>3667963787</td>\n",
       "      <td>3312258926</td>\n",
       "      <td>2019-08-15</td>\n",
       "      <td>1650</td>\n",
       "      <td>B</td>\n",
       "    </tr>\n",
       "    <tr>\n",
       "      <th>1</th>\n",
       "      <td>2804400009</td>\n",
       "      <td>3642806036</td>\n",
       "      <td>2019-08-15</td>\n",
       "      <td>730</td>\n",
       "      <td>B</td>\n",
       "    </tr>\n",
       "    <tr>\n",
       "      <th>2</th>\n",
       "      <td>2961555356</td>\n",
       "      <td>4069496402</td>\n",
       "      <td>2019-08-15</td>\n",
       "      <td>400</td>\n",
       "      <td>A</td>\n",
       "    </tr>\n",
       "    <tr>\n",
       "      <th>3</th>\n",
       "      <td>3797467345</td>\n",
       "      <td>1196621759</td>\n",
       "      <td>2019-08-15</td>\n",
       "      <td>9759</td>\n",
       "      <td>B</td>\n",
       "    </tr>\n",
       "    <tr>\n",
       "      <th>4</th>\n",
       "      <td>2282983706</td>\n",
       "      <td>2322279887</td>\n",
       "      <td>2019-08-15</td>\n",
       "      <td>2308</td>\n",
       "      <td>B</td>\n",
       "    </tr>\n",
       "  </tbody>\n",
       "</table>\n",
       "</div>"
      ],
      "text/plain": [
       "   transactionId   visitorId       date  revenue group\n",
       "0     3667963787  3312258926 2019-08-15     1650     B\n",
       "1     2804400009  3642806036 2019-08-15      730     B\n",
       "2     2961555356  4069496402 2019-08-15      400     A\n",
       "3     3797467345  1196621759 2019-08-15     9759     B\n",
       "4     2282983706  2322279887 2019-08-15     2308     B"
      ]
     },
     "execution_count": 33,
     "metadata": {},
     "output_type": "execute_result"
    }
   ],
   "source": [
    "orders.head()"
   ]
  },
  {
   "cell_type": "code",
   "execution_count": 34,
   "metadata": {},
   "outputs": [
    {
     "data": {
      "text/html": [
       "<div>\n",
       "<style scoped>\n",
       "    .dataframe tbody tr th:only-of-type {\n",
       "        vertical-align: middle;\n",
       "    }\n",
       "\n",
       "    .dataframe tbody tr th {\n",
       "        vertical-align: top;\n",
       "    }\n",
       "\n",
       "    .dataframe thead th {\n",
       "        text-align: right;\n",
       "    }\n",
       "</style>\n",
       "<table border=\"1\" class=\"dataframe\">\n",
       "  <thead>\n",
       "    <tr style=\"text-align: right;\">\n",
       "      <th></th>\n",
       "      <th>userId</th>\n",
       "      <th>orders</th>\n",
       "    </tr>\n",
       "  </thead>\n",
       "  <tbody>\n",
       "    <tr>\n",
       "      <th>1023</th>\n",
       "      <td>4256040402</td>\n",
       "      <td>11</td>\n",
       "    </tr>\n",
       "    <tr>\n",
       "      <th>591</th>\n",
       "      <td>2458001652</td>\n",
       "      <td>11</td>\n",
       "    </tr>\n",
       "    <tr>\n",
       "      <th>569</th>\n",
       "      <td>2378935119</td>\n",
       "      <td>9</td>\n",
       "    </tr>\n",
       "    <tr>\n",
       "      <th>487</th>\n",
       "      <td>2038680547</td>\n",
       "      <td>8</td>\n",
       "    </tr>\n",
       "    <tr>\n",
       "      <th>44</th>\n",
       "      <td>199603092</td>\n",
       "      <td>5</td>\n",
       "    </tr>\n",
       "  </tbody>\n",
       "</table>\n",
       "</div>"
      ],
      "text/plain": [
       "          userId  orders\n",
       "1023  4256040402      11\n",
       "591   2458001652      11\n",
       "569   2378935119       9\n",
       "487   2038680547       8\n",
       "44     199603092       5"
      ]
     },
     "execution_count": 34,
     "metadata": {},
     "output_type": "execute_result"
    }
   ],
   "source": [
    "# подсчитаем количество заказов по пользователям\n",
    "ordersByUsers = orders.groupby('visitorId', as_index=False).agg({'transactionId':'nunique'})\n",
    "ordersByUsers.columns = ['userId', 'orders']\n",
    "ordersByUsers.sort_values(by='orders', ascending=False).head()"
   ]
  },
  {
   "cell_type": "code",
   "execution_count": 35,
   "metadata": {},
   "outputs": [
    {
     "data": {
      "image/png": "[encoded data removed]",
      "text/plain": [
       "<Figure size 432x288 with 1 Axes>"
      ]
     },
     "metadata": {
      "needs_background": "light"
     },
     "output_type": "display_data"
    }
   ],
   "source": [
    "# построим точечную диаграмму числа заказов на одного пользователя\n",
    "#x_values = pd.Series(range(0, len(ordersByUsers)))\n",
    "#plt.scatter(x_values, ordersByUsers['orders'])\n",
    "plt.scatter(ordersByUsers.index, ordersByUsers['orders'])\n",
    "plt.title('Точечная диаграмма числа заказов на одного пользователя')\n",
    "plt.show()"
   ]
  },
  {
   "cell_type": "markdown",
   "metadata": {},
   "source": [
    "Подавляющее большинство пользователей выполняют один заказ, однако присутствует много пользователей с 2-4 заказами. Их точная доля не ясна. Чтобы понять, считать их аномалиями или нет, посчитаем перцентили."
   ]
  },
  {
   "cell_type": "markdown",
   "metadata": {},
   "source": [
    "### 95-й и 99-й перцентили количества заказов на пользователя"
   ]
  },
  {
   "cell_type": "markdown",
   "metadata": {},
   "source": [
    "Посчитаем 95-й и 99-й перцентили количества заказов на пользователя. Выберем границу для определения аномальных пользователей."
   ]
  },
  {
   "cell_type": "code",
   "execution_count": 36,
   "metadata": {},
   "outputs": [
    {
     "data": {
      "text/plain": [
       "array([1., 2., 4.])"
      ]
     },
     "execution_count": 36,
     "metadata": {},
     "output_type": "execute_result"
    }
   ],
   "source": [
    "np.percentile(ordersByUsers['orders'], [90, 95, 99])"
   ]
  },
  {
   "cell_type": "markdown",
   "metadata": {},
   "source": [
    "Не более 5% пользователей оформляли более 2-х заказов. И 1% пользователей заказывали более 4-x раз.\n",
    "\n",
    "Определим 3 заказа на одного пользователя за нижнюю границу числа заказов, для отсеевания аномальных пользователей."
   ]
  },
  {
   "cell_type": "markdown",
   "metadata": {},
   "source": [
    "### Точечный график стоимостей заказов"
   ]
  },
  {
   "cell_type": "markdown",
   "metadata": {},
   "source": [
    "Построим точечный график стоимостей заказов. Сделаем выводы и предположения."
   ]
  },
  {
   "cell_type": "code",
   "execution_count": 37,
   "metadata": {},
   "outputs": [
    {
     "data": {
      "text/html": [
       "<div>\n",
       "<style scoped>\n",
       "    .dataframe tbody tr th:only-of-type {\n",
       "        vertical-align: middle;\n",
       "    }\n",
       "\n",
       "    .dataframe tbody tr th {\n",
       "        vertical-align: top;\n",
       "    }\n",
       "\n",
       "    .dataframe thead th {\n",
       "        text-align: right;\n",
       "    }\n",
       "</style>\n",
       "<table border=\"1\" class=\"dataframe\">\n",
       "  <thead>\n",
       "    <tr style=\"text-align: right;\">\n",
       "      <th></th>\n",
       "      <th>transactionId</th>\n",
       "      <th>visitorId</th>\n",
       "      <th>date</th>\n",
       "      <th>revenue</th>\n",
       "      <th>group</th>\n",
       "    </tr>\n",
       "  </thead>\n",
       "  <tbody>\n",
       "    <tr>\n",
       "      <th>0</th>\n",
       "      <td>3667963787</td>\n",
       "      <td>3312258926</td>\n",
       "      <td>2019-08-15</td>\n",
       "      <td>1650</td>\n",
       "      <td>B</td>\n",
       "    </tr>\n",
       "    <tr>\n",
       "      <th>1</th>\n",
       "      <td>2804400009</td>\n",
       "      <td>3642806036</td>\n",
       "      <td>2019-08-15</td>\n",
       "      <td>730</td>\n",
       "      <td>B</td>\n",
       "    </tr>\n",
       "    <tr>\n",
       "      <th>2</th>\n",
       "      <td>2961555356</td>\n",
       "      <td>4069496402</td>\n",
       "      <td>2019-08-15</td>\n",
       "      <td>400</td>\n",
       "      <td>A</td>\n",
       "    </tr>\n",
       "    <tr>\n",
       "      <th>3</th>\n",
       "      <td>3797467345</td>\n",
       "      <td>1196621759</td>\n",
       "      <td>2019-08-15</td>\n",
       "      <td>9759</td>\n",
       "      <td>B</td>\n",
       "    </tr>\n",
       "    <tr>\n",
       "      <th>4</th>\n",
       "      <td>2282983706</td>\n",
       "      <td>2322279887</td>\n",
       "      <td>2019-08-15</td>\n",
       "      <td>2308</td>\n",
       "      <td>B</td>\n",
       "    </tr>\n",
       "  </tbody>\n",
       "</table>\n",
       "</div>"
      ],
      "text/plain": [
       "   transactionId   visitorId       date  revenue group\n",
       "0     3667963787  3312258926 2019-08-15     1650     B\n",
       "1     2804400009  3642806036 2019-08-15      730     B\n",
       "2     2961555356  4069496402 2019-08-15      400     A\n",
       "3     3797467345  1196621759 2019-08-15     9759     B\n",
       "4     2282983706  2322279887 2019-08-15     2308     B"
      ]
     },
     "execution_count": 37,
     "metadata": {},
     "output_type": "execute_result"
    }
   ],
   "source": [
    "orders.head()"
   ]
  },
  {
   "cell_type": "code",
   "execution_count": 38,
   "metadata": {},
   "outputs": [
    {
     "data": {
      "image/png": "[encoded data removed]",
      "text/plain": [
       "<Figure size 432x288 with 1 Axes>"
      ]
     },
     "metadata": {
      "needs_background": "light"
     },
     "output_type": "display_data"
    }
   ],
   "source": [
    "x_values = pd.Series(range(0, len(orders)))\n",
    "plt.ticklabel_format(style='plain') # le6 переводим в полные числа\n",
    "plt.scatter(x_values, orders['revenue'])\n",
    "plt.title('Точечная диаграмма стоимостей заказов')\n",
    "plt.show()"
   ]
  },
  {
   "cell_type": "markdown",
   "metadata": {},
   "source": [
    "Отдельно посмотрим заказы дешевле 200 000 р."
   ]
  },
  {
   "cell_type": "code",
   "execution_count": 39,
   "metadata": {},
   "outputs": [
    {
     "data": {
      "image/png": "[encoded data removed]",
      "text/plain": [
       "<Figure size 432x288 with 1 Axes>"
      ]
     },
     "metadata": {
      "needs_background": "light"
     },
     "output_type": "display_data"
    }
   ],
   "source": [
    "x_values = pd.Series(range(0, len(orders)))\n",
    "plt.ticklabel_format(style='plain') # le6 переводим в полные числа\n",
    "plt.scatter(x_values, orders['revenue'])\n",
    "plt.title('Точечная диаграмма стоимостей заказов')\n",
    "plt.axis([0, 1200, 0, 150000]) # уточняем масштаб\n",
    "plt.show()"
   ]
  },
  {
   "cell_type": "markdown",
   "metadata": {},
   "source": [
    "На графике присутствует один сверхзаказ - более 1,2 млн р. и  дорогой заказ более 200 000 р. \n",
    "\n",
    "Множество заказов менее 100 000 р. склеиваются по нижней границе графика. Из-за нарушения масштаба графика (по причине выбросов), выбор границ аномальных заказов затруднен. Так как принято отсеивать от 1% до 5% наблюдений с крайними значениями, определим их с помощью перцентилей."
   ]
  },
  {
   "cell_type": "markdown",
   "metadata": {},
   "source": [
    "### 95-й и 99-й перцентили стоимости заказов"
   ]
  },
  {
   "cell_type": "markdown",
   "metadata": {},
   "source": [
    "Посчитаем 95-й и 99-й перцентили стоимости заказов. Выберем границу для определения аномальных заказов."
   ]
  },
  {
   "cell_type": "code",
   "execution_count": 40,
   "metadata": {},
   "outputs": [
    {
     "data": {
      "text/plain": [
       "array([18168. , 28000. , 58233.2])"
      ]
     },
     "execution_count": 40,
     "metadata": {},
     "output_type": "execute_result"
    }
   ],
   "source": [
    "np.percentile(orders['revenue'], [90, 95, 99])"
   ]
  },
  {
   "cell_type": "markdown",
   "metadata": {},
   "source": [
    "Не более 5% заказов дороже 28 000 рублей и не более 1% дороже 58 233 рублей.\n",
    "Определим 30 000 рублей за нижнюю границу стоимости заказа, для отсеевания аномальных пользователей по ней."
   ]
  },
  {
   "cell_type": "markdown",
   "metadata": {},
   "source": [
    "### Cтатистическая значимость различий в конверсии между группами по «сырым» данным"
   ]
  },
  {
   "cell_type": "markdown",
   "metadata": {},
   "source": [
    "Посчитаем статистическую значимость различий в конверсии (среднем числе заказов на пользователя) между группами по «сырым» данным — без удаления аномальных пользователей.\n",
    "\n",
    "Сформулируем гипотезы:<br> \n",
    "<i>Нулевая гипотеза</i>: различий в конверсии между группами нет.<br> \n",
    "<i>Альтернативная гипотеза</i>: различия в конверсии между группами есть."
   ]
  },
  {
   "cell_type": "code",
   "execution_count": 41,
   "metadata": {},
   "outputs": [
    {
     "data": {
      "text/html": [
       "<div>\n",
       "<style scoped>\n",
       "    .dataframe tbody tr th:only-of-type {\n",
       "        vertical-align: middle;\n",
       "    }\n",
       "\n",
       "    .dataframe tbody tr th {\n",
       "        vertical-align: top;\n",
       "    }\n",
       "\n",
       "    .dataframe thead th {\n",
       "        text-align: right;\n",
       "    }\n",
       "</style>\n",
       "<table border=\"1\" class=\"dataframe\">\n",
       "  <thead>\n",
       "    <tr style=\"text-align: right;\">\n",
       "      <th></th>\n",
       "      <th>date</th>\n",
       "      <th>group</th>\n",
       "      <th>visitors</th>\n",
       "    </tr>\n",
       "  </thead>\n",
       "  <tbody>\n",
       "    <tr>\n",
       "      <th>0</th>\n",
       "      <td>2019-08-01</td>\n",
       "      <td>A</td>\n",
       "      <td>719</td>\n",
       "    </tr>\n",
       "    <tr>\n",
       "      <th>1</th>\n",
       "      <td>2019-08-02</td>\n",
       "      <td>A</td>\n",
       "      <td>619</td>\n",
       "    </tr>\n",
       "    <tr>\n",
       "      <th>2</th>\n",
       "      <td>2019-08-03</td>\n",
       "      <td>A</td>\n",
       "      <td>507</td>\n",
       "    </tr>\n",
       "    <tr>\n",
       "      <th>3</th>\n",
       "      <td>2019-08-04</td>\n",
       "      <td>A</td>\n",
       "      <td>717</td>\n",
       "    </tr>\n",
       "    <tr>\n",
       "      <th>4</th>\n",
       "      <td>2019-08-05</td>\n",
       "      <td>A</td>\n",
       "      <td>756</td>\n",
       "    </tr>\n",
       "  </tbody>\n",
       "</table>\n",
       "</div>"
      ],
      "text/plain": [
       "        date group  visitors\n",
       "0 2019-08-01     A       719\n",
       "1 2019-08-02     A       619\n",
       "2 2019-08-03     A       507\n",
       "3 2019-08-04     A       717\n",
       "4 2019-08-05     A       756"
      ]
     },
     "execution_count": 41,
     "metadata": {},
     "output_type": "execute_result"
    }
   ],
   "source": [
    "visitors.head()"
   ]
  },
  {
   "cell_type": "code",
   "execution_count": 42,
   "metadata": {},
   "outputs": [
    {
     "data": {
      "text/html": [
       "<div>\n",
       "<style scoped>\n",
       "    .dataframe tbody tr th:only-of-type {\n",
       "        vertical-align: middle;\n",
       "    }\n",
       "\n",
       "    .dataframe tbody tr th {\n",
       "        vertical-align: top;\n",
       "    }\n",
       "\n",
       "    .dataframe thead th {\n",
       "        text-align: right;\n",
       "    }\n",
       "</style>\n",
       "<table border=\"1\" class=\"dataframe\">\n",
       "  <thead>\n",
       "    <tr style=\"text-align: right;\">\n",
       "      <th></th>\n",
       "      <th>date</th>\n",
       "      <th>visitorsPerDateA</th>\n",
       "    </tr>\n",
       "  </thead>\n",
       "  <tbody>\n",
       "    <tr>\n",
       "      <th>0</th>\n",
       "      <td>2019-08-01</td>\n",
       "      <td>719</td>\n",
       "    </tr>\n",
       "    <tr>\n",
       "      <th>1</th>\n",
       "      <td>2019-08-02</td>\n",
       "      <td>619</td>\n",
       "    </tr>\n",
       "    <tr>\n",
       "      <th>2</th>\n",
       "      <td>2019-08-03</td>\n",
       "      <td>507</td>\n",
       "    </tr>\n",
       "    <tr>\n",
       "      <th>3</th>\n",
       "      <td>2019-08-04</td>\n",
       "      <td>717</td>\n",
       "    </tr>\n",
       "    <tr>\n",
       "      <th>4</th>\n",
       "      <td>2019-08-05</td>\n",
       "      <td>756</td>\n",
       "    </tr>\n",
       "  </tbody>\n",
       "</table>\n",
       "</div>"
      ],
      "text/plain": [
       "        date  visitorsPerDateA\n",
       "0 2019-08-01               719\n",
       "1 2019-08-02               619\n",
       "2 2019-08-03               507\n",
       "3 2019-08-04               717\n",
       "4 2019-08-05               756"
      ]
     },
     "execution_count": 42,
     "metadata": {},
     "output_type": "execute_result"
    }
   ],
   "source": [
    "# визиты по дням для группы A\n",
    "visitorsADaily = visitors[visitors['group'] == 'A'][['date', 'visitors']]\n",
    "visitorsADaily.columns = ['date', 'visitorsPerDateA']\n",
    "visitorsADaily.head()"
   ]
  },
  {
   "cell_type": "code",
   "execution_count": 43,
   "metadata": {},
   "outputs": [
    {
     "data": {
      "text/html": [
       "<div>\n",
       "<style scoped>\n",
       "    .dataframe tbody tr th:only-of-type {\n",
       "        vertical-align: middle;\n",
       "    }\n",
       "\n",
       "    .dataframe tbody tr th {\n",
       "        vertical-align: top;\n",
       "    }\n",
       "\n",
       "    .dataframe thead th {\n",
       "        text-align: right;\n",
       "    }\n",
       "</style>\n",
       "<table border=\"1\" class=\"dataframe\">\n",
       "  <thead>\n",
       "    <tr style=\"text-align: right;\">\n",
       "      <th></th>\n",
       "      <th>date</th>\n",
       "      <th>visitorsCummulativeA</th>\n",
       "    </tr>\n",
       "  </thead>\n",
       "  <tbody>\n",
       "    <tr>\n",
       "      <th>0</th>\n",
       "      <td>2019-08-01</td>\n",
       "      <td>719</td>\n",
       "    </tr>\n",
       "    <tr>\n",
       "      <th>1</th>\n",
       "      <td>2019-08-02</td>\n",
       "      <td>1338</td>\n",
       "    </tr>\n",
       "    <tr>\n",
       "      <th>2</th>\n",
       "      <td>2019-08-03</td>\n",
       "      <td>1845</td>\n",
       "    </tr>\n",
       "    <tr>\n",
       "      <th>3</th>\n",
       "      <td>2019-08-04</td>\n",
       "      <td>2562</td>\n",
       "    </tr>\n",
       "    <tr>\n",
       "      <th>4</th>\n",
       "      <td>2019-08-05</td>\n",
       "      <td>3318</td>\n",
       "    </tr>\n",
       "  </tbody>\n",
       "</table>\n",
       "</div>"
      ],
      "text/plain": [
       "        date  visitorsCummulativeA\n",
       "0 2019-08-01                   719\n",
       "1 2019-08-02                  1338\n",
       "2 2019-08-03                  1845\n",
       "3 2019-08-04                  2562\n",
       "4 2019-08-05                  3318"
      ]
     },
     "execution_count": 43,
     "metadata": {},
     "output_type": "execute_result"
    }
   ],
   "source": [
    "# кумулятивные визиты для группы A\n",
    "visitorsACummulative = (\n",
    "    visitorsADaily.apply(lambda x: visitorsADaily[visitorsADaily['date'] <= x['date']]\n",
    "                         .agg({'date':'max', 'visitorsPerDateA':'sum'}), axis=1)\n",
    ")\n",
    "visitorsACummulative.columns = ['date', 'visitorsCummulativeA']\n",
    "visitorsACummulative.head()"
   ]
  },
  {
   "cell_type": "code",
   "execution_count": 44,
   "metadata": {},
   "outputs": [
    {
     "data": {
      "text/html": [
       "<div>\n",
       "<style scoped>\n",
       "    .dataframe tbody tr th:only-of-type {\n",
       "        vertical-align: middle;\n",
       "    }\n",
       "\n",
       "    .dataframe tbody tr th {\n",
       "        vertical-align: top;\n",
       "    }\n",
       "\n",
       "    .dataframe thead th {\n",
       "        text-align: right;\n",
       "    }\n",
       "</style>\n",
       "<table border=\"1\" class=\"dataframe\">\n",
       "  <thead>\n",
       "    <tr style=\"text-align: right;\">\n",
       "      <th></th>\n",
       "      <th>date</th>\n",
       "      <th>visitorsPerDateB</th>\n",
       "    </tr>\n",
       "  </thead>\n",
       "  <tbody>\n",
       "    <tr>\n",
       "      <th>31</th>\n",
       "      <td>2019-08-01</td>\n",
       "      <td>713</td>\n",
       "    </tr>\n",
       "    <tr>\n",
       "      <th>32</th>\n",
       "      <td>2019-08-02</td>\n",
       "      <td>581</td>\n",
       "    </tr>\n",
       "    <tr>\n",
       "      <th>33</th>\n",
       "      <td>2019-08-03</td>\n",
       "      <td>509</td>\n",
       "    </tr>\n",
       "    <tr>\n",
       "      <th>34</th>\n",
       "      <td>2019-08-04</td>\n",
       "      <td>770</td>\n",
       "    </tr>\n",
       "    <tr>\n",
       "      <th>35</th>\n",
       "      <td>2019-08-05</td>\n",
       "      <td>707</td>\n",
       "    </tr>\n",
       "  </tbody>\n",
       "</table>\n",
       "</div>"
      ],
      "text/plain": [
       "         date  visitorsPerDateB\n",
       "31 2019-08-01               713\n",
       "32 2019-08-02               581\n",
       "33 2019-08-03               509\n",
       "34 2019-08-04               770\n",
       "35 2019-08-05               707"
      ]
     },
     "execution_count": 44,
     "metadata": {},
     "output_type": "execute_result"
    }
   ],
   "source": [
    "# визиты по дням для группы B\n",
    "visitorsBDaily = visitors[visitors['group'] == 'B'][['date', 'visitors']]\n",
    "visitorsBDaily.columns = ['date', 'visitorsPerDateB']\n",
    "visitorsBDaily.head()"
   ]
  },
  {
   "cell_type": "code",
   "execution_count": 45,
   "metadata": {},
   "outputs": [
    {
     "data": {
      "text/html": [
       "<div>\n",
       "<style scoped>\n",
       "    .dataframe tbody tr th:only-of-type {\n",
       "        vertical-align: middle;\n",
       "    }\n",
       "\n",
       "    .dataframe tbody tr th {\n",
       "        vertical-align: top;\n",
       "    }\n",
       "\n",
       "    .dataframe thead th {\n",
       "        text-align: right;\n",
       "    }\n",
       "</style>\n",
       "<table border=\"1\" class=\"dataframe\">\n",
       "  <thead>\n",
       "    <tr style=\"text-align: right;\">\n",
       "      <th></th>\n",
       "      <th>date</th>\n",
       "      <th>visitorsCummulativeB</th>\n",
       "    </tr>\n",
       "  </thead>\n",
       "  <tbody>\n",
       "    <tr>\n",
       "      <th>31</th>\n",
       "      <td>2019-08-01</td>\n",
       "      <td>713</td>\n",
       "    </tr>\n",
       "    <tr>\n",
       "      <th>32</th>\n",
       "      <td>2019-08-02</td>\n",
       "      <td>1294</td>\n",
       "    </tr>\n",
       "    <tr>\n",
       "      <th>33</th>\n",
       "      <td>2019-08-03</td>\n",
       "      <td>1803</td>\n",
       "    </tr>\n",
       "    <tr>\n",
       "      <th>34</th>\n",
       "      <td>2019-08-04</td>\n",
       "      <td>2573</td>\n",
       "    </tr>\n",
       "    <tr>\n",
       "      <th>35</th>\n",
       "      <td>2019-08-05</td>\n",
       "      <td>3280</td>\n",
       "    </tr>\n",
       "  </tbody>\n",
       "</table>\n",
       "</div>"
      ],
      "text/plain": [
       "         date  visitorsCummulativeB\n",
       "31 2019-08-01                   713\n",
       "32 2019-08-02                  1294\n",
       "33 2019-08-03                  1803\n",
       "34 2019-08-04                  2573\n",
       "35 2019-08-05                  3280"
      ]
     },
     "execution_count": 45,
     "metadata": {},
     "output_type": "execute_result"
    }
   ],
   "source": [
    "# кумулятивные визиты для группы B\n",
    "visitorsBCummulative = (\n",
    "    visitorsBDaily.apply(lambda x: visitorsBDaily[visitorsBDaily['date'] <= x['date']]\n",
    "                         .agg({'date':'max', 'visitorsPerDateB':'sum'}), axis=1)\n",
    ")\n",
    "visitorsBCummulative.columns = ['date', 'visitorsCummulativeB']\n",
    "visitorsBCummulative.head()"
   ]
  },
  {
   "cell_type": "code",
   "execution_count": 46,
   "metadata": {},
   "outputs": [
    {
     "data": {
      "text/html": [
       "<div>\n",
       "<style scoped>\n",
       "    .dataframe tbody tr th:only-of-type {\n",
       "        vertical-align: middle;\n",
       "    }\n",
       "\n",
       "    .dataframe tbody tr th {\n",
       "        vertical-align: top;\n",
       "    }\n",
       "\n",
       "    .dataframe thead th {\n",
       "        text-align: right;\n",
       "    }\n",
       "</style>\n",
       "<table border=\"1\" class=\"dataframe\">\n",
       "  <thead>\n",
       "    <tr style=\"text-align: right;\">\n",
       "      <th></th>\n",
       "      <th>transactionId</th>\n",
       "      <th>visitorId</th>\n",
       "      <th>date</th>\n",
       "      <th>revenue</th>\n",
       "      <th>group</th>\n",
       "    </tr>\n",
       "  </thead>\n",
       "  <tbody>\n",
       "    <tr>\n",
       "      <th>0</th>\n",
       "      <td>3667963787</td>\n",
       "      <td>3312258926</td>\n",
       "      <td>2019-08-15</td>\n",
       "      <td>1650</td>\n",
       "      <td>B</td>\n",
       "    </tr>\n",
       "    <tr>\n",
       "      <th>1</th>\n",
       "      <td>2804400009</td>\n",
       "      <td>3642806036</td>\n",
       "      <td>2019-08-15</td>\n",
       "      <td>730</td>\n",
       "      <td>B</td>\n",
       "    </tr>\n",
       "    <tr>\n",
       "      <th>2</th>\n",
       "      <td>2961555356</td>\n",
       "      <td>4069496402</td>\n",
       "      <td>2019-08-15</td>\n",
       "      <td>400</td>\n",
       "      <td>A</td>\n",
       "    </tr>\n",
       "    <tr>\n",
       "      <th>3</th>\n",
       "      <td>3797467345</td>\n",
       "      <td>1196621759</td>\n",
       "      <td>2019-08-15</td>\n",
       "      <td>9759</td>\n",
       "      <td>B</td>\n",
       "    </tr>\n",
       "    <tr>\n",
       "      <th>4</th>\n",
       "      <td>2282983706</td>\n",
       "      <td>2322279887</td>\n",
       "      <td>2019-08-15</td>\n",
       "      <td>2308</td>\n",
       "      <td>B</td>\n",
       "    </tr>\n",
       "  </tbody>\n",
       "</table>\n",
       "</div>"
      ],
      "text/plain": [
       "   transactionId   visitorId       date  revenue group\n",
       "0     3667963787  3312258926 2019-08-15     1650     B\n",
       "1     2804400009  3642806036 2019-08-15      730     B\n",
       "2     2961555356  4069496402 2019-08-15      400     A\n",
       "3     3797467345  1196621759 2019-08-15     9759     B\n",
       "4     2282983706  2322279887 2019-08-15     2308     B"
      ]
     },
     "execution_count": 46,
     "metadata": {},
     "output_type": "execute_result"
    }
   ],
   "source": [
    "orders.head()"
   ]
  },
  {
   "cell_type": "code",
   "execution_count": 47,
   "metadata": {},
   "outputs": [
    {
     "data": {
      "text/html": [
       "<div>\n",
       "<style scoped>\n",
       "    .dataframe tbody tr th:only-of-type {\n",
       "        vertical-align: middle;\n",
       "    }\n",
       "\n",
       "    .dataframe tbody tr th {\n",
       "        vertical-align: top;\n",
       "    }\n",
       "\n",
       "    .dataframe thead th {\n",
       "        text-align: right;\n",
       "    }\n",
       "</style>\n",
       "<table border=\"1\" class=\"dataframe\">\n",
       "  <thead>\n",
       "    <tr style=\"text-align: right;\">\n",
       "      <th></th>\n",
       "      <th>date</th>\n",
       "      <th>ordersPerDateA</th>\n",
       "      <th>revenuePerDateA</th>\n",
       "    </tr>\n",
       "  </thead>\n",
       "  <tbody>\n",
       "    <tr>\n",
       "      <th>0</th>\n",
       "      <td>2019-08-01</td>\n",
       "      <td>24</td>\n",
       "      <td>148579</td>\n",
       "    </tr>\n",
       "    <tr>\n",
       "      <th>1</th>\n",
       "      <td>2019-08-02</td>\n",
       "      <td>20</td>\n",
       "      <td>93822</td>\n",
       "    </tr>\n",
       "    <tr>\n",
       "      <th>2</th>\n",
       "      <td>2019-08-03</td>\n",
       "      <td>24</td>\n",
       "      <td>112473</td>\n",
       "    </tr>\n",
       "    <tr>\n",
       "      <th>3</th>\n",
       "      <td>2019-08-04</td>\n",
       "      <td>16</td>\n",
       "      <td>70825</td>\n",
       "    </tr>\n",
       "    <tr>\n",
       "      <th>4</th>\n",
       "      <td>2019-08-05</td>\n",
       "      <td>25</td>\n",
       "      <td>124218</td>\n",
       "    </tr>\n",
       "  </tbody>\n",
       "</table>\n",
       "</div>"
      ],
      "text/plain": [
       "        date  ordersPerDateA  revenuePerDateA\n",
       "0 2019-08-01              24           148579\n",
       "1 2019-08-02              20            93822\n",
       "2 2019-08-03              24           112473\n",
       "3 2019-08-04              16            70825\n",
       "4 2019-08-05              25           124218"
      ]
     },
     "execution_count": 47,
     "metadata": {},
     "output_type": "execute_result"
    }
   ],
   "source": [
    "# заказы по дням для группы A\n",
    "ordersADaily = (orders[orders['group'] == 'A'] #[['date', 'transactionId', 'visitorId', 'revenue']]\n",
    "                .groupby('date', as_index=False).agg({'transactionId': 'nunique', 'revenue':'sum'})\n",
    ")\n",
    "ordersADaily.columns = ['date', 'ordersPerDateA', 'revenuePerDateA']\n",
    "ordersADaily.head()"
   ]
  },
  {
   "cell_type": "code",
   "execution_count": 48,
   "metadata": {},
   "outputs": [
    {
     "data": {
      "text/html": [
       "<div>\n",
       "<style scoped>\n",
       "    .dataframe tbody tr th:only-of-type {\n",
       "        vertical-align: middle;\n",
       "    }\n",
       "\n",
       "    .dataframe tbody tr th {\n",
       "        vertical-align: top;\n",
       "    }\n",
       "\n",
       "    .dataframe thead th {\n",
       "        text-align: right;\n",
       "    }\n",
       "</style>\n",
       "<table border=\"1\" class=\"dataframe\">\n",
       "  <thead>\n",
       "    <tr style=\"text-align: right;\">\n",
       "      <th></th>\n",
       "      <th>date</th>\n",
       "      <th>ordersCummulativeA</th>\n",
       "      <th>revenueCummulativeA</th>\n",
       "    </tr>\n",
       "  </thead>\n",
       "  <tbody>\n",
       "    <tr>\n",
       "      <th>0</th>\n",
       "      <td>2019-08-01</td>\n",
       "      <td>24</td>\n",
       "      <td>148579</td>\n",
       "    </tr>\n",
       "    <tr>\n",
       "      <th>1</th>\n",
       "      <td>2019-08-02</td>\n",
       "      <td>44</td>\n",
       "      <td>242401</td>\n",
       "    </tr>\n",
       "    <tr>\n",
       "      <th>2</th>\n",
       "      <td>2019-08-03</td>\n",
       "      <td>68</td>\n",
       "      <td>354874</td>\n",
       "    </tr>\n",
       "    <tr>\n",
       "      <th>3</th>\n",
       "      <td>2019-08-04</td>\n",
       "      <td>84</td>\n",
       "      <td>425699</td>\n",
       "    </tr>\n",
       "    <tr>\n",
       "      <th>4</th>\n",
       "      <td>2019-08-05</td>\n",
       "      <td>109</td>\n",
       "      <td>549917</td>\n",
       "    </tr>\n",
       "  </tbody>\n",
       "</table>\n",
       "</div>"
      ],
      "text/plain": [
       "        date  ordersCummulativeA  revenueCummulativeA\n",
       "0 2019-08-01                  24               148579\n",
       "1 2019-08-02                  44               242401\n",
       "2 2019-08-03                  68               354874\n",
       "3 2019-08-04                  84               425699\n",
       "4 2019-08-05                 109               549917"
      ]
     },
     "execution_count": 48,
     "metadata": {},
     "output_type": "execute_result"
    }
   ],
   "source": [
    "# кумулятивные заказы по дням для группы A\n",
    "ordersACummulative = (ordersADaily.apply(lambda x: ordersADaily[ordersADaily['date'] <= x['date']]\n",
    "                                        .agg({'date':'max', 'ordersPerDateA':'sum', 'revenuePerDateA':'sum'}), axis=1)\n",
    "                      .sort_values(by='date')\n",
    "                     )\n",
    "ordersACummulative.columns = ['date', 'ordersCummulativeA', 'revenueCummulativeA']\n",
    "ordersACummulative.head()"
   ]
  },
  {
   "cell_type": "code",
   "execution_count": 49,
   "metadata": {},
   "outputs": [
    {
     "data": {
      "text/html": [
       "<div>\n",
       "<style scoped>\n",
       "    .dataframe tbody tr th:only-of-type {\n",
       "        vertical-align: middle;\n",
       "    }\n",
       "\n",
       "    .dataframe tbody tr th {\n",
       "        vertical-align: top;\n",
       "    }\n",
       "\n",
       "    .dataframe thead th {\n",
       "        text-align: right;\n",
       "    }\n",
       "</style>\n",
       "<table border=\"1\" class=\"dataframe\">\n",
       "  <thead>\n",
       "    <tr style=\"text-align: right;\">\n",
       "      <th></th>\n",
       "      <th>date</th>\n",
       "      <th>ordersPerDateB</th>\n",
       "      <th>revenuePerDateB</th>\n",
       "    </tr>\n",
       "  </thead>\n",
       "  <tbody>\n",
       "    <tr>\n",
       "      <th>0</th>\n",
       "      <td>2019-08-01</td>\n",
       "      <td>21</td>\n",
       "      <td>101217</td>\n",
       "    </tr>\n",
       "    <tr>\n",
       "      <th>1</th>\n",
       "      <td>2019-08-02</td>\n",
       "      <td>24</td>\n",
       "      <td>165531</td>\n",
       "    </tr>\n",
       "    <tr>\n",
       "      <th>2</th>\n",
       "      <td>2019-08-03</td>\n",
       "      <td>16</td>\n",
       "      <td>114248</td>\n",
       "    </tr>\n",
       "    <tr>\n",
       "      <th>3</th>\n",
       "      <td>2019-08-04</td>\n",
       "      <td>17</td>\n",
       "      <td>108571</td>\n",
       "    </tr>\n",
       "    <tr>\n",
       "      <th>4</th>\n",
       "      <td>2019-08-05</td>\n",
       "      <td>23</td>\n",
       "      <td>92428</td>\n",
       "    </tr>\n",
       "  </tbody>\n",
       "</table>\n",
       "</div>"
      ],
      "text/plain": [
       "        date  ordersPerDateB  revenuePerDateB\n",
       "0 2019-08-01              21           101217\n",
       "1 2019-08-02              24           165531\n",
       "2 2019-08-03              16           114248\n",
       "3 2019-08-04              17           108571\n",
       "4 2019-08-05              23            92428"
      ]
     },
     "execution_count": 49,
     "metadata": {},
     "output_type": "execute_result"
    }
   ],
   "source": [
    "# заказы по дням для группы B\n",
    "ordersBDaily = (orders[orders['group'] == 'B'] #[['date', 'transactionId', 'visitorId', 'revenue']]\n",
    "                .groupby('date', as_index=False).agg({'transactionId': 'nunique', 'revenue':'sum'})\n",
    ")\n",
    "ordersBDaily.columns = ['date', 'ordersPerDateB', 'revenuePerDateB']\n",
    "ordersBDaily.head()"
   ]
  },
  {
   "cell_type": "code",
   "execution_count": 50,
   "metadata": {},
   "outputs": [
    {
     "data": {
      "text/html": [
       "<div>\n",
       "<style scoped>\n",
       "    .dataframe tbody tr th:only-of-type {\n",
       "        vertical-align: middle;\n",
       "    }\n",
       "\n",
       "    .dataframe tbody tr th {\n",
       "        vertical-align: top;\n",
       "    }\n",
       "\n",
       "    .dataframe thead th {\n",
       "        text-align: right;\n",
       "    }\n",
       "</style>\n",
       "<table border=\"1\" class=\"dataframe\">\n",
       "  <thead>\n",
       "    <tr style=\"text-align: right;\">\n",
       "      <th></th>\n",
       "      <th>date</th>\n",
       "      <th>ordersCummulativeB</th>\n",
       "      <th>revenueCummulativeB</th>\n",
       "    </tr>\n",
       "  </thead>\n",
       "  <tbody>\n",
       "    <tr>\n",
       "      <th>0</th>\n",
       "      <td>2019-08-01</td>\n",
       "      <td>21</td>\n",
       "      <td>101217</td>\n",
       "    </tr>\n",
       "    <tr>\n",
       "      <th>1</th>\n",
       "      <td>2019-08-02</td>\n",
       "      <td>45</td>\n",
       "      <td>266748</td>\n",
       "    </tr>\n",
       "    <tr>\n",
       "      <th>2</th>\n",
       "      <td>2019-08-03</td>\n",
       "      <td>61</td>\n",
       "      <td>380996</td>\n",
       "    </tr>\n",
       "    <tr>\n",
       "      <th>3</th>\n",
       "      <td>2019-08-04</td>\n",
       "      <td>78</td>\n",
       "      <td>489567</td>\n",
       "    </tr>\n",
       "    <tr>\n",
       "      <th>4</th>\n",
       "      <td>2019-08-05</td>\n",
       "      <td>101</td>\n",
       "      <td>581995</td>\n",
       "    </tr>\n",
       "  </tbody>\n",
       "</table>\n",
       "</div>"
      ],
      "text/plain": [
       "        date  ordersCummulativeB  revenueCummulativeB\n",
       "0 2019-08-01                  21               101217\n",
       "1 2019-08-02                  45               266748\n",
       "2 2019-08-03                  61               380996\n",
       "3 2019-08-04                  78               489567\n",
       "4 2019-08-05                 101               581995"
      ]
     },
     "execution_count": 50,
     "metadata": {},
     "output_type": "execute_result"
    }
   ],
   "source": [
    "# кумулятивные заказы по дням для группы B\n",
    "ordersBCummulative = (ordersBDaily.apply(lambda x: ordersBDaily[ordersBDaily['date'] <= x['date']]\n",
    "                                        .agg({'date':'max', 'ordersPerDateB':'sum', 'revenuePerDateB':'sum'}), axis=1)\n",
    "                      .sort_values(by='date')\n",
    "                     )\n",
    "ordersBCummulative.columns = ['date', 'ordersCummulativeB', 'revenueCummulativeB']\n",
    "ordersBCummulative.head()"
   ]
  },
  {
   "cell_type": "code",
   "execution_count": 51,
   "metadata": {},
   "outputs": [
    {
     "data": {
      "text/html": [
       "<div>\n",
       "<style scoped>\n",
       "    .dataframe tbody tr th:only-of-type {\n",
       "        vertical-align: middle;\n",
       "    }\n",
       "\n",
       "    .dataframe tbody tr th {\n",
       "        vertical-align: top;\n",
       "    }\n",
       "\n",
       "    .dataframe thead th {\n",
       "        text-align: right;\n",
       "    }\n",
       "</style>\n",
       "<table border=\"1\" class=\"dataframe\">\n",
       "  <thead>\n",
       "    <tr style=\"text-align: right;\">\n",
       "      <th></th>\n",
       "      <th>date</th>\n",
       "      <th>ordersPerDateA</th>\n",
       "      <th>revenuePerDateA</th>\n",
       "      <th>ordersPerDateB</th>\n",
       "      <th>revenuePerDateB</th>\n",
       "      <th>ordersCummulativeA</th>\n",
       "      <th>revenueCummulativeA</th>\n",
       "      <th>ordersCummulativeB</th>\n",
       "      <th>revenueCummulativeB</th>\n",
       "      <th>visitorsPerDateA</th>\n",
       "      <th>visitorsPerDateB</th>\n",
       "      <th>visitorsCummulativeA</th>\n",
       "      <th>visitorsCummulativeB</th>\n",
       "    </tr>\n",
       "  </thead>\n",
       "  <tbody>\n",
       "    <tr>\n",
       "      <th>0</th>\n",
       "      <td>2019-08-01</td>\n",
       "      <td>24</td>\n",
       "      <td>148579</td>\n",
       "      <td>21</td>\n",
       "      <td>101217</td>\n",
       "      <td>24</td>\n",
       "      <td>148579</td>\n",
       "      <td>21</td>\n",
       "      <td>101217</td>\n",
       "      <td>719</td>\n",
       "      <td>713</td>\n",
       "      <td>719</td>\n",
       "      <td>713</td>\n",
       "    </tr>\n",
       "    <tr>\n",
       "      <th>1</th>\n",
       "      <td>2019-08-02</td>\n",
       "      <td>20</td>\n",
       "      <td>93822</td>\n",
       "      <td>24</td>\n",
       "      <td>165531</td>\n",
       "      <td>44</td>\n",
       "      <td>242401</td>\n",
       "      <td>45</td>\n",
       "      <td>266748</td>\n",
       "      <td>619</td>\n",
       "      <td>581</td>\n",
       "      <td>1338</td>\n",
       "      <td>1294</td>\n",
       "    </tr>\n",
       "    <tr>\n",
       "      <th>2</th>\n",
       "      <td>2019-08-03</td>\n",
       "      <td>24</td>\n",
       "      <td>112473</td>\n",
       "      <td>16</td>\n",
       "      <td>114248</td>\n",
       "      <td>68</td>\n",
       "      <td>354874</td>\n",
       "      <td>61</td>\n",
       "      <td>380996</td>\n",
       "      <td>507</td>\n",
       "      <td>509</td>\n",
       "      <td>1845</td>\n",
       "      <td>1803</td>\n",
       "    </tr>\n",
       "    <tr>\n",
       "      <th>3</th>\n",
       "      <td>2019-08-04</td>\n",
       "      <td>16</td>\n",
       "      <td>70825</td>\n",
       "      <td>17</td>\n",
       "      <td>108571</td>\n",
       "      <td>84</td>\n",
       "      <td>425699</td>\n",
       "      <td>78</td>\n",
       "      <td>489567</td>\n",
       "      <td>717</td>\n",
       "      <td>770</td>\n",
       "      <td>2562</td>\n",
       "      <td>2573</td>\n",
       "    </tr>\n",
       "    <tr>\n",
       "      <th>4</th>\n",
       "      <td>2019-08-05</td>\n",
       "      <td>25</td>\n",
       "      <td>124218</td>\n",
       "      <td>23</td>\n",
       "      <td>92428</td>\n",
       "      <td>109</td>\n",
       "      <td>549917</td>\n",
       "      <td>101</td>\n",
       "      <td>581995</td>\n",
       "      <td>756</td>\n",
       "      <td>707</td>\n",
       "      <td>3318</td>\n",
       "      <td>3280</td>\n",
       "    </tr>\n",
       "  </tbody>\n",
       "</table>\n",
       "</div>"
      ],
      "text/plain": [
       "        date  ordersPerDateA  revenuePerDateA  ordersPerDateB  \\\n",
       "0 2019-08-01              24           148579              21   \n",
       "1 2019-08-02              20            93822              24   \n",
       "2 2019-08-03              24           112473              16   \n",
       "3 2019-08-04              16            70825              17   \n",
       "4 2019-08-05              25           124218              23   \n",
       "\n",
       "   revenuePerDateB  ordersCummulativeA  revenueCummulativeA  \\\n",
       "0           101217                  24               148579   \n",
       "1           165531                  44               242401   \n",
       "2           114248                  68               354874   \n",
       "3           108571                  84               425699   \n",
       "4            92428                 109               549917   \n",
       "\n",
       "   ordersCummulativeB  revenueCummulativeB  visitorsPerDateA  \\\n",
       "0                  21               101217               719   \n",
       "1                  45               266748               619   \n",
       "2                  61               380996               507   \n",
       "3                  78               489567               717   \n",
       "4                 101               581995               756   \n",
       "\n",
       "   visitorsPerDateB  visitorsCummulativeA  visitorsCummulativeB  \n",
       "0               713                   719                   713  \n",
       "1               581                  1338                  1294  \n",
       "2               509                  1845                  1803  \n",
       "3               770                  2562                  2573  \n",
       "4               707                  3318                  3280  "
      ]
     },
     "execution_count": 51,
     "metadata": {},
     "output_type": "execute_result"
    }
   ],
   "source": [
    "# объединяем все таблицы\n",
    "data = (ordersADaily.merge(ordersBDaily, left_on='date', right_on='date', how='left')\n",
    "        .merge(ordersACummulative, left_on='date', right_on='date', how='left')\n",
    "        .merge(ordersBCummulative, left_on='date', right_on='date', how='left')\n",
    "        .merge(visitorsADaily, left_on='date', right_on='date', how='left')\n",
    "        .merge(visitorsBDaily, left_on='date', right_on='date', how='left')\n",
    "        .merge(visitorsACummulative, left_on='date', right_on='date', how='left')\n",
    "        .merge(visitorsBCummulative, left_on='date', right_on='date', how='left')\n",
    ")\n",
    "data.head()"
   ]
  },
  {
   "cell_type": "code",
   "execution_count": 52,
   "metadata": {},
   "outputs": [
    {
     "data": {
      "text/html": [
       "<div>\n",
       "<style scoped>\n",
       "    .dataframe tbody tr th:only-of-type {\n",
       "        vertical-align: middle;\n",
       "    }\n",
       "\n",
       "    .dataframe tbody tr th {\n",
       "        vertical-align: top;\n",
       "    }\n",
       "\n",
       "    .dataframe thead th {\n",
       "        text-align: right;\n",
       "    }\n",
       "</style>\n",
       "<table border=\"1\" class=\"dataframe\">\n",
       "  <thead>\n",
       "    <tr style=\"text-align: right;\">\n",
       "      <th></th>\n",
       "      <th>visitorId</th>\n",
       "      <th>orders</th>\n",
       "    </tr>\n",
       "  </thead>\n",
       "  <tbody>\n",
       "    <tr>\n",
       "      <th>0</th>\n",
       "      <td>8300375</td>\n",
       "      <td>1</td>\n",
       "    </tr>\n",
       "    <tr>\n",
       "      <th>1</th>\n",
       "      <td>11685486</td>\n",
       "      <td>1</td>\n",
       "    </tr>\n",
       "    <tr>\n",
       "      <th>2</th>\n",
       "      <td>54447517</td>\n",
       "      <td>1</td>\n",
       "    </tr>\n",
       "    <tr>\n",
       "      <th>3</th>\n",
       "      <td>66685450</td>\n",
       "      <td>1</td>\n",
       "    </tr>\n",
       "    <tr>\n",
       "      <th>4</th>\n",
       "      <td>78758296</td>\n",
       "      <td>1</td>\n",
       "    </tr>\n",
       "  </tbody>\n",
       "</table>\n",
       "</div>"
      ],
      "text/plain": [
       "   visitorId  orders\n",
       "0    8300375       1\n",
       "1   11685486       1\n",
       "2   54447517       1\n",
       "3   66685450       1\n",
       "4   78758296       1"
      ]
     },
     "execution_count": 52,
     "metadata": {},
     "output_type": "execute_result"
    }
   ],
   "source": [
    "# посчитаем статистическую значимость различия в конверсии между группами\n",
    "\n",
    "# число совершённых заказов для пользователей, которые заказывали хотя бы 1 раз в группе A\n",
    "ordersByUsersA = orders[orders['group'] == 'A'].groupby('visitorId', as_index=False).agg({'transactionId':'nunique'})\n",
    "ordersByUsersA.columns = ['visitorId', 'orders']\n",
    "ordersByUsersA.head()"
   ]
  },
  {
   "cell_type": "code",
   "execution_count": 53,
   "metadata": {},
   "outputs": [
    {
     "data": {
      "text/html": [
       "<div>\n",
       "<style scoped>\n",
       "    .dataframe tbody tr th:only-of-type {\n",
       "        vertical-align: middle;\n",
       "    }\n",
       "\n",
       "    .dataframe tbody tr th {\n",
       "        vertical-align: top;\n",
       "    }\n",
       "\n",
       "    .dataframe thead th {\n",
       "        text-align: right;\n",
       "    }\n",
       "</style>\n",
       "<table border=\"1\" class=\"dataframe\">\n",
       "  <thead>\n",
       "    <tr style=\"text-align: right;\">\n",
       "      <th></th>\n",
       "      <th>visitorId</th>\n",
       "      <th>orders</th>\n",
       "    </tr>\n",
       "  </thead>\n",
       "  <tbody>\n",
       "    <tr>\n",
       "      <th>0</th>\n",
       "      <td>5114589</td>\n",
       "      <td>1</td>\n",
       "    </tr>\n",
       "    <tr>\n",
       "      <th>1</th>\n",
       "      <td>6958315</td>\n",
       "      <td>1</td>\n",
       "    </tr>\n",
       "    <tr>\n",
       "      <th>2</th>\n",
       "      <td>8300375</td>\n",
       "      <td>1</td>\n",
       "    </tr>\n",
       "    <tr>\n",
       "      <th>3</th>\n",
       "      <td>39475350</td>\n",
       "      <td>1</td>\n",
       "    </tr>\n",
       "    <tr>\n",
       "      <th>4</th>\n",
       "      <td>47206413</td>\n",
       "      <td>1</td>\n",
       "    </tr>\n",
       "  </tbody>\n",
       "</table>\n",
       "</div>"
      ],
      "text/plain": [
       "   visitorId  orders\n",
       "0    5114589       1\n",
       "1    6958315       1\n",
       "2    8300375       1\n",
       "3   39475350       1\n",
       "4   47206413       1"
      ]
     },
     "execution_count": 53,
     "metadata": {},
     "output_type": "execute_result"
    }
   ],
   "source": [
    "# число совершённых заказов для пользователей, которые заказывали хотя бы 1 раз в группе B\n",
    "ordersByUsersB = orders[orders['group'] == 'B'].groupby('visitorId', as_index=False).agg({'transactionId':'nunique'})\n",
    "ordersByUsersB.columns = ['visitorId', 'orders']\n",
    "ordersByUsersB.head()"
   ]
  },
  {
   "cell_type": "code",
   "execution_count": 54,
   "metadata": {},
   "outputs": [
    {
     "data": {
      "text/plain": [
       "0    1\n",
       "1    1\n",
       "2    1\n",
       "3    1\n",
       "4    1\n",
       "Name: orders, dtype: int64"
      ]
     },
     "execution_count": 54,
     "metadata": {},
     "output_type": "execute_result"
    }
   ],
   "source": [
    "# количество заказов в группе A + посетители без заказов\n",
    "sampleA = (\n",
    "    pd.concat([ordersByUsersA['orders']\n",
    "               , pd.Series(0, index=np.arange(data['visitorsPerDateA'].sum() - len(ordersByUsersA['orders']))\n",
    "                           , name='orders')], axis=0)\n",
    ")\n",
    "sampleA.head()"
   ]
  },
  {
   "cell_type": "code",
   "execution_count": 55,
   "metadata": {},
   "outputs": [
    {
     "data": {
      "text/plain": [
       "0    1\n",
       "1    1\n",
       "2    1\n",
       "3    1\n",
       "4    1\n",
       "Name: orders, dtype: int64"
      ]
     },
     "execution_count": 55,
     "metadata": {},
     "output_type": "execute_result"
    }
   ],
   "source": [
    "# количество заказов в группе B  + посетители без заказов\n",
    "sampleB = (\n",
    "    pd.concat([ordersByUsersB['orders']\n",
    "               , pd.Series(0, index=np.arange(data['visitorsPerDateB'].sum() - len(ordersByUsersB['orders']))\n",
    "                           , name='orders')], axis=0)\n",
    ")\n",
    "sampleB.head()"
   ]
  },
  {
   "cell_type": "markdown",
   "metadata": {},
   "source": [
    "Посчитаем статистическую значимость различий в конверсии (среднем числе заказов на пользователя) между группами по «сырым» данным — без удаления аномальных пользователей.\n",
    "\n",
    "Сформулируем гипотезы:<br>\n",
    "Нулевая гипотеза: различий в конверсии между группами нет.<br>\n",
    "Альтернативная гипотеза: различия в конверсии между группами есть.<br>"
   ]
  },
  {
   "cell_type": "code",
   "execution_count": 56,
   "metadata": {},
   "outputs": [
    {
     "name": "stdout",
     "output_type": "stream",
     "text": [
      "p-value = 0.008\n",
      "Отвергаем нулевую гипотезу для сравнения групп А и B, между группами есть значимые отличия\n",
      "Относительный прирост конверсии группы B = 0.138\n"
     ]
    }
   ],
   "source": [
    "alpha = 0.05  # критический уровень статистической значимости\n",
    "\n",
    "# применяем критерий и форматируем p-value, округлив его до трёх знаков после запятой\n",
    "print('p-value =', '{0:.3f}'.format(stats.mannwhitneyu(sampleA, sampleB)[1]))\n",
    "\n",
    "\n",
    "if stats.mannwhitneyu(sampleA, sampleB)[1] < alpha:\n",
    "    print('Отвергаем нулевую гипотезу для сравнения групп А и B, между группами есть значимые отличия')\n",
    "else:\n",
    "    print(\n",
    "        'Не получилось отвергнуть нулевую гипотезу для сравнения групп А и B, нет оснований считать группы разными'\n",
    "    )\n",
    "\n",
    "# под конверсией понимается среднее число заказов на пользователя\n",
    "print('Относительный прирост конверсии группы B =', '{0:.3f}'.format(sampleB.mean()/sampleA.mean() - 1))"
   ]
  },
  {
   "cell_type": "markdown",
   "metadata": {},
   "source": [
    "p-value = 0.017 меньше статестической значимости 0.05, значит нулевую гипотезу о том, что статистически значимых различий в конверсии между группами нет, отвергаем (различия между группами есть). \n",
    "\n",
    "Относительный выигрыш конверсии группы B = 14%.\n",
    "\n"
   ]
  },
  {
   "cell_type": "markdown",
   "metadata": {},
   "source": [
    "### Cтатистическая значимость различий в среднем чеке заказа между группами по «сырым» данным"
   ]
  },
  {
   "cell_type": "markdown",
   "metadata": {},
   "source": [
    "Далее проверим статистическую значимость различий в среднем чеке между сегментами. \n",
    "\n",
    "<i>Нулевая гипотеза</i>: различий в среднем чеке между группами нет.<br> \n",
    "<i>Альтернативная гипотеза</i>: различия в среднем чеке между группами есть.\n",
    "\n",
    "Также найдём относительные различия в среднем чеке между группами."
   ]
  },
  {
   "cell_type": "code",
   "execution_count": 57,
   "metadata": {},
   "outputs": [
    {
     "name": "stdout",
     "output_type": "stream",
     "text": [
      "p-value = 0.365\n",
      "Не получилось отвергнуть нулевую гипотезу для сравнения групп А и B, нет оснований считать группы разными\n",
      "Относительный прирост конверсии группы B = 0.259\n"
     ]
    }
   ],
   "source": [
    "alpha = 0.05  # критический уровень статистической значимости\n",
    "print('p-value =', '{0:.3f}'.format(stats.mannwhitneyu(orders[orders['group'] == 'A']['revenue'], orders[orders['group']=='B']['revenue'])[1]))\n",
    "\n",
    "if stats.mannwhitneyu(orders[orders['group'] == 'A']['revenue'], orders[orders['group']=='B']['revenue'])[1] < alpha:\n",
    "    print('Отвергаем нулевую гипотезу для сравнения групп А и B, между группами есть значимые отличия')\n",
    "else:\n",
    "    print(\n",
    "        'Не получилось отвергнуть нулевую гипотезу для сравнения групп А и B, нет оснований считать группы разными'\n",
    "    )\n",
    "\n",
    "print('Относительный прирост конверсии группы B =', '{0:.3f}'.format(orders[orders['group']=='B']['revenue'].mean()/orders[orders['group']=='A']['revenue'].mean()-1)) "
   ]
  },
  {
   "cell_type": "markdown",
   "metadata": {},
   "source": [
    "P-value значительно больше 0.05. Значит, причин отвергать нулевую гипотезу и считать, что в среднем чеке между группами присутствуют различия, нет. \n",
    "\n",
    "При этом, средний чек группы B выше среднего чека группы A - на 26%. Такое большое различие получено случайно и обусловнено выбросами и ананомальными значениями.\n",
    "\n",
    "Чтобы исключить влияние выбросов, проанализируем \"очищенные\" данные.\n",
    "\n"
   ]
  },
  {
   "cell_type": "markdown",
   "metadata": {},
   "source": [
    "### Cтатистическая значимость различий в конверсии между группами по «очищенным» данным"
   ]
  },
  {
   "cell_type": "markdown",
   "metadata": {},
   "source": [
    "Посчитаем статистическую значимость различий в конверсии между группами по \"очищенным\" данным."
   ]
  },
  {
   "cell_type": "markdown",
   "metadata": {},
   "source": [
    "Ранее найденные 95-й и 99-й перцентили количества заказов на одного пользователя равны 2 и 4 заказа на пользователя. А 95-й и 99-й перцентили средних чеков равны 28 000 и 58 233 рублям. \n",
    "\n",
    "Примем за аномальных пользователей тех, кто совершил больше 2-х заказов или совершил заказ дороже 30 000 рублей. Так мы уберём от 1% до 5% пользователей с наибольшим числом заказов и от 1% до 5% пользователей с дорогими заказами. \n",
    "\n",
    "Также узнаем, сколько всего аномальных пользователей участвовало в тесте."
   ]
  },
  {
   "cell_type": "code",
   "execution_count": 58,
   "metadata": {},
   "outputs": [
    {
     "data": {
      "text/html": [
       "<div>\n",
       "<style scoped>\n",
       "    .dataframe tbody tr th:only-of-type {\n",
       "        vertical-align: middle;\n",
       "    }\n",
       "\n",
       "    .dataframe tbody tr th {\n",
       "        vertical-align: top;\n",
       "    }\n",
       "\n",
       "    .dataframe thead th {\n",
       "        text-align: right;\n",
       "    }\n",
       "</style>\n",
       "<table border=\"1\" class=\"dataframe\">\n",
       "  <thead>\n",
       "    <tr style=\"text-align: right;\">\n",
       "      <th></th>\n",
       "      <th>visitorId</th>\n",
       "      <th>orders</th>\n",
       "    </tr>\n",
       "  </thead>\n",
       "  <tbody>\n",
       "    <tr>\n",
       "      <th>0</th>\n",
       "      <td>5114589</td>\n",
       "      <td>1</td>\n",
       "    </tr>\n",
       "    <tr>\n",
       "      <th>1</th>\n",
       "      <td>6958315</td>\n",
       "      <td>1</td>\n",
       "    </tr>\n",
       "    <tr>\n",
       "      <th>2</th>\n",
       "      <td>8300375</td>\n",
       "      <td>1</td>\n",
       "    </tr>\n",
       "    <tr>\n",
       "      <th>3</th>\n",
       "      <td>39475350</td>\n",
       "      <td>1</td>\n",
       "    </tr>\n",
       "    <tr>\n",
       "      <th>4</th>\n",
       "      <td>47206413</td>\n",
       "      <td>1</td>\n",
       "    </tr>\n",
       "  </tbody>\n",
       "</table>\n",
       "</div>"
      ],
      "text/plain": [
       "   visitorId  orders\n",
       "0    5114589       1\n",
       "1    6958315       1\n",
       "2    8300375       1\n",
       "3   39475350       1\n",
       "4   47206413       1"
      ]
     },
     "execution_count": 58,
     "metadata": {},
     "output_type": "execute_result"
    }
   ],
   "source": [
    "ordersByUsersB.head()"
   ]
  },
  {
   "cell_type": "code",
   "execution_count": 59,
   "metadata": {},
   "outputs": [
    {
     "data": {
      "text/plain": [
       "18      199603092\n",
       "23      237748145\n",
       "68      611059232\n",
       "146    1230306981\n",
       "189    1614305549\n",
       "Name: visitorId, dtype: int64"
      ]
     },
     "execution_count": 59,
     "metadata": {},
     "output_type": "execute_result"
    }
   ],
   "source": [
    "# таблица пользователей с заказами > 2\n",
    "usersWithManyOrders = (\n",
    "    pd.concat([ordersByUsersA[ordersByUsersA['orders']> 2]['visitorId'] \n",
    "               , ordersByUsersB[ordersByUsersB['orders'] > 2]['visitorId']]\n",
    "              , axis=0)\n",
    ")\n",
    "usersWithManyOrders.head()\n"
   ]
  },
  {
   "cell_type": "code",
   "execution_count": 60,
   "metadata": {},
   "outputs": [
    {
     "data": {
      "text/plain": [
       "60     4256040402\n",
       "77      787824685\n",
       "78     3288820196\n",
       "131    2254586615\n",
       "173    2953427180\n",
       "Name: visitorId, dtype: int64"
      ]
     },
     "execution_count": 60,
     "metadata": {},
     "output_type": "execute_result"
    }
   ],
   "source": [
    "# таблица пользователей с суммой заказов > 30 000\n",
    "usersWithExpensiveOrders = orders[orders['revenue'] > 30000]['visitorId']\n",
    "usersWithExpensiveOrders.head()"
   ]
  },
  {
   "cell_type": "code",
   "execution_count": 61,
   "metadata": {},
   "outputs": [
    {
     "name": "stdout",
     "output_type": "stream",
     "text": [
      "1099    148427295\n",
      "18      199603092\n",
      "928     204675465\n",
      "23      237748145\n",
      "37      249864742\n",
      "Name: visitorId, dtype: int64\n",
      "Всего аномальных пользователей:  68\n"
     ]
    }
   ],
   "source": [
    "# объединяем таблицы пользователей с заказами > 2 и с суммой заказов > 30 000\n",
    "abnormalUsers = pd.concat([usersWithManyOrders, usersWithExpensiveOrders], axis=0).drop_duplicates().sort_values()\n",
    "print(abnormalUsers.head())\n",
    "print('Всего аномальных пользователей: ', abnormalUsers.shape[0])"
   ]
  },
  {
   "cell_type": "code",
   "execution_count": 62,
   "metadata": {},
   "outputs": [
    {
     "data": {
      "text/plain": [
       "0    1\n",
       "1    1\n",
       "2    1\n",
       "3    1\n",
       "4    1\n",
       "Name: orders, dtype: int64"
      ]
     },
     "execution_count": 62,
     "metadata": {},
     "output_type": "execute_result"
    }
   ],
   "source": [
    "# готовим выборки количества заказов по пользователям по группе A\n",
    "sampleAFiltered = (\n",
    "    pd.concat([ordersByUsersA[np.logical_not(ordersByUsersA['visitorId'].isin(abnormalUsers))]['orders']\n",
    "               , pd.Series(0, index=np.arange(data['visitorsPerDateA']\n",
    "                                              .sum() - len(ordersByUsersA['orders']))\n",
    "                           , name='orders')], axis=0)\n",
    ")\n",
    "sampleAFiltered.head()"
   ]
  },
  {
   "cell_type": "code",
   "execution_count": 63,
   "metadata": {},
   "outputs": [
    {
     "data": {
      "text/plain": [
       "0    1\n",
       "1    1\n",
       "2    1\n",
       "3    1\n",
       "4    1\n",
       "Name: orders, dtype: int64"
      ]
     },
     "execution_count": 63,
     "metadata": {},
     "output_type": "execute_result"
    }
   ],
   "source": [
    "# готовим выборки количества заказов по пользователям по группе B\n",
    "sampleBFiltered = (\n",
    "    pd.concat([ordersByUsersB[np.logical_not(ordersByUsersB['visitorId'].isin(abnormalUsers))]['orders']\n",
    "               , pd.Series(0, index=np.arange(data['visitorsPerDateB']\n",
    "                                              .sum() - len(ordersByUsersB['orders']))\n",
    "                           , name='orders')], axis=0)\n",
    ")\n",
    "sampleBFiltered.head()"
   ]
  },
  {
   "cell_type": "code",
   "execution_count": 64,
   "metadata": {},
   "outputs": [
    {
     "name": "stdout",
     "output_type": "stream",
     "text": [
      "p-value =  0.007\n",
      "Отвергаем нулевую гипотезу для сравнения групп А и B, между группами есть значимые отличия\n",
      "Относительный прирост конверсии группы B = 0.172\n"
     ]
    }
   ],
   "source": [
    "alpha = 0.05  # критический уровень статистической значимости\n",
    "# считаем статистическую значимость различий в конверсии между группами теста по очищенным данным,\n",
    "# применив статестический критерий Манна-Уитни\n",
    "print('p-value = ', \"{0:.3f}\".format(stats.mannwhitneyu(sampleAFiltered, sampleBFiltered)[1]))\n",
    "\n",
    "if stats.mannwhitneyu(sampleAFiltered, sampleBFiltered)[1] < alpha:\n",
    "    print('Отвергаем нулевую гипотезу для сравнения групп А и B, между группами есть значимые отличия')\n",
    "else:\n",
    "    print(\n",
    "        'Не получилось отвергнуть нулевую гипотезу для сравнения групп А и B, нет оснований считать группы разными'\n",
    "    )\n",
    "\n",
    "\n",
    "# считаем\n",
    "print('Относительный прирост конверсии группы B =', \"{0:.3f}\".format(sampleBFiltered.mean() / sampleAFiltered.mean() - 1))"
   ]
  },
  {
   "cell_type": "markdown",
   "metadata": {},
   "source": [
    "Так же, как и на \"сырых\" данных (p-value = 0.17), p-value \"очищенных\" данных меньше 0.05 (т.е. меньше статестической значимости). Значит, отвергаем нулевую гипотезу о равенстве конверсиии в группах и считаем, что в конверсиях есть различия.\n",
    "\n",
    "При этом, конверсия группы B выше конверсии группы A - на 17%, что является ощутимым улучшением, и мало отличается от прироста  конверсии в 14%, полученной на \"сырых\" данных.\n"
   ]
  },
  {
   "cell_type": "markdown",
   "metadata": {},
   "source": [
    "### Cтатистическая значимость различий в среднем чеке заказа между группами по «очищенным» данным"
   ]
  },
  {
   "cell_type": "markdown",
   "metadata": {},
   "source": [
    "Посчитаем статистическую значимость различий в среднем чеке заказа между группами по «очищенным» данным."
   ]
  },
  {
   "cell_type": "code",
   "execution_count": 65,
   "metadata": {},
   "outputs": [
    {
     "data": {
      "text/html": [
       "<div>\n",
       "<style scoped>\n",
       "    .dataframe tbody tr th:only-of-type {\n",
       "        vertical-align: middle;\n",
       "    }\n",
       "\n",
       "    .dataframe tbody tr th {\n",
       "        vertical-align: top;\n",
       "    }\n",
       "\n",
       "    .dataframe thead th {\n",
       "        text-align: right;\n",
       "    }\n",
       "</style>\n",
       "<table border=\"1\" class=\"dataframe\">\n",
       "  <thead>\n",
       "    <tr style=\"text-align: right;\">\n",
       "      <th></th>\n",
       "      <th>transactionId</th>\n",
       "      <th>visitorId</th>\n",
       "      <th>date</th>\n",
       "      <th>revenue</th>\n",
       "      <th>group</th>\n",
       "    </tr>\n",
       "  </thead>\n",
       "  <tbody>\n",
       "    <tr>\n",
       "      <th>0</th>\n",
       "      <td>3667963787</td>\n",
       "      <td>3312258926</td>\n",
       "      <td>2019-08-15</td>\n",
       "      <td>1650</td>\n",
       "      <td>B</td>\n",
       "    </tr>\n",
       "    <tr>\n",
       "      <th>1</th>\n",
       "      <td>2804400009</td>\n",
       "      <td>3642806036</td>\n",
       "      <td>2019-08-15</td>\n",
       "      <td>730</td>\n",
       "      <td>B</td>\n",
       "    </tr>\n",
       "    <tr>\n",
       "      <th>2</th>\n",
       "      <td>2961555356</td>\n",
       "      <td>4069496402</td>\n",
       "      <td>2019-08-15</td>\n",
       "      <td>400</td>\n",
       "      <td>A</td>\n",
       "    </tr>\n",
       "    <tr>\n",
       "      <th>3</th>\n",
       "      <td>3797467345</td>\n",
       "      <td>1196621759</td>\n",
       "      <td>2019-08-15</td>\n",
       "      <td>9759</td>\n",
       "      <td>B</td>\n",
       "    </tr>\n",
       "    <tr>\n",
       "      <th>4</th>\n",
       "      <td>2282983706</td>\n",
       "      <td>2322279887</td>\n",
       "      <td>2019-08-15</td>\n",
       "      <td>2308</td>\n",
       "      <td>B</td>\n",
       "    </tr>\n",
       "  </tbody>\n",
       "</table>\n",
       "</div>"
      ],
      "text/plain": [
       "   transactionId   visitorId       date  revenue group\n",
       "0     3667963787  3312258926 2019-08-15     1650     B\n",
       "1     2804400009  3642806036 2019-08-15      730     B\n",
       "2     2961555356  4069496402 2019-08-15      400     A\n",
       "3     3797467345  1196621759 2019-08-15     9759     B\n",
       "4     2282983706  2322279887 2019-08-15     2308     B"
      ]
     },
     "execution_count": 65,
     "metadata": {},
     "output_type": "execute_result"
    }
   ],
   "source": [
    "orders.head()"
   ]
  },
  {
   "cell_type": "code",
   "execution_count": 66,
   "metadata": {},
   "outputs": [
    {
     "name": "stdout",
     "output_type": "stream",
     "text": [
      "p_value = 0.360\n",
      "Не получилось отвергнуть нулевую гипотезу для сравнения групп А и B, нет оснований считать группы разными\n",
      "Относительный прирост конверсии группы B = -0.023\n"
     ]
    }
   ],
   "source": [
    "alpha = 0.05  # критический уровень статистической значимости\n",
    "# считаем p_value (статистическую значимость различий) в среднем чеке заказа\n",
    "print(\n",
    "    'p_value =', '{0:.3f}'.format(\n",
    "        stats.mannwhitneyu(\n",
    "            orders[np.logical_and(orders['group'] == 'A'\n",
    "                                  , np.logical_not(orders['visitorId'].isin(abnormalUsers)))]['revenue'], \n",
    "            orders[np.logical_and(orders['group'] == 'B'\n",
    "                                  , np.logical_not(orders['visitorId'].isin(abnormalUsers)))]['revenue'])[1])\n",
    ") \n",
    "\n",
    "\n",
    "if stats.mannwhitneyu(\n",
    "            orders[np.logical_and(orders['group'] == 'A'\n",
    "                                  , np.logical_not(orders['visitorId'].isin(abnormalUsers)))]['revenue'], \n",
    "            orders[np.logical_and(orders['group'] == 'B'\n",
    "                                  , np.logical_not(orders['visitorId'].isin(abnormalUsers)))]['revenue'])[1] < alpha:\n",
    "    print('Отвергаем нулевую гипотезу для сравнения групп А и B, между группами есть значимые отличия')\n",
    "else:\n",
    "    print(\n",
    "        'Не получилось отвергнуть нулевую гипотезу для сравнения групп А и B, нет оснований считать группы разными'\n",
    "    )\n",
    "\n",
    "# считаем относительный прирост в среднем чеке заказа группы B\n",
    "print(\n",
    "    'Относительный прирост конверсии группы B =', '{0:.3f}'.format(\n",
    "        orders[np.logical_and(orders['group'] == 'B'\n",
    "                              , np.logical_not(orders['visitorId'].isin(abnormalUsers)))]['revenue'].mean() \n",
    "        / orders[np.logical_and(orders['group'] == 'A'\n",
    "                                , np.logical_not(orders['visitorId'].isin(abnormalUsers)))]['revenue'].mean() - 1)\n",
    ")"
   ]
  },
  {
   "cell_type": "markdown",
   "metadata": {},
   "source": [
    "P-value практически не изменился, по сравненению с \"сырыми данными\" (p_value = 0.729), т.е. нулевая гипотеза снова подтвердилась - различий между группами нет. \n",
    "\n",
    "При этом, разница между сегментами сократилась с 26% до -2%.\n",
    "\n",
    "Таким образом, общие выводы по результатам теста не изменились, но сокращение различий по относительному приросту среднего чека группы B (до -2%) показывает сильное влияние аномалий на результаты A/B-теста по данному показателю."
   ]
  },
  {
   "cell_type": "markdown",
   "metadata": {},
   "source": [
    "### Результаты теста"
   ]
  },
  {
   "cell_type": "markdown",
   "metadata": {},
   "source": [
    "Имеющиеся факты:\n",
    "\n",
    "- Есть статистически значимые различия по конверсии (среднему количеству заказов на пользователя) между группами, как по «сырым», так и по данным после фильтрации аномалий;\n",
    "- График различия конверсии между группами демонстрирует, что результаты группы B существенно лучше группы A, хотя показатель еще не стабилизировался окончательно, но вряд ли он опустится ниже 10%;\n",
    "\n",
    "\n"
   ]
  },
  {
   "cell_type": "code",
   "execution_count": 67,
   "metadata": {},
   "outputs": [
    {
     "data": {
      "image/png": "[encoded data removed]",
      "text/plain": [
       "<Figure size 432x288 with 1 Axes>"
      ]
     },
     "metadata": {
      "needs_background": "light"
     },
     "output_type": "display_data"
    }
   ],
   "source": [
    "plt.plot(mergedCumulativeConvertion['date'], \n",
    "         mergedCumulativeConvertion['conversionB'] / mergedCumulativeConvertion['conversionA'] - 1)\n",
    "plt.axhline(y=0, color='black', linestyle='--')\n",
    "plt.axhline(y=0.1, color='gray', linestyle='--')\n",
    "#plt.axis(['2019-08-01', '2019-09-01', -0.12, 0.22])\n",
    "plt.axis([min_date, max_date + dt.timedelta(days=1), -0.12, 0.22])\n",
    "plt.xticks(rotation=45)\n",
    "plt.title('График относительного изменения кумулятивной конверсии группы B к группе A')\n",
    "\n",
    "#plt.savefig('relative_conv_plot.png', bbox_inches=None, pad_inches=0.5)\n",
    "plt.show()"
   ]
  },
  {
   "cell_type": "markdown",
   "metadata": {},
   "source": [
    "- Нет статистически значимого различия по среднему чеку между группами ни по «сырым», ни по данным после фильтрации аномалий;\n",
    "- График различия среднего чека между группами сообщает, что результаты группы B лучше группы A, но это различие обусловлено примесью анамальных значений, попавших в выборку и на \"очищенных\" данных сводится к нулю (-2%);"
   ]
  },
  {
   "cell_type": "code",
   "execution_count": 70,
   "metadata": {},
   "outputs": [
    {
     "data": {
      "image/png": "[encoded data removed]",
      "text/plain": [
       "<Figure size 432x288 with 1 Axes>"
      ]
     },
     "metadata": {
      "needs_background": "light"
     },
     "output_type": "display_data"
    }
   ],
   "source": [
    "# собираем данные в одном датафрейме\n",
    "mergedCumulativeRevenue = cumulativeRevenueA.merge(cumulativeRevenueB, left_on='date', right_on='date', how='left', suffixes=['A', 'B'])\n",
    "\n",
    "# cтроим отношение средних чеков\n",
    "plt.plot(mergedCumulativeRevenue['date'], (mergedCumulativeRevenue['revenueB']/mergedCumulativeRevenue['ordersB'])/(mergedCumulativeRevenue['revenueA']/mergedCumulativeRevenue['ordersA'])-1)\n",
    "\n",
    "# добавляем ось X\n",
    "plt.axhline(y=0, color='black', linestyle='--')\n",
    "plt.xticks(rotation=45)\n",
    "plt.title('График различия среднего чека между группами')\n",
    "plt.show()"
   ]
  },
  {
   "cell_type": "markdown",
   "metadata": {},
   "source": [
    "- Графики куммулятивной выручки, среднего чека и конверсии (среднего количества заказов на пользователя) -  в целом, стабилизировались.  \n",
    "\n",
    "Таким образом, исходя из обнаруженных фактов, тест следует остановить, признать его успешным, зафиксировать победу группы B, которая, не смотря на отсутствие статестически значимых изменений по среднему чеку, демонстрирует конверсию на 17%  выше, чем группа A, а также имеет более высокую куммулятивную выручку."
   ]
  }
 ],
 "metadata": {
  "ExecuteTimeLog": [
   {
    "duration": 3,
    "start_time": "2022-04-26T09:54:05.472Z"
   },
   {
    "duration": 512,
    "start_time": "2022-04-26T10:01:36.130Z"
   },
   {
    "duration": 0,
    "start_time": "2022-04-26T10:01:36.644Z"
   },
   {
    "duration": 870,
    "start_time": "2022-04-26T10:01:45.280Z"
   },
   {
    "duration": 3,
    "start_time": "2022-04-26T10:01:46.369Z"
   },
   {
    "duration": 47,
    "start_time": "2022-04-26T10:16:34.354Z"
   },
   {
    "duration": 14,
    "start_time": "2022-04-26T10:17:03.851Z"
   },
   {
    "duration": 60,
    "start_time": "2022-04-26T10:19:36.335Z"
   },
   {
    "duration": 22,
    "start_time": "2022-04-26T10:20:00.710Z"
   },
   {
    "duration": 156,
    "start_time": "2022-04-26T10:20:03.326Z"
   },
   {
    "duration": 21,
    "start_time": "2022-04-26T10:20:06.765Z"
   },
   {
    "duration": 547,
    "start_time": "2022-04-26T10:20:12.632Z"
   },
   {
    "duration": 13,
    "start_time": "2022-04-26T10:20:17.958Z"
   },
   {
    "duration": 20,
    "start_time": "2022-04-26T10:20:19.971Z"
   },
   {
    "duration": 2,
    "start_time": "2022-04-26T10:21:09.356Z"
   },
   {
    "duration": 212,
    "start_time": "2022-04-26T10:21:10.228Z"
   },
   {
    "duration": 7,
    "start_time": "2022-04-26T10:21:20.317Z"
   },
   {
    "duration": 12,
    "start_time": "2022-04-26T10:22:55.372Z"
   },
   {
    "duration": 3,
    "start_time": "2022-04-26T10:23:40.373Z"
   },
   {
    "duration": 3,
    "start_time": "2022-04-26T10:23:46.692Z"
   },
   {
    "duration": 3,
    "start_time": "2022-04-26T10:23:50.717Z"
   },
   {
    "duration": 165,
    "start_time": "2022-04-26T10:23:51.083Z"
   },
   {
    "duration": 7,
    "start_time": "2022-04-26T10:23:51.407Z"
   },
   {
    "duration": 3,
    "start_time": "2022-04-26T10:24:04.820Z"
   },
   {
    "duration": 3,
    "start_time": "2022-04-26T10:24:07.308Z"
   },
   {
    "duration": 54,
    "start_time": "2022-04-26T10:24:07.538Z"
   },
   {
    "duration": 7,
    "start_time": "2022-04-26T10:24:07.779Z"
   },
   {
    "duration": 14,
    "start_time": "2022-04-26T10:33:54.859Z"
   },
   {
    "duration": 10,
    "start_time": "2022-04-26T10:34:37.228Z"
   },
   {
    "duration": 11,
    "start_time": "2022-04-26T10:36:36.085Z"
   },
   {
    "duration": 11,
    "start_time": "2022-04-26T10:36:59.769Z"
   },
   {
    "duration": 9,
    "start_time": "2022-04-26T10:37:08.281Z"
   },
   {
    "duration": 11,
    "start_time": "2022-04-26T10:39:47.127Z"
   },
   {
    "duration": 8,
    "start_time": "2022-04-26T10:41:53.439Z"
   },
   {
    "duration": 9,
    "start_time": "2022-04-26T10:42:33.806Z"
   },
   {
    "duration": 10,
    "start_time": "2022-04-26T10:43:30.313Z"
   },
   {
    "duration": 10,
    "start_time": "2022-04-26T10:44:55.449Z"
   },
   {
    "duration": 11,
    "start_time": "2022-04-26T10:53:16.376Z"
   },
   {
    "duration": 10,
    "start_time": "2022-04-26T10:53:21.683Z"
   },
   {
    "duration": 10,
    "start_time": "2022-04-26T10:53:24.043Z"
   },
   {
    "duration": 10,
    "start_time": "2022-04-26T11:06:57.870Z"
   },
   {
    "duration": 11,
    "start_time": "2022-04-26T11:06:58.712Z"
   },
   {
    "duration": 6,
    "start_time": "2022-04-26T11:10:34.418Z"
   },
   {
    "duration": 14,
    "start_time": "2022-04-26T11:10:51.025Z"
   },
   {
    "duration": 10,
    "start_time": "2022-04-26T11:11:00.787Z"
   },
   {
    "duration": 10,
    "start_time": "2022-04-26T11:11:17.019Z"
   },
   {
    "duration": 7,
    "start_time": "2022-04-26T11:11:36.281Z"
   },
   {
    "duration": 137,
    "start_time": "2022-04-26T11:11:40.040Z"
   },
   {
    "duration": 7,
    "start_time": "2022-04-26T11:11:40.373Z"
   },
   {
    "duration": 10,
    "start_time": "2022-04-26T11:11:48.692Z"
   },
   {
    "duration": 11,
    "start_time": "2022-04-26T11:12:41.413Z"
   },
   {
    "duration": 63,
    "start_time": "2022-04-26T11:12:48.081Z"
   },
   {
    "duration": 8,
    "start_time": "2022-04-26T11:12:48.464Z"
   },
   {
    "duration": 11,
    "start_time": "2022-04-26T11:12:52.633Z"
   },
   {
    "duration": 12,
    "start_time": "2022-04-26T11:12:55.956Z"
   },
   {
    "duration": 10,
    "start_time": "2022-04-26T11:13:16.370Z"
   },
   {
    "duration": 53,
    "start_time": "2022-04-26T11:14:26.195Z"
   },
   {
    "duration": 7,
    "start_time": "2022-04-26T11:14:26.874Z"
   },
   {
    "duration": 10,
    "start_time": "2022-04-26T11:14:36.954Z"
   },
   {
    "duration": 9,
    "start_time": "2022-04-26T11:15:00.105Z"
   },
   {
    "duration": 9,
    "start_time": "2022-04-26T11:15:03.571Z"
   },
   {
    "duration": 8,
    "start_time": "2022-04-26T11:15:03.838Z"
   },
   {
    "duration": 10,
    "start_time": "2022-04-26T11:15:53.787Z"
   },
   {
    "duration": 143,
    "start_time": "2022-04-26T11:16:03.219Z"
   },
   {
    "duration": 8,
    "start_time": "2022-04-26T11:16:03.464Z"
   },
   {
    "duration": 11,
    "start_time": "2022-04-26T11:16:06.635Z"
   },
   {
    "duration": 11,
    "start_time": "2022-04-26T11:16:13.481Z"
   },
   {
    "duration": 51,
    "start_time": "2022-04-26T11:16:44.883Z"
   },
   {
    "duration": 7,
    "start_time": "2022-04-26T11:16:45.729Z"
   },
   {
    "duration": 11,
    "start_time": "2022-04-26T11:16:49.851Z"
   },
   {
    "duration": 8,
    "start_time": "2022-04-26T11:17:09.930Z"
   },
   {
    "duration": 11,
    "start_time": "2022-04-26T11:17:14.442Z"
   },
   {
    "duration": 15,
    "start_time": "2022-04-26T11:17:24.442Z"
   },
   {
    "duration": 2,
    "start_time": "2022-04-26T11:17:44.498Z"
   },
   {
    "duration": 3,
    "start_time": "2022-04-26T11:17:44.833Z"
   },
   {
    "duration": 3,
    "start_time": "2022-04-26T11:18:00.228Z"
   },
   {
    "duration": 3,
    "start_time": "2022-04-26T11:18:00.490Z"
   },
   {
    "duration": 56,
    "start_time": "2022-04-26T11:18:01.091Z"
   },
   {
    "duration": 8,
    "start_time": "2022-04-26T11:18:01.273Z"
   },
   {
    "duration": 9,
    "start_time": "2022-04-26T11:18:01.827Z"
   },
   {
    "duration": 8,
    "start_time": "2022-04-26T11:18:02.026Z"
   },
   {
    "duration": 10,
    "start_time": "2022-04-26T11:18:02.681Z"
   },
   {
    "duration": 3,
    "start_time": "2022-04-26T11:20:36.531Z"
   },
   {
    "duration": 12,
    "start_time": "2022-04-26T11:20:36.535Z"
   },
   {
    "duration": 268,
    "start_time": "2022-04-26T11:20:36.548Z"
   },
   {
    "duration": 7,
    "start_time": "2022-04-26T11:20:36.817Z"
   },
   {
    "duration": 9,
    "start_time": "2022-04-26T11:20:36.826Z"
   },
   {
    "duration": 8,
    "start_time": "2022-04-26T11:20:36.837Z"
   },
   {
    "duration": 11,
    "start_time": "2022-04-26T11:20:36.846Z"
   },
   {
    "duration": 3,
    "start_time": "2022-04-26T11:21:09.399Z"
   },
   {
    "duration": 6,
    "start_time": "2022-04-26T11:21:09.404Z"
   },
   {
    "duration": 79,
    "start_time": "2022-04-26T11:21:09.411Z"
   },
   {
    "duration": 8,
    "start_time": "2022-04-26T11:21:09.491Z"
   },
   {
    "duration": 26,
    "start_time": "2022-04-26T11:21:09.501Z"
   },
   {
    "duration": 10,
    "start_time": "2022-04-26T11:21:09.529Z"
   },
   {
    "duration": 21,
    "start_time": "2022-04-26T11:21:09.540Z"
   },
   {
    "duration": 1577,
    "start_time": "2022-04-26T11:22:05.482Z"
   },
   {
    "duration": 4,
    "start_time": "2022-04-26T11:22:07.061Z"
   },
   {
    "duration": 58,
    "start_time": "2022-04-26T11:22:07.066Z"
   },
   {
    "duration": 16,
    "start_time": "2022-04-26T11:22:07.127Z"
   },
   {
    "duration": 16,
    "start_time": "2022-04-26T11:22:07.145Z"
   },
   {
    "duration": 2,
    "start_time": "2022-04-26T11:22:07.163Z"
   },
   {
    "duration": 24,
    "start_time": "2022-04-26T11:22:07.167Z"
   },
   {
    "duration": 10,
    "start_time": "2022-04-26T11:23:18.927Z"
   },
   {
    "duration": 1096,
    "start_time": "2022-04-26T11:23:52.698Z"
   },
   {
    "duration": 2,
    "start_time": "2022-04-26T11:23:53.801Z"
   },
   {
    "duration": 57,
    "start_time": "2022-04-26T11:23:53.806Z"
   },
   {
    "duration": 11,
    "start_time": "2022-04-26T11:23:53.865Z"
   },
   {
    "duration": 11,
    "start_time": "2022-04-26T11:23:53.877Z"
   },
   {
    "duration": 2,
    "start_time": "2022-04-26T11:23:53.889Z"
   },
   {
    "duration": 15,
    "start_time": "2022-04-26T11:23:53.892Z"
   },
   {
    "duration": 11,
    "start_time": "2022-04-26T11:24:40.115Z"
   },
   {
    "duration": 10,
    "start_time": "2022-04-26T11:24:48.592Z"
   },
   {
    "duration": 4,
    "start_time": "2022-04-26T11:25:18.648Z"
   },
   {
    "duration": 10,
    "start_time": "2022-04-26T11:25:39.025Z"
   },
   {
    "duration": 11,
    "start_time": "2022-04-26T11:27:07.056Z"
   },
   {
    "duration": 11,
    "start_time": "2022-04-26T11:28:03.352Z"
   },
   {
    "duration": 2,
    "start_time": "2022-04-26T11:33:13.439Z"
   },
   {
    "duration": 13,
    "start_time": "2022-04-26T11:33:13.443Z"
   },
   {
    "duration": 125,
    "start_time": "2022-04-26T11:33:13.457Z"
   },
   {
    "duration": 7,
    "start_time": "2022-04-26T11:33:13.584Z"
   },
   {
    "duration": 18,
    "start_time": "2022-04-26T11:33:13.593Z"
   },
   {
    "duration": 24,
    "start_time": "2022-04-26T11:33:13.612Z"
   },
   {
    "duration": 15,
    "start_time": "2022-04-26T11:33:13.638Z"
   },
   {
    "duration": 8,
    "start_time": "2022-04-26T11:33:44.769Z"
   },
   {
    "duration": 1075,
    "start_time": "2022-04-26T11:34:17.212Z"
   },
   {
    "duration": 2,
    "start_time": "2022-04-26T11:34:18.289Z"
   },
   {
    "duration": 55,
    "start_time": "2022-04-26T11:34:18.292Z"
   },
   {
    "duration": 11,
    "start_time": "2022-04-26T11:34:18.349Z"
   },
   {
    "duration": 12,
    "start_time": "2022-04-26T11:34:18.361Z"
   },
   {
    "duration": 10,
    "start_time": "2022-04-26T11:34:18.375Z"
   },
   {
    "duration": 79,
    "start_time": "2022-04-27T09:30:06.692Z"
   },
   {
    "duration": 1859,
    "start_time": "2022-04-27T09:30:16.654Z"
   },
   {
    "duration": 4,
    "start_time": "2022-04-27T09:30:18.516Z"
   },
   {
    "duration": 128,
    "start_time": "2022-04-27T09:30:18.523Z"
   },
   {
    "duration": 20,
    "start_time": "2022-04-27T09:30:18.655Z"
   },
   {
    "duration": 28,
    "start_time": "2022-04-27T09:30:18.679Z"
   },
   {
    "duration": 43,
    "start_time": "2022-04-27T09:30:18.709Z"
   },
   {
    "duration": 239,
    "start_time": "2022-04-27T09:30:18.754Z"
   },
   {
    "duration": 27,
    "start_time": "2022-04-27T09:30:18.996Z"
   },
   {
    "duration": 30,
    "start_time": "2022-04-27T09:30:19.026Z"
   },
   {
    "duration": 16,
    "start_time": "2022-04-27T09:30:28.252Z"
   },
   {
    "duration": 15,
    "start_time": "2022-04-27T09:30:32.506Z"
   },
   {
    "duration": 18,
    "start_time": "2022-04-27T09:41:05.785Z"
   },
   {
    "duration": 7,
    "start_time": "2022-04-27T09:41:21.718Z"
   },
   {
    "duration": 569,
    "start_time": "2022-04-27T09:43:24.211Z"
   },
   {
    "duration": 5,
    "start_time": "2022-04-27T09:44:06.472Z"
   },
   {
    "duration": 20,
    "start_time": "2022-04-27T09:44:11.812Z"
   },
   {
    "duration": 8,
    "start_time": "2022-04-27T09:44:20.056Z"
   },
   {
    "duration": 550,
    "start_time": "2022-04-27T09:45:21.981Z"
   },
   {
    "duration": 6,
    "start_time": "2022-04-27T09:45:47.984Z"
   },
   {
    "duration": 539,
    "start_time": "2022-04-27T09:46:57.907Z"
   },
   {
    "duration": 5,
    "start_time": "2022-04-27T09:47:22.317Z"
   },
   {
    "duration": 13,
    "start_time": "2022-04-27T09:47:22.326Z"
   },
   {
    "duration": 58,
    "start_time": "2022-04-27T09:47:22.341Z"
   },
   {
    "duration": 13,
    "start_time": "2022-04-27T09:47:22.401Z"
   },
   {
    "duration": 25,
    "start_time": "2022-04-27T09:47:22.419Z"
   },
   {
    "duration": 28,
    "start_time": "2022-04-27T09:47:22.448Z"
   },
   {
    "duration": 97,
    "start_time": "2022-04-27T09:47:22.479Z"
   },
   {
    "duration": 11,
    "start_time": "2022-04-27T09:47:22.579Z"
   },
   {
    "duration": 16,
    "start_time": "2022-04-27T09:47:22.592Z"
   },
   {
    "duration": 532,
    "start_time": "2022-04-27T09:47:22.610Z"
   },
   {
    "duration": 0,
    "start_time": "2022-04-27T09:47:23.145Z"
   },
   {
    "duration": 0,
    "start_time": "2022-04-27T09:47:23.148Z"
   },
   {
    "duration": 4,
    "start_time": "2022-04-27T09:47:44.016Z"
   },
   {
    "duration": 30,
    "start_time": "2022-04-27T09:47:44.023Z"
   },
   {
    "duration": 77,
    "start_time": "2022-04-27T09:47:44.056Z"
   },
   {
    "duration": 16,
    "start_time": "2022-04-27T09:47:44.135Z"
   },
   {
    "duration": 33,
    "start_time": "2022-04-27T09:47:44.156Z"
   },
   {
    "duration": 35,
    "start_time": "2022-04-27T09:47:44.192Z"
   },
   {
    "duration": 136,
    "start_time": "2022-04-27T09:47:44.230Z"
   },
   {
    "duration": 18,
    "start_time": "2022-04-27T09:47:44.369Z"
   },
   {
    "duration": 26,
    "start_time": "2022-04-27T09:47:44.390Z"
   },
   {
    "duration": 45,
    "start_time": "2022-04-27T09:47:44.420Z"
   },
   {
    "duration": 14,
    "start_time": "2022-04-27T09:47:44.468Z"
   },
   {
    "duration": 18,
    "start_time": "2022-04-27T09:47:44.484Z"
   },
   {
    "duration": 14,
    "start_time": "2022-04-27T09:48:19.962Z"
   },
   {
    "duration": 17,
    "start_time": "2022-04-27T09:48:23.822Z"
   },
   {
    "duration": 16,
    "start_time": "2022-04-27T09:48:33.425Z"
   },
   {
    "duration": 12,
    "start_time": "2022-04-27T10:06:44.117Z"
   },
   {
    "duration": 9,
    "start_time": "2022-04-27T10:07:14.108Z"
   },
   {
    "duration": 8,
    "start_time": "2022-04-27T10:08:45.755Z"
   },
   {
    "duration": 14,
    "start_time": "2022-04-27T10:08:54.004Z"
   },
   {
    "duration": 15,
    "start_time": "2022-04-27T10:17:30.620Z"
   },
   {
    "duration": 15,
    "start_time": "2022-04-27T10:17:40.530Z"
   },
   {
    "duration": 16,
    "start_time": "2022-04-27T10:17:41.060Z"
   },
   {
    "duration": 15,
    "start_time": "2022-04-27T10:18:03.565Z"
   },
   {
    "duration": 44,
    "start_time": "2022-04-27T10:18:03.928Z"
   },
   {
    "duration": 13,
    "start_time": "2022-04-27T10:18:43.786Z"
   },
   {
    "duration": 313,
    "start_time": "2022-04-27T10:19:15.581Z"
   },
   {
    "duration": 298,
    "start_time": "2022-04-27T10:19:22.285Z"
   },
   {
    "duration": 13,
    "start_time": "2022-04-27T10:19:46.458Z"
   },
   {
    "duration": 11,
    "start_time": "2022-04-27T10:25:30.325Z"
   },
   {
    "duration": 226,
    "start_time": "2022-04-27T10:26:24.692Z"
   },
   {
    "duration": 230,
    "start_time": "2022-04-27T10:26:41.103Z"
   },
   {
    "duration": 242,
    "start_time": "2022-04-27T10:27:22.180Z"
   },
   {
    "duration": 210,
    "start_time": "2022-04-27T10:27:36.648Z"
   },
   {
    "duration": 18,
    "start_time": "2022-04-27T10:28:39.173Z"
   },
   {
    "duration": 22,
    "start_time": "2022-04-27T10:29:47.065Z"
   },
   {
    "duration": 11,
    "start_time": "2022-04-27T10:36:54.681Z"
   },
   {
    "duration": 13,
    "start_time": "2022-04-27T10:36:59.367Z"
   },
   {
    "duration": 13,
    "start_time": "2022-04-27T10:36:59.831Z"
   },
   {
    "duration": 645,
    "start_time": "2022-04-27T10:37:34.349Z"
   },
   {
    "duration": 275,
    "start_time": "2022-04-27T10:38:34.894Z"
   },
   {
    "duration": 270,
    "start_time": "2022-04-27T10:38:53.503Z"
   },
   {
    "duration": 460,
    "start_time": "2022-04-27T10:39:08.871Z"
   },
   {
    "duration": 416,
    "start_time": "2022-04-27T10:39:18.519Z"
   },
   {
    "duration": 319,
    "start_time": "2022-04-27T10:41:22.251Z"
   },
   {
    "duration": 434,
    "start_time": "2022-04-27T10:55:06.046Z"
   },
   {
    "duration": 540,
    "start_time": "2022-04-27T10:55:39.519Z"
   },
   {
    "duration": 435,
    "start_time": "2022-04-27T10:55:48.789Z"
   },
   {
    "duration": 307,
    "start_time": "2022-04-27T10:56:48.993Z"
   },
   {
    "duration": 308,
    "start_time": "2022-04-27T10:57:07.206Z"
   },
   {
    "duration": 366,
    "start_time": "2022-04-27T10:57:17.029Z"
   },
   {
    "duration": 337,
    "start_time": "2022-04-27T10:57:35.251Z"
   },
   {
    "duration": 148,
    "start_time": "2022-04-27T11:09:09.806Z"
   },
   {
    "duration": 20,
    "start_time": "2022-04-27T11:11:17.960Z"
   },
   {
    "duration": 16,
    "start_time": "2022-04-27T11:14:08.768Z"
   },
   {
    "duration": 308,
    "start_time": "2022-04-27T11:15:34.840Z"
   },
   {
    "duration": 518,
    "start_time": "2022-04-27T11:15:42.546Z"
   },
   {
    "duration": 355,
    "start_time": "2022-04-27T11:16:02.484Z"
   },
   {
    "duration": 398,
    "start_time": "2022-04-27T11:16:59.672Z"
   },
   {
    "duration": 18,
    "start_time": "2022-04-27T12:37:23.843Z"
   },
   {
    "duration": 13,
    "start_time": "2022-04-27T12:37:29.421Z"
   },
   {
    "duration": 18,
    "start_time": "2022-04-27T12:37:31.286Z"
   },
   {
    "duration": 461,
    "start_time": "2022-04-27T12:40:57.419Z"
   },
   {
    "duration": 389,
    "start_time": "2022-04-27T12:41:08.073Z"
   },
   {
    "duration": 546,
    "start_time": "2022-04-27T12:41:33.307Z"
   },
   {
    "duration": 391,
    "start_time": "2022-04-27T12:41:44.946Z"
   },
   {
    "duration": 13,
    "start_time": "2022-04-27T12:45:57.277Z"
   },
   {
    "duration": 18,
    "start_time": "2022-04-27T12:52:17.312Z"
   },
   {
    "duration": 5,
    "start_time": "2022-04-27T12:52:20.992Z"
   },
   {
    "duration": 19,
    "start_time": "2022-04-27T12:52:22.696Z"
   },
   {
    "duration": 22,
    "start_time": "2022-04-27T12:52:54.329Z"
   },
   {
    "duration": 6,
    "start_time": "2022-04-27T12:53:59.533Z"
   },
   {
    "duration": 20,
    "start_time": "2022-04-27T12:54:09.092Z"
   },
   {
    "duration": 396,
    "start_time": "2022-04-27T12:56:10.327Z"
   },
   {
    "duration": 448,
    "start_time": "2022-04-27T12:56:28.630Z"
   },
   {
    "duration": 461,
    "start_time": "2022-04-27T12:56:35.985Z"
   },
   {
    "duration": 431,
    "start_time": "2022-04-27T12:57:01.150Z"
   },
   {
    "duration": 308,
    "start_time": "2022-04-27T12:59:23.414Z"
   },
   {
    "duration": 5,
    "start_time": "2022-04-27T13:00:02.254Z"
   },
   {
    "duration": 8,
    "start_time": "2022-04-27T13:00:07.830Z"
   },
   {
    "duration": 19,
    "start_time": "2022-04-27T13:00:32.978Z"
   },
   {
    "duration": 13,
    "start_time": "2022-04-27T13:00:47.958Z"
   },
   {
    "duration": 5,
    "start_time": "2022-04-27T13:00:56.087Z"
   },
   {
    "duration": 6,
    "start_time": "2022-04-27T13:01:27.437Z"
   },
   {
    "duration": 7,
    "start_time": "2022-04-27T13:01:29.147Z"
   },
   {
    "duration": 130,
    "start_time": "2022-04-27T13:01:41.840Z"
   },
   {
    "duration": 138,
    "start_time": "2022-04-27T13:01:55.564Z"
   },
   {
    "duration": 420,
    "start_time": "2022-04-27T13:02:06.293Z"
   },
   {
    "duration": 290,
    "start_time": "2022-04-27T13:02:23.931Z"
   },
   {
    "duration": 7,
    "start_time": "2022-04-27T13:02:43.500Z"
   },
   {
    "duration": 445,
    "start_time": "2022-04-27T13:02:53.138Z"
   },
   {
    "duration": 339,
    "start_time": "2022-04-27T13:03:29.384Z"
   },
   {
    "duration": 306,
    "start_time": "2022-04-27T13:03:45.997Z"
   },
   {
    "duration": 463,
    "start_time": "2022-04-27T13:04:13.903Z"
   },
   {
    "duration": 335,
    "start_time": "2022-04-27T13:04:51.140Z"
   },
   {
    "duration": 348,
    "start_time": "2022-04-27T13:05:25.584Z"
   },
   {
    "duration": 6,
    "start_time": "2022-04-27T13:05:54.606Z"
   },
   {
    "duration": 13,
    "start_time": "2022-04-27T13:05:54.616Z"
   },
   {
    "duration": 158,
    "start_time": "2022-04-27T13:05:54.632Z"
   },
   {
    "duration": 19,
    "start_time": "2022-04-27T13:05:54.797Z"
   },
   {
    "duration": 17,
    "start_time": "2022-04-27T13:05:54.819Z"
   },
   {
    "duration": 23,
    "start_time": "2022-04-27T13:05:54.839Z"
   },
   {
    "duration": 229,
    "start_time": "2022-04-27T13:05:54.865Z"
   },
   {
    "duration": 13,
    "start_time": "2022-04-27T13:05:55.096Z"
   },
   {
    "duration": 21,
    "start_time": "2022-04-27T13:05:55.111Z"
   },
   {
    "duration": 41,
    "start_time": "2022-04-27T13:05:55.137Z"
   },
   {
    "duration": 21,
    "start_time": "2022-04-27T13:05:55.181Z"
   },
   {
    "duration": 11,
    "start_time": "2022-04-27T13:05:55.205Z"
   },
   {
    "duration": 26,
    "start_time": "2022-04-27T13:05:55.219Z"
   },
   {
    "duration": 532,
    "start_time": "2022-04-27T13:05:55.248Z"
   },
   {
    "duration": 320,
    "start_time": "2022-04-27T13:05:55.784Z"
   },
   {
    "duration": 20,
    "start_time": "2022-04-27T13:05:56.107Z"
   },
   {
    "duration": 363,
    "start_time": "2022-04-27T13:05:56.130Z"
   },
   {
    "duration": 323,
    "start_time": "2022-04-27T13:05:56.496Z"
   },
   {
    "duration": 429,
    "start_time": "2022-04-27T13:05:56.821Z"
   },
   {
    "duration": 20,
    "start_time": "2022-04-27T13:05:57.255Z"
   },
   {
    "duration": 19,
    "start_time": "2022-04-27T13:05:57.278Z"
   },
   {
    "duration": 23,
    "start_time": "2022-04-27T13:05:57.300Z"
   },
   {
    "duration": 21,
    "start_time": "2022-04-27T13:05:57.326Z"
   },
   {
    "duration": 56,
    "start_time": "2022-04-27T13:05:57.349Z"
   },
   {
    "duration": 364,
    "start_time": "2022-04-27T13:05:57.407Z"
   },
   {
    "duration": 0,
    "start_time": "2022-04-27T13:05:57.774Z"
   },
   {
    "duration": 363,
    "start_time": "2022-04-27T13:06:39.406Z"
   },
   {
    "duration": 407,
    "start_time": "2022-04-27T13:07:04.861Z"
   },
   {
    "duration": 349,
    "start_time": "2022-04-27T13:07:53.778Z"
   },
   {
    "duration": 353,
    "start_time": "2022-04-27T13:09:52.164Z"
   },
   {
    "duration": 351,
    "start_time": "2022-04-27T13:11:04.125Z"
   },
   {
    "duration": 472,
    "start_time": "2022-04-27T13:11:20.795Z"
   },
   {
    "duration": 349,
    "start_time": "2022-04-27T13:11:34.767Z"
   },
   {
    "duration": 6,
    "start_time": "2022-04-27T13:11:43.036Z"
   },
   {
    "duration": 340,
    "start_time": "2022-04-27T13:11:58.973Z"
   },
   {
    "duration": 6,
    "start_time": "2022-04-27T13:12:29.693Z"
   },
   {
    "duration": 7,
    "start_time": "2022-04-27T13:12:35.701Z"
   },
   {
    "duration": 5,
    "start_time": "2022-04-27T13:20:02.045Z"
   },
   {
    "duration": 95,
    "start_time": "2022-04-27T13:20:02.054Z"
   },
   {
    "duration": 116,
    "start_time": "2022-04-27T13:20:02.152Z"
   },
   {
    "duration": 16,
    "start_time": "2022-04-27T13:20:02.271Z"
   },
   {
    "duration": 68,
    "start_time": "2022-04-27T13:20:02.292Z"
   },
   {
    "duration": 71,
    "start_time": "2022-04-27T13:20:02.364Z"
   },
   {
    "duration": 278,
    "start_time": "2022-04-27T13:20:02.438Z"
   },
   {
    "duration": 16,
    "start_time": "2022-04-27T13:20:02.719Z"
   },
   {
    "duration": 23,
    "start_time": "2022-04-27T13:20:02.739Z"
   },
   {
    "duration": 70,
    "start_time": "2022-04-27T13:20:02.765Z"
   },
   {
    "duration": 78,
    "start_time": "2022-04-27T13:20:02.837Z"
   },
   {
    "duration": 17,
    "start_time": "2022-04-27T13:20:02.918Z"
   },
   {
    "duration": 29,
    "start_time": "2022-04-27T13:20:02.942Z"
   },
   {
    "duration": 388,
    "start_time": "2022-04-27T13:20:02.975Z"
   },
   {
    "duration": 230,
    "start_time": "2022-04-27T13:20:03.366Z"
   },
   {
    "duration": 24,
    "start_time": "2022-04-27T13:20:03.598Z"
   },
   {
    "duration": 515,
    "start_time": "2022-04-27T13:20:03.625Z"
   },
   {
    "duration": 453,
    "start_time": "2022-04-27T13:20:04.142Z"
   },
   {
    "duration": 434,
    "start_time": "2022-04-27T13:20:04.598Z"
   },
   {
    "duration": 30,
    "start_time": "2022-04-27T13:20:05.035Z"
   },
   {
    "duration": 32,
    "start_time": "2022-04-27T13:20:05.068Z"
   },
   {
    "duration": 29,
    "start_time": "2022-04-27T13:20:05.103Z"
   },
   {
    "duration": 12,
    "start_time": "2022-04-27T13:20:05.134Z"
   },
   {
    "duration": 44,
    "start_time": "2022-04-27T13:20:05.149Z"
   },
   {
    "duration": 387,
    "start_time": "2022-04-27T13:20:05.195Z"
   },
   {
    "duration": 0,
    "start_time": "2022-04-27T13:20:05.585Z"
   },
   {
    "duration": 447,
    "start_time": "2022-04-27T13:24:41.977Z"
   },
   {
    "duration": 381,
    "start_time": "2022-04-27T13:26:59.201Z"
   },
   {
    "duration": 371,
    "start_time": "2022-04-27T13:27:36.580Z"
   },
   {
    "duration": 7,
    "start_time": "2022-04-27T14:03:21.846Z"
   },
   {
    "duration": 497,
    "start_time": "2022-04-27T14:04:12.701Z"
   },
   {
    "duration": 6,
    "start_time": "2022-04-27T14:05:09.768Z"
   },
   {
    "duration": 6,
    "start_time": "2022-04-27T14:05:13.070Z"
   },
   {
    "duration": 7,
    "start_time": "2022-04-27T14:05:13.079Z"
   },
   {
    "duration": 49,
    "start_time": "2022-04-27T14:05:13.090Z"
   },
   {
    "duration": 14,
    "start_time": "2022-04-27T14:05:13.141Z"
   },
   {
    "duration": 19,
    "start_time": "2022-04-27T14:05:13.158Z"
   },
   {
    "duration": 24,
    "start_time": "2022-04-27T14:05:13.180Z"
   },
   {
    "duration": 95,
    "start_time": "2022-04-27T14:05:13.207Z"
   },
   {
    "duration": 12,
    "start_time": "2022-04-27T14:05:13.304Z"
   },
   {
    "duration": 16,
    "start_time": "2022-04-27T14:05:13.319Z"
   },
   {
    "duration": 36,
    "start_time": "2022-04-27T14:05:13.338Z"
   },
   {
    "duration": 7,
    "start_time": "2022-04-27T14:05:13.377Z"
   },
   {
    "duration": 15,
    "start_time": "2022-04-27T14:05:13.386Z"
   },
   {
    "duration": 20,
    "start_time": "2022-04-27T14:05:13.404Z"
   },
   {
    "duration": 327,
    "start_time": "2022-04-27T14:05:13.428Z"
   },
   {
    "duration": 236,
    "start_time": "2022-04-27T14:05:13.758Z"
   },
   {
    "duration": 20,
    "start_time": "2022-04-27T14:05:13.997Z"
   },
   {
    "duration": 345,
    "start_time": "2022-04-27T14:05:14.020Z"
   },
   {
    "duration": 421,
    "start_time": "2022-04-27T14:05:14.367Z"
   },
   {
    "duration": 422,
    "start_time": "2022-04-27T14:05:14.790Z"
   },
   {
    "duration": 321,
    "start_time": "2022-04-27T14:05:15.214Z"
   },
   {
    "duration": 19,
    "start_time": "2022-04-27T14:05:15.540Z"
   },
   {
    "duration": 13,
    "start_time": "2022-04-27T14:05:15.561Z"
   },
   {
    "duration": 360,
    "start_time": "2022-04-27T14:05:15.578Z"
   },
   {
    "duration": 0,
    "start_time": "2022-04-27T14:05:15.942Z"
   },
   {
    "duration": 117,
    "start_time": "2022-04-27T14:06:08.532Z"
   },
   {
    "duration": 8,
    "start_time": "2022-04-27T14:06:21.220Z"
   },
   {
    "duration": 337,
    "start_time": "2022-04-27T14:06:35.556Z"
   },
   {
    "duration": 6,
    "start_time": "2022-04-27T14:07:07.613Z"
   },
   {
    "duration": 342,
    "start_time": "2022-04-27T14:07:20.543Z"
   },
   {
    "duration": 303,
    "start_time": "2022-04-27T14:07:38.351Z"
   },
   {
    "duration": 9,
    "start_time": "2022-04-27T14:08:37.694Z"
   },
   {
    "duration": 482,
    "start_time": "2022-04-27T14:08:45.550Z"
   },
   {
    "duration": 521,
    "start_time": "2022-04-27T14:09:05.970Z"
   },
   {
    "duration": 408,
    "start_time": "2022-04-27T14:09:16.772Z"
   },
   {
    "duration": 329,
    "start_time": "2022-04-27T14:09:40.046Z"
   },
   {
    "duration": 412,
    "start_time": "2022-04-27T14:09:49.679Z"
   },
   {
    "duration": 568,
    "start_time": "2022-04-27T14:10:00.491Z"
   },
   {
    "duration": 425,
    "start_time": "2022-04-27T14:10:06.549Z"
   },
   {
    "duration": 8,
    "start_time": "2022-04-27T14:10:17.595Z"
   },
   {
    "duration": 6,
    "start_time": "2022-04-27T14:10:21.924Z"
   },
   {
    "duration": 282,
    "start_time": "2022-04-27T14:10:24.260Z"
   },
   {
    "duration": 285,
    "start_time": "2022-04-27T14:10:30.267Z"
   },
   {
    "duration": 6,
    "start_time": "2022-04-27T14:10:40.141Z"
   },
   {
    "duration": 10,
    "start_time": "2022-04-27T14:10:40.149Z"
   },
   {
    "duration": 78,
    "start_time": "2022-04-27T14:10:40.161Z"
   },
   {
    "duration": 12,
    "start_time": "2022-04-27T14:10:40.241Z"
   },
   {
    "duration": 16,
    "start_time": "2022-04-27T14:10:40.257Z"
   },
   {
    "duration": 19,
    "start_time": "2022-04-27T14:10:40.275Z"
   },
   {
    "duration": 178,
    "start_time": "2022-04-27T14:10:40.296Z"
   },
   {
    "duration": 11,
    "start_time": "2022-04-27T14:10:40.477Z"
   },
   {
    "duration": 20,
    "start_time": "2022-04-27T14:10:40.490Z"
   },
   {
    "duration": 23,
    "start_time": "2022-04-27T14:10:40.513Z"
   },
   {
    "duration": 6,
    "start_time": "2022-04-27T14:10:40.539Z"
   },
   {
    "duration": 8,
    "start_time": "2022-04-27T14:10:40.547Z"
   },
   {
    "duration": 18,
    "start_time": "2022-04-27T14:10:40.558Z"
   },
   {
    "duration": 355,
    "start_time": "2022-04-27T14:10:40.582Z"
   },
   {
    "duration": 230,
    "start_time": "2022-04-27T14:10:40.939Z"
   },
   {
    "duration": 19,
    "start_time": "2022-04-27T14:10:41.171Z"
   },
   {
    "duration": 312,
    "start_time": "2022-04-27T14:10:41.193Z"
   },
   {
    "duration": 295,
    "start_time": "2022-04-27T14:10:41.508Z"
   },
   {
    "duration": 437,
    "start_time": "2022-04-27T14:10:41.805Z"
   },
   {
    "duration": 356,
    "start_time": "2022-04-27T14:10:42.244Z"
   },
   {
    "duration": 20,
    "start_time": "2022-04-27T14:10:42.603Z"
   },
   {
    "duration": 28,
    "start_time": "2022-04-27T14:10:42.625Z"
   },
   {
    "duration": 302,
    "start_time": "2022-04-27T14:10:42.656Z"
   },
   {
    "duration": 12,
    "start_time": "2022-04-27T14:10:42.961Z"
   },
   {
    "duration": 846,
    "start_time": "2022-04-27T14:11:19.262Z"
   },
   {
    "duration": 331,
    "start_time": "2022-04-27T14:11:46.301Z"
   },
   {
    "duration": 335,
    "start_time": "2022-04-27T14:12:00.481Z"
   },
   {
    "duration": 439,
    "start_time": "2022-04-27T14:12:17.177Z"
   },
   {
    "duration": 318,
    "start_time": "2022-04-27T14:12:26.703Z"
   },
   {
    "duration": 278,
    "start_time": "2022-04-27T14:12:44.887Z"
   },
   {
    "duration": 293,
    "start_time": "2022-04-27T14:14:14.316Z"
   },
   {
    "duration": 498,
    "start_time": "2022-04-27T14:14:49.796Z"
   },
   {
    "duration": 287,
    "start_time": "2022-04-27T14:14:57.868Z"
   },
   {
    "duration": 332,
    "start_time": "2022-04-27T14:16:45.702Z"
   },
   {
    "duration": 10,
    "start_time": "2022-04-27T14:17:10.997Z"
   },
   {
    "duration": 21,
    "start_time": "2022-04-27T14:17:16.985Z"
   },
   {
    "duration": 6,
    "start_time": "2022-04-27T14:17:17.541Z"
   },
   {
    "duration": 304,
    "start_time": "2022-04-27T14:17:18.142Z"
   },
   {
    "duration": 11,
    "start_time": "2022-04-27T14:21:27.448Z"
   },
   {
    "duration": 12,
    "start_time": "2022-04-27T14:21:32.334Z"
   },
   {
    "duration": 14,
    "start_time": "2022-04-27T14:22:17.487Z"
   },
   {
    "duration": 15,
    "start_time": "2022-04-27T14:26:00.061Z"
   },
   {
    "duration": 17,
    "start_time": "2022-04-27T14:26:15.147Z"
   },
   {
    "duration": 19,
    "start_time": "2022-04-27T14:26:42.540Z"
   },
   {
    "duration": 28,
    "start_time": "2022-04-27T14:27:02.449Z"
   },
   {
    "duration": 282,
    "start_time": "2022-04-27T14:27:48.334Z"
   },
   {
    "duration": 242,
    "start_time": "2022-04-27T14:28:15.814Z"
   },
   {
    "duration": 258,
    "start_time": "2022-04-27T14:28:33.094Z"
   },
   {
    "duration": 386,
    "start_time": "2022-04-27T14:29:22.712Z"
   },
   {
    "duration": 358,
    "start_time": "2022-04-27T14:29:48.893Z"
   },
   {
    "duration": 382,
    "start_time": "2022-04-27T14:29:52.822Z"
   },
   {
    "duration": 296,
    "start_time": "2022-04-27T14:29:57.543Z"
   },
   {
    "duration": 262,
    "start_time": "2022-04-27T14:30:00.224Z"
   },
   {
    "duration": 271,
    "start_time": "2022-04-27T14:30:08.946Z"
   },
   {
    "duration": 469,
    "start_time": "2022-04-27T14:30:12.935Z"
   },
   {
    "duration": 506,
    "start_time": "2022-04-27T14:30:55.841Z"
   },
   {
    "duration": 383,
    "start_time": "2022-04-27T14:31:28.609Z"
   },
   {
    "duration": 536,
    "start_time": "2022-04-27T14:33:11.102Z"
   },
   {
    "duration": 555,
    "start_time": "2022-04-27T14:33:21.421Z"
   },
   {
    "duration": 478,
    "start_time": "2022-04-27T14:33:43.138Z"
   },
   {
    "duration": 510,
    "start_time": "2022-04-27T14:34:07.758Z"
   },
   {
    "duration": 121,
    "start_time": "2022-04-27T14:34:32.622Z"
   },
   {
    "duration": 3,
    "start_time": "2022-04-27T14:42:04.696Z"
   },
   {
    "duration": 4,
    "start_time": "2022-04-27T14:42:11.254Z"
   },
   {
    "duration": 5,
    "start_time": "2022-04-27T14:43:30.697Z"
   },
   {
    "duration": 13,
    "start_time": "2022-04-27T14:43:38.551Z"
   },
   {
    "duration": 371,
    "start_time": "2022-04-27T14:44:19.057Z"
   },
   {
    "duration": 6,
    "start_time": "2022-04-27T14:44:46.610Z"
   },
   {
    "duration": 9,
    "start_time": "2022-04-27T14:44:46.619Z"
   },
   {
    "duration": 54,
    "start_time": "2022-04-27T14:44:46.631Z"
   },
   {
    "duration": 12,
    "start_time": "2022-04-27T14:44:46.687Z"
   },
   {
    "duration": 37,
    "start_time": "2022-04-27T14:44:46.704Z"
   },
   {
    "duration": 32,
    "start_time": "2022-04-27T14:44:46.744Z"
   },
   {
    "duration": 128,
    "start_time": "2022-04-27T14:44:46.780Z"
   },
   {
    "duration": 12,
    "start_time": "2022-04-27T14:44:46.910Z"
   },
   {
    "duration": 13,
    "start_time": "2022-04-27T14:44:46.924Z"
   },
   {
    "duration": 21,
    "start_time": "2022-04-27T14:44:46.939Z"
   },
   {
    "duration": 8,
    "start_time": "2022-04-27T14:44:46.963Z"
   },
   {
    "duration": 7,
    "start_time": "2022-04-27T14:44:46.973Z"
   },
   {
    "duration": 17,
    "start_time": "2022-04-27T14:44:46.982Z"
   },
   {
    "duration": 307,
    "start_time": "2022-04-27T14:44:47.003Z"
   },
   {
    "duration": 232,
    "start_time": "2022-04-27T14:44:47.312Z"
   },
   {
    "duration": 24,
    "start_time": "2022-04-27T14:44:47.546Z"
   },
   {
    "duration": 453,
    "start_time": "2022-04-27T14:44:47.573Z"
   },
   {
    "duration": 428,
    "start_time": "2022-04-27T14:44:48.029Z"
   },
   {
    "duration": 397,
    "start_time": "2022-04-27T14:44:48.459Z"
   },
   {
    "duration": 10,
    "start_time": "2022-04-27T14:44:48.859Z"
   },
   {
    "duration": 22,
    "start_time": "2022-04-27T14:44:48.871Z"
   },
   {
    "duration": 10,
    "start_time": "2022-04-27T14:44:48.895Z"
   },
   {
    "duration": 453,
    "start_time": "2022-04-27T14:44:48.908Z"
   },
   {
    "duration": 15,
    "start_time": "2022-04-27T14:44:49.364Z"
   },
   {
    "duration": 21,
    "start_time": "2022-04-27T14:44:49.382Z"
   },
   {
    "duration": 409,
    "start_time": "2022-04-27T14:44:49.406Z"
   },
   {
    "duration": 6,
    "start_time": "2022-04-27T14:45:14.787Z"
   },
   {
    "duration": 21,
    "start_time": "2022-04-27T14:45:14.796Z"
   },
   {
    "duration": 68,
    "start_time": "2022-04-27T14:45:14.819Z"
   },
   {
    "duration": 12,
    "start_time": "2022-04-27T14:45:14.890Z"
   },
   {
    "duration": 30,
    "start_time": "2022-04-27T14:45:14.905Z"
   },
   {
    "duration": 41,
    "start_time": "2022-04-27T14:45:14.937Z"
   },
   {
    "duration": 119,
    "start_time": "2022-04-27T14:45:14.980Z"
   },
   {
    "duration": 17,
    "start_time": "2022-04-27T14:45:15.102Z"
   },
   {
    "duration": 30,
    "start_time": "2022-04-27T14:45:15.124Z"
   },
   {
    "duration": 52,
    "start_time": "2022-04-27T14:45:15.157Z"
   },
   {
    "duration": 40,
    "start_time": "2022-04-27T14:45:15.212Z"
   },
   {
    "duration": 35,
    "start_time": "2022-04-27T14:45:15.254Z"
   },
   {
    "duration": 27,
    "start_time": "2022-04-27T14:45:15.292Z"
   },
   {
    "duration": 306,
    "start_time": "2022-04-27T14:45:15.321Z"
   },
   {
    "duration": 239,
    "start_time": "2022-04-27T14:45:15.629Z"
   },
   {
    "duration": 36,
    "start_time": "2022-04-27T14:45:15.871Z"
   },
   {
    "duration": 490,
    "start_time": "2022-04-27T14:45:15.911Z"
   },
   {
    "duration": 298,
    "start_time": "2022-04-27T14:45:16.403Z"
   },
   {
    "duration": 415,
    "start_time": "2022-04-27T14:45:16.704Z"
   },
   {
    "duration": 7,
    "start_time": "2022-04-27T14:45:17.122Z"
   },
   {
    "duration": 29,
    "start_time": "2022-04-27T14:45:17.132Z"
   },
   {
    "duration": 8,
    "start_time": "2022-04-27T14:45:17.163Z"
   },
   {
    "duration": 311,
    "start_time": "2022-04-27T14:45:17.173Z"
   },
   {
    "duration": 17,
    "start_time": "2022-04-27T14:45:17.491Z"
   },
   {
    "duration": 42,
    "start_time": "2022-04-27T14:45:17.511Z"
   },
   {
    "duration": 375,
    "start_time": "2022-04-27T14:45:17.556Z"
   },
   {
    "duration": 12,
    "start_time": "2022-04-27T14:56:21.095Z"
   },
   {
    "duration": 8,
    "start_time": "2022-04-27T14:57:39.124Z"
   },
   {
    "duration": 14,
    "start_time": "2022-04-27T14:57:43.697Z"
   },
   {
    "duration": 17,
    "start_time": "2022-04-27T14:57:56.078Z"
   },
   {
    "duration": 14,
    "start_time": "2022-04-27T14:58:02.236Z"
   },
   {
    "duration": 15,
    "start_time": "2022-04-27T14:59:15.040Z"
   },
   {
    "duration": 15,
    "start_time": "2022-04-27T14:59:27.240Z"
   },
   {
    "duration": 16,
    "start_time": "2022-04-27T15:00:39.546Z"
   },
   {
    "duration": 14,
    "start_time": "2022-04-27T15:01:04.029Z"
   },
   {
    "duration": 177,
    "start_time": "2022-04-27T15:02:50.792Z"
   },
   {
    "duration": 176,
    "start_time": "2022-04-27T15:02:57.866Z"
   },
   {
    "duration": 181,
    "start_time": "2022-04-27T15:05:02.330Z"
   },
   {
    "duration": 9,
    "start_time": "2022-04-27T15:05:21.338Z"
   },
   {
    "duration": 171,
    "start_time": "2022-04-27T15:05:58.896Z"
   },
   {
    "duration": 181,
    "start_time": "2022-04-27T15:06:18.434Z"
   },
   {
    "duration": 8,
    "start_time": "2022-04-27T15:12:06.151Z"
   },
   {
    "duration": 8,
    "start_time": "2022-04-27T15:13:03.542Z"
   },
   {
    "duration": 12,
    "start_time": "2022-04-27T15:23:43.013Z"
   },
   {
    "duration": 18,
    "start_time": "2022-04-27T15:24:20.827Z"
   },
   {
    "duration": 16,
    "start_time": "2022-04-27T15:24:41.246Z"
   },
   {
    "duration": 16,
    "start_time": "2022-04-27T15:24:46.918Z"
   },
   {
    "duration": 6,
    "start_time": "2022-04-27T15:25:36.927Z"
   },
   {
    "duration": 15,
    "start_time": "2022-04-27T15:25:40.990Z"
   },
   {
    "duration": 113,
    "start_time": "2022-04-27T15:26:24.881Z"
   },
   {
    "duration": 8,
    "start_time": "2022-04-27T15:26:38.056Z"
   },
   {
    "duration": 330,
    "start_time": "2022-04-27T15:27:09.950Z"
   },
   {
    "duration": 184,
    "start_time": "2022-04-27T15:27:18.086Z"
   },
   {
    "duration": 198,
    "start_time": "2022-04-27T15:28:03.257Z"
   },
   {
    "duration": 195,
    "start_time": "2022-04-27T15:28:27.830Z"
   },
   {
    "duration": 7,
    "start_time": "2022-04-27T15:38:35.515Z"
   },
   {
    "duration": 4,
    "start_time": "2022-04-27T18:00:42.923Z"
   },
   {
    "duration": 1492,
    "start_time": "2022-04-27T18:06:07.401Z"
   },
   {
    "duration": 4,
    "start_time": "2022-04-27T18:06:08.895Z"
   },
   {
    "duration": 103,
    "start_time": "2022-04-27T18:06:08.900Z"
   },
   {
    "duration": 17,
    "start_time": "2022-04-27T18:06:09.004Z"
   },
   {
    "duration": 16,
    "start_time": "2022-04-27T18:06:09.024Z"
   },
   {
    "duration": 14,
    "start_time": "2022-04-27T18:06:09.042Z"
   },
   {
    "duration": 336,
    "start_time": "2022-04-27T18:06:09.058Z"
   },
   {
    "duration": 10,
    "start_time": "2022-04-27T18:06:09.395Z"
   },
   {
    "duration": 11,
    "start_time": "2022-04-27T18:06:09.407Z"
   },
   {
    "duration": 16,
    "start_time": "2022-04-27T18:06:09.420Z"
   },
   {
    "duration": 8,
    "start_time": "2022-04-27T18:06:09.438Z"
   },
   {
    "duration": 6,
    "start_time": "2022-04-27T18:06:09.450Z"
   },
   {
    "duration": 140,
    "start_time": "2022-04-27T18:06:09.458Z"
   },
   {
    "duration": 0,
    "start_time": "2022-04-27T18:06:09.601Z"
   },
   {
    "duration": 0,
    "start_time": "2022-04-27T18:06:09.611Z"
   },
   {
    "duration": 0,
    "start_time": "2022-04-27T18:06:09.615Z"
   },
   {
    "duration": 0,
    "start_time": "2022-04-27T18:06:09.617Z"
   },
   {
    "duration": 0,
    "start_time": "2022-04-27T18:06:09.619Z"
   },
   {
    "duration": 0,
    "start_time": "2022-04-27T18:06:09.620Z"
   },
   {
    "duration": 1,
    "start_time": "2022-04-27T18:06:09.622Z"
   },
   {
    "duration": 0,
    "start_time": "2022-04-27T18:06:09.624Z"
   },
   {
    "duration": 0,
    "start_time": "2022-04-27T18:06:09.625Z"
   },
   {
    "duration": 0,
    "start_time": "2022-04-27T18:06:09.626Z"
   },
   {
    "duration": 0,
    "start_time": "2022-04-27T18:06:09.627Z"
   },
   {
    "duration": 0,
    "start_time": "2022-04-27T18:06:09.628Z"
   },
   {
    "duration": 0,
    "start_time": "2022-04-27T18:06:09.629Z"
   },
   {
    "duration": 0,
    "start_time": "2022-04-27T18:06:09.630Z"
   },
   {
    "duration": 0,
    "start_time": "2022-04-27T18:06:09.631Z"
   },
   {
    "duration": 0,
    "start_time": "2022-04-27T18:06:09.632Z"
   },
   {
    "duration": 0,
    "start_time": "2022-04-27T18:06:09.633Z"
   },
   {
    "duration": 0,
    "start_time": "2022-04-27T18:06:09.634Z"
   },
   {
    "duration": 0,
    "start_time": "2022-04-27T18:06:09.636Z"
   },
   {
    "duration": 0,
    "start_time": "2022-04-27T18:06:09.637Z"
   },
   {
    "duration": 1254,
    "start_time": "2022-04-27T18:07:53.725Z"
   },
   {
    "duration": 4,
    "start_time": "2022-04-27T18:07:54.981Z"
   },
   {
    "duration": 36,
    "start_time": "2022-04-27T18:07:54.987Z"
   },
   {
    "duration": 12,
    "start_time": "2022-04-27T18:07:55.024Z"
   },
   {
    "duration": 13,
    "start_time": "2022-04-27T18:07:55.039Z"
   },
   {
    "duration": 13,
    "start_time": "2022-04-27T18:07:55.053Z"
   },
   {
    "duration": 63,
    "start_time": "2022-04-27T18:07:55.068Z"
   },
   {
    "duration": 8,
    "start_time": "2022-04-27T18:07:55.132Z"
   },
   {
    "duration": 8,
    "start_time": "2022-04-27T18:07:55.142Z"
   },
   {
    "duration": 16,
    "start_time": "2022-04-27T18:07:55.151Z"
   },
   {
    "duration": 7,
    "start_time": "2022-04-27T18:07:55.169Z"
   },
   {
    "duration": 5,
    "start_time": "2022-04-27T18:07:55.178Z"
   },
   {
    "duration": 11,
    "start_time": "2022-04-27T18:07:55.184Z"
   },
   {
    "duration": 197,
    "start_time": "2022-04-27T18:07:55.198Z"
   },
   {
    "duration": 150,
    "start_time": "2022-04-27T18:07:55.397Z"
   },
   {
    "duration": 12,
    "start_time": "2022-04-27T18:07:55.549Z"
   },
   {
    "duration": 302,
    "start_time": "2022-04-27T18:07:55.563Z"
   },
   {
    "duration": 197,
    "start_time": "2022-04-27T18:07:55.867Z"
   },
   {
    "duration": 295,
    "start_time": "2022-04-27T18:07:56.066Z"
   },
   {
    "duration": 5,
    "start_time": "2022-04-27T18:07:56.363Z"
   },
   {
    "duration": 11,
    "start_time": "2022-04-27T18:07:56.370Z"
   },
   {
    "duration": 6,
    "start_time": "2022-04-27T18:07:56.383Z"
   },
   {
    "duration": 340,
    "start_time": "2022-04-27T18:07:56.391Z"
   },
   {
    "duration": 0,
    "start_time": "2022-04-27T18:07:56.733Z"
   },
   {
    "duration": 0,
    "start_time": "2022-04-27T18:07:56.734Z"
   },
   {
    "duration": 0,
    "start_time": "2022-04-27T18:07:56.735Z"
   },
   {
    "duration": 0,
    "start_time": "2022-04-27T18:07:56.736Z"
   },
   {
    "duration": 0,
    "start_time": "2022-04-27T18:07:56.737Z"
   },
   {
    "duration": 0,
    "start_time": "2022-04-27T18:07:56.739Z"
   },
   {
    "duration": 0,
    "start_time": "2022-04-27T18:07:56.740Z"
   },
   {
    "duration": 0,
    "start_time": "2022-04-27T18:07:56.741Z"
   },
   {
    "duration": 0,
    "start_time": "2022-04-27T18:07:56.742Z"
   },
   {
    "duration": 0,
    "start_time": "2022-04-27T18:07:56.743Z"
   },
   {
    "duration": 219,
    "start_time": "2022-04-27T18:09:29.599Z"
   },
   {
    "duration": 5,
    "start_time": "2022-04-27T18:09:32.459Z"
   },
   {
    "duration": 216,
    "start_time": "2022-04-27T18:09:33.151Z"
   },
   {
    "duration": 205,
    "start_time": "2022-04-27T18:10:14.787Z"
   },
   {
    "duration": 1259,
    "start_time": "2022-04-27T18:10:22.182Z"
   },
   {
    "duration": 4,
    "start_time": "2022-04-27T18:10:23.443Z"
   },
   {
    "duration": 35,
    "start_time": "2022-04-27T18:10:23.448Z"
   },
   {
    "duration": 12,
    "start_time": "2022-04-27T18:10:23.485Z"
   },
   {
    "duration": 18,
    "start_time": "2022-04-27T18:10:23.498Z"
   },
   {
    "duration": 14,
    "start_time": "2022-04-27T18:10:23.518Z"
   },
   {
    "duration": 79,
    "start_time": "2022-04-27T18:10:23.533Z"
   },
   {
    "duration": 13,
    "start_time": "2022-04-27T18:10:23.614Z"
   },
   {
    "duration": 10,
    "start_time": "2022-04-27T18:10:23.629Z"
   },
   {
    "duration": 14,
    "start_time": "2022-04-27T18:10:23.642Z"
   },
   {
    "duration": 11,
    "start_time": "2022-04-27T18:10:23.658Z"
   },
   {
    "duration": 9,
    "start_time": "2022-04-27T18:10:23.670Z"
   },
   {
    "duration": 30,
    "start_time": "2022-04-27T18:10:23.681Z"
   },
   {
    "duration": 204,
    "start_time": "2022-04-27T18:10:23.715Z"
   },
   {
    "duration": 143,
    "start_time": "2022-04-27T18:10:23.921Z"
   },
   {
    "duration": 14,
    "start_time": "2022-04-27T18:10:24.065Z"
   },
   {
    "duration": 298,
    "start_time": "2022-04-27T18:10:24.081Z"
   },
   {
    "duration": 198,
    "start_time": "2022-04-27T18:10:24.381Z"
   },
   {
    "duration": 350,
    "start_time": "2022-04-27T18:10:24.581Z"
   },
   {
    "duration": 6,
    "start_time": "2022-04-27T18:10:24.933Z"
   },
   {
    "duration": 11,
    "start_time": "2022-04-27T18:10:24.941Z"
   },
   {
    "duration": 6,
    "start_time": "2022-04-27T18:10:24.954Z"
   },
   {
    "duration": 237,
    "start_time": "2022-04-27T18:10:24.962Z"
   },
   {
    "duration": 19,
    "start_time": "2022-04-27T18:10:25.201Z"
   },
   {
    "duration": 126,
    "start_time": "2022-04-27T18:10:25.222Z"
   },
   {
    "duration": 0,
    "start_time": "2022-04-27T18:10:25.351Z"
   },
   {
    "duration": 0,
    "start_time": "2022-04-27T18:10:25.352Z"
   },
   {
    "duration": 0,
    "start_time": "2022-04-27T18:10:25.353Z"
   },
   {
    "duration": 0,
    "start_time": "2022-04-27T18:10:25.355Z"
   },
   {
    "duration": 0,
    "start_time": "2022-04-27T18:10:25.356Z"
   },
   {
    "duration": 0,
    "start_time": "2022-04-27T18:10:25.357Z"
   },
   {
    "duration": 0,
    "start_time": "2022-04-27T18:10:25.358Z"
   },
   {
    "duration": 0,
    "start_time": "2022-04-27T18:10:25.359Z"
   },
   {
    "duration": 193,
    "start_time": "2022-04-27T18:11:10.588Z"
   },
   {
    "duration": 1262,
    "start_time": "2022-04-27T18:11:21.590Z"
   },
   {
    "duration": 4,
    "start_time": "2022-04-27T18:11:22.854Z"
   },
   {
    "duration": 35,
    "start_time": "2022-04-27T18:11:22.859Z"
   },
   {
    "duration": 11,
    "start_time": "2022-04-27T18:11:22.896Z"
   },
   {
    "duration": 12,
    "start_time": "2022-04-27T18:11:22.910Z"
   },
   {
    "duration": 12,
    "start_time": "2022-04-27T18:11:22.924Z"
   },
   {
    "duration": 58,
    "start_time": "2022-04-27T18:11:22.938Z"
   },
   {
    "duration": 8,
    "start_time": "2022-04-27T18:11:22.998Z"
   },
   {
    "duration": 9,
    "start_time": "2022-04-27T18:11:23.008Z"
   },
   {
    "duration": 15,
    "start_time": "2022-04-27T18:11:23.019Z"
   },
   {
    "duration": 6,
    "start_time": "2022-04-27T18:11:23.036Z"
   },
   {
    "duration": 5,
    "start_time": "2022-04-27T18:11:23.044Z"
   },
   {
    "duration": 13,
    "start_time": "2022-04-27T18:11:23.051Z"
   },
   {
    "duration": 211,
    "start_time": "2022-04-27T18:11:23.067Z"
   },
   {
    "duration": 156,
    "start_time": "2022-04-27T18:11:23.280Z"
   },
   {
    "duration": 12,
    "start_time": "2022-04-27T18:11:23.438Z"
   },
   {
    "duration": 298,
    "start_time": "2022-04-27T18:11:23.452Z"
   },
   {
    "duration": 195,
    "start_time": "2022-04-27T18:11:23.752Z"
   },
   {
    "duration": 268,
    "start_time": "2022-04-27T18:11:23.949Z"
   },
   {
    "duration": 6,
    "start_time": "2022-04-27T18:11:24.219Z"
   },
   {
    "duration": 10,
    "start_time": "2022-04-27T18:11:24.227Z"
   },
   {
    "duration": 5,
    "start_time": "2022-04-27T18:11:24.239Z"
   },
   {
    "duration": 206,
    "start_time": "2022-04-27T18:11:24.246Z"
   },
   {
    "duration": 9,
    "start_time": "2022-04-27T18:11:24.454Z"
   },
   {
    "duration": 125,
    "start_time": "2022-04-27T18:11:24.464Z"
   },
   {
    "duration": 0,
    "start_time": "2022-04-27T18:11:24.590Z"
   },
   {
    "duration": 0,
    "start_time": "2022-04-27T18:11:24.592Z"
   },
   {
    "duration": 0,
    "start_time": "2022-04-27T18:11:24.593Z"
   },
   {
    "duration": 0,
    "start_time": "2022-04-27T18:11:24.595Z"
   },
   {
    "duration": 0,
    "start_time": "2022-04-27T18:11:24.607Z"
   },
   {
    "duration": 0,
    "start_time": "2022-04-27T18:11:24.608Z"
   },
   {
    "duration": 0,
    "start_time": "2022-04-27T18:11:24.609Z"
   },
   {
    "duration": 0,
    "start_time": "2022-04-27T18:11:24.610Z"
   },
   {
    "duration": 15,
    "start_time": "2022-04-27T18:12:02.494Z"
   },
   {
    "duration": 1221,
    "start_time": "2022-04-27T18:12:13.355Z"
   },
   {
    "duration": 3,
    "start_time": "2022-04-27T18:12:14.578Z"
   },
   {
    "duration": 43,
    "start_time": "2022-04-27T18:12:14.583Z"
   },
   {
    "duration": 12,
    "start_time": "2022-04-27T18:12:14.628Z"
   },
   {
    "duration": 14,
    "start_time": "2022-04-27T18:12:14.642Z"
   },
   {
    "duration": 13,
    "start_time": "2022-04-27T18:12:14.657Z"
   },
   {
    "duration": 58,
    "start_time": "2022-04-27T18:12:14.672Z"
   },
   {
    "duration": 10,
    "start_time": "2022-04-27T18:12:14.733Z"
   },
   {
    "duration": 9,
    "start_time": "2022-04-27T18:12:14.745Z"
   },
   {
    "duration": 22,
    "start_time": "2022-04-27T18:12:14.756Z"
   },
   {
    "duration": 8,
    "start_time": "2022-04-27T18:12:14.780Z"
   },
   {
    "duration": 6,
    "start_time": "2022-04-27T18:12:14.790Z"
   },
   {
    "duration": 20,
    "start_time": "2022-04-27T18:12:14.798Z"
   },
   {
    "duration": 196,
    "start_time": "2022-04-27T18:12:14.822Z"
   },
   {
    "duration": 136,
    "start_time": "2022-04-27T18:12:15.020Z"
   },
   {
    "duration": 13,
    "start_time": "2022-04-27T18:12:15.158Z"
   },
   {
    "duration": 302,
    "start_time": "2022-04-27T18:12:15.173Z"
   },
   {
    "duration": 195,
    "start_time": "2022-04-27T18:12:15.477Z"
   },
   {
    "duration": 369,
    "start_time": "2022-04-27T18:12:15.674Z"
   },
   {
    "duration": 6,
    "start_time": "2022-04-27T18:12:16.045Z"
   },
   {
    "duration": 11,
    "start_time": "2022-04-27T18:12:16.053Z"
   },
   {
    "duration": 8,
    "start_time": "2022-04-27T18:12:16.066Z"
   },
   {
    "duration": 215,
    "start_time": "2022-04-27T18:12:16.076Z"
   },
   {
    "duration": 20,
    "start_time": "2022-04-27T18:12:16.293Z"
   },
   {
    "duration": 15,
    "start_time": "2022-04-27T18:12:16.315Z"
   },
   {
    "duration": 383,
    "start_time": "2022-04-27T18:12:16.331Z"
   },
   {
    "duration": 0,
    "start_time": "2022-04-27T18:12:16.716Z"
   },
   {
    "duration": 0,
    "start_time": "2022-04-27T18:12:16.718Z"
   },
   {
    "duration": 0,
    "start_time": "2022-04-27T18:12:16.719Z"
   },
   {
    "duration": 0,
    "start_time": "2022-04-27T18:12:16.721Z"
   },
   {
    "duration": 0,
    "start_time": "2022-04-27T18:12:16.721Z"
   },
   {
    "duration": 0,
    "start_time": "2022-04-27T18:12:16.722Z"
   },
   {
    "duration": 0,
    "start_time": "2022-04-27T18:12:16.723Z"
   },
   {
    "duration": 1185,
    "start_time": "2022-04-27T18:13:25.253Z"
   },
   {
    "duration": 3,
    "start_time": "2022-04-27T18:13:26.440Z"
   },
   {
    "duration": 32,
    "start_time": "2022-04-27T18:13:26.445Z"
   },
   {
    "duration": 11,
    "start_time": "2022-04-27T18:13:26.479Z"
   },
   {
    "duration": 13,
    "start_time": "2022-04-27T18:13:26.492Z"
   },
   {
    "duration": 12,
    "start_time": "2022-04-27T18:13:26.506Z"
   },
   {
    "duration": 74,
    "start_time": "2022-04-27T18:13:26.520Z"
   },
   {
    "duration": 8,
    "start_time": "2022-04-27T18:13:26.596Z"
   },
   {
    "duration": 8,
    "start_time": "2022-04-27T18:13:26.605Z"
   },
   {
    "duration": 16,
    "start_time": "2022-04-27T18:13:26.615Z"
   },
   {
    "duration": 7,
    "start_time": "2022-04-27T18:13:26.633Z"
   },
   {
    "duration": 6,
    "start_time": "2022-04-27T18:13:26.641Z"
   },
   {
    "duration": 15,
    "start_time": "2022-04-27T18:13:26.648Z"
   },
   {
    "duration": 191,
    "start_time": "2022-04-27T18:13:26.665Z"
   },
   {
    "duration": 135,
    "start_time": "2022-04-27T18:13:26.857Z"
   },
   {
    "duration": 17,
    "start_time": "2022-04-27T18:13:26.993Z"
   },
   {
    "duration": 282,
    "start_time": "2022-04-27T18:13:27.012Z"
   },
   {
    "duration": 199,
    "start_time": "2022-04-27T18:13:27.296Z"
   },
   {
    "duration": 300,
    "start_time": "2022-04-27T18:13:27.497Z"
   },
   {
    "duration": 6,
    "start_time": "2022-04-27T18:13:27.807Z"
   },
   {
    "duration": 15,
    "start_time": "2022-04-27T18:13:27.814Z"
   },
   {
    "duration": 6,
    "start_time": "2022-04-27T18:13:27.831Z"
   },
   {
    "duration": 210,
    "start_time": "2022-04-27T18:13:27.839Z"
   },
   {
    "duration": 9,
    "start_time": "2022-04-27T18:13:28.051Z"
   },
   {
    "duration": 20,
    "start_time": "2022-04-27T18:13:28.062Z"
   },
   {
    "duration": 448,
    "start_time": "2022-04-27T18:13:28.084Z"
   },
   {
    "duration": 0,
    "start_time": "2022-04-27T18:13:28.534Z"
   },
   {
    "duration": 0,
    "start_time": "2022-04-27T18:13:28.536Z"
   },
   {
    "duration": 0,
    "start_time": "2022-04-27T18:13:28.537Z"
   },
   {
    "duration": 0,
    "start_time": "2022-04-27T18:13:28.539Z"
   },
   {
    "duration": 0,
    "start_time": "2022-04-27T18:13:28.540Z"
   },
   {
    "duration": 0,
    "start_time": "2022-04-27T18:13:28.542Z"
   },
   {
    "duration": 0,
    "start_time": "2022-04-27T18:13:28.543Z"
   },
   {
    "duration": 1181,
    "start_time": "2022-04-27T18:13:50.142Z"
   },
   {
    "duration": 3,
    "start_time": "2022-04-27T18:13:51.325Z"
   },
   {
    "duration": 33,
    "start_time": "2022-04-27T18:13:51.330Z"
   },
   {
    "duration": 15,
    "start_time": "2022-04-27T18:13:51.365Z"
   },
   {
    "duration": 17,
    "start_time": "2022-04-27T18:13:51.382Z"
   },
   {
    "duration": 19,
    "start_time": "2022-04-27T18:13:51.401Z"
   },
   {
    "duration": 77,
    "start_time": "2022-04-27T18:13:51.421Z"
   },
   {
    "duration": 11,
    "start_time": "2022-04-27T18:13:51.500Z"
   },
   {
    "duration": 11,
    "start_time": "2022-04-27T18:13:51.514Z"
   },
   {
    "duration": 25,
    "start_time": "2022-04-27T18:13:51.529Z"
   },
   {
    "duration": 8,
    "start_time": "2022-04-27T18:13:51.557Z"
   },
   {
    "duration": 7,
    "start_time": "2022-04-27T18:13:51.568Z"
   },
   {
    "duration": 45,
    "start_time": "2022-04-27T18:13:51.577Z"
   },
   {
    "duration": 194,
    "start_time": "2022-04-27T18:13:51.624Z"
   },
   {
    "duration": 140,
    "start_time": "2022-04-27T18:13:51.820Z"
   },
   {
    "duration": 14,
    "start_time": "2022-04-27T18:13:51.962Z"
   },
   {
    "duration": 272,
    "start_time": "2022-04-27T18:13:51.977Z"
   },
   {
    "duration": 182,
    "start_time": "2022-04-27T18:13:52.251Z"
   },
   {
    "duration": 274,
    "start_time": "2022-04-27T18:13:52.435Z"
   },
   {
    "duration": 6,
    "start_time": "2022-04-27T18:13:52.711Z"
   },
   {
    "duration": 10,
    "start_time": "2022-04-27T18:13:52.719Z"
   },
   {
    "duration": 6,
    "start_time": "2022-04-27T18:13:52.731Z"
   },
   {
    "duration": 324,
    "start_time": "2022-04-27T18:13:52.738Z"
   },
   {
    "duration": 0,
    "start_time": "2022-04-27T18:13:53.065Z"
   },
   {
    "duration": 0,
    "start_time": "2022-04-27T18:13:53.066Z"
   },
   {
    "duration": 0,
    "start_time": "2022-04-27T18:13:53.067Z"
   },
   {
    "duration": 0,
    "start_time": "2022-04-27T18:13:53.068Z"
   },
   {
    "duration": 0,
    "start_time": "2022-04-27T18:13:53.070Z"
   },
   {
    "duration": 0,
    "start_time": "2022-04-27T18:13:53.071Z"
   },
   {
    "duration": 0,
    "start_time": "2022-04-27T18:13:53.072Z"
   },
   {
    "duration": 0,
    "start_time": "2022-04-27T18:13:53.073Z"
   },
   {
    "duration": 0,
    "start_time": "2022-04-27T18:13:53.074Z"
   },
   {
    "duration": 0,
    "start_time": "2022-04-27T18:13:53.075Z"
   },
   {
    "duration": 3,
    "start_time": "2022-04-27T18:15:30.890Z"
   },
   {
    "duration": 1374,
    "start_time": "2022-04-27T18:15:38.076Z"
   },
   {
    "duration": 2,
    "start_time": "2022-04-27T18:15:39.452Z"
   },
   {
    "duration": 48,
    "start_time": "2022-04-27T18:15:39.456Z"
   },
   {
    "duration": 12,
    "start_time": "2022-04-27T18:15:39.506Z"
   },
   {
    "duration": 13,
    "start_time": "2022-04-27T18:15:39.520Z"
   },
   {
    "duration": 13,
    "start_time": "2022-04-27T18:15:39.535Z"
   },
   {
    "duration": 113,
    "start_time": "2022-04-27T18:15:39.549Z"
   },
   {
    "duration": 9,
    "start_time": "2022-04-27T18:15:39.663Z"
   },
   {
    "duration": 8,
    "start_time": "2022-04-27T18:15:39.673Z"
   },
   {
    "duration": 16,
    "start_time": "2022-04-27T18:15:39.684Z"
   },
   {
    "duration": 8,
    "start_time": "2022-04-27T18:15:39.701Z"
   },
   {
    "duration": 6,
    "start_time": "2022-04-27T18:15:39.710Z"
   },
   {
    "duration": 11,
    "start_time": "2022-04-27T18:15:39.718Z"
   },
   {
    "duration": 197,
    "start_time": "2022-04-27T18:15:39.731Z"
   },
   {
    "duration": 150,
    "start_time": "2022-04-27T18:15:39.930Z"
   },
   {
    "duration": 30,
    "start_time": "2022-04-27T18:15:40.081Z"
   },
   {
    "duration": 278,
    "start_time": "2022-04-27T18:15:40.113Z"
   },
   {
    "duration": 185,
    "start_time": "2022-04-27T18:15:40.393Z"
   },
   {
    "duration": 333,
    "start_time": "2022-04-27T18:15:40.580Z"
   },
   {
    "duration": 6,
    "start_time": "2022-04-27T18:15:40.915Z"
   },
   {
    "duration": 13,
    "start_time": "2022-04-27T18:15:40.922Z"
   },
   {
    "duration": 12,
    "start_time": "2022-04-27T18:15:40.936Z"
   },
   {
    "duration": 207,
    "start_time": "2022-04-27T18:15:40.950Z"
   },
   {
    "duration": 10,
    "start_time": "2022-04-27T18:15:41.159Z"
   },
   {
    "duration": 13,
    "start_time": "2022-04-27T18:15:41.171Z"
   },
   {
    "duration": 417,
    "start_time": "2022-04-27T18:15:41.185Z"
   },
   {
    "duration": 0,
    "start_time": "2022-04-27T18:15:41.607Z"
   },
   {
    "duration": 0,
    "start_time": "2022-04-27T18:15:41.609Z"
   },
   {
    "duration": 0,
    "start_time": "2022-04-27T18:15:41.610Z"
   },
   {
    "duration": 0,
    "start_time": "2022-04-27T18:15:41.611Z"
   },
   {
    "duration": 0,
    "start_time": "2022-04-27T18:15:41.612Z"
   },
   {
    "duration": 0,
    "start_time": "2022-04-27T18:15:41.613Z"
   },
   {
    "duration": 0,
    "start_time": "2022-04-27T18:15:41.615Z"
   },
   {
    "duration": 1116,
    "start_time": "2022-04-27T18:18:25.150Z"
   },
   {
    "duration": 3,
    "start_time": "2022-04-27T18:18:26.268Z"
   },
   {
    "duration": 40,
    "start_time": "2022-04-27T18:18:26.272Z"
   },
   {
    "duration": 18,
    "start_time": "2022-04-27T18:18:26.315Z"
   },
   {
    "duration": 25,
    "start_time": "2022-04-27T18:18:26.336Z"
   },
   {
    "duration": 41,
    "start_time": "2022-04-27T18:18:26.363Z"
   },
   {
    "duration": 85,
    "start_time": "2022-04-27T18:18:26.406Z"
   },
   {
    "duration": 7,
    "start_time": "2022-04-27T18:18:26.493Z"
   },
   {
    "duration": 35,
    "start_time": "2022-04-27T18:18:26.502Z"
   },
   {
    "duration": 19,
    "start_time": "2022-04-27T18:18:26.540Z"
   },
   {
    "duration": 10,
    "start_time": "2022-04-27T18:18:26.560Z"
   },
   {
    "duration": 15,
    "start_time": "2022-04-27T18:18:26.571Z"
   },
   {
    "duration": 23,
    "start_time": "2022-04-27T18:18:26.588Z"
   },
   {
    "duration": 184,
    "start_time": "2022-04-27T18:18:26.613Z"
   },
   {
    "duration": 146,
    "start_time": "2022-04-27T18:18:26.799Z"
   },
   {
    "duration": 11,
    "start_time": "2022-04-27T18:18:26.947Z"
   },
   {
    "duration": 284,
    "start_time": "2022-04-27T18:18:26.960Z"
   },
   {
    "duration": 185,
    "start_time": "2022-04-27T18:18:27.245Z"
   },
   {
    "duration": 277,
    "start_time": "2022-04-27T18:18:27.432Z"
   },
   {
    "duration": 6,
    "start_time": "2022-04-27T18:18:27.711Z"
   },
   {
    "duration": 12,
    "start_time": "2022-04-27T18:18:27.718Z"
   },
   {
    "duration": 5,
    "start_time": "2022-04-27T18:18:27.732Z"
   },
   {
    "duration": 214,
    "start_time": "2022-04-27T18:18:27.738Z"
   },
   {
    "duration": 10,
    "start_time": "2022-04-27T18:18:27.954Z"
   },
   {
    "duration": 14,
    "start_time": "2022-04-27T18:18:27.966Z"
   },
   {
    "duration": 465,
    "start_time": "2022-04-27T18:18:27.982Z"
   },
   {
    "duration": 0,
    "start_time": "2022-04-27T18:18:28.449Z"
   },
   {
    "duration": 0,
    "start_time": "2022-04-27T18:18:28.451Z"
   },
   {
    "duration": 0,
    "start_time": "2022-04-27T18:18:28.453Z"
   },
   {
    "duration": 0,
    "start_time": "2022-04-27T18:18:28.455Z"
   },
   {
    "duration": 0,
    "start_time": "2022-04-27T18:18:28.456Z"
   },
   {
    "duration": 0,
    "start_time": "2022-04-27T18:18:28.457Z"
   },
   {
    "duration": 0,
    "start_time": "2022-04-27T18:18:28.459Z"
   },
   {
    "duration": 1320,
    "start_time": "2022-04-27T18:20:17.478Z"
   },
   {
    "duration": 8,
    "start_time": "2022-04-27T18:20:18.800Z"
   },
   {
    "duration": 32,
    "start_time": "2022-04-27T18:20:18.810Z"
   },
   {
    "duration": 14,
    "start_time": "2022-04-27T18:20:18.844Z"
   },
   {
    "duration": 15,
    "start_time": "2022-04-27T18:20:18.861Z"
   },
   {
    "duration": 14,
    "start_time": "2022-04-27T18:20:18.877Z"
   },
   {
    "duration": 75,
    "start_time": "2022-04-27T18:20:18.894Z"
   },
   {
    "duration": 10,
    "start_time": "2022-04-27T18:20:18.971Z"
   },
   {
    "duration": 10,
    "start_time": "2022-04-27T18:20:18.984Z"
   },
   {
    "duration": 24,
    "start_time": "2022-04-27T18:20:18.996Z"
   },
   {
    "duration": 10,
    "start_time": "2022-04-27T18:20:19.022Z"
   },
   {
    "duration": 8,
    "start_time": "2022-04-27T18:20:19.033Z"
   },
   {
    "duration": 12,
    "start_time": "2022-04-27T18:20:19.043Z"
   },
   {
    "duration": 216,
    "start_time": "2022-04-27T18:20:19.059Z"
   },
   {
    "duration": 162,
    "start_time": "2022-04-27T18:20:19.278Z"
   },
   {
    "duration": 17,
    "start_time": "2022-04-27T18:20:19.442Z"
   },
   {
    "duration": 319,
    "start_time": "2022-04-27T18:20:19.461Z"
   },
   {
    "duration": 203,
    "start_time": "2022-04-27T18:20:19.782Z"
   },
   {
    "duration": 330,
    "start_time": "2022-04-27T18:20:19.987Z"
   },
   {
    "duration": 6,
    "start_time": "2022-04-27T18:20:20.319Z"
   },
   {
    "duration": 30,
    "start_time": "2022-04-27T18:20:20.326Z"
   },
   {
    "duration": 8,
    "start_time": "2022-04-27T18:20:20.358Z"
   },
   {
    "duration": 311,
    "start_time": "2022-04-27T18:20:20.368Z"
   },
   {
    "duration": 0,
    "start_time": "2022-04-27T18:20:20.681Z"
   },
   {
    "duration": 0,
    "start_time": "2022-04-27T18:20:20.683Z"
   },
   {
    "duration": 0,
    "start_time": "2022-04-27T18:20:20.685Z"
   },
   {
    "duration": 0,
    "start_time": "2022-04-27T18:20:20.686Z"
   },
   {
    "duration": 0,
    "start_time": "2022-04-27T18:20:20.688Z"
   },
   {
    "duration": 0,
    "start_time": "2022-04-27T18:20:20.689Z"
   },
   {
    "duration": 0,
    "start_time": "2022-04-27T18:20:20.707Z"
   },
   {
    "duration": 0,
    "start_time": "2022-04-27T18:20:20.708Z"
   },
   {
    "duration": 0,
    "start_time": "2022-04-27T18:20:20.710Z"
   },
   {
    "duration": 0,
    "start_time": "2022-04-27T18:20:20.710Z"
   },
   {
    "duration": 8,
    "start_time": "2022-04-27T18:36:07.382Z"
   },
   {
    "duration": 1424,
    "start_time": "2022-04-27T18:37:48.465Z"
   },
   {
    "duration": 1411,
    "start_time": "2022-04-27T18:38:27.597Z"
   },
   {
    "duration": 9,
    "start_time": "2022-04-27T18:38:57.389Z"
   },
   {
    "duration": 10,
    "start_time": "2022-04-27T18:40:12.051Z"
   },
   {
    "duration": 11,
    "start_time": "2022-04-27T18:40:12.466Z"
   },
   {
    "duration": 50,
    "start_time": "2022-04-27T18:53:40.642Z"
   },
   {
    "duration": 3,
    "start_time": "2022-04-27T19:12:37.902Z"
   },
   {
    "duration": 72,
    "start_time": "2022-04-27T19:12:45.439Z"
   },
   {
    "duration": 11,
    "start_time": "2022-04-27T19:13:10.924Z"
   },
   {
    "duration": 51,
    "start_time": "2022-04-27T19:13:36.119Z"
   },
   {
    "duration": 9,
    "start_time": "2022-04-27T19:14:04.046Z"
   },
   {
    "duration": 1423,
    "start_time": "2022-04-27T19:16:12.765Z"
   },
   {
    "duration": 1467,
    "start_time": "2022-04-27T19:16:35.516Z"
   },
   {
    "duration": 9,
    "start_time": "2022-04-27T19:17:29.670Z"
   },
   {
    "duration": 89,
    "start_time": "2022-04-27T19:20:32.221Z"
   },
   {
    "duration": 15,
    "start_time": "2022-04-27T19:20:43.898Z"
   },
   {
    "duration": 14,
    "start_time": "2022-04-27T19:20:54.672Z"
   },
   {
    "duration": 14,
    "start_time": "2022-04-27T19:21:37.976Z"
   },
   {
    "duration": 17,
    "start_time": "2022-04-27T19:22:48.707Z"
   },
   {
    "duration": 14,
    "start_time": "2022-04-27T19:23:26.994Z"
   },
   {
    "duration": 81,
    "start_time": "2022-04-27T19:25:38.003Z"
   },
   {
    "duration": 14,
    "start_time": "2022-04-27T19:25:42.517Z"
   },
   {
    "duration": 13,
    "start_time": "2022-04-27T19:26:08.400Z"
   },
   {
    "duration": 6,
    "start_time": "2022-04-27T19:26:20.111Z"
   },
   {
    "duration": 67,
    "start_time": "2022-04-27T19:32:18.340Z"
   },
   {
    "duration": 56,
    "start_time": "2022-04-27T19:33:52.018Z"
   },
   {
    "duration": 10,
    "start_time": "2022-04-27T19:34:28.438Z"
   },
   {
    "duration": 11,
    "start_time": "2022-04-27T19:34:37.420Z"
   },
   {
    "duration": 17,
    "start_time": "2022-04-27T19:35:44.007Z"
   },
   {
    "duration": 64,
    "start_time": "2022-04-27T19:35:44.999Z"
   },
   {
    "duration": 35,
    "start_time": "2022-04-27T19:40:26.723Z"
   },
   {
    "duration": 3,
    "start_time": "2022-04-27T19:44:05.247Z"
   },
   {
    "duration": 4,
    "start_time": "2022-04-27T19:44:05.253Z"
   },
   {
    "duration": 64,
    "start_time": "2022-04-27T19:44:05.260Z"
   },
   {
    "duration": 11,
    "start_time": "2022-04-27T19:44:05.326Z"
   },
   {
    "duration": 13,
    "start_time": "2022-04-27T19:44:05.340Z"
   },
   {
    "duration": 12,
    "start_time": "2022-04-27T19:44:05.355Z"
   },
   {
    "duration": 136,
    "start_time": "2022-04-27T19:44:05.368Z"
   },
   {
    "duration": 8,
    "start_time": "2022-04-27T19:44:05.506Z"
   },
   {
    "duration": 9,
    "start_time": "2022-04-27T19:44:05.516Z"
   },
   {
    "duration": 15,
    "start_time": "2022-04-27T19:44:05.527Z"
   },
   {
    "duration": 6,
    "start_time": "2022-04-27T19:44:05.544Z"
   },
   {
    "duration": 7,
    "start_time": "2022-04-27T19:44:05.552Z"
   },
   {
    "duration": 12,
    "start_time": "2022-04-27T19:44:05.561Z"
   },
   {
    "duration": 202,
    "start_time": "2022-04-27T19:44:05.577Z"
   },
   {
    "duration": 154,
    "start_time": "2022-04-27T19:44:05.780Z"
   },
   {
    "duration": 14,
    "start_time": "2022-04-27T19:44:05.936Z"
   },
   {
    "duration": 218,
    "start_time": "2022-04-27T19:44:05.951Z"
   },
   {
    "duration": 194,
    "start_time": "2022-04-27T19:44:06.170Z"
   },
   {
    "duration": 283,
    "start_time": "2022-04-27T19:44:06.365Z"
   },
   {
    "duration": 6,
    "start_time": "2022-04-27T19:44:06.650Z"
   },
   {
    "duration": 12,
    "start_time": "2022-04-27T19:44:06.658Z"
   },
   {
    "duration": 6,
    "start_time": "2022-04-27T19:44:06.672Z"
   },
   {
    "duration": 312,
    "start_time": "2022-04-27T19:44:06.680Z"
   },
   {
    "duration": 0,
    "start_time": "2022-04-27T19:44:06.994Z"
   },
   {
    "duration": 0,
    "start_time": "2022-04-27T19:44:06.995Z"
   },
   {
    "duration": 0,
    "start_time": "2022-04-27T19:44:06.997Z"
   },
   {
    "duration": 0,
    "start_time": "2022-04-27T19:44:07.007Z"
   },
   {
    "duration": 1,
    "start_time": "2022-04-27T19:44:07.008Z"
   },
   {
    "duration": 0,
    "start_time": "2022-04-27T19:44:07.010Z"
   },
   {
    "duration": 0,
    "start_time": "2022-04-27T19:44:07.011Z"
   },
   {
    "duration": 0,
    "start_time": "2022-04-27T19:44:07.012Z"
   },
   {
    "duration": 0,
    "start_time": "2022-04-27T19:44:07.013Z"
   },
   {
    "duration": 0,
    "start_time": "2022-04-27T19:44:07.014Z"
   },
   {
    "duration": 0,
    "start_time": "2022-04-27T19:44:07.016Z"
   },
   {
    "duration": 0,
    "start_time": "2022-04-27T19:44:07.017Z"
   },
   {
    "duration": 0,
    "start_time": "2022-04-27T19:44:07.018Z"
   },
   {
    "duration": 0,
    "start_time": "2022-04-27T19:44:07.019Z"
   },
   {
    "duration": 0,
    "start_time": "2022-04-27T19:44:07.020Z"
   },
   {
    "duration": 0,
    "start_time": "2022-04-27T19:44:07.021Z"
   },
   {
    "duration": 0,
    "start_time": "2022-04-27T19:44:07.022Z"
   },
   {
    "duration": 0,
    "start_time": "2022-04-27T19:44:07.023Z"
   },
   {
    "duration": 0,
    "start_time": "2022-04-27T19:44:07.024Z"
   },
   {
    "duration": 0,
    "start_time": "2022-04-27T19:44:07.025Z"
   },
   {
    "duration": 0,
    "start_time": "2022-04-27T19:44:07.026Z"
   },
   {
    "duration": 0,
    "start_time": "2022-04-27T19:44:07.027Z"
   },
   {
    "duration": 3,
    "start_time": "2022-04-27T19:44:41.426Z"
   },
   {
    "duration": 6,
    "start_time": "2022-04-27T19:44:41.431Z"
   },
   {
    "duration": 30,
    "start_time": "2022-04-27T19:44:41.439Z"
   },
   {
    "duration": 9,
    "start_time": "2022-04-27T19:44:41.471Z"
   },
   {
    "duration": 12,
    "start_time": "2022-04-27T19:44:41.483Z"
   },
   {
    "duration": 16,
    "start_time": "2022-04-27T19:44:41.497Z"
   },
   {
    "duration": 60,
    "start_time": "2022-04-27T19:44:41.515Z"
   },
   {
    "duration": 9,
    "start_time": "2022-04-27T19:44:41.577Z"
   },
   {
    "duration": 8,
    "start_time": "2022-04-27T19:44:41.588Z"
   },
   {
    "duration": 14,
    "start_time": "2022-04-27T19:44:41.597Z"
   },
   {
    "duration": 5,
    "start_time": "2022-04-27T19:44:41.612Z"
   },
   {
    "duration": 5,
    "start_time": "2022-04-27T19:44:41.619Z"
   },
   {
    "duration": 12,
    "start_time": "2022-04-27T19:44:41.625Z"
   },
   {
    "duration": 187,
    "start_time": "2022-04-27T19:44:41.640Z"
   },
   {
    "duration": 135,
    "start_time": "2022-04-27T19:44:41.828Z"
   },
   {
    "duration": 12,
    "start_time": "2022-04-27T19:44:41.965Z"
   },
   {
    "duration": 200,
    "start_time": "2022-04-27T19:44:41.979Z"
   },
   {
    "duration": 190,
    "start_time": "2022-04-27T19:44:42.181Z"
   },
   {
    "duration": 311,
    "start_time": "2022-04-27T19:44:42.373Z"
   },
   {
    "duration": 6,
    "start_time": "2022-04-27T19:44:42.687Z"
   },
   {
    "duration": 17,
    "start_time": "2022-04-27T19:44:42.695Z"
   },
   {
    "duration": 6,
    "start_time": "2022-04-27T19:44:42.714Z"
   },
   {
    "duration": 215,
    "start_time": "2022-04-27T19:44:42.722Z"
   },
   {
    "duration": 10,
    "start_time": "2022-04-27T19:44:42.939Z"
   },
   {
    "duration": 14,
    "start_time": "2022-04-27T19:44:42.950Z"
   },
   {
    "duration": 348,
    "start_time": "2022-04-27T19:44:42.965Z"
   },
   {
    "duration": 0,
    "start_time": "2022-04-27T19:44:43.315Z"
   },
   {
    "duration": 0,
    "start_time": "2022-04-27T19:44:43.317Z"
   },
   {
    "duration": 0,
    "start_time": "2022-04-27T19:44:43.318Z"
   },
   {
    "duration": 0,
    "start_time": "2022-04-27T19:44:43.319Z"
   },
   {
    "duration": 0,
    "start_time": "2022-04-27T19:44:43.320Z"
   },
   {
    "duration": 0,
    "start_time": "2022-04-27T19:44:43.321Z"
   },
   {
    "duration": 0,
    "start_time": "2022-04-27T19:44:43.322Z"
   },
   {
    "duration": 0,
    "start_time": "2022-04-27T19:44:43.324Z"
   },
   {
    "duration": 0,
    "start_time": "2022-04-27T19:44:43.325Z"
   },
   {
    "duration": 0,
    "start_time": "2022-04-27T19:44:43.326Z"
   },
   {
    "duration": 0,
    "start_time": "2022-04-27T19:44:43.327Z"
   },
   {
    "duration": 0,
    "start_time": "2022-04-27T19:44:43.329Z"
   },
   {
    "duration": 0,
    "start_time": "2022-04-27T19:44:43.330Z"
   },
   {
    "duration": 0,
    "start_time": "2022-04-27T19:44:43.331Z"
   },
   {
    "duration": 0,
    "start_time": "2022-04-27T19:44:43.333Z"
   },
   {
    "duration": 0,
    "start_time": "2022-04-27T19:44:43.334Z"
   },
   {
    "duration": 0,
    "start_time": "2022-04-27T19:44:43.335Z"
   },
   {
    "duration": 0,
    "start_time": "2022-04-27T19:44:43.336Z"
   },
   {
    "duration": 0,
    "start_time": "2022-04-27T19:44:43.337Z"
   },
   {
    "duration": 256,
    "start_time": "2022-04-27T19:45:46.227Z"
   },
   {
    "duration": 279,
    "start_time": "2022-04-27T19:46:36.606Z"
   },
   {
    "duration": 4,
    "start_time": "2022-04-27T19:46:43.754Z"
   },
   {
    "duration": 5,
    "start_time": "2022-04-27T19:46:43.760Z"
   },
   {
    "duration": 35,
    "start_time": "2022-04-27T19:46:43.766Z"
   },
   {
    "duration": 8,
    "start_time": "2022-04-27T19:46:43.803Z"
   },
   {
    "duration": 13,
    "start_time": "2022-04-27T19:46:43.813Z"
   },
   {
    "duration": 16,
    "start_time": "2022-04-27T19:46:43.828Z"
   },
   {
    "duration": 61,
    "start_time": "2022-04-27T19:46:43.846Z"
   },
   {
    "duration": 10,
    "start_time": "2022-04-27T19:46:43.909Z"
   },
   {
    "duration": 9,
    "start_time": "2022-04-27T19:46:43.922Z"
   },
   {
    "duration": 14,
    "start_time": "2022-04-27T19:46:43.933Z"
   },
   {
    "duration": 6,
    "start_time": "2022-04-27T19:46:43.949Z"
   },
   {
    "duration": 5,
    "start_time": "2022-04-27T19:46:43.956Z"
   },
   {
    "duration": 50,
    "start_time": "2022-04-27T19:46:43.962Z"
   },
   {
    "duration": 186,
    "start_time": "2022-04-27T19:46:44.014Z"
   },
   {
    "duration": 168,
    "start_time": "2022-04-27T19:46:44.201Z"
   },
   {
    "duration": 15,
    "start_time": "2022-04-27T19:46:44.371Z"
   },
   {
    "duration": 196,
    "start_time": "2022-04-27T19:46:44.388Z"
   },
   {
    "duration": 195,
    "start_time": "2022-04-27T19:46:44.586Z"
   },
   {
    "duration": 378,
    "start_time": "2022-04-27T19:46:44.783Z"
   },
   {
    "duration": 6,
    "start_time": "2022-04-27T19:46:45.163Z"
   },
   {
    "duration": 12,
    "start_time": "2022-04-27T19:46:45.170Z"
   },
   {
    "duration": 24,
    "start_time": "2022-04-27T19:46:45.184Z"
   },
   {
    "duration": 211,
    "start_time": "2022-04-27T19:46:45.209Z"
   },
   {
    "duration": 9,
    "start_time": "2022-04-27T19:46:45.423Z"
   },
   {
    "duration": 13,
    "start_time": "2022-04-27T19:46:45.434Z"
   },
   {
    "duration": 279,
    "start_time": "2022-04-27T19:46:45.448Z"
   },
   {
    "duration": 9,
    "start_time": "2022-04-27T19:46:45.728Z"
   },
   {
    "duration": 13,
    "start_time": "2022-04-27T19:46:45.738Z"
   },
   {
    "duration": 124,
    "start_time": "2022-04-27T19:46:45.752Z"
   },
   {
    "duration": 5,
    "start_time": "2022-04-27T19:46:45.877Z"
   },
   {
    "duration": 25,
    "start_time": "2022-04-27T19:46:45.883Z"
   },
   {
    "duration": 138,
    "start_time": "2022-04-27T19:46:45.910Z"
   },
   {
    "duration": 6,
    "start_time": "2022-04-27T19:46:46.050Z"
   },
   {
    "duration": 9,
    "start_time": "2022-04-27T19:46:46.057Z"
   },
   {
    "duration": 10,
    "start_time": "2022-04-27T19:46:46.067Z"
   },
   {
    "duration": 80,
    "start_time": "2022-04-27T19:46:46.078Z"
   },
   {
    "duration": 66,
    "start_time": "2022-04-27T19:46:46.160Z"
   },
   {
    "duration": 11,
    "start_time": "2022-04-27T19:46:46.228Z"
   },
   {
    "duration": 48,
    "start_time": "2022-04-27T19:46:46.241Z"
   },
   {
    "duration": 8,
    "start_time": "2022-04-27T19:46:46.307Z"
   },
   {
    "duration": 13,
    "start_time": "2022-04-27T19:46:46.317Z"
   },
   {
    "duration": 79,
    "start_time": "2022-04-27T19:46:46.332Z"
   },
   {
    "duration": 13,
    "start_time": "2022-04-27T19:46:46.412Z"
   },
   {
    "duration": 54,
    "start_time": "2022-04-27T19:46:46.426Z"
   },
   {
    "duration": 49,
    "start_time": "2022-04-27T19:46:46.483Z"
   },
   {
    "duration": 11,
    "start_time": "2022-04-27T19:50:26.252Z"
   },
   {
    "duration": 15,
    "start_time": "2022-04-27T19:52:51.001Z"
   },
   {
    "duration": 15,
    "start_time": "2022-04-27T19:53:27.580Z"
   },
   {
    "duration": 15,
    "start_time": "2022-04-27T19:54:06.202Z"
   },
   {
    "duration": 7,
    "start_time": "2022-04-27T19:59:47.064Z"
   },
   {
    "duration": 7,
    "start_time": "2022-04-27T20:00:25.619Z"
   },
   {
    "duration": 12,
    "start_time": "2022-04-27T20:04:05.937Z"
   },
   {
    "duration": 24,
    "start_time": "2022-04-27T20:04:15.157Z"
   },
   {
    "duration": 23,
    "start_time": "2022-04-27T20:05:15.362Z"
   },
   {
    "duration": 23,
    "start_time": "2022-04-27T20:05:59.661Z"
   },
   {
    "duration": 26,
    "start_time": "2022-04-27T20:11:48.566Z"
   },
   {
    "duration": 8,
    "start_time": "2022-04-27T20:20:54.482Z"
   },
   {
    "duration": 11,
    "start_time": "2022-04-27T20:22:54.264Z"
   },
   {
    "duration": 11,
    "start_time": "2022-04-27T20:23:07.932Z"
   },
   {
    "duration": 24,
    "start_time": "2022-04-27T20:34:45.806Z"
   },
   {
    "duration": 11,
    "start_time": "2022-04-27T20:34:57.868Z"
   },
   {
    "duration": 1904,
    "start_time": "2022-04-28T09:22:45.956Z"
   },
   {
    "duration": 5,
    "start_time": "2022-04-28T09:22:47.863Z"
   },
   {
    "duration": 139,
    "start_time": "2022-04-28T09:22:47.882Z"
   },
   {
    "duration": 16,
    "start_time": "2022-04-28T09:22:48.025Z"
   },
   {
    "duration": 20,
    "start_time": "2022-04-28T09:22:48.044Z"
   },
   {
    "duration": 18,
    "start_time": "2022-04-28T09:22:48.066Z"
   },
   {
    "duration": 188,
    "start_time": "2022-04-28T09:22:48.087Z"
   },
   {
    "duration": 11,
    "start_time": "2022-04-28T09:22:48.278Z"
   },
   {
    "duration": 11,
    "start_time": "2022-04-28T09:22:48.291Z"
   },
   {
    "duration": 22,
    "start_time": "2022-04-28T09:22:48.306Z"
   },
   {
    "duration": 10,
    "start_time": "2022-04-28T09:22:48.330Z"
   },
   {
    "duration": 10,
    "start_time": "2022-04-28T09:22:48.342Z"
   },
   {
    "duration": 19,
    "start_time": "2022-04-28T09:22:48.382Z"
   },
   {
    "duration": 424,
    "start_time": "2022-04-28T09:22:48.405Z"
   },
   {
    "duration": 313,
    "start_time": "2022-04-28T09:22:48.832Z"
   },
   {
    "duration": 47,
    "start_time": "2022-04-28T09:22:49.149Z"
   },
   {
    "duration": 426,
    "start_time": "2022-04-28T09:22:49.198Z"
   },
   {
    "duration": 344,
    "start_time": "2022-04-28T09:22:49.626Z"
   },
   {
    "duration": 415,
    "start_time": "2022-04-28T09:22:49.972Z"
   },
   {
    "duration": 9,
    "start_time": "2022-04-28T09:22:50.389Z"
   },
   {
    "duration": 16,
    "start_time": "2022-04-28T09:22:50.401Z"
   },
   {
    "duration": 11,
    "start_time": "2022-04-28T09:22:50.420Z"
   },
   {
    "duration": 318,
    "start_time": "2022-04-28T09:22:50.434Z"
   },
   {
    "duration": 26,
    "start_time": "2022-04-28T09:22:50.756Z"
   },
   {
    "duration": 21,
    "start_time": "2022-04-28T09:22:50.785Z"
   },
   {
    "duration": 364,
    "start_time": "2022-04-28T09:22:50.809Z"
   },
   {
    "duration": 17,
    "start_time": "2022-04-28T09:22:51.175Z"
   },
   {
    "duration": 25,
    "start_time": "2022-04-28T09:22:51.198Z"
   },
   {
    "duration": 206,
    "start_time": "2022-04-28T09:22:51.226Z"
   },
   {
    "duration": 8,
    "start_time": "2022-04-28T09:22:51.435Z"
   },
   {
    "duration": 20,
    "start_time": "2022-04-28T09:22:51.445Z"
   },
   {
    "duration": 203,
    "start_time": "2022-04-28T09:22:51.481Z"
   },
   {
    "duration": 6,
    "start_time": "2022-04-28T09:22:51.686Z"
   },
   {
    "duration": 14,
    "start_time": "2022-04-28T09:22:51.694Z"
   },
   {
    "duration": 16,
    "start_time": "2022-04-28T09:22:51.711Z"
   },
   {
    "duration": 131,
    "start_time": "2022-04-28T09:22:51.730Z"
   },
   {
    "duration": 128,
    "start_time": "2022-04-28T09:22:51.864Z"
   },
   {
    "duration": 17,
    "start_time": "2022-04-28T09:22:51.995Z"
   },
   {
    "duration": 136,
    "start_time": "2022-04-28T09:22:52.014Z"
   },
   {
    "duration": 31,
    "start_time": "2022-04-28T09:22:52.153Z"
   },
   {
    "duration": 27,
    "start_time": "2022-04-28T09:22:52.187Z"
   },
   {
    "duration": 144,
    "start_time": "2022-04-28T09:22:52.217Z"
   },
   {
    "duration": 39,
    "start_time": "2022-04-28T09:22:52.364Z"
   },
   {
    "duration": 136,
    "start_time": "2022-04-28T09:22:52.405Z"
   },
   {
    "duration": 88,
    "start_time": "2022-04-28T09:22:52.543Z"
   },
   {
    "duration": 21,
    "start_time": "2022-04-28T09:22:52.633Z"
   },
   {
    "duration": 38,
    "start_time": "2022-04-28T09:22:52.657Z"
   },
   {
    "duration": 13,
    "start_time": "2022-04-28T09:22:52.697Z"
   },
   {
    "duration": 16,
    "start_time": "2022-04-28T09:22:52.712Z"
   },
   {
    "duration": 81,
    "start_time": "2022-04-28T09:22:52.731Z"
   },
   {
    "duration": 19,
    "start_time": "2022-04-28T09:22:52.814Z"
   },
   {
    "duration": 16,
    "start_time": "2022-04-28T09:22:52.835Z"
   },
   {
    "duration": 29,
    "start_time": "2022-04-28T09:22:52.853Z"
   },
   {
    "duration": 9,
    "start_time": "2022-04-28T09:41:01.505Z"
   },
   {
    "duration": 12,
    "start_time": "2022-04-28T09:45:49.787Z"
   },
   {
    "duration": 17,
    "start_time": "2022-04-28T09:47:22.145Z"
   },
   {
    "duration": 8,
    "start_time": "2022-04-28T09:47:46.587Z"
   },
   {
    "duration": 20,
    "start_time": "2022-04-28T09:50:28.699Z"
   },
   {
    "duration": 1750,
    "start_time": "2022-04-28T09:51:00.031Z"
   },
   {
    "duration": 0,
    "start_time": "2022-04-28T09:51:01.784Z"
   },
   {
    "duration": 0,
    "start_time": "2022-04-28T09:51:01.785Z"
   },
   {
    "duration": 9,
    "start_time": "2022-04-28T09:51:24.117Z"
   },
   {
    "duration": 10,
    "start_time": "2022-04-28T09:51:32.695Z"
   },
   {
    "duration": 1570,
    "start_time": "2022-04-28T09:51:49.018Z"
   },
   {
    "duration": 11,
    "start_time": "2022-04-28T09:53:20.460Z"
   },
   {
    "duration": 9,
    "start_time": "2022-04-28T09:53:22.233Z"
   },
   {
    "duration": 8,
    "start_time": "2022-04-28T09:53:23.298Z"
   },
   {
    "duration": 9,
    "start_time": "2022-04-28T09:53:53.736Z"
   },
   {
    "duration": 9,
    "start_time": "2022-04-28T09:54:04.761Z"
   },
   {
    "duration": 8,
    "start_time": "2022-04-28T09:54:53.365Z"
   },
   {
    "duration": 8,
    "start_time": "2022-04-28T09:55:08.065Z"
   },
   {
    "duration": 17,
    "start_time": "2022-04-28T09:55:14.466Z"
   },
   {
    "duration": 8,
    "start_time": "2022-04-28T09:55:19.796Z"
   },
   {
    "duration": 8,
    "start_time": "2022-04-28T09:55:29.168Z"
   },
   {
    "duration": 8,
    "start_time": "2022-04-28T09:55:54.899Z"
   },
   {
    "duration": 9,
    "start_time": "2022-04-28T10:01:06.424Z"
   },
   {
    "duration": 17,
    "start_time": "2022-04-28T10:04:16.261Z"
   },
   {
    "duration": 11,
    "start_time": "2022-04-28T10:06:01.315Z"
   },
   {
    "duration": 202,
    "start_time": "2022-04-28T10:08:02.038Z"
   },
   {
    "duration": 186,
    "start_time": "2022-04-28T10:08:15.215Z"
   },
   {
    "duration": 143,
    "start_time": "2022-04-28T10:08:34.905Z"
   },
   {
    "duration": 14,
    "start_time": "2022-04-28T10:08:46.584Z"
   },
   {
    "duration": 192,
    "start_time": "2022-04-28T10:08:55.729Z"
   },
   {
    "duration": 12,
    "start_time": "2022-04-28T10:09:00.768Z"
   },
   {
    "duration": 12,
    "start_time": "2022-04-28T10:09:00.996Z"
   },
   {
    "duration": 12,
    "start_time": "2022-04-28T10:10:47.989Z"
   },
   {
    "duration": 52,
    "start_time": "2022-04-28T10:10:55.509Z"
   },
   {
    "duration": 48,
    "start_time": "2022-04-28T10:11:04.835Z"
   },
   {
    "duration": 31,
    "start_time": "2022-04-28T10:11:44.652Z"
   },
   {
    "duration": 28,
    "start_time": "2022-04-28T10:12:50.387Z"
   },
   {
    "duration": 4,
    "start_time": "2022-04-28T10:14:25.697Z"
   },
   {
    "duration": 30,
    "start_time": "2022-04-28T10:14:39.433Z"
   },
   {
    "duration": 32,
    "start_time": "2022-04-28T10:16:24.743Z"
   },
   {
    "duration": 30,
    "start_time": "2022-04-28T10:17:03.729Z"
   },
   {
    "duration": 31,
    "start_time": "2022-04-28T10:17:29.617Z"
   },
   {
    "duration": 13,
    "start_time": "2022-04-28T10:31:49.641Z"
   },
   {
    "duration": 17,
    "start_time": "2022-04-28T10:38:43.389Z"
   },
   {
    "duration": 15,
    "start_time": "2022-04-28T10:38:58.764Z"
   },
   {
    "duration": 13,
    "start_time": "2022-04-28T10:39:10.850Z"
   },
   {
    "duration": 13,
    "start_time": "2022-04-28T10:40:31.421Z"
   },
   {
    "duration": 17,
    "start_time": "2022-04-28T10:40:39.250Z"
   },
   {
    "duration": 16,
    "start_time": "2022-04-28T10:44:17.940Z"
   },
   {
    "duration": 23,
    "start_time": "2022-04-28T10:47:04.676Z"
   },
   {
    "duration": 20,
    "start_time": "2022-04-28T10:49:03.486Z"
   },
   {
    "duration": 159,
    "start_time": "2022-04-28T11:24:31.915Z"
   },
   {
    "duration": 165,
    "start_time": "2022-04-28T11:24:32.194Z"
   },
   {
    "duration": 531,
    "start_time": "2022-04-28T11:34:29.256Z"
   },
   {
    "duration": 422,
    "start_time": "2022-04-28T11:34:59.944Z"
   },
   {
    "duration": 393,
    "start_time": "2022-04-28T11:40:18.343Z"
   },
   {
    "duration": 351,
    "start_time": "2022-04-28T11:40:29.923Z"
   },
   {
    "duration": 362,
    "start_time": "2022-04-28T11:42:57.009Z"
   },
   {
    "duration": 6,
    "start_time": "2022-04-28T11:43:06.344Z"
   },
   {
    "duration": 5,
    "start_time": "2022-04-28T11:43:11.280Z"
   },
   {
    "duration": 359,
    "start_time": "2022-04-28T11:43:49.910Z"
   },
   {
    "duration": 5,
    "start_time": "2022-04-28T11:44:00.457Z"
   },
   {
    "duration": 12,
    "start_time": "2022-04-28T11:44:05.695Z"
   },
   {
    "duration": 6,
    "start_time": "2022-04-28T11:44:18.080Z"
   },
   {
    "duration": 4,
    "start_time": "2022-04-28T11:44:22.965Z"
   },
   {
    "duration": 4,
    "start_time": "2022-04-28T11:44:27.193Z"
   },
   {
    "duration": 4,
    "start_time": "2022-04-28T11:44:31.045Z"
   },
   {
    "duration": 4,
    "start_time": "2022-04-28T11:44:34.879Z"
   },
   {
    "duration": 388,
    "start_time": "2022-04-28T11:50:40.140Z"
   },
   {
    "duration": 13,
    "start_time": "2022-04-28T11:54:02.009Z"
   },
   {
    "duration": 162,
    "start_time": "2022-04-28T11:54:06.373Z"
   },
   {
    "duration": 6,
    "start_time": "2022-04-28T11:54:09.225Z"
   },
   {
    "duration": 1666,
    "start_time": "2022-04-28T11:54:26.140Z"
   },
   {
    "duration": 4,
    "start_time": "2022-04-28T11:54:27.809Z"
   },
   {
    "duration": 108,
    "start_time": "2022-04-28T11:54:27.815Z"
   },
   {
    "duration": 18,
    "start_time": "2022-04-28T11:54:27.925Z"
   },
   {
    "duration": 19,
    "start_time": "2022-04-28T11:54:27.946Z"
   },
   {
    "duration": 20,
    "start_time": "2022-04-28T11:54:27.967Z"
   },
   {
    "duration": 217,
    "start_time": "2022-04-28T11:54:27.992Z"
   },
   {
    "duration": 12,
    "start_time": "2022-04-28T11:54:28.211Z"
   },
   {
    "duration": 22,
    "start_time": "2022-04-28T11:54:28.225Z"
   },
   {
    "duration": 23,
    "start_time": "2022-04-28T11:54:28.249Z"
   },
   {
    "duration": 10,
    "start_time": "2022-04-28T11:54:28.274Z"
   },
   {
    "duration": 20,
    "start_time": "2022-04-28T11:54:28.289Z"
   },
   {
    "duration": 15,
    "start_time": "2022-04-28T11:54:28.312Z"
   },
   {
    "duration": 393,
    "start_time": "2022-04-28T11:54:28.332Z"
   },
   {
    "duration": 396,
    "start_time": "2022-04-28T11:54:28.727Z"
   },
   {
    "duration": 70,
    "start_time": "2022-04-28T11:54:29.125Z"
   },
   {
    "duration": 492,
    "start_time": "2022-04-28T11:54:29.198Z"
   },
   {
    "duration": 313,
    "start_time": "2022-04-28T11:54:29.694Z"
   },
   {
    "duration": 380,
    "start_time": "2022-04-28T11:54:30.009Z"
   },
   {
    "duration": 11,
    "start_time": "2022-04-28T11:54:30.393Z"
   },
   {
    "duration": 36,
    "start_time": "2022-04-28T11:54:30.407Z"
   },
   {
    "duration": 35,
    "start_time": "2022-04-28T11:54:30.445Z"
   },
   {
    "duration": 361,
    "start_time": "2022-04-28T11:54:30.483Z"
   },
   {
    "duration": 13,
    "start_time": "2022-04-28T11:54:30.847Z"
   },
   {
    "duration": 39,
    "start_time": "2022-04-28T11:54:30.863Z"
   },
   {
    "duration": 411,
    "start_time": "2022-04-28T11:54:30.906Z"
   },
   {
    "duration": 14,
    "start_time": "2022-04-28T11:54:31.321Z"
   },
   {
    "duration": 57,
    "start_time": "2022-04-28T11:54:31.338Z"
   },
   {
    "duration": 197,
    "start_time": "2022-04-28T11:54:31.398Z"
   },
   {
    "duration": 9,
    "start_time": "2022-04-28T11:54:31.598Z"
   },
   {
    "duration": 26,
    "start_time": "2022-04-28T11:54:31.610Z"
   },
   {
    "duration": 246,
    "start_time": "2022-04-28T11:54:31.638Z"
   },
   {
    "duration": 7,
    "start_time": "2022-04-28T11:54:31.886Z"
   },
   {
    "duration": 28,
    "start_time": "2022-04-28T11:54:31.895Z"
   },
   {
    "duration": 21,
    "start_time": "2022-04-28T11:54:31.925Z"
   },
   {
    "duration": 100,
    "start_time": "2022-04-28T11:54:31.949Z"
   },
   {
    "duration": 89,
    "start_time": "2022-04-28T11:54:32.051Z"
   },
   {
    "duration": 16,
    "start_time": "2022-04-28T11:54:32.143Z"
   },
   {
    "duration": 77,
    "start_time": "2022-04-28T11:54:32.183Z"
   },
   {
    "duration": 13,
    "start_time": "2022-04-28T11:54:32.283Z"
   },
   {
    "duration": 19,
    "start_time": "2022-04-28T11:54:32.303Z"
   },
   {
    "duration": 122,
    "start_time": "2022-04-28T11:54:32.325Z"
   },
   {
    "duration": 41,
    "start_time": "2022-04-28T11:54:32.449Z"
   },
   {
    "duration": 102,
    "start_time": "2022-04-28T11:54:32.492Z"
   },
   {
    "duration": 53,
    "start_time": "2022-04-28T11:54:32.596Z"
   },
   {
    "duration": 41,
    "start_time": "2022-04-28T11:54:32.651Z"
   },
   {
    "duration": 16,
    "start_time": "2022-04-28T11:54:32.693Z"
   },
   {
    "duration": 11,
    "start_time": "2022-04-28T11:54:32.711Z"
   },
   {
    "duration": 9,
    "start_time": "2022-04-28T11:54:32.724Z"
   },
   {
    "duration": 75,
    "start_time": "2022-04-28T11:54:32.736Z"
   },
   {
    "duration": 15,
    "start_time": "2022-04-28T11:54:32.813Z"
   },
   {
    "duration": 9,
    "start_time": "2022-04-28T11:54:32.830Z"
   },
   {
    "duration": 14,
    "start_time": "2022-04-28T11:54:32.881Z"
   },
   {
    "duration": 11,
    "start_time": "2022-04-28T11:54:32.898Z"
   },
   {
    "duration": 9,
    "start_time": "2022-04-28T11:54:32.912Z"
   },
   {
    "duration": 71,
    "start_time": "2022-04-28T11:54:32.924Z"
   },
   {
    "duration": 12,
    "start_time": "2022-04-28T11:54:32.997Z"
   },
   {
    "duration": 33,
    "start_time": "2022-04-28T11:54:33.011Z"
   },
   {
    "duration": 13,
    "start_time": "2022-04-28T11:54:33.082Z"
   },
   {
    "duration": 21,
    "start_time": "2022-04-28T11:54:33.097Z"
   },
   {
    "duration": 4,
    "start_time": "2022-04-28T11:54:33.121Z"
   },
   {
    "duration": 135,
    "start_time": "2022-04-28T11:54:33.127Z"
   },
   {
    "duration": 0,
    "start_time": "2022-04-28T11:54:33.264Z"
   },
   {
    "duration": 0,
    "start_time": "2022-04-28T11:54:33.265Z"
   },
   {
    "duration": 508,
    "start_time": "2022-04-28T11:54:46.128Z"
   },
   {
    "duration": 682,
    "start_time": "2022-04-28T11:57:46.311Z"
   },
   {
    "duration": 525,
    "start_time": "2022-04-28T11:57:56.441Z"
   },
   {
    "duration": 646,
    "start_time": "2022-04-28T11:58:59.263Z"
   },
   {
    "duration": 638,
    "start_time": "2022-04-28T12:03:53.436Z"
   },
   {
    "duration": 587,
    "start_time": "2022-04-28T12:03:55.718Z"
   },
   {
    "duration": 638,
    "start_time": "2022-04-28T12:04:04.761Z"
   },
   {
    "duration": 1671,
    "start_time": "2022-04-28T12:04:22.632Z"
   },
   {
    "duration": 757,
    "start_time": "2022-04-28T12:04:38.515Z"
   },
   {
    "duration": 711,
    "start_time": "2022-04-28T12:04:51.612Z"
   },
   {
    "duration": 596,
    "start_time": "2022-04-28T12:05:12.204Z"
   },
   {
    "duration": 608,
    "start_time": "2022-04-28T12:05:22.489Z"
   },
   {
    "duration": 579,
    "start_time": "2022-04-28T12:05:23.321Z"
   },
   {
    "duration": 1061,
    "start_time": "2022-04-28T12:05:29.851Z"
   },
   {
    "duration": 1893,
    "start_time": "2022-04-28T12:05:30.976Z"
   },
   {
    "duration": 393,
    "start_time": "2022-04-28T12:05:47.011Z"
   },
   {
    "duration": 625,
    "start_time": "2022-04-28T12:05:53.386Z"
   },
   {
    "duration": 585,
    "start_time": "2022-04-28T12:08:38.001Z"
   },
   {
    "duration": 359,
    "start_time": "2022-04-28T12:11:19.529Z"
   },
   {
    "duration": 2476,
    "start_time": "2022-04-28T13:56:48.770Z"
   },
   {
    "duration": 4,
    "start_time": "2022-04-28T13:56:51.249Z"
   },
   {
    "duration": 949,
    "start_time": "2022-04-28T13:56:51.255Z"
   },
   {
    "duration": 17,
    "start_time": "2022-04-28T13:56:52.207Z"
   },
   {
    "duration": 20,
    "start_time": "2022-04-28T13:56:52.226Z"
   },
   {
    "duration": 38,
    "start_time": "2022-04-28T13:56:52.248Z"
   },
   {
    "duration": 185,
    "start_time": "2022-04-28T13:56:52.288Z"
   },
   {
    "duration": 13,
    "start_time": "2022-04-28T13:56:52.476Z"
   },
   {
    "duration": 22,
    "start_time": "2022-04-28T13:56:52.491Z"
   },
   {
    "duration": 22,
    "start_time": "2022-04-28T13:56:52.517Z"
   },
   {
    "duration": 9,
    "start_time": "2022-04-28T13:56:52.541Z"
   },
   {
    "duration": 42,
    "start_time": "2022-04-28T13:56:52.552Z"
   },
   {
    "duration": 18,
    "start_time": "2022-04-28T13:56:52.597Z"
   },
   {
    "duration": 323,
    "start_time": "2022-04-28T13:56:52.617Z"
   },
   {
    "duration": 245,
    "start_time": "2022-04-28T13:56:52.943Z"
   },
   {
    "duration": 20,
    "start_time": "2022-04-28T13:56:53.195Z"
   },
   {
    "duration": 479,
    "start_time": "2022-04-28T13:56:53.217Z"
   },
   {
    "duration": 294,
    "start_time": "2022-04-28T13:56:53.698Z"
   },
   {
    "duration": 358,
    "start_time": "2022-04-28T13:56:53.995Z"
   },
   {
    "duration": 8,
    "start_time": "2022-04-28T13:56:54.355Z"
   },
   {
    "duration": 25,
    "start_time": "2022-04-28T13:56:54.365Z"
   },
   {
    "duration": 11,
    "start_time": "2022-04-28T13:56:54.393Z"
   },
   {
    "duration": 329,
    "start_time": "2022-04-28T13:56:54.407Z"
   },
   {
    "duration": 13,
    "start_time": "2022-04-28T13:56:54.739Z"
   },
   {
    "duration": 43,
    "start_time": "2022-04-28T13:56:54.754Z"
   },
   {
    "duration": 599,
    "start_time": "2022-04-28T13:56:54.799Z"
   },
   {
    "duration": 13,
    "start_time": "2022-04-28T13:56:55.400Z"
   },
   {
    "duration": 16,
    "start_time": "2022-04-28T13:56:55.419Z"
   },
   {
    "duration": 225,
    "start_time": "2022-04-28T13:56:55.437Z"
   },
   {
    "duration": 17,
    "start_time": "2022-04-28T13:56:55.664Z"
   },
   {
    "duration": 16,
    "start_time": "2022-04-28T13:56:55.686Z"
   },
   {
    "duration": 225,
    "start_time": "2022-04-28T13:56:55.705Z"
   },
   {
    "duration": 7,
    "start_time": "2022-04-28T13:56:55.932Z"
   },
   {
    "duration": 11,
    "start_time": "2022-04-28T13:56:55.941Z"
   },
   {
    "duration": 15,
    "start_time": "2022-04-28T13:56:55.982Z"
   },
   {
    "duration": 104,
    "start_time": "2022-04-28T13:56:56.000Z"
   },
   {
    "duration": 94,
    "start_time": "2022-04-28T13:56:56.106Z"
   },
   {
    "duration": 18,
    "start_time": "2022-04-28T13:56:56.205Z"
   },
   {
    "duration": 123,
    "start_time": "2022-04-28T13:56:56.226Z"
   },
   {
    "duration": 11,
    "start_time": "2022-04-28T13:56:56.351Z"
   },
   {
    "duration": 48,
    "start_time": "2022-04-28T13:56:56.364Z"
   },
   {
    "duration": 95,
    "start_time": "2022-04-28T13:56:56.414Z"
   },
   {
    "duration": 18,
    "start_time": "2022-04-28T13:56:56.512Z"
   },
   {
    "duration": 123,
    "start_time": "2022-04-28T13:56:56.532Z"
   },
   {
    "duration": 63,
    "start_time": "2022-04-28T13:56:56.657Z"
   },
   {
    "duration": 15,
    "start_time": "2022-04-28T13:56:56.723Z"
   },
   {
    "duration": 48,
    "start_time": "2022-04-28T13:56:56.740Z"
   },
   {
    "duration": 10,
    "start_time": "2022-04-28T13:56:56.791Z"
   },
   {
    "duration": 15,
    "start_time": "2022-04-28T13:56:56.803Z"
   },
   {
    "duration": 65,
    "start_time": "2022-04-28T13:56:56.820Z"
   },
   {
    "duration": 16,
    "start_time": "2022-04-28T13:56:56.890Z"
   },
   {
    "duration": 9,
    "start_time": "2022-04-28T13:56:56.908Z"
   },
   {
    "duration": 11,
    "start_time": "2022-04-28T13:56:56.919Z"
   },
   {
    "duration": 50,
    "start_time": "2022-04-28T13:56:56.932Z"
   },
   {
    "duration": 11,
    "start_time": "2022-04-28T13:56:56.994Z"
   },
   {
    "duration": 13,
    "start_time": "2022-04-28T13:56:57.008Z"
   },
   {
    "duration": 12,
    "start_time": "2022-04-28T13:56:57.023Z"
   },
   {
    "duration": 80,
    "start_time": "2022-04-28T13:56:57.037Z"
   },
   {
    "duration": 12,
    "start_time": "2022-04-28T13:56:57.120Z"
   },
   {
    "duration": 55,
    "start_time": "2022-04-28T13:56:57.134Z"
   },
   {
    "duration": 719,
    "start_time": "2022-04-28T13:56:57.192Z"
   },
   {
    "duration": 366,
    "start_time": "2022-04-28T13:56:57.913Z"
   },
   {
    "duration": 7,
    "start_time": "2022-04-28T13:56:58.281Z"
   },
   {
    "duration": 1902,
    "start_time": "2022-04-28T14:18:42.496Z"
   },
   {
    "duration": 4,
    "start_time": "2022-04-28T14:18:44.401Z"
   },
   {
    "duration": 63,
    "start_time": "2022-04-28T14:18:44.407Z"
   },
   {
    "duration": 19,
    "start_time": "2022-04-28T14:18:44.472Z"
   },
   {
    "duration": 20,
    "start_time": "2022-04-28T14:18:44.494Z"
   },
   {
    "duration": 21,
    "start_time": "2022-04-28T14:18:44.516Z"
   },
   {
    "duration": 168,
    "start_time": "2022-04-28T14:18:44.540Z"
   },
   {
    "duration": 16,
    "start_time": "2022-04-28T14:18:44.710Z"
   },
   {
    "duration": 32,
    "start_time": "2022-04-28T14:18:44.729Z"
   },
   {
    "duration": 96,
    "start_time": "2022-04-28T14:18:44.763Z"
   },
   {
    "duration": 7,
    "start_time": "2022-04-28T14:18:44.862Z"
   },
   {
    "duration": 18,
    "start_time": "2022-04-28T14:18:44.871Z"
   },
   {
    "duration": 24,
    "start_time": "2022-04-28T14:18:44.891Z"
   },
   {
    "duration": 443,
    "start_time": "2022-04-28T14:18:44.921Z"
   },
   {
    "duration": 280,
    "start_time": "2022-04-28T14:18:45.367Z"
   },
   {
    "duration": 38,
    "start_time": "2022-04-28T14:18:45.649Z"
   },
   {
    "duration": 545,
    "start_time": "2022-04-28T14:18:45.690Z"
   },
   {
    "duration": 433,
    "start_time": "2022-04-28T14:18:46.238Z"
   },
   {
    "duration": 393,
    "start_time": "2022-04-28T14:18:46.681Z"
   },
   {
    "duration": 12,
    "start_time": "2022-04-28T14:18:47.076Z"
   },
   {
    "duration": 20,
    "start_time": "2022-04-28T14:18:47.090Z"
   },
   {
    "duration": 14,
    "start_time": "2022-04-28T14:18:47.113Z"
   },
   {
    "duration": 468,
    "start_time": "2022-04-28T14:18:47.130Z"
   },
   {
    "duration": 15,
    "start_time": "2022-04-28T14:18:47.601Z"
   },
   {
    "duration": 26,
    "start_time": "2022-04-28T14:18:47.618Z"
   },
   {
    "duration": 670,
    "start_time": "2022-04-28T14:18:47.682Z"
   },
   {
    "duration": 27,
    "start_time": "2022-04-28T14:18:48.356Z"
   },
   {
    "duration": 17,
    "start_time": "2022-04-28T14:18:48.387Z"
   },
   {
    "duration": 277,
    "start_time": "2022-04-28T14:18:48.407Z"
   },
   {
    "duration": 7,
    "start_time": "2022-04-28T14:18:48.687Z"
   },
   {
    "duration": 29,
    "start_time": "2022-04-28T14:18:48.696Z"
   },
   {
    "duration": 293,
    "start_time": "2022-04-28T14:18:48.728Z"
   },
   {
    "duration": 9,
    "start_time": "2022-04-28T14:18:49.024Z"
   },
   {
    "duration": 17,
    "start_time": "2022-04-28T14:18:49.036Z"
   },
   {
    "duration": 20,
    "start_time": "2022-04-28T14:18:49.085Z"
   },
   {
    "duration": 96,
    "start_time": "2022-04-28T14:18:49.108Z"
   },
   {
    "duration": 125,
    "start_time": "2022-04-28T14:18:49.207Z"
   },
   {
    "duration": 16,
    "start_time": "2022-04-28T14:18:49.335Z"
   },
   {
    "duration": 98,
    "start_time": "2022-04-28T14:18:49.353Z"
   },
   {
    "duration": 39,
    "start_time": "2022-04-28T14:18:49.454Z"
   },
   {
    "duration": 28,
    "start_time": "2022-04-28T14:18:49.500Z"
   },
   {
    "duration": 162,
    "start_time": "2022-04-28T14:18:49.531Z"
   },
   {
    "duration": 26,
    "start_time": "2022-04-28T14:18:49.696Z"
   },
   {
    "duration": 131,
    "start_time": "2022-04-28T14:18:49.724Z"
   },
   {
    "duration": 64,
    "start_time": "2022-04-28T14:18:49.858Z"
   },
   {
    "duration": 18,
    "start_time": "2022-04-28T14:18:49.924Z"
   },
   {
    "duration": 47,
    "start_time": "2022-04-28T14:18:49.944Z"
   },
   {
    "duration": 14,
    "start_time": "2022-04-28T14:18:49.993Z"
   },
   {
    "duration": 14,
    "start_time": "2022-04-28T14:18:50.010Z"
   },
   {
    "duration": 76,
    "start_time": "2022-04-28T14:18:50.026Z"
   },
   {
    "duration": 19,
    "start_time": "2022-04-28T14:18:50.105Z"
   },
   {
    "duration": 12,
    "start_time": "2022-04-28T14:18:50.126Z"
   },
   {
    "duration": 49,
    "start_time": "2022-04-28T14:18:50.141Z"
   },
   {
    "duration": 20,
    "start_time": "2022-04-28T14:18:50.193Z"
   },
   {
    "duration": 15,
    "start_time": "2022-04-28T14:18:50.216Z"
   },
   {
    "duration": 49,
    "start_time": "2022-04-28T14:18:50.234Z"
   },
   {
    "duration": 12,
    "start_time": "2022-04-28T14:18:50.286Z"
   },
   {
    "duration": 81,
    "start_time": "2022-04-28T14:18:50.301Z"
   },
   {
    "duration": 15,
    "start_time": "2022-04-28T14:18:50.385Z"
   },
   {
    "duration": 33,
    "start_time": "2022-04-28T14:18:50.403Z"
   },
   {
    "duration": 440,
    "start_time": "2022-04-28T14:18:50.439Z"
   },
   {
    "duration": 474,
    "start_time": "2022-04-28T14:18:50.882Z"
   },
   {
    "duration": 4,
    "start_time": "2022-04-28T14:18:51.358Z"
   },
   {
    "duration": 423,
    "start_time": "2022-04-28T14:19:47.209Z"
   },
   {
    "duration": 299,
    "start_time": "2022-04-28T14:19:55.287Z"
   },
   {
    "duration": 288,
    "start_time": "2022-04-28T14:20:33.513Z"
   },
   {
    "duration": 488,
    "start_time": "2022-04-28T14:21:14.694Z"
   },
   {
    "duration": 388,
    "start_time": "2022-04-28T14:23:08.575Z"
   },
   {
    "duration": 528,
    "start_time": "2022-04-28T14:32:03.934Z"
   },
   {
    "duration": 395,
    "start_time": "2022-04-28T14:34:13.253Z"
   },
   {
    "duration": 217,
    "start_time": "2022-04-28T14:39:05.113Z"
   },
   {
    "duration": 179,
    "start_time": "2022-04-28T14:39:31.821Z"
   },
   {
    "duration": 203,
    "start_time": "2022-04-28T14:39:39.750Z"
   },
   {
    "duration": 72,
    "start_time": "2022-04-28T14:47:00.053Z"
   },
   {
    "duration": 16,
    "start_time": "2022-04-28T14:47:47.860Z"
   },
   {
    "duration": 23,
    "start_time": "2022-04-28T14:47:53.869Z"
   },
   {
    "duration": 10,
    "start_time": "2022-04-28T14:48:56.042Z"
   },
   {
    "duration": 10,
    "start_time": "2022-04-28T14:48:56.276Z"
   },
   {
    "duration": 31,
    "start_time": "2022-04-28T15:10:39.536Z"
   },
   {
    "duration": 15,
    "start_time": "2022-04-28T15:11:53.139Z"
   },
   {
    "duration": 18,
    "start_time": "2022-04-28T15:15:38.308Z"
   },
   {
    "duration": 12,
    "start_time": "2022-04-28T15:15:52.371Z"
   },
   {
    "duration": 72,
    "start_time": "2022-04-28T15:16:23.644Z"
   },
   {
    "duration": 6,
    "start_time": "2022-04-28T15:17:30.085Z"
   },
   {
    "duration": 76,
    "start_time": "2022-04-28T15:17:43.429Z"
   },
   {
    "duration": 19,
    "start_time": "2022-04-28T15:18:09.467Z"
   },
   {
    "duration": 18,
    "start_time": "2022-04-28T15:18:20.379Z"
   },
   {
    "duration": 85,
    "start_time": "2022-04-28T15:18:36.356Z"
   },
   {
    "duration": 84,
    "start_time": "2022-04-28T15:18:49.620Z"
   },
   {
    "duration": 368,
    "start_time": "2022-04-28T15:32:06.095Z"
   },
   {
    "duration": 1598,
    "start_time": "2022-04-28T15:32:16.827Z"
   },
   {
    "duration": 4,
    "start_time": "2022-04-28T15:32:18.428Z"
   },
   {
    "duration": 99,
    "start_time": "2022-04-28T15:32:18.434Z"
   },
   {
    "duration": 18,
    "start_time": "2022-04-28T15:32:18.543Z"
   },
   {
    "duration": 18,
    "start_time": "2022-04-28T15:32:18.564Z"
   },
   {
    "duration": 28,
    "start_time": "2022-04-28T15:32:18.585Z"
   },
   {
    "duration": 185,
    "start_time": "2022-04-28T15:32:18.616Z"
   },
   {
    "duration": 11,
    "start_time": "2022-04-28T15:32:18.804Z"
   },
   {
    "duration": 18,
    "start_time": "2022-04-28T15:32:18.817Z"
   },
   {
    "duration": 26,
    "start_time": "2022-04-28T15:32:18.838Z"
   },
   {
    "duration": 18,
    "start_time": "2022-04-28T15:32:18.866Z"
   },
   {
    "duration": 8,
    "start_time": "2022-04-28T15:32:18.886Z"
   },
   {
    "duration": 17,
    "start_time": "2022-04-28T15:32:18.896Z"
   },
   {
    "duration": 358,
    "start_time": "2022-04-28T15:32:18.918Z"
   },
   {
    "duration": 243,
    "start_time": "2022-04-28T15:32:19.282Z"
   },
   {
    "duration": 18,
    "start_time": "2022-04-28T15:32:19.528Z"
   },
   {
    "duration": 459,
    "start_time": "2022-04-28T15:32:19.549Z"
   },
   {
    "duration": 301,
    "start_time": "2022-04-28T15:32:20.010Z"
   },
   {
    "duration": 392,
    "start_time": "2022-04-28T15:32:20.314Z"
   },
   {
    "duration": 10,
    "start_time": "2022-04-28T15:32:20.709Z"
   },
   {
    "duration": 32,
    "start_time": "2022-04-28T15:32:20.721Z"
   },
   {
    "duration": 30,
    "start_time": "2022-04-28T15:32:20.756Z"
   },
   {
    "duration": 322,
    "start_time": "2022-04-28T15:32:20.790Z"
   },
   {
    "duration": 15,
    "start_time": "2022-04-28T15:32:21.115Z"
   },
   {
    "duration": 51,
    "start_time": "2022-04-28T15:32:21.132Z"
   },
   {
    "duration": 401,
    "start_time": "2022-04-28T15:32:21.185Z"
   },
   {
    "duration": 12,
    "start_time": "2022-04-28T15:32:21.588Z"
   },
   {
    "duration": 23,
    "start_time": "2022-04-28T15:32:21.603Z"
   },
   {
    "duration": 233,
    "start_time": "2022-04-28T15:32:21.629Z"
   },
   {
    "duration": 19,
    "start_time": "2022-04-28T15:32:21.864Z"
   },
   {
    "duration": 18,
    "start_time": "2022-04-28T15:32:21.885Z"
   },
   {
    "duration": 229,
    "start_time": "2022-04-28T15:32:21.905Z"
   },
   {
    "duration": 7,
    "start_time": "2022-04-28T15:32:22.136Z"
   },
   {
    "duration": 15,
    "start_time": "2022-04-28T15:32:22.145Z"
   },
   {
    "duration": 13,
    "start_time": "2022-04-28T15:32:22.182Z"
   },
   {
    "duration": 14,
    "start_time": "2022-04-28T15:32:22.197Z"
   },
   {
    "duration": 111,
    "start_time": "2022-04-28T15:32:22.213Z"
   },
   {
    "duration": 17,
    "start_time": "2022-04-28T15:32:22.326Z"
   },
   {
    "duration": 103,
    "start_time": "2022-04-28T15:32:22.346Z"
   },
   {
    "duration": 33,
    "start_time": "2022-04-28T15:32:22.452Z"
   },
   {
    "duration": 20,
    "start_time": "2022-04-28T15:32:22.491Z"
   },
   {
    "duration": 115,
    "start_time": "2022-04-28T15:32:22.513Z"
   },
   {
    "duration": 41,
    "start_time": "2022-04-28T15:32:22.630Z"
   },
   {
    "duration": 94,
    "start_time": "2022-04-28T15:32:22.673Z"
   },
   {
    "duration": 67,
    "start_time": "2022-04-28T15:32:22.781Z"
   },
   {
    "duration": 17,
    "start_time": "2022-04-28T15:32:22.850Z"
   },
   {
    "duration": 30,
    "start_time": "2022-04-28T15:32:22.869Z"
   },
   {
    "duration": 14,
    "start_time": "2022-04-28T15:32:22.901Z"
   },
   {
    "duration": 16,
    "start_time": "2022-04-28T15:32:22.917Z"
   },
   {
    "duration": 63,
    "start_time": "2022-04-28T15:32:22.935Z"
   },
   {
    "duration": 14,
    "start_time": "2022-04-28T15:32:23.001Z"
   },
   {
    "duration": 24,
    "start_time": "2022-04-28T15:32:23.018Z"
   },
   {
    "duration": 39,
    "start_time": "2022-04-28T15:32:23.044Z"
   },
   {
    "duration": 8,
    "start_time": "2022-04-28T15:32:23.085Z"
   },
   {
    "duration": 17,
    "start_time": "2022-04-28T15:32:23.095Z"
   },
   {
    "duration": 27,
    "start_time": "2022-04-28T15:32:23.113Z"
   },
   {
    "duration": 10,
    "start_time": "2022-04-28T15:32:23.143Z"
   },
   {
    "duration": 30,
    "start_time": "2022-04-28T15:32:23.183Z"
   },
   {
    "duration": 12,
    "start_time": "2022-04-28T15:32:23.215Z"
   },
   {
    "duration": 56,
    "start_time": "2022-04-28T15:32:23.229Z"
   },
   {
    "duration": 390,
    "start_time": "2022-04-28T15:32:23.287Z"
   },
   {
    "duration": 472,
    "start_time": "2022-04-28T15:32:23.682Z"
   },
   {
    "duration": 1514,
    "start_time": "2022-04-28T15:33:35.997Z"
   },
   {
    "duration": 5,
    "start_time": "2022-04-28T15:33:37.515Z"
   },
   {
    "duration": 54,
    "start_time": "2022-04-28T15:33:37.523Z"
   },
   {
    "duration": 20,
    "start_time": "2022-04-28T15:33:37.580Z"
   },
   {
    "duration": 21,
    "start_time": "2022-04-28T15:33:37.605Z"
   },
   {
    "duration": 19,
    "start_time": "2022-04-28T15:33:37.629Z"
   },
   {
    "duration": 98,
    "start_time": "2022-04-28T15:33:37.682Z"
   },
   {
    "duration": 12,
    "start_time": "2022-04-28T15:33:37.782Z"
   },
   {
    "duration": 15,
    "start_time": "2022-04-28T15:33:37.795Z"
   },
   {
    "duration": 29,
    "start_time": "2022-04-28T15:33:37.812Z"
   },
   {
    "duration": 9,
    "start_time": "2022-04-28T15:33:37.843Z"
   },
   {
    "duration": 31,
    "start_time": "2022-04-28T15:33:37.854Z"
   },
   {
    "duration": 17,
    "start_time": "2022-04-28T15:33:37.887Z"
   },
   {
    "duration": 322,
    "start_time": "2022-04-28T15:33:37.908Z"
   },
   {
    "duration": 234,
    "start_time": "2022-04-28T15:33:38.232Z"
   },
   {
    "duration": 32,
    "start_time": "2022-04-28T15:33:38.468Z"
   },
   {
    "duration": 459,
    "start_time": "2022-04-28T15:33:38.502Z"
   },
   {
    "duration": 307,
    "start_time": "2022-04-28T15:33:38.963Z"
   },
   {
    "duration": 393,
    "start_time": "2022-04-28T15:33:39.272Z"
   },
   {
    "duration": 19,
    "start_time": "2022-04-28T15:33:39.667Z"
   },
   {
    "duration": 18,
    "start_time": "2022-04-28T15:33:39.688Z"
   },
   {
    "duration": 7,
    "start_time": "2022-04-28T15:33:39.708Z"
   },
   {
    "duration": 323,
    "start_time": "2022-04-28T15:33:39.717Z"
   },
   {
    "duration": 14,
    "start_time": "2022-04-28T15:33:40.042Z"
   },
   {
    "duration": 39,
    "start_time": "2022-04-28T15:33:40.058Z"
   },
   {
    "duration": 383,
    "start_time": "2022-04-28T15:33:40.099Z"
   },
   {
    "duration": 11,
    "start_time": "2022-04-28T15:33:40.484Z"
   },
   {
    "duration": 18,
    "start_time": "2022-04-28T15:33:40.497Z"
   },
   {
    "duration": 229,
    "start_time": "2022-04-28T15:33:40.517Z"
   },
   {
    "duration": 7,
    "start_time": "2022-04-28T15:33:40.748Z"
   },
   {
    "duration": 31,
    "start_time": "2022-04-28T15:33:40.756Z"
   },
   {
    "duration": 227,
    "start_time": "2022-04-28T15:33:40.789Z"
   },
   {
    "duration": 7,
    "start_time": "2022-04-28T15:33:41.018Z"
   },
   {
    "duration": 11,
    "start_time": "2022-04-28T15:33:41.028Z"
   },
   {
    "duration": 47,
    "start_time": "2022-04-28T15:33:41.042Z"
   },
   {
    "duration": 102,
    "start_time": "2022-04-28T15:33:41.091Z"
   },
   {
    "duration": 24,
    "start_time": "2022-04-28T15:33:41.196Z"
   },
   {
    "duration": 102,
    "start_time": "2022-04-28T15:33:41.224Z"
   },
   {
    "duration": 18,
    "start_time": "2022-04-28T15:33:41.329Z"
   },
   {
    "duration": 43,
    "start_time": "2022-04-28T15:33:41.350Z"
   },
   {
    "duration": 98,
    "start_time": "2022-04-28T15:33:41.399Z"
   },
   {
    "duration": 28,
    "start_time": "2022-04-28T15:33:41.500Z"
   },
   {
    "duration": 176,
    "start_time": "2022-04-28T15:33:41.531Z"
   },
   {
    "duration": 93,
    "start_time": "2022-04-28T15:33:41.710Z"
   },
   {
    "duration": 16,
    "start_time": "2022-04-28T15:33:41.806Z"
   },
   {
    "duration": 18,
    "start_time": "2022-04-28T15:33:41.824Z"
   },
   {
    "duration": 50,
    "start_time": "2022-04-28T15:33:41.844Z"
   },
   {
    "duration": 13,
    "start_time": "2022-04-28T15:33:41.897Z"
   },
   {
    "duration": 83,
    "start_time": "2022-04-28T15:33:41.913Z"
   },
   {
    "duration": 17,
    "start_time": "2022-04-28T15:33:41.999Z"
   },
   {
    "duration": 10,
    "start_time": "2022-04-28T15:33:42.018Z"
   },
   {
    "duration": 52,
    "start_time": "2022-04-28T15:33:42.031Z"
   },
   {
    "duration": 8,
    "start_time": "2022-04-28T15:33:42.086Z"
   },
   {
    "duration": 10,
    "start_time": "2022-04-28T15:33:42.096Z"
   },
   {
    "duration": 15,
    "start_time": "2022-04-28T15:33:42.108Z"
   },
   {
    "duration": 60,
    "start_time": "2022-04-28T15:33:42.125Z"
   },
   {
    "duration": 36,
    "start_time": "2022-04-28T15:33:42.187Z"
   },
   {
    "duration": 12,
    "start_time": "2022-04-28T15:33:42.226Z"
   },
   {
    "duration": 55,
    "start_time": "2022-04-28T15:33:42.240Z"
   },
   {
    "duration": 396,
    "start_time": "2022-04-28T15:33:42.298Z"
   },
   {
    "duration": 463,
    "start_time": "2022-04-28T15:33:42.697Z"
   },
   {
    "duration": 95,
    "start_time": "2022-04-29T13:08:50.022Z"
   },
   {
    "duration": 9,
    "start_time": "2022-04-29T13:08:54.567Z"
   },
   {
    "duration": 1918,
    "start_time": "2022-04-29T13:09:10.396Z"
   },
   {
    "duration": 9,
    "start_time": "2022-04-29T13:09:12.317Z"
   },
   {
    "duration": 302,
    "start_time": "2022-04-29T13:09:12.329Z"
   },
   {
    "duration": 18,
    "start_time": "2022-04-29T13:09:12.639Z"
   },
   {
    "duration": 17,
    "start_time": "2022-04-29T13:09:12.661Z"
   },
   {
    "duration": 21,
    "start_time": "2022-04-29T13:09:12.681Z"
   },
   {
    "duration": 22,
    "start_time": "2022-04-29T13:09:12.725Z"
   },
   {
    "duration": 265,
    "start_time": "2022-04-29T13:09:12.749Z"
   },
   {
    "duration": 14,
    "start_time": "2022-04-29T13:09:13.016Z"
   },
   {
    "duration": 26,
    "start_time": "2022-04-29T13:09:13.035Z"
   },
   {
    "duration": 25,
    "start_time": "2022-04-29T13:09:13.063Z"
   },
   {
    "duration": 22,
    "start_time": "2022-04-29T13:09:13.090Z"
   },
   {
    "duration": 15,
    "start_time": "2022-04-29T13:09:13.114Z"
   },
   {
    "duration": 21,
    "start_time": "2022-04-29T13:09:13.136Z"
   },
   {
    "duration": 292,
    "start_time": "2022-04-29T13:09:13.159Z"
   },
   {
    "duration": 259,
    "start_time": "2022-04-29T13:09:13.453Z"
   },
   {
    "duration": 29,
    "start_time": "2022-04-29T13:09:13.714Z"
   },
   {
    "duration": 459,
    "start_time": "2022-04-29T13:09:13.745Z"
   },
   {
    "duration": 304,
    "start_time": "2022-04-29T13:09:14.206Z"
   },
   {
    "duration": 455,
    "start_time": "2022-04-29T13:09:14.513Z"
   },
   {
    "duration": 8,
    "start_time": "2022-04-29T13:09:14.970Z"
   },
   {
    "duration": 29,
    "start_time": "2022-04-29T13:09:14.980Z"
   },
   {
    "duration": 24,
    "start_time": "2022-04-29T13:09:15.024Z"
   },
   {
    "duration": 306,
    "start_time": "2022-04-29T13:09:15.050Z"
   },
   {
    "duration": 14,
    "start_time": "2022-04-29T13:09:15.358Z"
   },
   {
    "duration": 31,
    "start_time": "2022-04-29T13:09:15.374Z"
   },
   {
    "duration": 474,
    "start_time": "2022-04-29T13:09:15.424Z"
   },
   {
    "duration": 30,
    "start_time": "2022-04-29T13:09:15.904Z"
   },
   {
    "duration": 33,
    "start_time": "2022-04-29T13:09:15.939Z"
   },
   {
    "duration": 200,
    "start_time": "2022-04-29T13:09:15.974Z"
   },
   {
    "duration": 7,
    "start_time": "2022-04-29T13:09:16.176Z"
   },
   {
    "duration": 34,
    "start_time": "2022-04-29T13:09:16.185Z"
   },
   {
    "duration": 336,
    "start_time": "2022-04-29T13:09:16.221Z"
   },
   {
    "duration": 7,
    "start_time": "2022-04-29T13:09:16.559Z"
   },
   {
    "duration": 21,
    "start_time": "2022-04-29T13:09:16.568Z"
   },
   {
    "duration": 37,
    "start_time": "2022-04-29T13:09:16.591Z"
   },
   {
    "duration": 91,
    "start_time": "2022-04-29T13:09:16.630Z"
   },
   {
    "duration": 39,
    "start_time": "2022-04-29T13:09:16.723Z"
   },
   {
    "duration": 85,
    "start_time": "2022-04-29T13:09:16.765Z"
   },
   {
    "duration": 25,
    "start_time": "2022-04-29T13:09:16.853Z"
   },
   {
    "duration": 32,
    "start_time": "2022-04-29T13:09:16.880Z"
   },
   {
    "duration": 88,
    "start_time": "2022-04-29T13:09:16.915Z"
   },
   {
    "duration": 37,
    "start_time": "2022-04-29T13:09:17.006Z"
   },
   {
    "duration": 119,
    "start_time": "2022-04-29T13:09:17.046Z"
   },
   {
    "duration": 71,
    "start_time": "2022-04-29T13:09:17.167Z"
   },
   {
    "duration": 17,
    "start_time": "2022-04-29T13:09:17.240Z"
   },
   {
    "duration": 19,
    "start_time": "2022-04-29T13:09:17.259Z"
   },
   {
    "duration": 10,
    "start_time": "2022-04-29T13:09:17.281Z"
   },
   {
    "duration": 13,
    "start_time": "2022-04-29T13:09:17.327Z"
   },
   {
    "duration": 40,
    "start_time": "2022-04-29T13:09:17.343Z"
   },
   {
    "duration": 15,
    "start_time": "2022-04-29T13:09:17.385Z"
   },
   {
    "duration": 38,
    "start_time": "2022-04-29T13:09:17.403Z"
   },
   {
    "duration": 23,
    "start_time": "2022-04-29T13:09:17.443Z"
   },
   {
    "duration": 16,
    "start_time": "2022-04-29T13:09:17.468Z"
   },
   {
    "duration": 13,
    "start_time": "2022-04-29T13:09:17.486Z"
   },
   {
    "duration": 34,
    "start_time": "2022-04-29T13:09:17.502Z"
   },
   {
    "duration": 15,
    "start_time": "2022-04-29T13:09:17.540Z"
   },
   {
    "duration": 37,
    "start_time": "2022-04-29T13:09:17.558Z"
   },
   {
    "duration": 31,
    "start_time": "2022-04-29T13:09:17.598Z"
   },
   {
    "duration": 22,
    "start_time": "2022-04-29T13:09:17.631Z"
   },
   {
    "duration": 513,
    "start_time": "2022-04-29T13:09:17.655Z"
   },
   {
    "duration": 522,
    "start_time": "2022-04-29T13:09:18.171Z"
   },
   {
    "duration": 16,
    "start_time": "2022-04-29T13:17:32.884Z"
   },
   {
    "duration": 19,
    "start_time": "2022-04-29T13:17:48.423Z"
   },
   {
    "duration": 219,
    "start_time": "2022-04-29T13:43:57.478Z"
   },
   {
    "duration": 205,
    "start_time": "2022-04-29T13:47:07.740Z"
   },
   {
    "duration": 224,
    "start_time": "2022-04-29T13:47:14.411Z"
   },
   {
    "duration": 206,
    "start_time": "2022-04-29T13:59:47.140Z"
   },
   {
    "duration": 261,
    "start_time": "2022-04-29T14:00:11.978Z"
   },
   {
    "duration": 381,
    "start_time": "2022-04-29T14:00:20.107Z"
   },
   {
    "duration": 64,
    "start_time": "2022-04-29T14:00:38.996Z"
   },
   {
    "duration": 58,
    "start_time": "2022-04-29T14:01:14.918Z"
   },
   {
    "duration": 55,
    "start_time": "2022-04-29T14:02:11.897Z"
   },
   {
    "duration": 21,
    "start_time": "2022-04-29T14:02:48.575Z"
   },
   {
    "duration": 59,
    "start_time": "2022-04-29T14:03:46.845Z"
   },
   {
    "duration": 28,
    "start_time": "2022-04-29T14:04:22.593Z"
   },
   {
    "duration": 1665,
    "start_time": "2022-04-29T14:26:23.719Z"
   },
   {
    "duration": 5,
    "start_time": "2022-04-29T14:26:25.387Z"
   },
   {
    "duration": 187,
    "start_time": "2022-04-29T14:26:25.394Z"
   },
   {
    "duration": 24,
    "start_time": "2022-04-29T14:26:25.585Z"
   },
   {
    "duration": 44,
    "start_time": "2022-04-29T14:26:25.612Z"
   },
   {
    "duration": 26,
    "start_time": "2022-04-29T14:26:25.659Z"
   },
   {
    "duration": 38,
    "start_time": "2022-04-29T14:26:25.689Z"
   },
   {
    "duration": 245,
    "start_time": "2022-04-29T14:26:25.730Z"
   },
   {
    "duration": 16,
    "start_time": "2022-04-29T14:26:25.978Z"
   },
   {
    "duration": 25,
    "start_time": "2022-04-29T14:26:26.000Z"
   },
   {
    "duration": 46,
    "start_time": "2022-04-29T14:26:26.028Z"
   },
   {
    "duration": 30,
    "start_time": "2022-04-29T14:26:26.077Z"
   },
   {
    "duration": 45,
    "start_time": "2022-04-29T14:26:26.109Z"
   },
   {
    "duration": 23,
    "start_time": "2022-04-29T14:26:26.156Z"
   },
   {
    "duration": 18,
    "start_time": "2022-04-29T14:26:26.181Z"
   },
   {
    "duration": 40,
    "start_time": "2022-04-29T14:26:26.201Z"
   },
   {
    "duration": 386,
    "start_time": "2022-04-29T14:26:26.243Z"
   },
   {
    "duration": 229,
    "start_time": "2022-04-29T14:26:26.631Z"
   },
   {
    "duration": 20,
    "start_time": "2022-04-29T14:26:26.863Z"
   },
   {
    "duration": 449,
    "start_time": "2022-04-29T14:26:26.886Z"
   },
   {
    "duration": 396,
    "start_time": "2022-04-29T14:26:27.337Z"
   },
   {
    "duration": 372,
    "start_time": "2022-04-29T14:26:27.735Z"
   },
   {
    "duration": 17,
    "start_time": "2022-04-29T14:26:28.109Z"
   },
   {
    "duration": 22,
    "start_time": "2022-04-29T14:26:28.130Z"
   },
   {
    "duration": 18,
    "start_time": "2022-04-29T14:26:28.154Z"
   },
   {
    "duration": 427,
    "start_time": "2022-04-29T14:26:28.176Z"
   },
   {
    "duration": 27,
    "start_time": "2022-04-29T14:26:28.606Z"
   },
   {
    "duration": 26,
    "start_time": "2022-04-29T14:26:28.643Z"
   },
   {
    "duration": 547,
    "start_time": "2022-04-29T14:26:28.672Z"
   },
   {
    "duration": 16,
    "start_time": "2022-04-29T14:26:29.225Z"
   },
   {
    "duration": 22,
    "start_time": "2022-04-29T14:26:29.243Z"
   },
   {
    "duration": 295,
    "start_time": "2022-04-29T14:26:29.267Z"
   },
   {
    "duration": 9,
    "start_time": "2022-04-29T14:26:29.564Z"
   },
   {
    "duration": 18,
    "start_time": "2022-04-29T14:26:29.576Z"
   },
   {
    "duration": 327,
    "start_time": "2022-04-29T14:26:29.597Z"
   },
   {
    "duration": 326,
    "start_time": "2022-04-29T14:26:29.927Z"
   },
   {
    "duration": 9,
    "start_time": "2022-04-29T14:26:30.255Z"
   },
   {
    "duration": 41,
    "start_time": "2022-04-29T14:26:30.266Z"
   },
   {
    "duration": 36,
    "start_time": "2022-04-29T14:26:30.309Z"
   },
   {
    "duration": 243,
    "start_time": "2022-04-29T14:26:30.348Z"
   },
   {
    "duration": 33,
    "start_time": "2022-04-29T14:26:30.594Z"
   },
   {
    "duration": 126,
    "start_time": "2022-04-29T14:26:30.630Z"
   },
   {
    "duration": 15,
    "start_time": "2022-04-29T14:26:30.758Z"
   },
   {
    "duration": 28,
    "start_time": "2022-04-29T14:26:30.775Z"
   },
   {
    "duration": 105,
    "start_time": "2022-04-29T14:26:30.806Z"
   },
   {
    "duration": 22,
    "start_time": "2022-04-29T14:26:30.926Z"
   },
   {
    "duration": 115,
    "start_time": "2022-04-29T14:26:30.950Z"
   },
   {
    "duration": 63,
    "start_time": "2022-04-29T14:26:31.068Z"
   },
   {
    "duration": 18,
    "start_time": "2022-04-29T14:26:31.133Z"
   },
   {
    "duration": 38,
    "start_time": "2022-04-29T14:26:31.154Z"
   },
   {
    "duration": 29,
    "start_time": "2022-04-29T14:26:31.195Z"
   },
   {
    "duration": 28,
    "start_time": "2022-04-29T14:26:31.226Z"
   },
   {
    "duration": 106,
    "start_time": "2022-04-29T14:26:31.257Z"
   },
   {
    "duration": 24,
    "start_time": "2022-04-29T14:26:31.366Z"
   },
   {
    "duration": 37,
    "start_time": "2022-04-29T14:26:31.392Z"
   },
   {
    "duration": 27,
    "start_time": "2022-04-29T14:26:31.431Z"
   },
   {
    "duration": 26,
    "start_time": "2022-04-29T14:26:31.460Z"
   },
   {
    "duration": 22,
    "start_time": "2022-04-29T14:26:31.489Z"
   },
   {
    "duration": 28,
    "start_time": "2022-04-29T14:26:31.513Z"
   },
   {
    "duration": 24,
    "start_time": "2022-04-29T14:26:31.543Z"
   },
   {
    "duration": 63,
    "start_time": "2022-04-29T14:26:31.569Z"
   },
   {
    "duration": 12,
    "start_time": "2022-04-29T14:26:31.635Z"
   },
   {
    "duration": 39,
    "start_time": "2022-04-29T14:26:31.649Z"
   },
   {
    "duration": 419,
    "start_time": "2022-04-29T14:26:31.690Z"
   },
   {
    "duration": 393,
    "start_time": "2022-04-29T14:26:32.111Z"
   },
   {
    "duration": 576,
    "start_time": "2022-04-30T09:12:35.586Z"
   },
   {
    "duration": 620,
    "start_time": "2022-04-30T09:12:45.374Z"
   },
   {
    "duration": 577,
    "start_time": "2022-04-30T09:12:49.136Z"
   },
   {
    "duration": 27,
    "start_time": "2022-04-30T09:12:56.828Z"
   },
   {
    "duration": 11,
    "start_time": "2022-04-30T09:12:58.455Z"
   },
   {
    "duration": 22,
    "start_time": "2022-04-30T09:13:12.284Z"
   },
   {
    "duration": 8,
    "start_time": "2022-04-30T09:29:44.852Z"
   },
   {
    "duration": 64,
    "start_time": "2022-04-30T09:29:54.519Z"
   },
   {
    "duration": 689,
    "start_time": "2022-04-30T09:30:02.412Z"
   },
   {
    "duration": 200,
    "start_time": "2022-04-30T09:30:08.468Z"
   },
   {
    "duration": 57,
    "start_time": "2022-04-30T09:30:13.009Z"
   },
   {
    "duration": 72,
    "start_time": "2022-04-30T18:24:15.327Z"
   },
   {
    "duration": 1770,
    "start_time": "2022-04-30T18:24:20.019Z"
   },
   {
    "duration": 5,
    "start_time": "2022-04-30T18:24:21.793Z"
   },
   {
    "duration": 155,
    "start_time": "2022-04-30T18:24:21.801Z"
   },
   {
    "duration": 21,
    "start_time": "2022-04-30T18:24:21.959Z"
   },
   {
    "duration": 17,
    "start_time": "2022-04-30T18:24:21.983Z"
   },
   {
    "duration": 19,
    "start_time": "2022-04-30T18:24:22.002Z"
   },
   {
    "duration": 19,
    "start_time": "2022-04-30T18:24:22.024Z"
   },
   {
    "duration": 232,
    "start_time": "2022-04-30T18:24:22.045Z"
   },
   {
    "duration": 14,
    "start_time": "2022-04-30T18:24:22.280Z"
   },
   {
    "duration": 21,
    "start_time": "2022-04-30T18:24:22.296Z"
   },
   {
    "duration": 14,
    "start_time": "2022-04-30T18:24:22.319Z"
   },
   {
    "duration": 14,
    "start_time": "2022-04-30T18:24:22.335Z"
   },
   {
    "duration": 48,
    "start_time": "2022-04-30T18:24:22.352Z"
   },
   {
    "duration": 8,
    "start_time": "2022-04-30T18:24:22.404Z"
   },
   {
    "duration": 8,
    "start_time": "2022-04-30T18:24:22.414Z"
   },
   {
    "duration": 17,
    "start_time": "2022-04-30T18:24:22.425Z"
   },
   {
    "duration": 11,
    "start_time": "2022-04-30T18:24:22.482Z"
   },
   {
    "duration": 297,
    "start_time": "2022-04-30T18:24:22.495Z"
   },
   {
    "duration": 224,
    "start_time": "2022-04-30T18:24:22.795Z"
   },
   {
    "duration": 19,
    "start_time": "2022-04-30T18:24:23.022Z"
   },
   {
    "duration": 448,
    "start_time": "2022-04-30T18:24:23.044Z"
   },
   {
    "duration": 294,
    "start_time": "2022-04-30T18:24:23.494Z"
   },
   {
    "duration": 487,
    "start_time": "2022-04-30T18:24:23.791Z"
   },
   {
    "duration": 10,
    "start_time": "2022-04-30T18:24:24.281Z"
   },
   {
    "duration": 21,
    "start_time": "2022-04-30T18:24:24.294Z"
   },
   {
    "duration": 10,
    "start_time": "2022-04-30T18:24:24.317Z"
   },
   {
    "duration": 486,
    "start_time": "2022-04-30T18:24:24.330Z"
   },
   {
    "duration": 20,
    "start_time": "2022-04-30T18:24:24.820Z"
   },
   {
    "duration": 52,
    "start_time": "2022-04-30T18:24:24.842Z"
   },
   {
    "duration": 373,
    "start_time": "2022-04-30T18:24:24.897Z"
   },
   {
    "duration": 12,
    "start_time": "2022-04-30T18:24:25.272Z"
   },
   {
    "duration": 18,
    "start_time": "2022-04-30T18:24:25.286Z"
   },
   {
    "duration": 336,
    "start_time": "2022-04-30T18:24:25.307Z"
   },
   {
    "duration": 8,
    "start_time": "2022-04-30T18:24:25.646Z"
   },
   {
    "duration": 33,
    "start_time": "2022-04-30T18:24:25.656Z"
   },
   {
    "duration": 218,
    "start_time": "2022-04-30T18:24:25.691Z"
   },
   {
    "duration": 281,
    "start_time": "2022-04-30T18:24:25.912Z"
   },
   {
    "duration": 26,
    "start_time": "2022-04-30T18:24:26.196Z"
   },
   {
    "duration": 15,
    "start_time": "2022-04-30T18:24:26.229Z"
   },
   {
    "duration": 35,
    "start_time": "2022-04-30T18:24:26.247Z"
   },
   {
    "duration": 236,
    "start_time": "2022-04-30T18:24:26.290Z"
   },
   {
    "duration": 16,
    "start_time": "2022-04-30T18:24:26.529Z"
   },
   {
    "duration": 104,
    "start_time": "2022-04-30T18:24:26.548Z"
   },
   {
    "duration": 29,
    "start_time": "2022-04-30T18:24:26.656Z"
   },
   {
    "duration": 20,
    "start_time": "2022-04-30T18:24:26.688Z"
   },
   {
    "duration": 110,
    "start_time": "2022-04-30T18:24:26.711Z"
   },
   {
    "duration": 22,
    "start_time": "2022-04-30T18:24:26.823Z"
   },
   {
    "duration": 101,
    "start_time": "2022-04-30T18:24:26.847Z"
   },
   {
    "duration": 67,
    "start_time": "2022-04-30T18:24:26.950Z"
   },
   {
    "duration": 16,
    "start_time": "2022-04-30T18:24:27.020Z"
   },
   {
    "duration": 45,
    "start_time": "2022-04-30T18:24:27.039Z"
   },
   {
    "duration": 14,
    "start_time": "2022-04-30T18:24:27.087Z"
   },
   {
    "duration": 12,
    "start_time": "2022-04-30T18:24:27.104Z"
   },
   {
    "duration": 130,
    "start_time": "2022-04-30T18:24:27.119Z"
   },
   {
    "duration": 35,
    "start_time": "2022-04-30T18:24:27.252Z"
   },
   {
    "duration": 12,
    "start_time": "2022-04-30T18:24:27.290Z"
   },
   {
    "duration": 15,
    "start_time": "2022-04-30T18:24:27.305Z"
   },
   {
    "duration": 9,
    "start_time": "2022-04-30T18:24:27.323Z"
   },
   {
    "duration": 51,
    "start_time": "2022-04-30T18:24:27.335Z"
   },
   {
    "duration": 13,
    "start_time": "2022-04-30T18:24:27.389Z"
   },
   {
    "duration": 16,
    "start_time": "2022-04-30T18:24:27.405Z"
   },
   {
    "duration": 98,
    "start_time": "2022-04-30T18:24:27.425Z"
   },
   {
    "duration": 14,
    "start_time": "2022-04-30T18:24:27.526Z"
   },
   {
    "duration": 64,
    "start_time": "2022-04-30T18:24:27.543Z"
   },
   {
    "duration": 549,
    "start_time": "2022-04-30T18:24:27.610Z"
   },
   {
    "duration": 145,
    "start_time": "2022-04-30T18:24:28.161Z"
   },
   {
    "duration": 0,
    "start_time": "2022-04-30T18:24:28.308Z"
   },
   {
    "duration": 116,
    "start_time": "2022-04-30T18:26:42.138Z"
   },
   {
    "duration": 13,
    "start_time": "2022-04-30T18:26:59.400Z"
   },
   {
    "duration": 11,
    "start_time": "2022-04-30T18:27:30.781Z"
   },
   {
    "duration": 13,
    "start_time": "2022-04-30T18:27:56.722Z"
   },
   {
    "duration": 17,
    "start_time": "2022-04-30T18:28:05.241Z"
   },
   {
    "duration": 13,
    "start_time": "2022-04-30T18:28:16.295Z"
   },
   {
    "duration": 11,
    "start_time": "2022-04-30T18:29:29.566Z"
   },
   {
    "duration": 10,
    "start_time": "2022-04-30T18:30:31.665Z"
   },
   {
    "duration": 9,
    "start_time": "2022-04-30T18:30:45.619Z"
   },
   {
    "duration": 18,
    "start_time": "2022-04-30T18:31:32.939Z"
   },
   {
    "duration": 11,
    "start_time": "2022-04-30T18:32:45.559Z"
   },
   {
    "duration": 17,
    "start_time": "2022-04-30T18:32:54.291Z"
   },
   {
    "duration": 9,
    "start_time": "2022-04-30T18:33:01.547Z"
   },
   {
    "duration": 16,
    "start_time": "2022-04-30T18:33:09.108Z"
   },
   {
    "duration": 22,
    "start_time": "2022-04-30T18:33:47.239Z"
   },
   {
    "duration": 26,
    "start_time": "2022-04-30T18:34:36.524Z"
   },
   {
    "duration": 123,
    "start_time": "2022-04-30T18:35:09.667Z"
   },
   {
    "duration": 146,
    "start_time": "2022-04-30T18:35:21.060Z"
   },
   {
    "duration": 118,
    "start_time": "2022-04-30T18:35:27.538Z"
   },
   {
    "duration": 164,
    "start_time": "2022-04-30T18:35:45.965Z"
   },
   {
    "duration": 21,
    "start_time": "2022-04-30T18:36:03.409Z"
   },
   {
    "duration": 22,
    "start_time": "2022-04-30T18:36:14.075Z"
   },
   {
    "duration": 19,
    "start_time": "2022-04-30T18:37:36.270Z"
   },
   {
    "duration": 13,
    "start_time": "2022-04-30T18:38:07.451Z"
   },
   {
    "duration": 21,
    "start_time": "2022-04-30T18:38:25.494Z"
   },
   {
    "duration": 9,
    "start_time": "2022-04-30T18:38:38.719Z"
   },
   {
    "duration": 11,
    "start_time": "2022-04-30T18:38:49.512Z"
   },
   {
    "duration": 22,
    "start_time": "2022-04-30T18:39:07.189Z"
   },
   {
    "duration": 18,
    "start_time": "2022-04-30T18:39:14.143Z"
   },
   {
    "duration": 15,
    "start_time": "2022-04-30T18:39:23.333Z"
   },
   {
    "duration": 9,
    "start_time": "2022-04-30T18:42:41.740Z"
   },
   {
    "duration": 16,
    "start_time": "2022-04-30T18:43:15.138Z"
   },
   {
    "duration": 16,
    "start_time": "2022-04-30T18:43:17.044Z"
   },
   {
    "duration": 10,
    "start_time": "2022-04-30T18:43:18.648Z"
   },
   {
    "duration": 1851,
    "start_time": "2022-04-30T18:44:19.475Z"
   },
   {
    "duration": 5,
    "start_time": "2022-04-30T18:44:21.330Z"
   },
   {
    "duration": 81,
    "start_time": "2022-04-30T18:44:21.338Z"
   },
   {
    "duration": 18,
    "start_time": "2022-04-30T18:44:21.422Z"
   },
   {
    "duration": 24,
    "start_time": "2022-04-30T18:44:21.442Z"
   },
   {
    "duration": 30,
    "start_time": "2022-04-30T18:44:21.469Z"
   },
   {
    "duration": 20,
    "start_time": "2022-04-30T18:44:21.502Z"
   },
   {
    "duration": 139,
    "start_time": "2022-04-30T18:44:21.524Z"
   },
   {
    "duration": 11,
    "start_time": "2022-04-30T18:44:21.666Z"
   },
   {
    "duration": 19,
    "start_time": "2022-04-30T18:44:21.683Z"
   },
   {
    "duration": 21,
    "start_time": "2022-04-30T18:44:21.705Z"
   },
   {
    "duration": 17,
    "start_time": "2022-04-30T18:44:21.729Z"
   },
   {
    "duration": 50,
    "start_time": "2022-04-30T18:44:21.749Z"
   },
   {
    "duration": 11,
    "start_time": "2022-04-30T18:44:21.804Z"
   },
   {
    "duration": 9,
    "start_time": "2022-04-30T18:44:21.817Z"
   },
   {
    "duration": 22,
    "start_time": "2022-04-30T18:44:21.829Z"
   },
   {
    "duration": 49,
    "start_time": "2022-04-30T18:44:21.854Z"
   },
   {
    "duration": 16,
    "start_time": "2022-04-30T18:44:21.906Z"
   },
   {
    "duration": 9,
    "start_time": "2022-04-30T18:44:21.924Z"
   },
   {
    "duration": 318,
    "start_time": "2022-04-30T18:44:21.936Z"
   },
   {
    "duration": 242,
    "start_time": "2022-04-30T18:44:22.256Z"
   },
   {
    "duration": 27,
    "start_time": "2022-04-30T18:44:22.500Z"
   },
   {
    "duration": 649,
    "start_time": "2022-04-30T18:44:22.530Z"
   },
   {
    "duration": 433,
    "start_time": "2022-04-30T18:44:23.183Z"
   },
   {
    "duration": 564,
    "start_time": "2022-04-30T18:44:23.619Z"
   },
   {
    "duration": 13,
    "start_time": "2022-04-30T18:44:24.186Z"
   },
   {
    "duration": 20,
    "start_time": "2022-04-30T18:44:24.202Z"
   },
   {
    "duration": 8,
    "start_time": "2022-04-30T18:44:24.233Z"
   },
   {
    "duration": 328,
    "start_time": "2022-04-30T18:44:24.244Z"
   },
   {
    "duration": 24,
    "start_time": "2022-04-30T18:44:24.575Z"
   },
   {
    "duration": 29,
    "start_time": "2022-04-30T18:44:24.601Z"
   },
   {
    "duration": 435,
    "start_time": "2022-04-30T18:44:24.632Z"
   },
   {
    "duration": 20,
    "start_time": "2022-04-30T18:44:25.070Z"
   },
   {
    "duration": 29,
    "start_time": "2022-04-30T18:44:25.092Z"
   },
   {
    "duration": 213,
    "start_time": "2022-04-30T18:44:25.124Z"
   },
   {
    "duration": 7,
    "start_time": "2022-04-30T18:44:25.339Z"
   },
   {
    "duration": 41,
    "start_time": "2022-04-30T18:44:25.348Z"
   },
   {
    "duration": 213,
    "start_time": "2022-04-30T18:44:25.392Z"
   },
   {
    "duration": 225,
    "start_time": "2022-04-30T18:44:25.607Z"
   },
   {
    "duration": 7,
    "start_time": "2022-04-30T18:44:25.834Z"
   },
   {
    "duration": 16,
    "start_time": "2022-04-30T18:44:25.844Z"
   },
   {
    "duration": 14,
    "start_time": "2022-04-30T18:44:25.883Z"
   },
   {
    "duration": 186,
    "start_time": "2022-04-30T18:44:25.899Z"
   },
   {
    "duration": 31,
    "start_time": "2022-04-30T18:44:26.088Z"
   },
   {
    "duration": 93,
    "start_time": "2022-04-30T18:44:26.121Z"
   },
   {
    "duration": 12,
    "start_time": "2022-04-30T18:44:26.217Z"
   },
   {
    "duration": 22,
    "start_time": "2022-04-30T18:44:26.231Z"
   },
   {
    "duration": 122,
    "start_time": "2022-04-30T18:44:26.255Z"
   },
   {
    "duration": 38,
    "start_time": "2022-04-30T18:44:26.382Z"
   },
   {
    "duration": 93,
    "start_time": "2022-04-30T18:44:26.423Z"
   },
   {
    "duration": 67,
    "start_time": "2022-04-30T18:44:26.518Z"
   },
   {
    "duration": 23,
    "start_time": "2022-04-30T18:44:26.592Z"
   },
   {
    "duration": 15,
    "start_time": "2022-04-30T18:44:26.618Z"
   },
   {
    "duration": 10,
    "start_time": "2022-04-30T18:44:26.636Z"
   },
   {
    "duration": 39,
    "start_time": "2022-04-30T18:44:26.648Z"
   },
   {
    "duration": 72,
    "start_time": "2022-04-30T18:44:26.689Z"
   },
   {
    "duration": 40,
    "start_time": "2022-04-30T18:44:26.764Z"
   },
   {
    "duration": 10,
    "start_time": "2022-04-30T18:44:26.807Z"
   },
   {
    "duration": 11,
    "start_time": "2022-04-30T18:44:26.819Z"
   },
   {
    "duration": 14,
    "start_time": "2022-04-30T18:44:26.833Z"
   },
   {
    "duration": 10,
    "start_time": "2022-04-30T18:44:26.890Z"
   },
   {
    "duration": 15,
    "start_time": "2022-04-30T18:44:26.902Z"
   },
   {
    "duration": 16,
    "start_time": "2022-04-30T18:44:26.919Z"
   },
   {
    "duration": 103,
    "start_time": "2022-04-30T18:44:26.938Z"
   },
   {
    "duration": 11,
    "start_time": "2022-04-30T18:44:27.044Z"
   },
   {
    "duration": 50,
    "start_time": "2022-04-30T18:44:27.057Z"
   },
   {
    "duration": 388,
    "start_time": "2022-04-30T18:44:27.110Z"
   },
   {
    "duration": 212,
    "start_time": "2022-04-30T18:44:27.501Z"
   },
   {
    "duration": 0,
    "start_time": "2022-04-30T18:44:27.715Z"
   },
   {
    "duration": 10,
    "start_time": "2022-04-30T18:45:28.403Z"
   },
   {
    "duration": 21,
    "start_time": "2022-04-30T18:45:34.282Z"
   },
   {
    "duration": 11,
    "start_time": "2022-04-30T18:46:02.924Z"
   },
   {
    "duration": 1851,
    "start_time": "2022-04-30T18:46:15.665Z"
   },
   {
    "duration": 4,
    "start_time": "2022-04-30T18:46:17.519Z"
   },
   {
    "duration": 52,
    "start_time": "2022-04-30T18:46:17.525Z"
   },
   {
    "duration": 28,
    "start_time": "2022-04-30T18:46:17.579Z"
   },
   {
    "duration": 18,
    "start_time": "2022-04-30T18:46:17.609Z"
   },
   {
    "duration": 26,
    "start_time": "2022-04-30T18:46:17.629Z"
   },
   {
    "duration": 45,
    "start_time": "2022-04-30T18:46:17.658Z"
   },
   {
    "duration": 115,
    "start_time": "2022-04-30T18:46:17.705Z"
   },
   {
    "duration": 11,
    "start_time": "2022-04-30T18:46:17.823Z"
   },
   {
    "duration": 19,
    "start_time": "2022-04-30T18:46:17.838Z"
   },
   {
    "duration": 15,
    "start_time": "2022-04-30T18:46:17.859Z"
   },
   {
    "duration": 34,
    "start_time": "2022-04-30T18:46:17.876Z"
   },
   {
    "duration": 20,
    "start_time": "2022-04-30T18:46:17.912Z"
   },
   {
    "duration": 11,
    "start_time": "2022-04-30T18:46:17.934Z"
   },
   {
    "duration": 9,
    "start_time": "2022-04-30T18:46:17.947Z"
   },
   {
    "duration": 34,
    "start_time": "2022-04-30T18:46:17.958Z"
   },
   {
    "duration": 11,
    "start_time": "2022-04-30T18:46:17.995Z"
   },
   {
    "duration": 18,
    "start_time": "2022-04-30T18:46:18.009Z"
   },
   {
    "duration": 11,
    "start_time": "2022-04-30T18:46:18.029Z"
   },
   {
    "duration": 50,
    "start_time": "2022-04-30T18:46:18.042Z"
   },
   {
    "duration": 297,
    "start_time": "2022-04-30T18:46:18.094Z"
   },
   {
    "duration": 234,
    "start_time": "2022-04-30T18:46:18.394Z"
   },
   {
    "duration": 18,
    "start_time": "2022-04-30T18:46:18.630Z"
   },
   {
    "duration": 459,
    "start_time": "2022-04-30T18:46:18.650Z"
   },
   {
    "duration": 291,
    "start_time": "2022-04-30T18:46:19.111Z"
   },
   {
    "duration": 366,
    "start_time": "2022-04-30T18:46:19.405Z"
   },
   {
    "duration": 13,
    "start_time": "2022-04-30T18:46:19.773Z"
   },
   {
    "duration": 22,
    "start_time": "2022-04-30T18:46:19.792Z"
   },
   {
    "duration": 6,
    "start_time": "2022-04-30T18:46:19.817Z"
   },
   {
    "duration": 316,
    "start_time": "2022-04-30T18:46:19.826Z"
   },
   {
    "duration": 14,
    "start_time": "2022-04-30T18:46:20.145Z"
   },
   {
    "duration": 19,
    "start_time": "2022-04-30T18:46:20.181Z"
   },
   {
    "duration": 394,
    "start_time": "2022-04-30T18:46:20.203Z"
   },
   {
    "duration": 12,
    "start_time": "2022-04-30T18:46:20.600Z"
   },
   {
    "duration": 20,
    "start_time": "2022-04-30T18:46:20.614Z"
   },
   {
    "duration": 220,
    "start_time": "2022-04-30T18:46:20.636Z"
   },
   {
    "duration": 23,
    "start_time": "2022-04-30T18:46:20.858Z"
   },
   {
    "duration": 16,
    "start_time": "2022-04-30T18:46:20.884Z"
   },
   {
    "duration": 233,
    "start_time": "2022-04-30T18:46:20.903Z"
   },
   {
    "duration": 353,
    "start_time": "2022-04-30T18:46:21.139Z"
   },
   {
    "duration": 7,
    "start_time": "2022-04-30T18:46:21.495Z"
   },
   {
    "duration": 15,
    "start_time": "2022-04-30T18:46:21.505Z"
   },
   {
    "duration": 15,
    "start_time": "2022-04-30T18:46:21.522Z"
   },
   {
    "duration": 195,
    "start_time": "2022-04-30T18:46:21.539Z"
   },
   {
    "duration": 14,
    "start_time": "2022-04-30T18:46:21.737Z"
   },
   {
    "duration": 103,
    "start_time": "2022-04-30T18:46:21.754Z"
   },
   {
    "duration": 29,
    "start_time": "2022-04-30T18:46:21.859Z"
   },
   {
    "duration": 31,
    "start_time": "2022-04-30T18:46:21.891Z"
   },
   {
    "duration": 149,
    "start_time": "2022-04-30T18:46:21.925Z"
   },
   {
    "duration": 27,
    "start_time": "2022-04-30T18:46:22.082Z"
   },
   {
    "duration": 112,
    "start_time": "2022-04-30T18:46:22.112Z"
   },
   {
    "duration": 64,
    "start_time": "2022-04-30T18:46:22.226Z"
   },
   {
    "duration": 18,
    "start_time": "2022-04-30T18:46:22.292Z"
   },
   {
    "duration": 15,
    "start_time": "2022-04-30T18:46:22.312Z"
   },
   {
    "duration": 10,
    "start_time": "2022-04-30T18:46:22.329Z"
   },
   {
    "duration": 50,
    "start_time": "2022-04-30T18:46:22.341Z"
   },
   {
    "duration": 59,
    "start_time": "2022-04-30T18:46:22.394Z"
   },
   {
    "duration": 44,
    "start_time": "2022-04-30T18:46:22.455Z"
   },
   {
    "duration": 13,
    "start_time": "2022-04-30T18:46:22.502Z"
   },
   {
    "duration": 19,
    "start_time": "2022-04-30T18:46:22.517Z"
   },
   {
    "duration": 10,
    "start_time": "2022-04-30T18:46:22.538Z"
   },
   {
    "duration": 34,
    "start_time": "2022-04-30T18:46:22.550Z"
   },
   {
    "duration": 12,
    "start_time": "2022-04-30T18:46:22.590Z"
   },
   {
    "duration": 11,
    "start_time": "2022-04-30T18:46:22.604Z"
   },
   {
    "duration": 93,
    "start_time": "2022-04-30T18:46:22.618Z"
   },
   {
    "duration": 11,
    "start_time": "2022-04-30T18:46:22.714Z"
   },
   {
    "duration": 27,
    "start_time": "2022-04-30T18:46:22.727Z"
   },
   {
    "duration": 612,
    "start_time": "2022-04-30T18:46:22.782Z"
   },
   {
    "duration": 394,
    "start_time": "2022-04-30T18:46:23.400Z"
   },
   {
    "duration": 0,
    "start_time": "2022-04-30T18:46:23.801Z"
   },
   {
    "duration": 16,
    "start_time": "2022-04-30T18:47:04.296Z"
   }
  ],
  "kernelspec": {
   "display_name": "Python 3",
   "language": "python",
   "name": "python3"
  },
  "language_info": {
   "codemirror_mode": {
    "name": "ipython",
    "version": 3
   },
   "file_extension": ".py",
   "mimetype": "text/x-python",
   "name": "python",
   "nbconvert_exporter": "python",
   "pygments_lexer": "ipython3",
   "version": "3.8.8"
  },
  "toc": {
   "base_numbering": 1,
   "nav_menu": {},
   "number_sections": true,
   "sideBar": true,
   "skip_h1_title": true,
   "title_cell": "Содержание",
   "title_sidebar": "Содержание",
   "toc_cell": true,
   "toc_position": {
    "height": "calc(100% - 180px)",
    "left": "10px",
    "top": "150px",
    "width": "317.938px"
   },
   "toc_section_display": true,
   "toc_window_display": true
  }
 },
 "nbformat": 4,
 "nbformat_minor": 4
}
